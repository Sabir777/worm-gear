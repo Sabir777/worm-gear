{
 "cells": [
  {
   "cell_type": "markdown",
   "id": "e21fd3fc-7c2b-42eb-91c1-e9ce20560d9b",
   "metadata": {},
   "source": [
    "# Курсовая: Техническая механика\n",
    "### Расчет червячной передачи"
   ]
  },
  {
   "cell_type": "code",
   "id": "305b366a-3b59-4c55-b29c-ee6ed7aa6ff5",
   "metadata": {
    "ExecuteTime": {
     "end_time": "2025-10-08T15:28:40.267033Z",
     "start_time": "2025-10-08T15:28:40.261035Z"
    }
   },
   "source": [
    "from math import pi, atan, degrees, cos, tan, radians\n",
    "\n",
    "def degrees_to_radians(degrees, minutes=0):\n",
    "    total_degrees = degrees + minutes / 60\n",
    "    \n",
    "    # Переводим градусы в радианы\n",
    "    return radians(total_degrees)\n"
   ],
   "outputs": [],
   "execution_count": 806
  },
  {
   "cell_type": "code",
   "id": "6c6cccb2-00a2-4969-be57-92d1d4a87188",
   "metadata": {
    "ExecuteTime": {
     "end_time": "2025-10-08T15:28:40.358997Z",
     "start_time": "2025-10-08T15:28:40.331473Z"
    }
   },
   "source": [
    "# Частота вращения выходного вала редуктора\n",
    "n_out = 59"
   ],
   "outputs": [],
   "execution_count": 807
  },
  {
   "cell_type": "markdown",
   "id": "d062898f-f458-4efc-bd17-c8389ff339b8",
   "metadata": {},
   "source": [
    "### Выбор ЭД"
   ]
  },
  {
   "cell_type": "code",
   "id": "0beed80f-8953-4b0c-8840-0f074394a3ad",
   "metadata": {
    "ExecuteTime": {
     "end_time": "2025-10-08T15:28:40.454330Z",
     "start_time": "2025-10-08T15:28:40.379002Z"
    }
   },
   "source": [
    "# КПД общий\n",
    "# КПД передачи = 0.8 (таблица 1.1)\n",
    "kpd_m = 0.98\n",
    "kpd_m * 0.8\n"
   ],
   "outputs": [
    {
     "data": {
      "text/plain": [
       "0.784"
      ]
     },
     "execution_count": 808,
     "metadata": {},
     "output_type": "execute_result"
    }
   ],
   "execution_count": 808
  },
  {
   "cell_type": "code",
   "id": "1b0fcf01-a020-4b2a-970a-3eef5da88680",
   "metadata": {
    "ExecuteTime": {
     "end_time": "2025-10-08T15:28:40.548489Z",
     "start_time": "2025-10-08T15:28:40.526513Z"
    }
   },
   "source": [
    "# Мощность ЭД\n",
    "0.9 / 0.784\n"
   ],
   "outputs": [
    {
     "data": {
      "text/plain": [
       "1.1479591836734693"
      ]
     },
     "execution_count": 809,
     "metadata": {},
     "output_type": "execute_result"
    }
   ],
   "execution_count": 809
  },
  {
   "cell_type": "code",
   "id": "f4a94700-3b3c-4d2d-b7e9-cb9040efedce",
   "metadata": {
    "ExecuteTime": {
     "end_time": "2025-10-08T15:28:40.720401Z",
     "start_time": "2025-10-08T15:28:40.708425Z"
    }
   },
   "source": [
    "# Диапазон частот\n",
    "print(f\"{59*15} ... {59*30}\")\n"
   ],
   "outputs": [
    {
     "name": "stdout",
     "output_type": "stream",
     "text": [
      "885 ... 1770\n"
     ]
    }
   ],
   "execution_count": 810
  },
  {
   "cell_type": "markdown",
   "id": "574bea7c-a2ce-4b7c-b360-1485d6f560f5",
   "metadata": {},
   "source": [
    "***\n",
    "##### Выбираю ЭД\n",
    "4А80В4У3\n",
    "(3 - Чернавский стр.26)\n",
    "- Частота оборотов: 1500 Об/мин\n",
    "- Мощность: 1500 Вт\n",
    "- Скольжение: 5.8\n",
    "(3 - Чернавский стр.521, 4- Дунаев стр.457)\n",
    "- Диаметр вала: 22 мм"
   ]
  },
  {
   "cell_type": "code",
   "id": "029ded10-a34f-4ac2-8d0d-1e8a687e1bed",
   "metadata": {
    "ExecuteTime": {
     "end_time": "2025-10-08T15:28:40.877607Z",
     "start_time": "2025-10-08T15:28:40.858606Z"
    }
   },
   "source": [
    "# Диаметр вала электродвигателя\n",
    "d_ed= 22\n",
    "# Фактическая частота вращения\n",
    "n_fact = 1500 * (100 - 5.8) / 100\n",
    "print(n_fact)"
   ],
   "outputs": [
    {
     "name": "stdout",
     "output_type": "stream",
     "text": [
      "1413.0\n"
     ]
    }
   ],
   "execution_count": 811
  },
  {
   "cell_type": "code",
   "id": "1118497e-f27c-4acf-b709-42d09e29cdc2",
   "metadata": {
    "ExecuteTime": {
     "end_time": "2025-10-08T15:28:41.018413Z",
     "start_time": "2025-10-08T15:28:41.008427Z"
    }
   },
   "source": [
    "# Передаточное число редуктора\n",
    "print(f\"{n_fact} / {n_out} = {n_fact/n_out:.2f}\")\n"
   ],
   "outputs": [
    {
     "name": "stdout",
     "output_type": "stream",
     "text": [
      "1413.0 / 59 = 23.95\n"
     ]
    }
   ],
   "execution_count": 812
  },
  {
   "cell_type": "code",
   "id": "c638f595-c65f-46e4-a9dc-54cbe6caeb58",
   "metadata": {
    "ExecuteTime": {
     "end_time": "2025-10-08T15:28:41.161452Z",
     "start_time": "2025-10-08T15:28:41.146421Z"
    }
   },
   "source": [
    "# Принимаю стандартное значение передаточного числа редуктора по таблице 3.2\n",
    "u_p = 25"
   ],
   "outputs": [],
   "execution_count": 813
  },
  {
   "cell_type": "markdown",
   "id": "84b8004f-a7f0-4750-99aa-4b59f194de11",
   "metadata": {},
   "source": [
    "***\n",
    "### Определение кинематических и силовых параметров для каждого вала\n",
    "***\n",
    "#### Быстроходный вал"
   ]
  },
  {
   "cell_type": "code",
   "id": "1981188b-814a-4433-b1bf-8a6b1b93900a",
   "metadata": {
    "ExecuteTime": {
     "end_time": "2025-10-08T15:28:41.240914Z",
     "start_time": "2025-10-08T15:28:41.175418Z"
    }
   },
   "source": [
    "# Частота оборотов\n",
    "n_fact"
   ],
   "outputs": [
    {
     "data": {
      "text/plain": [
       "1413.0"
      ]
     },
     "execution_count": 814,
     "metadata": {},
     "output_type": "execute_result"
    }
   ],
   "execution_count": 814
  },
  {
   "cell_type": "code",
   "id": "01ba01f0-6dc3-4731-84c2-8fde5a43fd9c",
   "metadata": {
    "ExecuteTime": {
     "end_time": "2025-10-08T15:28:41.335865Z",
     "start_time": "2025-10-08T15:28:41.324869Z"
    }
   },
   "source": [
    "# Угловая скорость\n",
    "w1 = pi * n_fact / 30\n",
    "print(f\"{w1:.3f}\")"
   ],
   "outputs": [
    {
     "name": "stdout",
     "output_type": "stream",
     "text": [
      "147.969\n"
     ]
    }
   ],
   "execution_count": 815
  },
  {
   "cell_type": "code",
   "id": "431c1930-fd51-4d80-b28e-9eef5dba449f",
   "metadata": {
    "ExecuteTime": {
     "end_time": "2025-10-08T15:28:41.461507Z",
     "start_time": "2025-10-08T15:28:41.449495Z"
    }
   },
   "source": [
    "# Мощность на входном валу после муфты\n",
    "P1 = 1500 * 0.98\n",
    "print(P1)"
   ],
   "outputs": [
    {
     "name": "stdout",
     "output_type": "stream",
     "text": [
      "1470.0\n"
     ]
    }
   ],
   "execution_count": 816
  },
  {
   "cell_type": "code",
   "id": "a94729e1-e7c4-4748-9e9d-75cf2528fbbd",
   "metadata": {
    "ExecuteTime": {
     "end_time": "2025-10-08T15:28:41.604657Z",
     "start_time": "2025-10-08T15:28:41.589643Z"
    }
   },
   "source": [
    "# Момент на входном валу, Н*мм\n",
    "T1 = P1 * 1000 / w1\n",
    "print(T1)"
   ],
   "outputs": [
    {
     "name": "stdout",
     "output_type": "stream",
     "text": [
      "9934.512371341238\n"
     ]
    }
   ],
   "execution_count": 817
  },
  {
   "cell_type": "markdown",
   "id": "78c889bf-2ebb-45f9-8568-0eebbec9dd10",
   "metadata": {},
   "source": [
    "***\n",
    "#### Тихоходный вал"
   ]
  },
  {
   "cell_type": "code",
   "id": "cfb96805-c72b-42d4-b770-8cb2fe55f09d",
   "metadata": {
    "ExecuteTime": {
     "end_time": "2025-10-08T15:28:41.732654Z",
     "start_time": "2025-10-08T15:28:41.713652Z"
    }
   },
   "source": [
    "# Частота оборотов\n",
    "n1 = n_fact\n",
    "n2 = n1 / u_p\n",
    "print(n2)"
   ],
   "outputs": [
    {
     "name": "stdout",
     "output_type": "stream",
     "text": [
      "56.52\n"
     ]
    }
   ],
   "execution_count": 818
  },
  {
   "cell_type": "code",
   "id": "7dd9b0d9-00ce-4c12-96d3-777e7a82d507",
   "metadata": {
    "ExecuteTime": {
     "end_time": "2025-10-08T15:28:41.859901Z",
     "start_time": "2025-10-08T15:28:41.841910Z"
    }
   },
   "source": [
    "# Угловая скорость\n",
    "w2 = pi * n2 / 30\n",
    "print(w2)"
   ],
   "outputs": [
    {
     "name": "stdout",
     "output_type": "stream",
     "text": [
      "5.91876055936317\n"
     ]
    }
   ],
   "execution_count": 819
  },
  {
   "cell_type": "code",
   "id": "82d86eb6-a6cd-4464-a4c2-e70268777f58",
   "metadata": {
    "ExecuteTime": {
     "end_time": "2025-10-08T15:28:42.002798Z",
     "start_time": "2025-10-08T15:28:41.983819Z"
    }
   },
   "source": [
    "# Мощность на выходном валу\n",
    "# 0.8 - кпд для червячного редуктора (таблица 1.1)\n",
    "P2 = P1 * 0.8\n",
    "print(P2)"
   ],
   "outputs": [
    {
     "name": "stdout",
     "output_type": "stream",
     "text": [
      "1176.0\n"
     ]
    }
   ],
   "execution_count": 820
  },
  {
   "cell_type": "code",
   "id": "dc16e206-7aab-4673-8d8e-a6582aa8a587",
   "metadata": {
    "ExecuteTime": {
     "end_time": "2025-10-08T15:28:42.128877Z",
     "start_time": "2025-10-08T15:28:42.116871Z"
    }
   },
   "source": [
    "# Вращающий момент\n",
    "T2 = P2 * 1000 / w2\n",
    "print(T2)"
   ],
   "outputs": [
    {
     "name": "stdout",
     "output_type": "stream",
     "text": [
      "198690.24742682476\n"
     ]
    }
   ],
   "execution_count": 821
  },
  {
   "cell_type": "markdown",
   "id": "56889a54-5eda-4580-9999-9cb8874fb7b1",
   "metadata": {},
   "source": [
    "##### Моменты для дальнейших расчетов"
   ]
  },
  {
   "cell_type": "code",
   "id": "04833958-02b4-4ac8-946d-9f8debda6170",
   "metadata": {
    "ExecuteTime": {
     "end_time": "2025-10-08T15:28:42.256337Z",
     "start_time": "2025-10-08T15:28:42.251322Z"
    }
   },
   "source": [
    "# Принимаю моменты для расчетов, Н*мм\n",
    "T1 = 9900\n",
    "T2 = 198000"
   ],
   "outputs": [],
   "execution_count": 822
  },
  {
   "cell_type": "markdown",
   "id": "3c05039d-203c-4cdf-a054-4025ef161c32",
   "metadata": {},
   "source": [
    "***\n",
    "### Выбор материалов и допускаемых напряжений "
   ]
  },
  {
   "cell_type": "code",
   "id": "9b299ab0-1aaf-4dec-ad48-f32d3e7b4ffe",
   "metadata": {
    "ExecuteTime": {
     "end_time": "2025-10-08T15:28:42.350775Z",
     "start_time": "2025-10-08T15:28:42.275Z"
    }
   },
   "source": [
    "# Скорость скольжения\n",
    "v_s = 4.5 * 10 ** (-4) * n1 * (T2 / 1000) ** (1/3)\n",
    "print(v_s)"
   ],
   "outputs": [
    {
     "name": "stdout",
     "output_type": "stream",
     "text": [
      "3.706036899045438\n"
     ]
    }
   ],
   "execution_count": 823
  },
  {
   "cell_type": "markdown",
   "id": "06c7dbb1-e536-496e-890d-4d637fac46a3",
   "metadata": {},
   "source": [
    "***\n",
    "#### **Выбираю материал для червячного колеса**\n",
    "Согласно таблице 3.1 стр.15\n",
    "\n",
    "Бр А9ЖЗЛ\n",
    "\n",
    "$σ_т = 200$\n",
    "\n",
    "$σ_в = 400$\n",
    "\n",
    "$σ_H = 300 - 25v_s$\n",
    "\n",
    "$σ_F = 0,25σ_т+0,08σ_в$\n",
    "***\n",
    "$σ_H$"
   ]
  },
  {
   "cell_type": "code",
   "id": "a90249db-e595-44f5-8a49-56c732ba6f8d",
   "metadata": {
    "ExecuteTime": {
     "end_time": "2025-10-08T15:28:42.428871Z",
     "start_time": "2025-10-08T15:28:42.413977Z"
    }
   },
   "source": [
    "po_h = 300 - 25 * v_s\n",
    "print(f\"300 - 25*{v_s:.2f} = {300 - 25*v_s:.1f}\")"
   ],
   "outputs": [
    {
     "name": "stdout",
     "output_type": "stream",
     "text": [
      "300 - 25*3.71 = 207.3\n"
     ]
    }
   ],
   "execution_count": 824
  },
  {
   "cell_type": "markdown",
   "id": "429618dc-54d4-4e3b-837d-f85718412b8b",
   "metadata": {},
   "source": [
    "$σ_F$"
   ]
  },
  {
   "cell_type": "code",
   "id": "2a1ecb57-0f3a-4761-ba26-dbb541d59a9f",
   "metadata": {
    "ExecuteTime": {
     "end_time": "2025-10-08T15:28:42.539531Z",
     "start_time": "2025-10-08T15:28:42.533536Z"
    }
   },
   "source": [
    "po_f = 0.25*200 + 0.08*400\n",
    "print(po_f)"
   ],
   "outputs": [
    {
     "name": "stdout",
     "output_type": "stream",
     "text": [
      "82.0\n"
     ]
    }
   ],
   "execution_count": 825
  },
  {
   "cell_type": "markdown",
   "id": "e0eea6c3-04eb-4501-b1ba-32a06de1cef6",
   "metadata": {},
   "source": [
    "***\n",
    "#### Проектный расчет червячной передачи по контактным напряжениям"
   ]
  },
  {
   "cell_type": "code",
   "id": "e443dd9b-1433-4461-9437-71fa49de91f4",
   "metadata": {
    "ExecuteTime": {
     "end_time": "2025-10-08T15:28:42.635088Z",
     "start_time": "2025-10-08T15:28:42.623077Z"
    }
   },
   "source": [
    "# Согласно таблице 3.2 выбираю стандартное передаточное отношение\n",
    "# Вычисляю число зубьев колеса\n",
    "z1 = 2\n",
    "z2 = z1 * u_p\n",
    "print(z2)"
   ],
   "outputs": [
    {
     "name": "stdout",
     "output_type": "stream",
     "text": [
      "50\n"
     ]
    }
   ],
   "execution_count": 826
  },
  {
   "cell_type": "code",
   "id": "56cf7654-52ef-4c3f-965e-842f2389cbb2",
   "metadata": {
    "ExecuteTime": {
     "end_time": "2025-10-08T15:28:42.762704Z",
     "start_time": "2025-10-08T15:28:42.754685Z"
    }
   },
   "source": [
    "# Определяю межосевое расстояние\n",
    "K_n = 1.1\n",
    "q = 12.5\n",
    "T2_m = T2 / 1000\n",
    "a_w = (z2/q + 1) * ((5400/(z2/q*po_h)) ** 2 * T2_m * K_n) ** (1/3)\n",
    "print(f\"({z2}/{q} + 1) * ((5400/({z2}/{q}*{po_h:.0f})) ** 2 * {T2_m} * {K_n}) ** (1/3) = {(z2/q + 1) * ((5400/(z2/q*po_h)) ** 2 * T2_m * K_n) ** (1/3):0f}\")\n",
    "\n",
    "# Выбираю стандартное значение a_w = 125 мм\n",
    "a_w = 125"
   ],
   "outputs": [
    {
     "name": "stdout",
     "output_type": "stream",
     "text": [
      "(50/12.5 + 1) * ((5400/(50/12.5*207)) ** 2 * 198.0 * 1.1) ** (1/3) = 104.892331\n"
     ]
    }
   ],
   "execution_count": 827
  },
  {
   "cell_type": "code",
   "id": "e832d231-4e8b-4c0c-b73a-46fbc713ad88",
   "metadata": {
    "ExecuteTime": {
     "end_time": "2025-10-08T15:28:42.903436Z",
     "start_time": "2025-10-08T15:28:42.884098Z"
    }
   },
   "source": [
    "# Определяю величину осевого модуля для стандартного a_w\n",
    "m = 2*a_w/(q + z2)\n",
    "print(m)"
   ],
   "outputs": [
    {
     "name": "stdout",
     "output_type": "stream",
     "text": [
      "4.0\n"
     ]
    }
   ],
   "execution_count": 828
  },
  {
   "cell_type": "markdown",
   "id": "3e36e419-4dcf-4a49-95ae-78206dac38fd",
   "metadata": {},
   "source": [
    "***\n",
    "#### Выбираю стандартные значения из таблицы 3.3\n",
    "\n",
    "$a_w = 125$ мм\n",
    "\n",
    "$m = 4$ мм\n",
    "\n",
    "$q = 12,5$\n",
    "\n",
    "$z_2:z_1 = 50:2$"
   ]
  },
  {
   "cell_type": "markdown",
   "id": "bcaf6d8f-3c1c-484d-8480-f1f37aeee4cf",
   "metadata": {},
   "source": [
    "***\n",
    "#### Определяю геометрические параметры червяка"
   ]
  },
  {
   "cell_type": "code",
   "id": "b2a8a73e-4797-4485-8e7f-d1f54e5457d2",
   "metadata": {
    "ExecuteTime": {
     "end_time": "2025-10-08T15:28:43.013450Z",
     "start_time": "2025-10-08T15:28:42.970389Z"
    }
   },
   "source": [
    "d1 = d_1b = q * m\n",
    "print(d1)"
   ],
   "outputs": [
    {
     "name": "stdout",
     "output_type": "stream",
     "text": [
      "50.0\n"
     ]
    }
   ],
   "execution_count": 829
  },
  {
   "cell_type": "code",
   "id": "e23a5be9-5130-4e4f-b1db-7f0cc808f1c3",
   "metadata": {
    "ExecuteTime": {
     "end_time": "2025-10-08T15:28:43.108389Z",
     "start_time": "2025-10-08T15:28:43.096394Z"
    }
   },
   "source": [
    "da1 = d1 + 2 * m\n",
    "print(da1)"
   ],
   "outputs": [
    {
     "name": "stdout",
     "output_type": "stream",
     "text": [
      "58.0\n"
     ]
    }
   ],
   "execution_count": 830
  },
  {
   "cell_type": "code",
   "id": "5151d8cb-cdd2-4b3f-b9d3-59f93c4d03d5",
   "metadata": {
    "ExecuteTime": {
     "end_time": "2025-10-08T15:28:43.251563Z",
     "start_time": "2025-10-08T15:28:43.237314Z"
    }
   },
   "source": [
    "df1 = d1 - 2.4*m\n",
    "print(df1)"
   ],
   "outputs": [
    {
     "name": "stdout",
     "output_type": "stream",
     "text": [
      "40.4\n"
     ]
    }
   ],
   "execution_count": 831
  },
  {
   "cell_type": "code",
   "id": "488f8313-5a81-4368-b191-ab23980291d3",
   "metadata": {
    "ExecuteTime": {
     "end_time": "2025-10-08T15:28:43.393635Z",
     "start_time": "2025-10-08T15:28:43.376814Z"
    }
   },
   "source": [
    "# Длина нарезанной части червяка\n",
    "b1 = (11 + 0.06*z2)*m\n",
    "print(b1)"
   ],
   "outputs": [
    {
     "name": "stdout",
     "output_type": "stream",
     "text": [
      "56.0\n"
     ]
    }
   ],
   "execution_count": 832
  },
  {
   "cell_type": "markdown",
   "id": "c6042717-71d8-4958-a277-3524985b1621",
   "metadata": {},
   "source": [
    "***\n",
    "#### Определяю геометрические параметры колеса "
   ]
  },
  {
   "cell_type": "code",
   "id": "95606d6f-ccaa-4dc8-a381-cdc10330dfcc",
   "metadata": {
    "ExecuteTime": {
     "end_time": "2025-10-08T15:28:43.520354Z",
     "start_time": "2025-10-08T15:28:43.508810Z"
    }
   },
   "source": [
    "d2 = m * z2\n",
    "print(d2)"
   ],
   "outputs": [
    {
     "name": "stdout",
     "output_type": "stream",
     "text": [
      "200.0\n"
     ]
    }
   ],
   "execution_count": 833
  },
  {
   "cell_type": "code",
   "id": "10a8aa50-56b9-4700-945e-4bb73cbaa543",
   "metadata": {
    "ExecuteTime": {
     "end_time": "2025-10-08T15:28:43.647924Z",
     "start_time": "2025-10-08T15:28:43.631900Z"
    }
   },
   "source": [
    "da2 = d2 + 2*m\n",
    "print(da2)"
   ],
   "outputs": [
    {
     "name": "stdout",
     "output_type": "stream",
     "text": [
      "208.0\n"
     ]
    }
   ],
   "execution_count": 834
  },
  {
   "cell_type": "code",
   "id": "edd9d606-8245-4f6e-850c-a60b578ac6de",
   "metadata": {
    "ExecuteTime": {
     "end_time": "2025-10-08T15:28:43.774850Z",
     "start_time": "2025-10-08T15:28:43.762838Z"
    }
   },
   "source": [
    "df2 = d2 - 2.4*m\n",
    "print(df2)"
   ],
   "outputs": [
    {
     "name": "stdout",
     "output_type": "stream",
     "text": [
      "190.4\n"
     ]
    }
   ],
   "execution_count": 835
  },
  {
   "cell_type": "code",
   "id": "8445e778-483c-453f-abbf-aa7fba47fb7f",
   "metadata": {
    "ExecuteTime": {
     "end_time": "2025-10-08T15:28:43.916064Z",
     "start_time": "2025-10-08T15:28:43.904084Z"
    }
   },
   "source": [
    "# Ширина зубчатого венца червячного колеса\n",
    "b2 = 0.75*da1\n",
    "print(b2)"
   ],
   "outputs": [
    {
     "name": "stdout",
     "output_type": "stream",
     "text": [
      "43.5\n"
     ]
    }
   ],
   "execution_count": 836
  },
  {
   "cell_type": "code",
   "id": "bf58c93c-72a8-4074-84da-d7997c60c034",
   "metadata": {
    "ExecuteTime": {
     "end_time": "2025-10-08T15:28:44.075186Z",
     "start_time": "2025-10-08T15:28:44.036622Z"
    }
   },
   "source": [
    "# Проверяю выбранное значение v_s\n",
    "tg_y = z1/q\n",
    "print(tg_y)"
   ],
   "outputs": [
    {
     "name": "stdout",
     "output_type": "stream",
     "text": [
      "0.16\n"
     ]
    }
   ],
   "execution_count": 837
  },
  {
   "cell_type": "code",
   "id": "28af610a-7bfd-4a89-b51f-91a5e41eb286",
   "metadata": {
    "ExecuteTime": {
     "end_time": "2025-10-08T15:28:44.186814Z",
     "start_time": "2025-10-08T15:28:44.172261Z"
    }
   },
   "source": [
    "y = atan(tg_y)\n",
    "print(y)"
   ],
   "outputs": [
    {
     "name": "stdout",
     "output_type": "stream",
     "text": [
      "0.1586552621864014\n"
     ]
    }
   ],
   "execution_count": 838
  },
  {
   "cell_type": "code",
   "id": "45fd4bef-d062-40c2-acc7-8d43f0be14d1",
   "metadata": {
    "ExecuteTime": {
     "end_time": "2025-10-08T15:28:44.312382Z",
     "start_time": "2025-10-08T15:28:44.292937Z"
    }
   },
   "source": [
    "# Угол в градусах\n",
    "deg_y = degrees(y)\n",
    "print(deg_y)"
   ],
   "outputs": [
    {
     "name": "stdout",
     "output_type": "stream",
     "text": [
      "9.090276920822323\n"
     ]
    }
   ],
   "execution_count": 839
  },
  {
   "cell_type": "markdown",
   "id": "89094d67-2c23-4989-9497-bf3395cf3bf2",
   "metadata": {},
   "source": [
    "***\n",
    "#### Проверочный рассчет по контактным напряжениям"
   ]
  },
  {
   "cell_type": "code",
   "id": "a0957428-60bf-4e2f-a126-688e270420a0",
   "metadata": {
    "ExecuteTime": {
     "end_time": "2025-10-08T15:28:44.438182Z",
     "start_time": "2025-10-08T15:28:44.423976Z"
    }
   },
   "source": [
    "# Проверяю условие прочности выбранной стандартной передачи\n",
    "temp = (5400/(z2/q))*(((z2/q+1)/a_w)**3*T2_m*K_n)**(0.5)\n",
    "print(f\"(5400/({z2}/{q}))*((({z2}/{q}+1)/{a_w})**3*{T2_m}*{K_n})**(0.5) = {(5400/(z2/q))*(((z2/q+1)/a_w)**3*T2_m*K_n)**(0.5)}\")"
   ],
   "outputs": [
    {
     "name": "stdout",
     "output_type": "stream",
     "text": [
      "(5400/(50/12.5))*(((50/12.5+1)/125)**3*198.0*1.1)**(0.5) = 159.38692543618504\n"
     ]
    }
   ],
   "execution_count": 840
  },
  {
   "cell_type": "markdown",
   "id": "27662c55-182c-451c-8a1f-c69963a20779",
   "metadata": {},
   "source": [
    "##### Прочность по контрольным напряжениям обеспечена так как 159 МПа < 206 МПа "
   ]
  },
  {
   "cell_type": "markdown",
   "id": "d2919e25-1421-4aaf-9261-84c0f92c04d6",
   "metadata": {},
   "source": [
    "***\n",
    "#### Проверка прочности зубьев червячного венца на изгиб"
   ]
  },
  {
   "cell_type": "code",
   "id": "ec257587-fc40-4c29-9bc7-a41d72088ae7",
   "metadata": {
    "ExecuteTime": {
     "end_time": "2025-10-08T15:28:44.580827Z",
     "start_time": "2025-10-08T15:28:44.561837Z"
    }
   },
   "source": [
    "# Окружная сила на колесе\n",
    "Ft2 = 2 * T2/d2\n",
    "print(f\"2 * {T2}/{d2} = {2 * T2/d2}\")"
   ],
   "outputs": [
    {
     "name": "stdout",
     "output_type": "stream",
     "text": [
      "2 * 198000/200.0 = 1980.0\n"
     ]
    }
   ],
   "execution_count": 841
  },
  {
   "cell_type": "code",
   "id": "4993cf2f-5821-41ae-b18e-c94c2a1ef135",
   "metadata": {
    "ExecuteTime": {
     "end_time": "2025-10-08T15:28:44.707112Z",
     "start_time": "2025-10-08T15:28:44.692213Z"
    }
   },
   "source": [
    "# Окружная сила на червяке\n",
    "Ft1 = 2 * T1/d1\n",
    "print(f\"2 * {T1}/{d1} = {2 * T1/d1}\")"
   ],
   "outputs": [
    {
     "name": "stdout",
     "output_type": "stream",
     "text": [
      "2 * 9900/50.0 = 396.0\n"
     ]
    }
   ],
   "execution_count": 842
  },
  {
   "cell_type": "code",
   "id": "ff55090c-b570-4f49-b51b-380bbbc4e770",
   "metadata": {
    "ExecuteTime": {
     "end_time": "2025-10-08T15:28:44.833879Z",
     "start_time": "2025-10-08T15:28:44.815086Z"
    }
   },
   "source": [
    "# Определение коэффициента формы зуба из таблицы 3.7\n",
    "z_v = z2/cos(y) ** 3\n",
    "print(f\"{z2}/cos({y:.4f}) ** 3 = {z2/cos(y) ** 3:.1f}\")"
   ],
   "outputs": [
    {
     "name": "stdout",
     "output_type": "stream",
     "text": [
      "50/cos(0.1587) ** 3 = 51.9\n"
     ]
    }
   ],
   "execution_count": 843
  },
  {
   "cell_type": "markdown",
   "id": "ec0e43f1-66a3-41e9-87fc-4d036c74b7e5",
   "metadata": {},
   "source": [
    "##### Принимаю форму зуба из таблицы 3.7\n",
    "$Y_F = 45$"
   ]
  },
  {
   "cell_type": "markdown",
   "id": "e5de94f3-d2c7-491a-bb01-f7ec8121437c",
   "metadata": {},
   "source": [
    "Значения коэффициентов расчетной нагрузки $K_н$ и $K_F$ принимаются одинаковыми (стр.18) = 1"
   ]
  },
  {
   "cell_type": "code",
   "id": "19ccc0c4-5662-421b-8e5c-449dc34d1037",
   "metadata": {
    "ExecuteTime": {
     "end_time": "2025-10-08T15:28:45.008767Z",
     "start_time": "2025-10-08T15:28:44.990778Z"
    }
   },
   "source": [
    "Y_F = 1.45\n",
    "K_F = 1\n",
    "po_ff = 0.7*Y_F*Ft2*K_F/(b2*m)\n",
    "print(f\"0.7*{Y_F}*{Ft2}*{K_F}/({b2}*{m}) = {0.7*Y_F*Ft2*K_F/(b2*m):.2f}\")\n",
    "print(f\"{po_ff:.1f} < {po_f}\")\n",
    "print(\"Прочность по напряжениям изгиба обеспечена\")"
   ],
   "outputs": [
    {
     "name": "stdout",
     "output_type": "stream",
     "text": [
      "0.7*1.45*1980.0*1/(43.5*4.0) = 11.55\n",
      "11.5 < 82.0\n",
      "Прочность по напряжениям изгиба обеспечена\n"
     ]
    }
   ],
   "execution_count": 844
  },
  {
   "cell_type": "markdown",
   "id": "f450de7b-be7b-4e62-8a5e-def9eeb845d2",
   "metadata": {},
   "source": [
    "***\n",
    "##### Уточняю КПД червячной передачи\n"
   ]
  },
  {
   "cell_type": "code",
   "id": "4e06826d-b214-4b7b-87ae-157702ae2120",
   "metadata": {
    "ExecuteTime": {
     "end_time": "2025-10-08T15:28:45.134821Z",
     "start_time": "2025-10-08T15:28:45.125826Z"
    }
   },
   "source": [
    "kpd_b = tan(y)/tan(y + degrees_to_radians(1, 26))\n",
    "print(kpd_b)"
   ],
   "outputs": [
    {
     "name": "stdout",
     "output_type": "stream",
     "text": [
      "0.8613018256599354\n"
     ]
    }
   ],
   "execution_count": 845
  },
  {
   "cell_type": "markdown",
   "id": "ac963eac-4853-4f70-97e3-f61a9219d83d",
   "metadata": {},
   "source": [
    "##### Общий КПД\n",
    "КПД = КПДп * КПДм"
   ]
  },
  {
   "cell_type": "code",
   "id": "72189d41-a29e-4d5e-aa4d-7d9a5c4fa76b",
   "metadata": {
    "ExecuteTime": {
     "end_time": "2025-10-08T15:28:45.261935Z",
     "start_time": "2025-10-08T15:28:45.254935Z"
    }
   },
   "source": [
    "kpd_sum = kpd_b * kpd_m\n",
    "print(f\"{kpd_b:.3f} * {kpd_m} = {kpd_b * kpd_m:.3f}\")\n",
    "# print(kpd_sum)"
   ],
   "outputs": [
    {
     "name": "stdout",
     "output_type": "stream",
     "text": [
      "0.861 * 0.98 = 0.844\n"
     ]
    }
   ],
   "execution_count": 846
  },
  {
   "metadata": {
    "ExecuteTime": {
     "end_time": "2025-10-08T08:39:05.843551Z",
     "start_time": "2025-10-08T08:39:05.833544Z"
    }
   },
   "cell_type": "markdown",
   "source": "##### Тепловой расчет\n",
   "id": "3f972c6f20db83f6"
  },
  {
   "metadata": {
    "ExecuteTime": {
     "end_time": "2025-10-08T15:28:45.387860Z",
     "start_time": "2025-10-08T15:28:45.373330Z"
    }
   },
   "cell_type": "code",
   "source": "# FF = P1*(1 - kpd_sum)*A",
   "id": "ceae9727a1c33714",
   "outputs": [],
   "execution_count": 847
  },
  {
   "metadata": {},
   "cell_type": "markdown",
   "source": [
    "***\n",
    "### Расчет валов"
   ],
   "id": "d08726d4f259b5de"
  },
  {
   "metadata": {},
   "cell_type": "markdown",
   "source": [
    "#### Расчет выполняю по таблице 4.1\n",
    "##### Быстроходный вал (червяк)"
   ],
   "id": "dd68e12105ff4aa3"
  },
  {
   "metadata": {
    "ExecuteTime": {
     "end_time": "2025-10-08T15:28:45.468045Z",
     "start_time": "2025-10-08T15:28:45.407313Z"
    }
   },
   "cell_type": "code",
   "source": [
    "# 1 ступень под муфту\n",
    "d_1st = 1.2 * d_ed\n",
    "print(f\"1.2 * {d_ed} = {1.2 * d_ed}\")\n",
    "d_1st = 24\n",
    "print(d_1st)"
   ],
   "id": "978861cad280a943",
   "outputs": [
    {
     "name": "stdout",
     "output_type": "stream",
     "text": [
      "1.2 * 22 = 26.4\n",
      "24\n"
     ]
    }
   ],
   "execution_count": 848
  },
  {
   "metadata": {
    "ExecuteTime": {
     "end_time": "2025-10-08T15:28:45.544940Z",
     "start_time": "2025-10-08T15:28:45.538942Z"
    }
   },
   "cell_type": "code",
   "source": [
    "# 2 ступень под уплотнение крышки с отверстием и подшипник\n",
    "t = 2 # Таблица 4.2\n",
    "d_2st = d_1st + 2 * t\n",
    "print(d_2st)\n",
    "d_2st = 30\n",
    "print(d_2st)\n"
   ],
   "id": "c1a675667e584059",
   "outputs": [
    {
     "name": "stdout",
     "output_type": "stream",
     "text": [
      "28\n",
      "30\n"
     ]
    }
   ],
   "execution_count": 849
  },
  {
   "metadata": {
    "ExecuteTime": {
     "end_time": "2025-10-08T15:28:45.687688Z",
     "start_time": "2025-10-08T15:28:45.668610Z"
    }
   },
   "cell_type": "code",
   "source": [
    "# 3 ступень под шестерню\n",
    "r = 1 # таблица 4.2\n",
    "d_3st = d_2st + 3.2 * r\n",
    "print(d_3st)\n",
    "d_3st = 34\n",
    "print(d_3st)"
   ],
   "id": "2a9e6e149495857",
   "outputs": [
    {
     "name": "stdout",
     "output_type": "stream",
     "text": [
      "33.2\n",
      "34\n"
     ]
    }
   ],
   "execution_count": 850
  },
  {
   "metadata": {
    "ExecuteTime": {
     "end_time": "2025-10-08T15:28:45.812835Z",
     "start_time": "2025-10-08T15:28:45.801324Z"
    }
   },
   "cell_type": "code",
   "source": [
    "# 4 ступень\n",
    "d_4st = d_2st\n",
    "print(d_4st)"
   ],
   "id": "88ebb6d47b5aed36",
   "outputs": [
    {
     "name": "stdout",
     "output_type": "stream",
     "text": [
      "30\n"
     ]
    }
   ],
   "execution_count": 851
  },
  {
   "metadata": {},
   "cell_type": "markdown",
   "source": "##### Выходной вал (червячное колесо)",
   "id": "f0e665def9c4ec5f"
  },
  {
   "metadata": {
    "ExecuteTime": {
     "end_time": "2025-10-08T15:28:45.938591Z",
     "start_time": "2025-10-08T15:28:45.921605Z"
    }
   },
   "cell_type": "code",
   "source": [
    "# Выходной вал под муфту: 1-я ступень\n",
    "d_1st_2 = (T2/(0.2 * 40)) ** (1/3)\n",
    "print(d_1st_2)\n",
    "d_1st_2 = 30\n",
    "print(d_1st_2)"
   ],
   "id": "d8ed487f2c93bfa0",
   "outputs": [
    {
     "name": "stdout",
     "output_type": "stream",
     "text": [
      "29.142383416257275\n",
      "30\n"
     ]
    }
   ],
   "execution_count": 852
  },
  {
   "metadata": {
    "ExecuteTime": {
     "end_time": "2025-10-08T15:28:46.064802Z",
     "start_time": "2025-10-08T15:28:46.056788Z"
    }
   },
   "cell_type": "code",
   "source": [
    "# 2-я ступень\n",
    "t = 2.5\n",
    "d_2st_2 = d_1st_2 + 2 * t\n",
    "print(d_2st_2)"
   ],
   "id": "5dd77cd5b962a378",
   "outputs": [
    {
     "name": "stdout",
     "output_type": "stream",
     "text": [
      "35.0\n"
     ]
    }
   ],
   "execution_count": 853
  },
  {
   "metadata": {
    "ExecuteTime": {
     "end_time": "2025-10-08T15:28:46.159728Z",
     "start_time": "2025-10-08T15:28:46.132766Z"
    }
   },
   "cell_type": "code",
   "source": [
    "# 3-я ступень\n",
    "d_3st_2 = d_2st_2 + 3.2 * r\n",
    "print(d_3st_2)\n",
    "d_3st_2 = 40\n",
    "print(d_3st_2)"
   ],
   "id": "c6ae254893c0223c",
   "outputs": [
    {
     "name": "stdout",
     "output_type": "stream",
     "text": [
      "38.2\n",
      "40\n"
     ]
    }
   ],
   "execution_count": 854
  },
  {
   "metadata": {
    "ExecuteTime": {
     "end_time": "2025-10-08T15:28:46.271152Z",
     "start_time": "2025-10-08T15:28:46.253204Z"
    }
   },
   "cell_type": "code",
   "source": [
    "# 4-я ступень\n",
    "d_4st_2 = d_2st_2\n",
    "print(d_4st_2)"
   ],
   "id": "cfd31cbb84de6215",
   "outputs": [
    {
     "name": "stdout",
     "output_type": "stream",
     "text": [
      "35.0\n"
     ]
    }
   ],
   "execution_count": 855
  },
  {
   "metadata": {},
   "cell_type": "markdown",
   "source": [
    "***\n",
    "##### Конструирование червячной передачи стр.20"
   ],
   "id": "27dfa38bc72e992"
  },
  {
   "metadata": {
    "ExecuteTime": {
     "end_time": "2025-10-08T15:28:46.396847Z",
     "start_time": "2025-10-08T15:28:46.377863Z"
    }
   },
   "cell_type": "code",
   "source": [
    "# Наибольший диаметр червячного колеса\n",
    "d_am2 = da2 + 6*m/(z1 + 2*z2)\n",
    "print(f\"{da2} + 6*{m}/({z1} + 2*{z2}) = {da2 + 6*m/(z1 + 2*z2)}\")\n",
    "# print(d_am2)"
   ],
   "id": "d65a8650b0c5f0c5",
   "outputs": [
    {
     "name": "stdout",
     "output_type": "stream",
     "text": [
      "208.0 + 6*4.0/(2 + 2*50) = 208.23529411764707\n"
     ]
    }
   ],
   "execution_count": 856
  },
  {
   "metadata": {
    "ExecuteTime": {
     "end_time": "2025-10-08T15:28:46.522969Z",
     "start_time": "2025-10-08T15:28:46.511118Z"
    }
   },
   "cell_type": "code",
   "source": [
    "d_st = 1.8 * d_3st_2\n",
    "print(f\"1.8 * {d_3st_2} = {1.8 * d_3st_2}\")"
   ],
   "id": "56f5bacbff7f77ca",
   "outputs": [
    {
     "name": "stdout",
     "output_type": "stream",
     "text": [
      "1.8 * 40 = 72.0\n"
     ]
    }
   ],
   "execution_count": 857
  },
  {
   "metadata": {
    "ExecuteTime": {
     "end_time": "2025-10-08T15:28:46.649107Z",
     "start_time": "2025-10-08T15:28:46.640024Z"
    }
   },
   "cell_type": "code",
   "source": [
    "l_st = 1.7 * d_3st_2\n",
    "print(l_st)"
   ],
   "id": "e7de78872e86bd7f",
   "outputs": [
    {
     "name": "stdout",
     "output_type": "stream",
     "text": [
      "68.0\n"
     ]
    }
   ],
   "execution_count": 858
  },
  {
   "metadata": {
    "ExecuteTime": {
     "end_time": "2025-10-08T15:28:46.775958Z",
     "start_time": "2025-10-08T15:28:46.770962Z"
    }
   },
   "cell_type": "code",
   "source": [
    "po_1 = po_2 = 2 * m\n",
    "print(po_1)"
   ],
   "id": "f100511c5f6b05f6",
   "outputs": [
    {
     "name": "stdout",
     "output_type": "stream",
     "text": [
      "8.0\n"
     ]
    }
   ],
   "execution_count": 859
  },
  {
   "metadata": {
    "ExecuteTime": {
     "end_time": "2025-10-08T15:28:46.902665Z",
     "start_time": "2025-10-08T15:28:46.897653Z"
    }
   },
   "cell_type": "code",
   "source": [
    "C = 0.25 * b2\n",
    "print(C)"
   ],
   "id": "5f36d317207ff492",
   "outputs": [
    {
     "name": "stdout",
     "output_type": "stream",
     "text": [
      "10.875\n"
     ]
    }
   ],
   "execution_count": 860
  },
  {
   "metadata": {
    "ExecuteTime": {
     "end_time": "2025-10-08T15:28:47.029862Z",
     "start_time": "2025-10-08T15:28:47.015585Z"
    }
   },
   "cell_type": "code",
   "source": [
    "# d винта\n",
    "d_vint = 1.4*m\n",
    "print(d_vint)"
   ],
   "id": "e717c50e9c408312",
   "outputs": [
    {
     "name": "stdout",
     "output_type": "stream",
     "text": [
      "5.6\n"
     ]
    }
   ],
   "execution_count": 861
  },
  {
   "metadata": {
    "ExecuteTime": {
     "end_time": "2025-10-08T15:28:47.156419Z",
     "start_time": "2025-10-08T15:28:47.151422Z"
    }
   },
   "cell_type": "code",
   "source": [
    "# l винта\n",
    "l_vint = 0.4*b2\n",
    "print(l_vint)"
   ],
   "id": "837428e84e5a0544",
   "outputs": [
    {
     "name": "stdout",
     "output_type": "stream",
     "text": [
      "17.400000000000002\n"
     ]
    }
   ],
   "execution_count": 862
  },
  {
   "metadata": {
    "ExecuteTime": {
     "end_time": "2025-10-08T15:28:47.299238Z",
     "start_time": "2025-10-08T15:28:47.282238Z"
    }
   },
   "cell_type": "code",
   "source": [
    "f = 0.2*d_vint\n",
    "print(f)"
   ],
   "id": "8258a606a4179c5e",
   "outputs": [
    {
     "name": "stdout",
     "output_type": "stream",
     "text": [
      "1.1199999999999999\n"
     ]
    }
   ],
   "execution_count": 863
  },
  {
   "metadata": {
    "ExecuteTime": {
     "end_time": "2025-10-08T11:23:05.250724Z",
     "start_time": "2025-10-08T11:23:05.242714Z"
    }
   },
   "cell_type": "markdown",
   "source": "##### Параметры ступеней валов и подшипников",
   "id": "9eb404fca40a3e79"
  },
  {
   "metadata": {
    "ExecuteTime": {
     "end_time": "2025-10-08T15:28:47.425171Z",
     "start_time": "2025-10-08T15:28:47.410162Z"
    }
   },
   "cell_type": "code",
   "source": [
    "from IPython.display import Markdown\n",
    "\n",
    "l_1st = 50\n",
    "l_2st = 50\n",
    "l_3st = 240\n",
    "l_4st = 50\n",
    "\n",
    "l_1st_2 = 50\n",
    "l_2st_2 = 50\n",
    "l_3st_2 = 90\n",
    "l_4st_2 = 50\n",
    "\n",
    "Markdown(f\"\"\"\n",
    "##### Быстроходный вал\n",
    "| d1 / l1 | d2 / l2 | d3 / l3 | d4 / l4 |\n",
    "|-------|------|------|------|\n",
    "| {d_1st} / {l_1st} | {d_2st} / {l_2st} | {d_3st} / {l_3st} | {d_4st} / {l_4st}|\n",
    "\n",
    "###### Подшипники для быстроходного вала\n",
    "| Обозначение | $dxDxB(T)$ | $Cr, кН$ | $C_0, кН$ | $α°$ |\n",
    "|------|-------|------|------|------|\n",
    "| 7606 | 30х72х29х29 | 63 | 51 | - |\n",
    "***\n",
    "##### Тихоходный вал\n",
    "| d1 / l1 | d2 / l2 | d3 / l3 | d4 / l4 |\n",
    "|-------|------|------|------|\n",
    "| {d_1st_2} / {l_1st_2} | {d_2st_2} / {l_2st_2} | {d_3st_2} / {l_3st_2} | {d_4st_2} / {l_4st_2}|\n",
    "\n",
    "###### Подшипники для тихоходного вала\n",
    "| Обозначение | $dxDxB(T)$ | $Cr, кН$ | $C_0, кН$ | $α°$ |\n",
    "|------|-------|------|------|------|\n",
    "| 46207 | 35х72х17 | 24 | 18 | 12 |\n",
    "***\n",
    "\n",
    "\"\"\")\n"
   ],
   "id": "d3c16681aef75db9",
   "outputs": [
    {
     "data": {
      "text/plain": [
       "<IPython.core.display.Markdown object>"
      ],
      "text/markdown": "\n##### Быстроходный вал\n| d1 / l1 | d2 / l2 | d3 / l3 | d4 / l4 |\n|-------|------|------|------|\n| 24 / 50 | 30 / 50 | 34 / 240 | 30 / 50|\n\n###### Подшипники для быстроходного вала\n| Обозначение | $dxDxB(T)$ | $Cr, кН$ | $C_0, кН$ | $α°$ |\n|------|-------|------|------|------|\n| 7606 | 30х72х29х29 | 63 | 51 | - |\n***\n##### Тихоходный вал\n| d1 / l1 | d2 / l2 | d3 / l3 | d4 / l4 |\n|-------|------|------|------|\n| 30 / 50 | 35.0 / 50 | 40 / 90 | 35.0 / 50|\n\n###### Подшипники для тихоходного вала\n| Обозначение | $dxDxB(T)$ | $Cr, кН$ | $C_0, кН$ | $α°$ |\n|------|-------|------|------|------|\n| 46207 | 35х72х17 | 24 | 18 | 12 |\n***\n\n"
     },
     "execution_count": 864,
     "metadata": {},
     "output_type": "execute_result"
    }
   ],
   "execution_count": 864
  },
  {
   "metadata": {
    "ExecuteTime": {
     "end_time": "2025-10-08T11:43:38.666338Z",
     "start_time": "2025-10-08T11:43:38.653345Z"
    }
   },
   "cell_type": "markdown",
   "source": [
    "### Выбор шпонок\n",
    "Шпонки выбираю по таб. 4.8 стр 23\n"
   ],
   "id": "153284936bb37216"
  },
  {
   "metadata": {
    "ExecuteTime": {
     "end_time": "2025-10-08T15:28:47.631393Z",
     "start_time": "2025-10-08T15:28:47.609406Z"
    }
   },
   "cell_type": "code",
   "source": [
    "# Быстроходный вал\n",
    "# Проверяю шпонку на смятие\n",
    "b_sh_b = 8\n",
    "h_sh_b = 7\n",
    "l_rb = 37\n",
    "t1_b = 4\n",
    "p_sm = 2 * T1/(d_1st*l_rb*(h_sh_b - t1_b))\n",
    "print(f\"2 * {T1}/({d_1st}*{l_rb}*({h_sh_b} - {t1_b})) = {2 * T1/(d_1st*l_rb*(h_sh_b - t1_b))}\")"
   ],
   "id": "d4d690bfb4414eeb",
   "outputs": [
    {
     "name": "stdout",
     "output_type": "stream",
     "text": [
      "2 * 9900/(24*37*(7 - 4)) = 7.4324324324324325\n"
     ]
    }
   ],
   "execution_count": 865
  },
  {
   "metadata": {
    "ExecuteTime": {
     "end_time": "2025-10-08T15:28:47.758455Z",
     "start_time": "2025-10-08T15:28:47.750436Z"
    }
   },
   "cell_type": "code",
   "source": [
    "# Тихоходный вал\n",
    "# Проверяю шпонку на смятие\n",
    "b_sh_t = 14\n",
    "h_sh_t = 9\n",
    "l_rt = 66\n",
    "t1_t = 5.5\n",
    "p_sm = 2 * T2/(d_1st*l_rt*(h_sh_t - t1_t))\n",
    "print(f\"2 * {T2}/({d_1st}*{l_rt}*({h_sh_t} - {t1_t})) = {2 * T2/(d_1st*l_rt*(h_sh_t - t1_t))}\")"
   ],
   "id": "fb6a266c34021acf",
   "outputs": [
    {
     "name": "stdout",
     "output_type": "stream",
     "text": [
      "2 * 198000/(24*66*(9 - 5.5)) = 71.42857142857143\n"
     ]
    }
   ],
   "execution_count": 866
  },
  {
   "metadata": {},
   "cell_type": "markdown",
   "source": [
    "***\n",
    "### Определение сил в зацеплении и консольных сил от муфт\n",
    "табл.4.10\n",
    "***"
   ],
   "id": "86582db894cf5e66"
  },
  {
   "metadata": {
    "ExecuteTime": {
     "end_time": "2025-10-08T15:28:47.899994Z",
     "start_time": "2025-10-08T15:28:47.885978Z"
    }
   },
   "cell_type": "code",
   "source": [
    "# Окружная сила на червяке\n",
    "print(f\"2*{T1}/{d1} = {2*T1/d1}\")\n",
    "print(\"Ft1\")"
   ],
   "id": "c66a89903c5bbc46",
   "outputs": [
    {
     "name": "stdout",
     "output_type": "stream",
     "text": [
      "2*9900/50.0 = 396.0\n",
      "Ft1\n"
     ]
    }
   ],
   "execution_count": 867
  },
  {
   "metadata": {
    "ExecuteTime": {
     "end_time": "2025-10-08T15:28:48.027897Z",
     "start_time": "2025-10-08T15:28:48.014906Z"
    }
   },
   "cell_type": "code",
   "source": [
    "# Окружная сила на колесе\n",
    "print(f\"2*{T2}/{d2} = {2*T2/d2}\")\n",
    "print(\"Ft2\")\n"
   ],
   "id": "61355201ae51098c",
   "outputs": [
    {
     "name": "stdout",
     "output_type": "stream",
     "text": [
      "2*198000/200.0 = 1980.0\n",
      "Ft2\n"
     ]
    }
   ],
   "execution_count": 868
  },
  {
   "metadata": {
    "ExecuteTime": {
     "end_time": "2025-10-08T15:28:48.155370Z",
     "start_time": "2025-10-08T15:28:48.146375Z"
    }
   },
   "cell_type": "code",
   "source": [
    "# Радиальная сила на колесе и на червяке\n",
    "Fr2 = Ft2*tan(radians(20))\n",
    "print(Fr2)\n",
    "Fr1 = Fr2 = 720\n",
    "print(Fr2)"
   ],
   "id": "ae32115acae470f0",
   "outputs": [
    {
     "name": "stdout",
     "output_type": "stream",
     "text": [
      "720.6610638470806\n",
      "720\n"
     ]
    }
   ],
   "execution_count": 869
  },
  {
   "metadata": {
    "ExecuteTime": {
     "end_time": "2025-10-08T15:28:48.298288Z",
     "start_time": "2025-10-08T15:28:48.293291Z"
    }
   },
   "cell_type": "code",
   "source": [
    "# Осевая сила на червяке\n",
    "Fa1 = Ft2\n",
    "print(Fa1)"
   ],
   "id": "56136f1170da6e1f",
   "outputs": [
    {
     "name": "stdout",
     "output_type": "stream",
     "text": [
      "1980.0\n"
     ]
    }
   ],
   "execution_count": 870
  },
  {
   "metadata": {
    "ExecuteTime": {
     "end_time": "2025-10-08T15:28:48.438766Z",
     "start_time": "2025-10-08T15:28:48.423751Z"
    }
   },
   "cell_type": "code",
   "source": [
    "# Осевая сила на колесе\n",
    "Fa2 = Ft1\n",
    "print(Fa2)"
   ],
   "id": "91179217c23bcd00",
   "outputs": [
    {
     "name": "stdout",
     "output_type": "stream",
     "text": [
      "396.0\n"
     ]
    }
   ],
   "execution_count": 871
  },
  {
   "metadata": {
    "ExecuteTime": {
     "end_time": "2025-10-08T15:28:48.566688Z",
     "start_time": "2025-10-08T15:28:48.554677Z"
    }
   },
   "cell_type": "code",
   "source": [
    "# Сила на муфте (быстроходный вал)\n",
    "Fm1 = 4*(T1) ** 0.5\n",
    "print(Fm1)\n",
    "Fm1 = 398\n",
    "print(Fm1)"
   ],
   "id": "61df92ffb782900c",
   "outputs": [
    {
     "name": "stdout",
     "output_type": "stream",
     "text": [
      "397.994974842648\n",
      "398\n"
     ]
    }
   ],
   "execution_count": 872
  },
  {
   "metadata": {},
   "cell_type": "markdown",
   "source": [
    "***\n",
    "# Реакции и эпюры"
   ],
   "id": "b56b36086ed562d"
  },
  {
   "metadata": {},
   "cell_type": "markdown",
   "source": [
    "***\n",
    "### Расчет быстроходного вала"
   ],
   "id": "672cf5695283e6c1"
  },
  {
   "metadata": {
    "ExecuteTime": {
     "end_time": "2025-10-08T15:28:48.739560Z",
     "start_time": "2025-10-08T15:28:48.687590Z"
    }
   },
   "cell_type": "code",
   "source": [
    "# Расчет быстроходного вала\n",
    "def calc_b():\n",
    "\n",
    "    # Списки для построения эпюр\n",
    "    lst_x1 = [0]\n",
    "    lst_M1 = [0]\n",
    "    lst_x2 = [0]\n",
    "    lst_M2 = [0]\n",
    "\n",
    "    # Червяк: длины, мм\n",
    "    l1 = l_1st\n",
    "    l2 = l_2st\n",
    "    l3 = l_3st\n",
    "    l4 = l_4st\n",
    "    d1 = d_1b\n",
    "\n",
    "    # Участки, мм\n",
    "    a = l4/2 + l3/2\n",
    "    b = a\n",
    "    c = l2/2\n",
    "    d = d1/2\n",
    "\n",
    "    # Силы, Н\n",
    "    Ft = Ft1\n",
    "    Fr = Fr1\n",
    "    Fa = Fa1\n",
    "    Fm = Fm1\n",
    "\n",
    "    #----------------------------------------\n",
    "    # Вертикальная плоскость: XY\n",
    "\n",
    "    #-----------1. Реакции--------------------\n",
    "    # Моменты: положительно = против часовой стрелки\n",
    "\n",
    "    # ∑M(A) = 0\n",
    "    # -Fr*a - Fa*d + Rb*(a + b) = 0\n",
    "    Rb = (Fr*a + Fa*d)/(a + b)\n",
    "\n",
    "    # ∑M(B) = 0\n",
    "    # -Ra*(a + b) + Fr*b - Fa*d = 0\n",
    "    Ra = (Fr*b - Fa*d)/(a + b)\n",
    "\n",
    "    # Проверка ось Y\n",
    "    # Ra + Rb - Fr = 0\n",
    "    assert Ra + Rb - Fr == 0, 'Сумма сил должна быть равна нулю'\n",
    "\n",
    "    # Вывод результата\n",
    "    print(\"\\n1.Расчет реакции опор\")\n",
    "    print(\"Вертикальная плоскость: XY\")\n",
    "    print(f\"Момент Fa*d = {Fa*d} Н·мм\")\n",
    "    print(\"Ось Y\")\n",
    "    print(f\"Ra = {Ra:.3f}\")\n",
    "    print(f\"Rb = {Rb:.3f}\\n\")\n",
    "\n",
    "\n",
    "    #-------------2. Эпюры--------------------\n",
    "    # Силы: положительно = балка крутится\n",
    "    # по часовой стрелке\n",
    "    #\n",
    "    # Моменты: положительно = балка хочет изогнуться\n",
    "    # вверх\n",
    "\n",
    "    # 1.Участок 0 ≤ x ≤ a\n",
    "    # x = a\n",
    "    Ma = Ra * a\n",
    "\n",
    "    # Записываю результат\n",
    "    lst_x1 += [a]\n",
    "    lst_M1 += [Ma]\n",
    "\n",
    "    # Вывод результата\n",
    "    print(\"\\n2.Построение эпюр\")\n",
    "    print(\"Вертикальная плоскость: XY\")\n",
    "    print(\"1.Участок 0 ≤ x ≤ a\")\n",
    "    print(\"x = 0: Миy = 0\")\n",
    "    print(f\"x = a: Миy = {Ma:.1f}\\n\")\n",
    "\n",
    "\n",
    "    # 2.Участок a ≤ x ≤ (a + b)\n",
    "    # x = a\n",
    "    Ma = Ra * a + Fa * d\n",
    "    # x = a + b\n",
    "    Mb = Ra * (a + b) + Fa * d - Fr * b\n",
    "\n",
    "    # Записываю результат\n",
    "    lst_x1 += [a, a + b, a + b + c]\n",
    "    lst_M1 += [Ma, Mb, 0]\n",
    "\n",
    "    # Вывод результата\n",
    "    print(\"2.Участок a ≤ x ≤ (a + b)\")\n",
    "    print(f\"x = a: Миy = {Ma:.1f}\")\n",
    "    print(f\"x = a+b: Миy = {Mb:.1f}\\n\")\n",
    "    print(\"--------------------------------------------------\\n\")\n",
    "\n",
    "\n",
    "    #----------------------------------------\n",
    "    # Горизонтальная плоскость: XZ\n",
    "\n",
    "    #-----------1. Реакции--------------------\n",
    "    # Моменты: положительно = против часовой стрелки\n",
    "\n",
    "    # ∑M(A) = 0\n",
    "    # Ft*a - Rb*(a + b) - Fm*(a + b + c) = 0\n",
    "    Rb = (Ft*a - Fm*(a + b + c))/(a + b)\n",
    "\n",
    "    # ∑M(B) = 0\n",
    "    # Ra*(a + b) - Ft*b - Fm*c = 0\n",
    "    Ra = (Ft*b + Fm*c)/(a + b)\n",
    "\n",
    "    # Проверка ось Z\n",
    "    # Ra - Ft + Rb + Fm = 0\n",
    "    assert Ra - Ft + Rb + Fm == 0 , 'Сумма сил должна быть равна нулю'\n",
    "\n",
    "    # Вывод результата\n",
    "    print(\"1.Расчет реакции опор\")\n",
    "    print(\"Горизонтальная плоскость: XZ\")\n",
    "    print(\"Ось Z\")\n",
    "    print(f\"Ra = {Ra:.3f}\")\n",
    "    print(f\"Rb = {Rb:.3f}\\n\")\n",
    "\n",
    "\n",
    "    #-------------2. Эпюры--------------------\n",
    "    # Силы: положительно = балка крутится\n",
    "    # по часовой стрелке\n",
    "    #\n",
    "    # Моменты: положительно = балка хочет изогнуться\n",
    "    # вверх\n",
    "\n",
    "    # 1.Участок 0 ≤ x ≤ a\n",
    "    # x = a\n",
    "    Ma = -Ra * a\n",
    "\n",
    "    # Записываю результат\n",
    "    lst_x2 += [a]\n",
    "    lst_M2 += [Ma]\n",
    "\n",
    "    # Вывод результата\n",
    "    print(\"\\n2.Построение эпюр\")\n",
    "    print(\"Горизонтальная плоскость: XZ\\n\")\n",
    "    print(\"1.Участок 0 ≤ x ≤ a\")\n",
    "    print(\"x = 0: Миy = 0\")\n",
    "    print(f\"x = a: Миy = {Ma:.1f}\\n\")\n",
    "\n",
    "    # 2.Участок a ≤ x ≤ (a + b)\n",
    "    # x = a\n",
    "    Ma = -Ra * a\n",
    "    # x = a + b\n",
    "    Mb = -Ra * (a + b) + Ft * b\n",
    "\n",
    "    # Записываю результат\n",
    "    lst_x2 += [a, a + b]\n",
    "    lst_M2 += [Ma, Mb]\n",
    "\n",
    "    # Вывод результата\n",
    "    print(\"2.Участок a ≤ x ≤ (a + b)\")\n",
    "    print(f\"x = a: Миy = {Ma:.1f}\")\n",
    "    print(f\"x = a+b: Миy = {Mb:.1f}\\n\")\n",
    "\n",
    "    # 3.Участок (a + b) ≤ x ≤ (a + b + c)\n",
    "    # x = a + b\n",
    "    Mb = -Ra * (a + b) + Ft * b\n",
    "    # x = a + b + c\n",
    "    Mc = -Ra * (a + b + c) + Ft * (b + c) - Rb * c\n",
    "\n",
    "    # Записываю результат\n",
    "    lst_x2 += [a + b, a + b + c]\n",
    "    lst_M2 += [Mb, Mc]\n",
    "\n",
    "    # Вывод результата\n",
    "    print(\"3.Участок (a + b) ≤ x ≤ (a + b + c)\")\n",
    "    print(f\"x = b: Миy = {Mb:.1f}\")\n",
    "    print(f\"x = a+b+c: Миy = {Mc:.1f}\\n\")\n",
    "\n",
    "    return (lst_x1, lst_M1), (lst_x2, lst_M2)\n",
    "\n",
    "resultY, resultX = calc_b()"
   ],
   "id": "e673cd41fae22866",
   "outputs": [
    {
     "name": "stdout",
     "output_type": "stream",
     "text": [
      "\n",
      "1.Расчет реакции опор\n",
      "Вертикальная плоскость: XY\n",
      "Момент Fa*d = 49500.0 Н·мм\n",
      "Ось Y\n",
      "Ra = 189.310\n",
      "Rb = 530.690\n",
      "\n",
      "\n",
      "2.Построение эпюр\n",
      "Вертикальная плоскость: XY\n",
      "1.Участок 0 ≤ x ≤ a\n",
      "x = 0: Миy = 0\n",
      "x = a: Миy = 27450.0\n",
      "\n",
      "2.Участок a ≤ x ≤ (a + b)\n",
      "x = a: Миy = 76950.0\n",
      "x = a+b: Миy = 0.0\n",
      "\n",
      "--------------------------------------------------\n",
      "\n",
      "1.Расчет реакции опор\n",
      "Горизонтальная плоскость: XZ\n",
      "Ось Z\n",
      "Ra = 232.310\n",
      "Rb = -234.310\n",
      "\n",
      "\n",
      "2.Построение эпюр\n",
      "Горизонтальная плоскость: XZ\n",
      "\n",
      "1.Участок 0 ≤ x ≤ a\n",
      "x = 0: Миy = 0\n",
      "x = a: Миy = -33685.0\n",
      "\n",
      "2.Участок a ≤ x ≤ (a + b)\n",
      "x = a: Миy = -33685.0\n",
      "x = a+b: Миy = -9950.0\n",
      "\n",
      "3.Участок (a + b) ≤ x ≤ (a + b + c)\n",
      "x = b: Миy = -9950.0\n",
      "x = a+b+c: Миy = -0.0\n",
      "\n"
     ]
    }
   ],
   "execution_count": 873
  },
  {
   "metadata": {
    "ExecuteTime": {
     "end_time": "2025-10-08T15:28:49.006464Z",
     "start_time": "2025-10-08T15:28:48.835040Z"
    }
   },
   "cell_type": "code",
   "source": [
    "import matplotlib.pyplot as plt\n",
    "\n",
    "x, M = resultY\n",
    "\n",
    "plt.figure(figsize=(8, 4))\n",
    "plt.plot(x, M, marker='o', linestyle='-', color='blue', label='Эпюра Mиy(x)')\n",
    "plt.axhline(0, color='black', linewidth=0.5)\n",
    "plt.xlabel('Длина вала (мм)')\n",
    "plt.ylabel('Момент (Н·мм)')\n",
    "plt.title('Вертикальная плоскость')\n",
    "plt.grid(True)\n",
    "plt.legend()\n",
    "\n",
    "# Инвертируем ось Y\n",
    "plt.gca().invert_yaxis()\n",
    "plt.show()\n",
    "\n"
   ],
   "id": "27ebaddf1b65be3d",
   "outputs": [
    {
     "data": {
      "text/plain": [
       "<Figure size 800x400 with 1 Axes>"
      ],
      "image/png": "[encoded data removed]"
     },
     "metadata": {},
     "output_type": "display_data",
     "jetTransient": {
      "display_id": null
     }
    }
   ],
   "execution_count": 874
  },
  {
   "metadata": {
    "ExecuteTime": {
     "end_time": "2025-10-08T15:28:49.212346Z",
     "start_time": "2025-10-08T15:28:49.042443Z"
    }
   },
   "cell_type": "code",
   "source": [
    "x, M = resultX\n",
    "\n",
    "plt.figure(figsize=(8, 4))\n",
    "plt.plot(x, M, marker='o', linestyle='-', color='blue', label='Эпюра Mиx(x)')\n",
    "plt.axhline(0, color='black', linewidth=0.5)\n",
    "plt.xlabel('Длина вала (мм)')\n",
    "plt.ylabel('Момент (Н·мм)')\n",
    "plt.title('Горизонтальная плоскость')\n",
    "plt.grid(True)\n",
    "plt.legend()\n",
    "\n",
    "# Инвертируем ось Y\n",
    "plt.gca().invert_yaxis()\n",
    "plt.show()"
   ],
   "id": "26a0639b5abd9fb4",
   "outputs": [
    {
     "data": {
      "text/plain": [
       "<Figure size 800x400 with 1 Axes>"
      ],
      "image/png": "[encoded data removed]"
     },
     "metadata": {},
     "output_type": "display_data",
     "jetTransient": {
      "display_id": null
     }
    }
   ],
   "execution_count": 875
  },
  {
   "metadata": {
    "ExecuteTime": {
     "end_time": "2025-10-08T15:28:49.275333Z",
     "start_time": "2025-10-08T15:28:49.261351Z"
    }
   },
   "cell_type": "code",
   "source": "",
   "id": "8cae36e2affbe3aa",
   "outputs": [],
   "execution_count": null
  }
 ],
 "metadata": {
  "kernelspec": {
   "display_name": "Python 3 (ipykernel)",
   "language": "python",
   "name": "python3"
  },
  "language_info": {
   "codemirror_mode": {
    "name": "ipython",
    "version": 3
   },
   "file_extension": ".py",
   "mimetype": "text/x-python",
   "name": "python",
   "nbconvert_exporter": "python",
   "pygments_lexer": "ipython3",
   "version": "3.10.4"
  }
 },
 "nbformat": 4,
 "nbformat_minor": 5
}
