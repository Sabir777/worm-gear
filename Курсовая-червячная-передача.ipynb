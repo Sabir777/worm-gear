{
 "cells": [
  {
   "cell_type": "markdown",
   "id": "e21fd3fc-7c2b-42eb-91c1-e9ce20560d9b",
   "metadata": {},
   "source": [
    "# Курсовая: Техническая механика\n",
    "### Расчет червячной передачи"
   ]
  },
  {
   "cell_type": "code",
   "execution_count": 22,
   "id": "6c6cccb2-00a2-4969-be57-92d1d4a87188",
   "metadata": {},
   "outputs": [],
   "source": [
    "# Частота вращения выходного вала редуктора\n",
    "n_out = 59"
   ]
  },
  {
   "cell_type": "markdown",
   "id": "d062898f-f458-4efc-bd17-c8389ff339b8",
   "metadata": {},
   "source": [
    "### Выбор ЭД"
   ]
  },
  {
   "cell_type": "code",
   "execution_count": 23,
   "id": "0beed80f-8953-4b0c-8840-0f074394a3ad",
   "metadata": {},
   "outputs": [
    {
     "data": {
      "text/plain": [
       "0.784"
      ]
     },
     "execution_count": 23,
     "metadata": {},
     "output_type": "execute_result"
    }
   ],
   "source": [
    "# КПД\n",
    "0.98 * 0.8\n"
   ]
  },
  {
   "cell_type": "code",
   "execution_count": 24,
   "id": "1b0fcf01-a020-4b2a-970a-3eef5da88680",
   "metadata": {},
   "outputs": [
    {
     "data": {
      "text/plain": [
       "1.1479591836734693"
      ]
     },
     "execution_count": 24,
     "metadata": {},
     "output_type": "execute_result"
    }
   ],
   "source": [
    "# Мощность ЭД\n",
    "0.9 / 0.784\n"
   ]
  },
  {
   "cell_type": "code",
   "execution_count": 25,
   "id": "f4a94700-3b3c-4d2d-b7e9-cb9040efedce",
   "metadata": {},
   "outputs": [
    {
     "name": "stdout",
     "output_type": "stream",
     "text": [
      "885 ... 1770\n"
     ]
    }
   ],
   "source": [
    "# Диапазон частот\n",
    "print(f\"{59*15} ... {59*30}\")\n"
   ]
  },
  {
   "cell_type": "raw",
   "id": "4173b7df-ba9f-4986-8c3c-915ce5dc101c",
   "metadata": {},
   "source": [
    "Выбираю ЭД\n",
    "4А80В4У3\n",
    "(3 - Чернавский стр.26)\n",
    "- Частота оборотов: 1500 Об/мин\n",
    "- Мощность: 1500 Вт\n",
    "- Скольжение: 5.8\n",
    "(3 - Чернавский стр.521, 4- Дунаев стр.457)\n",
    "- Диаметр вала: 22 мм"
   ]
  },
  {
   "cell_type": "code",
   "execution_count": 26,
   "id": "029ded10-a34f-4ac2-8d0d-1e8a687e1bed",
   "metadata": {},
   "outputs": [
    {
     "name": "stdout",
     "output_type": "stream",
     "text": [
      "1413.0\n"
     ]
    }
   ],
   "source": [
    "# Фактическая частота вращения\n",
    "n_el = 1500 * (100 - 5.8) / 100\n",
    "print(n_el)"
   ]
  },
  {
   "cell_type": "code",
   "execution_count": 27,
   "id": "1118497e-f27c-4acf-b709-42d09e29cdc2",
   "metadata": {},
   "outputs": [
    {
     "name": "stdout",
     "output_type": "stream",
     "text": [
      "1413.0 / 59 = 23.95\n"
     ]
    }
   ],
   "source": [
    "# Передаточное число редуктора\n",
    "print(f\"{n_el} / {n_out} = {n_el/n_out:.2f}\")"
   ]
  },
  {
   "cell_type": "raw",
   "id": "44b45f05-7b2f-4c5e-ab78-98a3748ea1fd",
   "metadata": {},
   "source": []
  }
 ],
 "metadata": {
  "kernelspec": {
   "display_name": "Python 3 (ipykernel)",
   "language": "python",
   "name": "python3"
  },
  "language_info": {
   "codemirror_mode": {
    "name": "ipython",
    "version": 3
   },
   "file_extension": ".py",
   "mimetype": "text/x-python",
   "name": "python",
   "nbconvert_exporter": "python",
   "pygments_lexer": "ipython3",
   "version": "3.10.12"
  }
 },
 "nbformat": 4,
 "nbformat_minor": 5
}
