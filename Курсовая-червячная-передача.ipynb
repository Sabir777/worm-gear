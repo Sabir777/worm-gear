{
 "cells": [
  {
   "cell_type": "markdown",
   "id": "e21fd3fc-7c2b-42eb-91c1-e9ce20560d9b",
   "metadata": {},
   "source": [
    "# Курсовая: Техническая механика\n",
    "### Расчет червячной передачи"
   ]
  },
  {
   "cell_type": "code",
   "id": "305b366a-3b59-4c55-b29c-ee6ed7aa6ff5",
   "metadata": {
    "ExecuteTime": {
     "end_time": "2025-10-24T20:54:52.756117Z",
     "start_time": "2025-10-24T20:54:52.738150Z"
    }
   },
   "source": [
    "from math import pi, atan, degrees, cos, tan, radians\n",
    "from IPython.display import Markdown\n",
    "\n",
    "def degrees_to_radians(degrees, minutes=0):\n",
    "    total_degrees = degrees + minutes / 60\n",
    "    \n",
    "    # Переводим градусы в радианы\n",
    "    return radians(total_degrees)\n"
   ],
   "outputs": [],
   "execution_count": 1117
  },
  {
   "cell_type": "code",
   "id": "6c6cccb2-00a2-4969-be57-92d1d4a87188",
   "metadata": {
    "ExecuteTime": {
     "end_time": "2025-10-24T20:54:52.874259Z",
     "start_time": "2025-10-24T20:54:52.768594Z"
    }
   },
   "source": [
    "# Частота вращения выходного вала редуктора\n",
    "n_out = 59\n",
    "# Нагрузка на выходном валу редуктора\n",
    "P_out = 900"
   ],
   "outputs": [],
   "execution_count": 1118
  },
  {
   "cell_type": "markdown",
   "id": "d062898f-f458-4efc-bd17-c8389ff339b8",
   "metadata": {},
   "source": [
    "### Выбор ЭД"
   ]
  },
  {
   "cell_type": "code",
   "id": "0beed80f-8953-4b0c-8840-0f074394a3ad",
   "metadata": {
    "ExecuteTime": {
     "end_time": "2025-10-24T20:54:52.951430Z",
     "start_time": "2025-10-24T20:54:52.886338Z"
    }
   },
   "source": [
    "# КПД общий\n",
    "# КПД передачи = 0.8 (таблица 1.1)\n",
    "kpd_m = 0.98\n",
    "kpd_u = 0.8\n",
    "\n",
    "kpd_sum = kpd_m * kpd_u\n",
    "print(f\"{kpd_m} * {kpd_u} = {kpd_m * kpd_u}\")\n"
   ],
   "outputs": [
    {
     "name": "stdout",
     "output_type": "stream",
     "text": [
      "0.98 * 0.8 = 0.784\n"
     ]
    }
   ],
   "execution_count": 1119
  },
  {
   "cell_type": "code",
   "id": "1b0fcf01-a020-4b2a-970a-3eef5da88680",
   "metadata": {
    "ExecuteTime": {
     "end_time": "2025-10-24T20:54:53.044328Z",
     "start_time": "2025-10-24T20:54:52.977585Z"
    }
   },
   "source": [
    "# Мощность электрическая\n",
    "P_en = P_out / kpd_sum\n",
    "print(f\"{P_out} / {kpd_sum} = {P_out / kpd_sum:.0f}\")\n"
   ],
   "outputs": [
    {
     "name": "stdout",
     "output_type": "stream",
     "text": [
      "900 / 0.784 = 1148\n"
     ]
    }
   ],
   "execution_count": 1120
  },
  {
   "cell_type": "code",
   "id": "f4a94700-3b3c-4d2d-b7e9-cb9040efedce",
   "metadata": {
    "ExecuteTime": {
     "end_time": "2025-10-24T20:54:53.121201Z",
     "start_time": "2025-10-24T20:54:53.100223Z"
    }
   },
   "source": [
    "# Диапазон частот\n",
    "print(f\"{59*15} ... {59*30}\")\n"
   ],
   "outputs": [
    {
     "name": "stdout",
     "output_type": "stream",
     "text": [
      "885 ... 1770\n"
     ]
    }
   ],
   "execution_count": 1121
  },
  {
   "cell_type": "markdown",
   "id": "574bea7c-a2ce-4b7c-b360-1485d6f560f5",
   "metadata": {},
   "source": [
    "***\n",
    "##### Выбираю ЭД\n",
    "4А80В4У3\n",
    "(3 - Чернавский стр.26)\n",
    "- Частота оборотов: 1500 Об/мин\n",
    "- Мощность: 1500 Вт\n",
    "- Скольжение: 5.8\n",
    "(3 - Чернавский стр.521, 4- Дунаев стр.457)\n",
    "- Диаметр вала: 22 мм"
   ]
  },
  {
   "cell_type": "code",
   "id": "029ded10-a34f-4ac2-8d0d-1e8a687e1bed",
   "metadata": {
    "ExecuteTime": {
     "end_time": "2025-10-24T20:54:53.229184Z",
     "start_time": "2025-10-24T20:54:53.205226Z"
    }
   },
   "source": [
    "# Диаметр вала электродвигателя\n",
    "d_ed= 22\n",
    "# Фактическая частота вращения\n",
    "n_fact = 1500 * (100 - 5.8) / 100\n",
    "print(n_fact)"
   ],
   "outputs": [
    {
     "name": "stdout",
     "output_type": "stream",
     "text": [
      "1413.0\n"
     ]
    }
   ],
   "execution_count": 1122
  },
  {
   "cell_type": "code",
   "id": "1118497e-f27c-4acf-b709-42d09e29cdc2",
   "metadata": {
    "ExecuteTime": {
     "end_time": "2025-10-24T20:54:53.322129Z",
     "start_time": "2025-10-24T20:54:53.311426Z"
    }
   },
   "source": [
    "# Передаточное число редуктора\n",
    "print(f\"{n_fact} / {n_out} = {n_fact/n_out:.2f}\")\n"
   ],
   "outputs": [
    {
     "name": "stdout",
     "output_type": "stream",
     "text": [
      "1413.0 / 59 = 23.95\n"
     ]
    }
   ],
   "execution_count": 1123
  },
  {
   "cell_type": "code",
   "id": "c638f595-c65f-46e4-a9dc-54cbe6caeb58",
   "metadata": {
    "ExecuteTime": {
     "end_time": "2025-10-24T20:54:53.445889Z",
     "start_time": "2025-10-24T20:54:53.424925Z"
    }
   },
   "source": [
    "# Принимаю стандартное значение передаточного числа редуктора по таблице 3.2\n",
    "u_p = 25"
   ],
   "outputs": [],
   "execution_count": 1124
  },
  {
   "cell_type": "markdown",
   "id": "84b8004f-a7f0-4750-99aa-4b59f194de11",
   "metadata": {},
   "source": [
    "***\n",
    "### Определение кинематических и силовых параметров для каждого вала\n",
    "***\n",
    "#### Быстроходный вал"
   ]
  },
  {
   "cell_type": "code",
   "id": "1981188b-814a-4433-b1bf-8a6b1b93900a",
   "metadata": {
    "ExecuteTime": {
     "end_time": "2025-10-24T20:54:53.538750Z",
     "start_time": "2025-10-24T20:54:53.470358Z"
    }
   },
   "source": [
    "# Частота оборотов\n",
    "n_fact"
   ],
   "outputs": [
    {
     "data": {
      "text/plain": [
       "1413.0"
      ]
     },
     "execution_count": 1125,
     "metadata": {},
     "output_type": "execute_result"
    }
   ],
   "execution_count": 1125
  },
  {
   "cell_type": "code",
   "id": "01ba01f0-6dc3-4731-84c2-8fde5a43fd9c",
   "metadata": {
    "ExecuteTime": {
     "end_time": "2025-10-24T20:54:53.615939Z",
     "start_time": "2025-10-24T20:54:53.566187Z"
    }
   },
   "source": [
    "# Угловая скорость\n",
    "w1 = pi * n_fact / 30\n",
    "print(f\"{w1:.3f}\")"
   ],
   "outputs": [
    {
     "name": "stdout",
     "output_type": "stream",
     "text": [
      "147.969\n"
     ]
    }
   ],
   "execution_count": 1126
  },
  {
   "cell_type": "code",
   "id": "431c1930-fd51-4d80-b28e-9eef5dba449f",
   "metadata": {
    "ExecuteTime": {
     "end_time": "2025-10-24T20:54:53.708812Z",
     "start_time": "2025-10-24T20:54:53.659857Z"
    }
   },
   "source": [
    "# Мощность на входном валу после муфты\n",
    "P1 = P_en * kpd_m\n",
    "print(f\"{P_en:.0f} * {kpd_m} = {P_en * kpd_m}\")"
   ],
   "outputs": [
    {
     "name": "stdout",
     "output_type": "stream",
     "text": [
      "1148 * 0.98 = 1125.0\n"
     ]
    }
   ],
   "execution_count": 1127
  },
  {
   "cell_type": "code",
   "id": "a94729e1-e7c4-4748-9e9d-75cf2528fbbd",
   "metadata": {
    "ExecuteTime": {
     "end_time": "2025-10-24T20:54:53.801627Z",
     "start_time": "2025-10-24T20:54:53.760703Z"
    }
   },
   "source": [
    "# Момент на входном валу, Н*мм\n",
    "T1 = P1 * 1000 / w1\n",
    "print(T1)"
   ],
   "outputs": [
    {
     "name": "stdout",
     "output_type": "stream",
     "text": [
      "7602.94314133258\n"
     ]
    }
   ],
   "execution_count": 1128
  },
  {
   "cell_type": "markdown",
   "id": "78c889bf-2ebb-45f9-8568-0eebbec9dd10",
   "metadata": {},
   "source": [
    "***\n",
    "#### Тихоходный вал"
   ]
  },
  {
   "cell_type": "code",
   "id": "cfb96805-c72b-42d4-b770-8cb2fe55f09d",
   "metadata": {
    "ExecuteTime": {
     "end_time": "2025-10-24T20:54:53.909926Z",
     "start_time": "2025-10-24T20:54:53.876506Z"
    }
   },
   "source": [
    "# Частота оборотов\n",
    "n1 = n_fact\n",
    "n2 = n1 / u_p\n",
    "print(n2)"
   ],
   "outputs": [
    {
     "name": "stdout",
     "output_type": "stream",
     "text": [
      "56.52\n"
     ]
    }
   ],
   "execution_count": 1129
  },
  {
   "cell_type": "code",
   "id": "7dd9b0d9-00ce-4c12-96d3-777e7a82d507",
   "metadata": {
    "ExecuteTime": {
     "end_time": "2025-10-24T20:54:54.064861Z",
     "start_time": "2025-10-24T20:54:53.988004Z"
    }
   },
   "source": [
    "# Угловая скорость\n",
    "w2 = pi * n2 / 30\n",
    "print(w2)"
   ],
   "outputs": [
    {
     "name": "stdout",
     "output_type": "stream",
     "text": [
      "5.91876055936317\n"
     ]
    }
   ],
   "execution_count": 1130
  },
  {
   "cell_type": "code",
   "id": "82d86eb6-a6cd-4464-a4c2-e70268777f58",
   "metadata": {
    "ExecuteTime": {
     "end_time": "2025-10-24T20:54:54.172416Z",
     "start_time": "2025-10-24T20:54:54.104288Z"
    }
   },
   "source": [
    "# Мощность на выходном валу\n",
    "# 0.8 - кпд для червячного редуктора (таблица 1.1)\n",
    "P2 = P1 * kpd_u\n",
    "print(P2)"
   ],
   "outputs": [
    {
     "name": "stdout",
     "output_type": "stream",
     "text": [
      "900.0\n"
     ]
    }
   ],
   "execution_count": 1131
  },
  {
   "cell_type": "code",
   "id": "dc16e206-7aab-4673-8d8e-a6582aa8a587",
   "metadata": {
    "ExecuteTime": {
     "end_time": "2025-10-24T20:54:54.264906Z",
     "start_time": "2025-10-24T20:54:54.207253Z"
    }
   },
   "source": [
    "# Вращающий момент\n",
    "T2 = P2 * 1000 / w2\n",
    "print(T2)"
   ],
   "outputs": [
    {
     "name": "stdout",
     "output_type": "stream",
     "text": [
      "152058.8628266516\n"
     ]
    }
   ],
   "execution_count": 1132
  },
  {
   "metadata": {},
   "cell_type": "markdown",
   "source": "### Заполняю таблицу 1.4",
   "id": "cc12202d0d6a357c"
  },
  {
   "metadata": {
    "ExecuteTime": {
     "end_time": "2025-10-24T20:54:54.388728Z",
     "start_time": "2025-10-24T20:54:54.301318Z"
    }
   },
   "cell_type": "code",
   "source": [
    "#from IPython.display import Markdown\n",
    "\n",
    "Markdown(f\"\"\"\n",
    "#### Таблица 1.4\n",
    "##### Кинематические и силовые параметры для каждого вала редуктора\n",
    "|Номер<br/>вала| Частота вращения,<br/>n, $min^-1$ | Угловая скорость<br/> w, $с^-1$ | Мощность<br/>P, Вт | Вращающий момент<br/>T, Н·мм |\n",
    "|-------|------|------|------|------|\n",
    "| 1 | {n1} | {w1:.3f} | {P1} | {T1:.0f}|\n",
    "| 2 | {n2} | {w2:.3f} | {P2} | {T2:.0f}|\n",
    "\"\"\")\n"
   ],
   "id": "beaa5c78488dd4d1",
   "outputs": [
    {
     "data": {
      "text/plain": [
       "<IPython.core.display.Markdown object>"
      ],
      "text/markdown": "\n#### Таблица 1.4\n##### Кинематические и силовые параметры для каждого вала редуктора\n|Номер<br/>вала| Частота вращения,<br/>n, $min^-1$ | Угловая скорость<br/> w, $с^-1$ | Мощность<br/>P, Вт | Вращающий момент<br/>T, Н·мм |\n|-------|------|------|------|------|\n| 1 | 1413.0 | 147.969 | 1125.0 | 7603|\n| 2 | 56.52 | 5.919 | 900.0 | 152059|\n"
     },
     "execution_count": 1133,
     "metadata": {},
     "output_type": "execute_result"
    }
   ],
   "execution_count": 1133
  },
  {
   "cell_type": "markdown",
   "id": "3c05039d-203c-4cdf-a054-4025ef161c32",
   "metadata": {},
   "source": [
    "***\n",
    "### Выбор материалов и допускаемых напряжений "
   ]
  },
  {
   "cell_type": "code",
   "id": "9b299ab0-1aaf-4dec-ad48-f32d3e7b4ffe",
   "metadata": {
    "ExecuteTime": {
     "end_time": "2025-10-24T20:54:54.481976Z",
     "start_time": "2025-10-24T20:54:54.429651Z"
    }
   },
   "source": [
    "# Скорость скольжения\n",
    "v_s = 4.5 * 10 ** (-4) * n1 * (T2 / 1000) ** (1/3)\n",
    "print(v_s)"
   ],
   "outputs": [
    {
     "name": "stdout",
     "output_type": "stream",
     "text": [
      "3.393844358505747\n"
     ]
    }
   ],
   "execution_count": 1134
  },
  {
   "cell_type": "markdown",
   "id": "06c7dbb1-e536-496e-890d-4d637fac46a3",
   "metadata": {},
   "source": [
    "***\n",
    "#### **Выбираю материал для червячного колеса**\n",
    "Согласно таблице 3.1 стр.15\n",
    "\n",
    "Бр А9ЖЗЛ\n",
    "\n",
    "$σ_т = 200$\n",
    "\n",
    "$σ_в = 400$\n",
    "\n",
    "$σ_H = 300 - 25v_s$\n",
    "\n",
    "$σ_F = 0,25σ_т+0,08σ_в$\n",
    "***\n",
    "$σ_H$"
   ]
  },
  {
   "cell_type": "code",
   "id": "a90249db-e595-44f5-8a49-56c732ba6f8d",
   "metadata": {
    "ExecuteTime": {
     "end_time": "2025-10-24T20:54:54.604489Z",
     "start_time": "2025-10-24T20:54:54.524742Z"
    }
   },
   "source": [
    "po_h = 300 - 25 * v_s\n",
    "print(f\"300 - 25*{v_s:.2f} = {300 - 25*v_s:.1f}\")"
   ],
   "outputs": [
    {
     "name": "stdout",
     "output_type": "stream",
     "text": [
      "300 - 25*3.39 = 215.2\n"
     ]
    }
   ],
   "execution_count": 1135
  },
  {
   "cell_type": "markdown",
   "id": "429618dc-54d4-4e3b-837d-f85718412b8b",
   "metadata": {},
   "source": [
    "$σ_F$"
   ]
  },
  {
   "cell_type": "code",
   "id": "2a1ecb57-0f3a-4761-ba26-dbb541d59a9f",
   "metadata": {
    "ExecuteTime": {
     "end_time": "2025-10-24T20:54:54.728246Z",
     "start_time": "2025-10-24T20:54:54.641661Z"
    }
   },
   "source": [
    "po_f = 0.25*200 + 0.08*400\n",
    "print(po_f)"
   ],
   "outputs": [
    {
     "name": "stdout",
     "output_type": "stream",
     "text": [
      "82.0\n"
     ]
    }
   ],
   "execution_count": 1136
  },
  {
   "cell_type": "markdown",
   "id": "e0eea6c3-04eb-4501-b1ba-32a06de1cef6",
   "metadata": {},
   "source": [
    "***\n",
    "#### Проектный расчет червячной передачи по контактным напряжениям"
   ]
  },
  {
   "cell_type": "code",
   "id": "e443dd9b-1433-4461-9437-71fa49de91f4",
   "metadata": {
    "ExecuteTime": {
     "end_time": "2025-10-24T20:54:54.835979Z",
     "start_time": "2025-10-24T20:54:54.767107Z"
    }
   },
   "source": [
    "# Согласно таблице 3.2 выбираю стандартное передаточное отношение\n",
    "# Вычисляю число зубьев колеса\n",
    "z1 = 2\n",
    "z2 = z1 * u_p\n",
    "print(z2)"
   ],
   "outputs": [
    {
     "name": "stdout",
     "output_type": "stream",
     "text": [
      "50\n"
     ]
    }
   ],
   "execution_count": 1137
  },
  {
   "cell_type": "code",
   "id": "56cf7654-52ef-4c3f-965e-842f2389cbb2",
   "metadata": {
    "ExecuteTime": {
     "end_time": "2025-10-24T20:54:54.913343Z",
     "start_time": "2025-10-24T20:54:54.864427Z"
    }
   },
   "source": [
    "# Определяю межосевое расстояние\n",
    "K_n = 1.1\n",
    "q = 12.5\n",
    "T2_m = T2 / 1000\n",
    "a_w = (z2/q + 1) * ((5400/(z2/q*po_h)) ** 2 * T2_m * K_n) ** (1/3)\n",
    "print(f\"({z2}/{q} + 1) * ((5400/({z2}/{q}*{po_h:.0f})) ** 2 * {T2_m} * {K_n}) ** (1/3) = {(z2/q + 1) * ((5400/(z2/q*po_h)) ** 2 * T2_m * K_n) ** (1/3):0f}\")\n",
    "\n",
    "# Выбираю стандартное значение a_w = 125 мм\n",
    "a_w = 125"
   ],
   "outputs": [
    {
     "name": "stdout",
     "output_type": "stream",
     "text": [
      "(50/12.5 + 1) * ((5400/(50/12.5*215)) ** 2 * 152.0588628266516 * 1.1) ** (1/3) = 93.719045\n"
     ]
    }
   ],
   "execution_count": 1138
  },
  {
   "cell_type": "code",
   "id": "e832d231-4e8b-4c0c-b73a-46fbc713ad88",
   "metadata": {
    "ExecuteTime": {
     "end_time": "2025-10-24T20:54:55.021644Z",
     "start_time": "2025-10-24T20:54:54.959249Z"
    }
   },
   "source": [
    "# Определяю величину осевого модуля для стандартного a_w\n",
    "m = 2*a_w/(q + z2)\n",
    "print(m)"
   ],
   "outputs": [
    {
     "name": "stdout",
     "output_type": "stream",
     "text": [
      "4.0\n"
     ]
    }
   ],
   "execution_count": 1139
  },
  {
   "cell_type": "markdown",
   "id": "3e36e419-4dcf-4a49-95ae-78206dac38fd",
   "metadata": {},
   "source": [
    "***\n",
    "#### Выбираю стандартные значения из таблицы 3.3\n",
    "\n",
    "$a_w = 125$ мм\n",
    "\n",
    "$m = 4$ мм\n",
    "\n",
    "$q = 12,5$\n",
    "\n",
    "$z_2:z_1 = 50:2$"
   ]
  },
  {
   "cell_type": "markdown",
   "id": "bcaf6d8f-3c1c-484d-8480-f1f37aeee4cf",
   "metadata": {},
   "source": [
    "***\n",
    "#### Определяю геометрические параметры червяка"
   ]
  },
  {
   "cell_type": "code",
   "id": "b2a8a73e-4797-4485-8e7f-d1f54e5457d2",
   "metadata": {
    "ExecuteTime": {
     "end_time": "2025-10-24T20:54:55.114482Z",
     "start_time": "2025-10-24T20:54:55.072557Z"
    }
   },
   "source": [
    "d1 = d_1b = q * m\n",
    "print(d1)"
   ],
   "outputs": [
    {
     "name": "stdout",
     "output_type": "stream",
     "text": [
      "50.0\n"
     ]
    }
   ],
   "execution_count": 1140
  },
  {
   "cell_type": "code",
   "id": "e23a5be9-5130-4e4f-b1db-7f0cc808f1c3",
   "metadata": {
    "ExecuteTime": {
     "end_time": "2025-10-24T20:54:55.191852Z",
     "start_time": "2025-10-24T20:54:55.164886Z"
    }
   },
   "source": [
    "da1 = d1 + 2 * m\n",
    "print(da1)"
   ],
   "outputs": [
    {
     "name": "stdout",
     "output_type": "stream",
     "text": [
      "58.0\n"
     ]
    }
   ],
   "execution_count": 1141
  },
  {
   "cell_type": "code",
   "id": "5151d8cb-cdd2-4b3f-b9d3-59f93c4d03d5",
   "metadata": {
    "ExecuteTime": {
     "end_time": "2025-10-24T20:54:55.299804Z",
     "start_time": "2025-10-24T20:54:55.260373Z"
    }
   },
   "source": [
    "df1 = d1 - 2.4*m\n",
    "print(df1)"
   ],
   "outputs": [
    {
     "name": "stdout",
     "output_type": "stream",
     "text": [
      "40.4\n"
     ]
    }
   ],
   "execution_count": 1142
  },
  {
   "cell_type": "code",
   "id": "488f8313-5a81-4368-b191-ab23980291d3",
   "metadata": {
    "ExecuteTime": {
     "end_time": "2025-10-24T20:54:55.408597Z",
     "start_time": "2025-10-24T20:54:55.356711Z"
    }
   },
   "source": [
    "# Длина нарезанной части червяка\n",
    "b1 = (11 + 0.06*z2)*m\n",
    "print(b1)"
   ],
   "outputs": [
    {
     "name": "stdout",
     "output_type": "stream",
     "text": [
      "56.0\n"
     ]
    }
   ],
   "execution_count": 1143
  },
  {
   "cell_type": "markdown",
   "id": "c6042717-71d8-4958-a277-3524985b1621",
   "metadata": {},
   "source": [
    "***\n",
    "#### Определяю геометрические параметры колеса"
   ]
  },
  {
   "cell_type": "code",
   "id": "95606d6f-ccaa-4dc8-a381-cdc10330dfcc",
   "metadata": {
    "ExecuteTime": {
     "end_time": "2025-10-24T20:54:55.485472Z",
     "start_time": "2025-10-24T20:54:55.448040Z"
    }
   },
   "source": [
    "d2 = d_2t = m * z2\n",
    "print(d2)"
   ],
   "outputs": [
    {
     "name": "stdout",
     "output_type": "stream",
     "text": [
      "200.0\n"
     ]
    }
   ],
   "execution_count": 1144
  },
  {
   "cell_type": "code",
   "id": "10a8aa50-56b9-4700-945e-4bb73cbaa543",
   "metadata": {
    "ExecuteTime": {
     "end_time": "2025-10-24T20:54:55.578081Z",
     "start_time": "2025-10-24T20:54:55.549354Z"
    }
   },
   "source": [
    "da2 = d2 + 2*m\n",
    "print(da2)"
   ],
   "outputs": [
    {
     "name": "stdout",
     "output_type": "stream",
     "text": [
      "208.0\n"
     ]
    }
   ],
   "execution_count": 1145
  },
  {
   "metadata": {
    "ExecuteTime": {
     "end_time": "2025-10-24T20:54:55.686376Z",
     "start_time": "2025-10-24T20:54:55.657416Z"
    }
   },
   "cell_type": "code",
   "source": [
    "# Наибольший диаметр червячного колеса\n",
    "d_am2 = da2 + 6*m/(z1 + 2)\n",
    "print(f\"{da2} + 6*{m}/({z1} + 2) = {da2 + 6*m/(z1 + 2)}\")"
   ],
   "id": "86a8edad71942eac",
   "outputs": [
    {
     "name": "stdout",
     "output_type": "stream",
     "text": [
      "208.0 + 6*4.0/(2 + 2) = 214.0\n"
     ]
    }
   ],
   "execution_count": 1146
  },
  {
   "cell_type": "code",
   "id": "edd9d606-8245-4f6e-850c-a60b578ac6de",
   "metadata": {
    "ExecuteTime": {
     "end_time": "2025-10-24T20:54:55.779203Z",
     "start_time": "2025-10-24T20:54:55.738266Z"
    }
   },
   "source": [
    "df2 = d2 - 2.4*m\n",
    "print(df2)"
   ],
   "outputs": [
    {
     "name": "stdout",
     "output_type": "stream",
     "text": [
      "190.4\n"
     ]
    }
   ],
   "execution_count": 1147
  },
  {
   "cell_type": "code",
   "id": "8445e778-483c-453f-abbf-aa7fba47fb7f",
   "metadata": {
    "ExecuteTime": {
     "end_time": "2025-10-24T20:54:55.872121Z",
     "start_time": "2025-10-24T20:54:55.840077Z"
    }
   },
   "source": [
    "# Ширина зубчатого венца червячного колеса\n",
    "b2 = 0.75*da1\n",
    "print(b2)\n",
    "b2 = 44\n",
    "print(b2)"
   ],
   "outputs": [
    {
     "name": "stdout",
     "output_type": "stream",
     "text": [
      "43.5\n",
      "44\n"
     ]
    }
   ],
   "execution_count": 1148
  },
  {
   "metadata": {},
   "cell_type": "markdown",
   "source": "##### Параметры ступицы смотри далее (Конструирование червячной передачи)",
   "id": "519f27f541d031f4"
  },
  {
   "cell_type": "code",
   "id": "bf58c93c-72a8-4074-84da-d7997c60c034",
   "metadata": {
    "ExecuteTime": {
     "end_time": "2025-10-24T20:54:55.949349Z",
     "start_time": "2025-10-24T20:54:55.937359Z"
    }
   },
   "source": [
    "# Проверяю выбранное значение v_s\n",
    "tg_y = z1/q\n",
    "print(tg_y)"
   ],
   "outputs": [
    {
     "name": "stdout",
     "output_type": "stream",
     "text": [
      "0.16\n"
     ]
    }
   ],
   "execution_count": 1149
  },
  {
   "cell_type": "code",
   "id": "28af610a-7bfd-4a89-b51f-91a5e41eb286",
   "metadata": {
    "ExecuteTime": {
     "end_time": "2025-10-24T20:54:56.042173Z",
     "start_time": "2025-10-24T20:54:56.028205Z"
    }
   },
   "source": [
    "y = atan(tg_y)\n",
    "print(y)"
   ],
   "outputs": [
    {
     "name": "stdout",
     "output_type": "stream",
     "text": [
      "0.1586552621864014\n"
     ]
    }
   ],
   "execution_count": 1150
  },
  {
   "cell_type": "code",
   "id": "45fd4bef-d062-40c2-acc7-8d43f0be14d1",
   "metadata": {
    "ExecuteTime": {
     "end_time": "2025-10-24T20:54:56.119328Z",
     "start_time": "2025-10-24T20:54:56.113340Z"
    }
   },
   "source": [
    "# Угол в градусах\n",
    "deg_y = degrees(y)\n",
    "print(deg_y)"
   ],
   "outputs": [
    {
     "name": "stdout",
     "output_type": "stream",
     "text": [
      "9.090276920822323\n"
     ]
    }
   ],
   "execution_count": 1151
  },
  {
   "metadata": {
    "ExecuteTime": {
     "end_time": "2025-10-24T20:54:56.227317Z",
     "start_time": "2025-10-24T20:54:56.205169Z"
    }
   },
   "cell_type": "code",
   "source": [
    "# Нормальный модуль\n",
    "m_n = m*cos(y)\n",
    "print(m_n)"
   ],
   "id": "7321e5f882b7b19c",
   "outputs": [
    {
     "name": "stdout",
     "output_type": "stream",
     "text": [
      "3.9497625276668216\n"
     ]
    }
   ],
   "execution_count": 1152
  },
  {
   "metadata": {
    "ExecuteTime": {
     "end_time": "2025-10-24T18:22:13.883787Z",
     "start_time": "2025-10-24T18:22:13.873808Z"
    }
   },
   "cell_type": "markdown",
   "source": [
    "### Таблица 3.4\n",
    "#### Геометрические параметры червячной передачи"
   ],
   "id": "b64a9a81dea1e916"
  },
  {
   "metadata": {
    "ExecuteTime": {
     "end_time": "2025-10-24T20:54:56.335620Z",
     "start_time": "2025-10-24T20:54:56.317137Z"
    }
   },
   "cell_type": "code",
   "source": [
    "#from IPython.display import Markdown\n",
    "\n",
    "Markdown(f\"\"\"\n",
    "#### Таблица 3.4\n",
    "##### Геометрические параметры червячной передачи\n",
    "|$a_w$| u | m | q | z1 | z2 | d1 | d2 | $d_a1$|$d_a2$|$d_f1$|$d_f2$|b1|b2|$m_n$|γ|\n",
    "|:---:|:---:|:---:|:---:|:---:|:---:|:---:|:---:|:---:|:---:|:---:|:---:|:---:|:---:|:---:|:---:|\n",
    "|{a_w}| {u_p} | {m} | {q} | {z1} | {z2} | {d1} | {d2} | {da1} | {da2} | {df1} | {df2} | {b1} | {b2} | {m_n:.2f} | {y:.5f} |\n",
    "\"\"\")"
   ],
   "id": "1fe5e6933007488e",
   "outputs": [
    {
     "data": {
      "text/plain": [
       "<IPython.core.display.Markdown object>"
      ],
      "text/markdown": "\n#### Таблица 3.4\n##### Геометрические параметры червячной передачи\n|$a_w$| u | m | q | z1 | z2 | d1 | d2 | $d_a1$|$d_a2$|$d_f1$|$d_f2$|b1|b2|$m_n$|γ|\n|:---:|:---:|:---:|:---:|:---:|:---:|:---:|:---:|:---:|:---:|:---:|:---:|:---:|:---:|:---:|:---:|\n|125| 25 | 4.0 | 12.5 | 2 | 50 | 50.0 | 200.0 | 58.0 | 208.0 | 40.4 | 190.4 | 56.0 | 44 | 3.95 | 0.15866 |\n"
     },
     "execution_count": 1153,
     "metadata": {},
     "output_type": "execute_result"
    }
   ],
   "execution_count": 1153
  },
  {
   "cell_type": "markdown",
   "id": "89094d67-2c23-4989-9497-bf3395cf3bf2",
   "metadata": {},
   "source": [
    "***\n",
    "#### Проверочный рассчет по контактным напряжениям"
   ]
  },
  {
   "cell_type": "code",
   "id": "a0957428-60bf-4e2f-a126-688e270420a0",
   "metadata": {
    "ExecuteTime": {
     "end_time": "2025-10-24T20:54:56.446897Z",
     "start_time": "2025-10-24T20:54:56.426933Z"
    }
   },
   "source": [
    "# Проверяю условие прочности выбранной стандартной передачи\n",
    "temp = (5400/(z2/q))*(((z2/q+1)/a_w)**3*T2_m*K_n)**(0.5)\n",
    "print(f\"(5400/({z2}/{q}))*((({z2}/{q}+1)/{a_w})**3*{T2_m:.0f}*{K_n})**(0.5) = {(5400/(z2/q))*(((z2/q+1)/a_w)**3*T2_m*K_n)**(0.5)}\")"
   ],
   "outputs": [
    {
     "name": "stdout",
     "output_type": "stream",
     "text": [
      "(5400/(50/12.5))*(((50/12.5+1)/125)**3*152*1.1)**(0.5) = 139.6773436750238\n"
     ]
    }
   ],
   "execution_count": 1154
  },
  {
   "cell_type": "markdown",
   "id": "27662c55-182c-451c-8a1f-c69963a20779",
   "metadata": {},
   "source": "##### Прочность по контрольным напряжениям обеспечена так как 139 МПа < 207 МПа"
  },
  {
   "cell_type": "markdown",
   "id": "d2919e25-1421-4aaf-9261-84c0f92c04d6",
   "metadata": {},
   "source": [
    "***\n",
    "#### Проверка прочности зубьев червячного венца на изгиб"
   ]
  },
  {
   "cell_type": "code",
   "id": "ec257587-fc40-4c29-9bc7-a41d72088ae7",
   "metadata": {
    "ExecuteTime": {
     "end_time": "2025-10-24T20:54:56.567691Z",
     "start_time": "2025-10-24T20:54:56.539724Z"
    }
   },
   "source": [
    "# Окружная сила на колесе\n",
    "Ft2 = 2 * T2/d2\n",
    "print(f\"2 * {T2}/{d2} = {2 * T2/d2}\")"
   ],
   "outputs": [
    {
     "name": "stdout",
     "output_type": "stream",
     "text": [
      "2 * 152058.8628266516/200.0 = 1520.588628266516\n"
     ]
    }
   ],
   "execution_count": 1155
  },
  {
   "cell_type": "code",
   "id": "4993cf2f-5821-41ae-b18e-c94c2a1ef135",
   "metadata": {
    "ExecuteTime": {
     "end_time": "2025-10-24T20:54:56.692939Z",
     "start_time": "2025-10-24T20:54:56.636045Z"
    }
   },
   "source": [
    "# Окружная сила на червяке\n",
    "Ft1 = 2 * T1/d1\n",
    "print(f\"2 * {T1:.0f}/{d1} = {2 * T1/d1:.0f}\")"
   ],
   "outputs": [
    {
     "name": "stdout",
     "output_type": "stream",
     "text": [
      "2 * 7603/50.0 = 304\n"
     ]
    }
   ],
   "execution_count": 1156
  },
  {
   "cell_type": "code",
   "id": "ff55090c-b570-4f49-b51b-380bbbc4e770",
   "metadata": {
    "ExecuteTime": {
     "end_time": "2025-10-24T20:54:56.784271Z",
     "start_time": "2025-10-24T20:54:56.756321Z"
    }
   },
   "source": [
    "# Определение коэффициента формы зуба из таблицы 3.7\n",
    "z_v = z2/cos(y) ** 3\n",
    "print(f\"{z2}/cos({y:.4f}) ** 3 = {z2/cos(y) ** 3:.1f}\")"
   ],
   "outputs": [
    {
     "name": "stdout",
     "output_type": "stream",
     "text": [
      "50/cos(0.1587) ** 3 = 51.9\n"
     ]
    }
   ],
   "execution_count": 1157
  },
  {
   "cell_type": "markdown",
   "id": "ec0e43f1-66a3-41e9-87fc-4d036c74b7e5",
   "metadata": {},
   "source": [
    "##### Принимаю форму зуба из таблицы 3.7\n",
    "$Y_F = 1,45$"
   ]
  },
  {
   "cell_type": "markdown",
   "id": "e5de94f3-d2c7-491a-bb01-f7ec8121437c",
   "metadata": {},
   "source": [
    "Значения коэффициентов расчетной нагрузки $K_н$ и $K_F$ принимаются одинаковыми (стр.18) = 1"
   ]
  },
  {
   "cell_type": "code",
   "id": "19ccc0c4-5662-421b-8e5c-449dc34d1037",
   "metadata": {
    "ExecuteTime": {
     "end_time": "2025-10-24T20:54:56.892568Z",
     "start_time": "2025-10-24T20:54:56.852643Z"
    }
   },
   "source": [
    "Y_F = 1.45\n",
    "K_F = K_n\n",
    "po_ff = 0.7*Y_F*Ft2*K_F/(b2*m_n)\n",
    "print(f\"0.7*{Y_F}*{Ft2}*{K_F}/({b2}*{m_n:.2f}) = {0.7*Y_F*Ft2*K_F/(b2*m_n):.2f}\")\n",
    "print(f\"{po_ff:.1f} < {po_f}\")\n",
    "print(\"Прочность по напряжениям изгиба обеспечена\")"
   ],
   "outputs": [
    {
     "name": "stdout",
     "output_type": "stream",
     "text": [
      "0.7*1.45*1520.588628266516*1.1/(44*3.95) = 9.77\n",
      "9.8 < 82.0\n",
      "Прочность по напряжениям изгиба обеспечена\n"
     ]
    }
   ],
   "execution_count": 1158
  },
  {
   "cell_type": "markdown",
   "id": "f450de7b-be7b-4e62-8a5e-def9eeb845d2",
   "metadata": {},
   "source": [
    "***\n",
    "##### Уточняю КПД червячной передачи\n"
   ]
  },
  {
   "cell_type": "code",
   "id": "4e06826d-b214-4b7b-87ae-157702ae2120",
   "metadata": {
    "ExecuteTime": {
     "end_time": "2025-10-24T20:54:56.985396Z",
     "start_time": "2025-10-24T20:54:56.950461Z"
    }
   },
   "source": [
    "phi = \"1°26'\"\n",
    "f_deg = lambda x: f\"{int(x)}°{int((x - int(x))*60)}'\"\n",
    "print(f\"tan({f_deg(deg_y)})/tan({f_deg(deg_y)} + {phi})\")\n",
    "kpd_b = tan(y)/tan(y + degrees_to_radians(1, 26))\n",
    "print(kpd_b)"
   ],
   "outputs": [
    {
     "name": "stdout",
     "output_type": "stream",
     "text": [
      "tan(9°5')/tan(9°5' + 1°26')\n",
      "0.8613018256599354\n"
     ]
    }
   ],
   "execution_count": 1159
  },
  {
   "cell_type": "markdown",
   "id": "ac963eac-4853-4f70-97e3-f61a9219d83d",
   "metadata": {},
   "source": [
    "##### Общий КПД\n",
    "КПД = КПДп * КПДм"
   ]
  },
  {
   "cell_type": "code",
   "id": "72189d41-a29e-4d5e-aa4d-7d9a5c4fa76b",
   "metadata": {
    "ExecuteTime": {
     "end_time": "2025-10-24T20:54:57.109665Z",
     "start_time": "2025-10-24T20:54:57.052272Z"
    }
   },
   "source": [
    "kpd_sum = kpd_b * kpd_m\n",
    "print(f\"{kpd_b:.3f} * {kpd_m} = {kpd_b * kpd_m:.3f}\")\n",
    "# print(kpd_sum)"
   ],
   "outputs": [
    {
     "name": "stdout",
     "output_type": "stream",
     "text": [
      "0.861 * 0.98 = 0.844\n"
     ]
    }
   ],
   "execution_count": 1160
  },
  {
   "metadata": {
    "ExecuteTime": {
     "end_time": "2025-10-08T08:39:05.843551Z",
     "start_time": "2025-10-08T08:39:05.833544Z"
    }
   },
   "cell_type": "markdown",
   "source": "#### Тепловой расчет\n",
   "id": "3f972c6f20db83f6"
  },
  {
   "metadata": {
    "ExecuteTime": {
     "end_time": "2025-10-24T20:54:57.233435Z",
     "start_time": "2025-10-24T20:54:57.192517Z"
    }
   },
   "cell_type": "code",
   "source": [
    "# Тепло выделяемое редуктором\n",
    "FF = P1*(1 - kpd_b)\n",
    "print(f\"{P1}*(1 - {kpd_b:.2f}) = {P1*(1 - kpd_b):.0f}\")\n",
    "print(FF)"
   ],
   "id": "ceae9727a1c33714",
   "outputs": [
    {
     "name": "stdout",
     "output_type": "stream",
     "text": [
      "1125.0*(1 - 0.86) = 156\n",
      "156.03544613257267\n"
     ]
    }
   ],
   "execution_count": 1161
  },
  {
   "metadata": {
    "ExecuteTime": {
     "end_time": "2025-10-24T20:54:57.310293Z",
     "start_time": "2025-10-24T20:54:57.299812Z"
    }
   },
   "cell_type": "code",
   "source": [
    "# Площадь редуктора без учета днища\n",
    "A_plosh = 0.25*0.3 + (0.3*2 + 0.25*2)*0.1\n",
    "print(f\"Площадь редуктора = {0.25*0.3 + (0.3*2 + 0.25*2)*0.1} м2\")\n",
    "t_red = 100     # Температура редуктора допустимая\n",
    "t_pom = 20      # Температура в помещении\n",
    "K_tepl = 17     # Для помещений с интенсивной вентиляцией\n",
    "# Количество отведенного тепла\n",
    "FF_otv = K_tepl*(t_red - t_pom)*A_plosh\n",
    "print(f\"Отводимое тепло {FF_otv} Вт\")"
   ],
   "id": "ad19db005f524d67",
   "outputs": [
    {
     "name": "stdout",
     "output_type": "stream",
     "text": [
      "Площадь редуктора = 0.185 м2\n",
      "Отводимое тепло 251.6 Вт\n"
     ]
    }
   ],
   "execution_count": 1162
  },
  {
   "metadata": {},
   "cell_type": "markdown",
   "source": "##### Параметры ступицы смотри далее (Конструирование червячной передачи)",
   "id": "f3aafba1854e0d62"
  },
  {
   "metadata": {},
   "cell_type": "markdown",
   "source": [
    "***\n",
    "### Расчет валов"
   ],
   "id": "d08726d4f259b5de"
  },
  {
   "metadata": {},
   "cell_type": "markdown",
   "source": [
    "#### Расчет выполняю по таблице 4.1\n",
    "##### Быстроходный вал (червяк)"
   ],
   "id": "dd68e12105ff4aa3"
  },
  {
   "metadata": {
    "ExecuteTime": {
     "end_time": "2025-10-24T20:54:57.403140Z",
     "start_time": "2025-10-24T20:54:57.393638Z"
    }
   },
   "cell_type": "code",
   "source": [
    "# 1 ступень под муфту\n",
    "d_1st = 1.2 * d_ed\n",
    "print(f\"1.2 * {d_ed} = {1.2 * d_ed}\")\n",
    "d_1st = 24\n",
    "print(d_1st)"
   ],
   "id": "978861cad280a943",
   "outputs": [
    {
     "name": "stdout",
     "output_type": "stream",
     "text": [
      "1.2 * 22 = 26.4\n",
      "24\n"
     ]
    }
   ],
   "execution_count": 1163
  },
  {
   "metadata": {
    "ExecuteTime": {
     "end_time": "2025-10-24T20:54:57.526904Z",
     "start_time": "2025-10-24T20:54:57.478980Z"
    }
   },
   "cell_type": "code",
   "source": [
    "# 2 ступень под уплотнение крышки с отверстием и подшипник\n",
    "t = 2 # Таблица 4.2\n",
    "d_2st = d_1st + 2 * t\n",
    "print(d_2st)\n",
    "d_2st = 30\n",
    "print(d_2st)\n"
   ],
   "id": "c1a675667e584059",
   "outputs": [
    {
     "name": "stdout",
     "output_type": "stream",
     "text": [
      "28\n",
      "30\n"
     ]
    }
   ],
   "execution_count": 1164
  },
  {
   "metadata": {
    "ExecuteTime": {
     "end_time": "2025-10-24T20:54:57.603852Z",
     "start_time": "2025-10-24T20:54:57.578901Z"
    }
   },
   "cell_type": "code",
   "source": [
    "# 3 ступень под шестерню\n",
    "r = 1 # таблица 4.2\n",
    "d_3st = d_2st + 3.2 * r\n",
    "print(d_3st)\n",
    "d_3st = 34\n",
    "print(d_3st)"
   ],
   "id": "2a9e6e149495857",
   "outputs": [
    {
     "name": "stdout",
     "output_type": "stream",
     "text": [
      "33.2\n",
      "34\n"
     ]
    }
   ],
   "execution_count": 1165
  },
  {
   "metadata": {
    "ExecuteTime": {
     "end_time": "2025-10-24T20:54:57.696667Z",
     "start_time": "2025-10-24T20:54:57.670214Z"
    }
   },
   "cell_type": "code",
   "source": [
    "# 4 ступень\n",
    "d_4st = d_2st\n",
    "print(d_4st)"
   ],
   "id": "88ebb6d47b5aed36",
   "outputs": [
    {
     "name": "stdout",
     "output_type": "stream",
     "text": [
      "30\n"
     ]
    }
   ],
   "execution_count": 1166
  },
  {
   "metadata": {},
   "cell_type": "markdown",
   "source": "##### Тихоходной вал (червячное колесо)",
   "id": "f0e665def9c4ec5f"
  },
  {
   "metadata": {
    "ExecuteTime": {
     "end_time": "2025-10-24T20:54:57.774022Z",
     "start_time": "2025-10-24T20:54:57.759049Z"
    }
   },
   "cell_type": "code",
   "source": [
    "# Выходной вал под муфту: 1-я ступень\n",
    "d_1st_2 = (T2/(0.2 * 40)) ** (1/3)\n",
    "print(f\"({T2}/(0.2 * 40)) ** (1/3) = {(T2/(0.2 * 40)) ** (1/3):.2f}\")\n",
    "print(d_1st_2)\n",
    "d_1st_2 = 30\n",
    "print(d_1st_2)"
   ],
   "id": "d8ed487f2c93bfa0",
   "outputs": [
    {
     "name": "stdout",
     "output_type": "stream",
     "text": [
      "(152058.8628266516/(0.2 * 40)) ** (1/3) = 26.69\n",
      "26.687460552848524\n",
      "30\n"
     ]
    }
   ],
   "execution_count": 1167
  },
  {
   "metadata": {
    "ExecuteTime": {
     "end_time": "2025-10-24T20:54:57.866848Z",
     "start_time": "2025-10-24T20:54:57.860878Z"
    }
   },
   "cell_type": "code",
   "source": [
    "# 2-я ступень\n",
    "t = 2.5\n",
    "d_2st_2 = d_1st_2 + 2 * t\n",
    "print(d_2st_2)"
   ],
   "id": "5dd77cd5b962a378",
   "outputs": [
    {
     "name": "stdout",
     "output_type": "stream",
     "text": [
      "35.0\n"
     ]
    }
   ],
   "execution_count": 1168
  },
  {
   "metadata": {
    "ExecuteTime": {
     "end_time": "2025-10-24T20:54:57.975223Z",
     "start_time": "2025-10-24T20:54:57.960249Z"
    }
   },
   "cell_type": "code",
   "source": [
    "# 3-я ступень\n",
    "d_3st_2 = d_2st_2 + 3.2 * r\n",
    "print(f\"{d_2st_2} + 3.2 * {r} = {d_2st_2 + 3.2 * r}\")\n",
    "print(d_3st_2)\n",
    "d_3st_2 = 40\n",
    "print(d_3st_2)"
   ],
   "id": "c6ae254893c0223c",
   "outputs": [
    {
     "name": "stdout",
     "output_type": "stream",
     "text": [
      "35.0 + 3.2 * 1 = 38.2\n",
      "38.2\n",
      "40\n"
     ]
    }
   ],
   "execution_count": 1169
  },
  {
   "metadata": {
    "ExecuteTime": {
     "end_time": "2025-10-24T20:54:58.083199Z",
     "start_time": "2025-10-24T20:54:58.073218Z"
    }
   },
   "cell_type": "code",
   "source": [
    "# 4-я ступень\n",
    "d_4st_2 = d_2st_2\n",
    "print(d_4st_2)"
   ],
   "id": "cfd31cbb84de6215",
   "outputs": [
    {
     "name": "stdout",
     "output_type": "stream",
     "text": [
      "35.0\n"
     ]
    }
   ],
   "execution_count": 1170
  },
  {
   "metadata": {},
   "cell_type": "markdown",
   "source": [
    "***\n",
    "#### Конструирование червячной передачи стр.20 (Ступица)"
   ],
   "id": "27dfa38bc72e992"
  },
  {
   "metadata": {
    "ExecuteTime": {
     "end_time": "2025-10-24T20:54:58.176009Z",
     "start_time": "2025-10-24T20:54:58.166041Z"
    }
   },
   "cell_type": "code",
   "source": [
    "# Наибольший диаметр червячного колеса\n",
    "d_am2 = da2 + 6*m/(z1 + 2)\n",
    "print(f\"{da2} + 6*{m}/({z1} + 2) = {da2 + 6*m/(z1 + 2)}\")"
   ],
   "id": "d65a8650b0c5f0c5",
   "outputs": [
    {
     "name": "stdout",
     "output_type": "stream",
     "text": [
      "208.0 + 6*4.0/(2 + 2) = 214.0\n"
     ]
    }
   ],
   "execution_count": 1171
  },
  {
   "metadata": {
    "ExecuteTime": {
     "end_time": "2025-10-24T20:54:58.268575Z",
     "start_time": "2025-10-24T20:54:58.264592Z"
    }
   },
   "cell_type": "code",
   "source": [
    "# Наружний диаметр ступицы\n",
    "d_st = 1.8 * d_3st_2\n",
    "print(f\"1.8 * {d_3st_2} = {1.8 * d_3st_2}\")"
   ],
   "id": "56f5bacbff7f77ca",
   "outputs": [
    {
     "name": "stdout",
     "output_type": "stream",
     "text": [
      "1.8 * 40 = 72.0\n"
     ]
    }
   ],
   "execution_count": 1172
  },
  {
   "metadata": {
    "ExecuteTime": {
     "end_time": "2025-10-24T20:54:58.376653Z",
     "start_time": "2025-10-24T20:54:58.361445Z"
    }
   },
   "cell_type": "code",
   "source": [
    "# Ширина ступицы\n",
    "l_st = 1.7 * d_3st_2\n",
    "print(l_st)"
   ],
   "id": "e7de78872e86bd7f",
   "outputs": [
    {
     "name": "stdout",
     "output_type": "stream",
     "text": [
      "68.0\n"
     ]
    }
   ],
   "execution_count": 1173
  },
  {
   "metadata": {
    "ExecuteTime": {
     "end_time": "2025-10-24T20:54:58.469482Z",
     "start_time": "2025-10-24T20:54:58.458485Z"
    }
   },
   "cell_type": "code",
   "source": [
    "po_1 = po_2 = 2 * m\n",
    "print(po_1)"
   ],
   "id": "f100511c5f6b05f6",
   "outputs": [
    {
     "name": "stdout",
     "output_type": "stream",
     "text": [
      "8.0\n"
     ]
    }
   ],
   "execution_count": 1174
  },
  {
   "metadata": {
    "ExecuteTime": {
     "end_time": "2025-10-24T20:54:58.562293Z",
     "start_time": "2025-10-24T20:54:58.540832Z"
    }
   },
   "cell_type": "code",
   "source": [
    "C = 0.25 * b2\n",
    "print(C)\n",
    "C = 12\n",
    "print(C)"
   ],
   "id": "5f36d317207ff492",
   "outputs": [
    {
     "name": "stdout",
     "output_type": "stream",
     "text": [
      "11.0\n",
      "12\n"
     ]
    }
   ],
   "execution_count": 1175
  },
  {
   "metadata": {
    "ExecuteTime": {
     "end_time": "2025-10-24T20:54:58.655134Z",
     "start_time": "2025-10-24T20:54:58.635157Z"
    }
   },
   "cell_type": "code",
   "source": [
    "# d винта\n",
    "d_vint = 1.4*m\n",
    "print(d_vint)"
   ],
   "id": "e717c50e9c408312",
   "outputs": [
    {
     "name": "stdout",
     "output_type": "stream",
     "text": [
      "5.6\n"
     ]
    }
   ],
   "execution_count": 1176
  },
  {
   "metadata": {
    "ExecuteTime": {
     "end_time": "2025-10-24T20:54:58.732564Z",
     "start_time": "2025-10-24T20:54:58.724573Z"
    }
   },
   "cell_type": "code",
   "source": [
    "# l винта\n",
    "l_vint = 0.4*b2\n",
    "print(l_vint)"
   ],
   "id": "837428e84e5a0544",
   "outputs": [
    {
     "name": "stdout",
     "output_type": "stream",
     "text": [
      "17.6\n"
     ]
    }
   ],
   "execution_count": 1177
  },
  {
   "metadata": {
    "ExecuteTime": {
     "end_time": "2025-10-24T20:54:58.825117Z",
     "start_time": "2025-10-24T20:54:58.812120Z"
    }
   },
   "cell_type": "code",
   "source": [
    "f = 0.2*d_vint\n",
    "print(f\"{f:.3f}\")"
   ],
   "id": "8258a606a4179c5e",
   "outputs": [
    {
     "name": "stdout",
     "output_type": "stream",
     "text": [
      "1.120\n"
     ]
    }
   ],
   "execution_count": 1178
  },
  {
   "metadata": {
    "ExecuteTime": {
     "end_time": "2025-10-08T11:23:05.250724Z",
     "start_time": "2025-10-08T11:23:05.242714Z"
    }
   },
   "cell_type": "markdown",
   "source": "#### Параметры ступеней валов и подшипников (табл. 4.6)",
   "id": "9eb404fca40a3e79"
  },
  {
   "metadata": {
    "ExecuteTime": {
     "end_time": "2025-10-24T20:54:58.933396Z",
     "start_time": "2025-10-24T20:54:58.909440Z"
    }
   },
   "cell_type": "code",
   "source": [
    "#from IPython.display import Markdown\n",
    "\n",
    "l_1st = 50\n",
    "l_2st = 55\n",
    "l_3st = 170\n",
    "l_4st = 30\n",
    "\n",
    "l_1st_2 = 60\n",
    "l_2st_2 = 45\n",
    "l_3st_2 = 80\n",
    "l_4st_2 = 20\n",
    "\n",
    "Markdown(f\"\"\"\n",
    "##### Быстроходный вал\n",
    "| d1 / l1 | d2 / l2 | d3 / l3 | d4 / l4 |\n",
    "|-------|------|------|------|\n",
    "| {d_1st} / {l_1st} | {d_2st} / {l_2st} | {d_3st} / {l_3st} | {d_4st} / {l_4st}|\n",
    "\n",
    "###### Подшипники для быстроходного вала\n",
    "| Обозначение | $dxDxB(T)$ | $Cr, кН$ | $C_0, кН$ | $α°$ |\n",
    "|------|-------|------|------|------|\n",
    "| 7606 | 30х72х29х29 | 63 | 51 | 12 |\n",
    "***\n",
    "##### Тихоходный вал\n",
    "| d1 / l1 | d2 / l2 | d3 / l3 | d4 / l4 |\n",
    "|-------|------|------|------|\n",
    "| {d_1st_2} / {l_1st_2} | {d_2st_2} / {l_2st_2} | {d_3st_2} / {l_3st_2} | {d_4st_2} / {l_4st_2}|\n",
    "\n",
    "##### Подшипники для тихоходного вала\n",
    "| Обозначение | $dxDxB(T)$ | $Cr, кН$ | $C_0, кН$ | $α°$ |\n",
    "|------|-------|------|------|------|\n",
    "| 36207 | 35х72х17 | 24 | 18 | 12 |\n",
    "***\n",
    "\n",
    "\"\"\")\n"
   ],
   "id": "d3c16681aef75db9",
   "outputs": [
    {
     "data": {
      "text/plain": [
       "<IPython.core.display.Markdown object>"
      ],
      "text/markdown": "\n##### Быстроходный вал\n| d1 / l1 | d2 / l2 | d3 / l3 | d4 / l4 |\n|-------|------|------|------|\n| 24 / 50 | 30 / 55 | 34 / 170 | 30 / 30|\n\n###### Подшипники для быстроходного вала\n| Обозначение | $dxDxB(T)$ | $Cr, кН$ | $C_0, кН$ | $α°$ |\n|------|-------|------|------|------|\n| 7606 | 30х72х29х29 | 63 | 51 | 12 |\n***\n##### Тихоходный вал\n| d1 / l1 | d2 / l2 | d3 / l3 | d4 / l4 |\n|-------|------|------|------|\n| 30 / 60 | 35.0 / 45 | 40 / 80 | 35.0 / 20|\n\n##### Подшипники для тихоходного вала\n| Обозначение | $dxDxB(T)$ | $Cr, кН$ | $C_0, кН$ | $α°$ |\n|------|-------|------|------|------|\n| 36207 | 35х72х17 | 24 | 18 | 12 |\n***\n\n"
     },
     "execution_count": 1179,
     "metadata": {},
     "output_type": "execute_result"
    }
   ],
   "execution_count": 1179
  },
  {
   "metadata": {
    "ExecuteTime": {
     "end_time": "2025-10-08T11:43:38.666338Z",
     "start_time": "2025-10-08T11:43:38.653345Z"
    }
   },
   "cell_type": "markdown",
   "source": [
    "### Выбор шпонок\n",
    "Шпонки выбираю по таб. 4.8 стр 23\n"
   ],
   "id": "153284936bb37216"
  },
  {
   "metadata": {},
   "cell_type": "markdown",
   "source": "#### Быстроходный вал: шпонка\n",
   "id": "7f1a0bfc2a646fba"
  },
  {
   "metadata": {
    "ExecuteTime": {
     "end_time": "2025-10-24T20:54:59.041696Z",
     "start_time": "2025-10-24T20:54:59.024725Z"
    }
   },
   "cell_type": "code",
   "source": [
    "# Быстроходный вал: хвостовик\n",
    "# Проверяю шпонку на смятие\n",
    "b_sh_b = 8\n",
    "h_sh_b = 7\n",
    "l_obsh_b = 32\n",
    "l_rb = l_obsh_b - b_sh_b\n",
    "print(l_rb)\n",
    "t1_b = 4\n",
    "p_sm = 2 * T1/(d_1st*l_rb*(h_sh_b - t1_b))\n",
    "print(f\"смятие = 2 * {T1}/({d_1st}*{l_rb}*({h_sh_b} - {t1_b})) = {2 * T1/(d_1st*l_rb*(h_sh_b - t1_b))}\")"
   ],
   "id": "d4d690bfb4414eeb",
   "outputs": [
    {
     "name": "stdout",
     "output_type": "stream",
     "text": [
      "24\n",
      "смятие = 2 * 7602.94314133258/(24*24*(7 - 4)) = 8.799702709875671\n"
     ]
    }
   ],
   "execution_count": 1180
  },
  {
   "metadata": {
    "ExecuteTime": {
     "end_time": "2025-10-24T20:54:59.165438Z",
     "start_time": "2025-10-24T20:54:59.147971Z"
    }
   },
   "cell_type": "code",
   "source": [
    "# Тихоходный вал: под колесом\n",
    "# Проверяю шпонку на смятие\n",
    "b_sh_t = 12\n",
    "h_sh_t = 8\n",
    "l_obsh_t = 50\n",
    "l_rt = l_obsh_t - b_sh_t\n",
    "t1_t = 5\n",
    "p_sm = 2 * T2/(d_3st_2*l_rt*(h_sh_t - t1_t))\n",
    "print(f\"2 * {T2}/({d_3st_2}*{l_rt}*({h_sh_t} - {t1_t})) = {2 * T2/(d_3st_2*l_rt*(h_sh_t - t1_t))}\")"
   ],
   "id": "fb6a266c34021acf",
   "outputs": [
    {
     "name": "stdout",
     "output_type": "stream",
     "text": [
      "2 * 152058.8628266516/(40*38*(8 - 5)) = 66.69248369589982\n"
     ]
    }
   ],
   "execution_count": 1181
  },
  {
   "metadata": {
    "ExecuteTime": {
     "end_time": "2025-10-24T20:54:59.258264Z",
     "start_time": "2025-10-24T20:54:59.252276Z"
    }
   },
   "cell_type": "code",
   "source": [
    "# Тихоходный вал: хвостовик\n",
    "# Проверяю шпонку на смятие\n",
    "b_sh_out = 10\n",
    "h_sh_out = 8\n",
    "l_obsh_out = 56\n",
    "l_r_out = l_obsh_out - b_sh_out\n",
    "t1_t_out = 5\n",
    "p_sm = 2 * T2/(d_1st_2*l_r_out*(h_sh_out - t1_t_out))\n",
    "print(f\"2 * {T2}/({d_1st_2}*{l_r_out}*({h_sh_out} - {t1_t_out})) = {2 * T2/(d_1st_2*l_r_out*(h_sh_out - t1_t_out)):.1f}\")"
   ],
   "id": "4bd8082cadfe98d0",
   "outputs": [
    {
     "name": "stdout",
     "output_type": "stream",
     "text": [
      "2 * 152058.8628266516/(30*46*(8 - 5)) = 73.5\n"
     ]
    }
   ],
   "execution_count": 1182
  },
  {
   "metadata": {},
   "cell_type": "markdown",
   "source": [
    "***\n",
    "### Определение сил в зацеплении и консольных сил от муфт\n",
    "табл.4.10\n",
    "***"
   ],
   "id": "86582db894cf5e66"
  },
  {
   "metadata": {
    "ExecuteTime": {
     "end_time": "2025-10-24T20:54:59.351213Z",
     "start_time": "2025-10-24T20:54:59.344209Z"
    }
   },
   "cell_type": "code",
   "source": [
    "# Окружная сила на червяке\n",
    "print(f\"2*{T1:.0f}/{d1} = {2*T1/d1:.0f}\")\n",
    "print(\"Ft1\")"
   ],
   "id": "c66a89903c5bbc46",
   "outputs": [
    {
     "name": "stdout",
     "output_type": "stream",
     "text": [
      "2*7603/50.0 = 304\n",
      "Ft1\n"
     ]
    }
   ],
   "execution_count": 1183
  },
  {
   "metadata": {
    "ExecuteTime": {
     "end_time": "2025-10-24T20:54:59.444041Z",
     "start_time": "2025-10-24T20:54:59.434565Z"
    }
   },
   "cell_type": "code",
   "source": [
    "# Окружная сила на колесе\n",
    "print(f\"2*{T2:.0f}/{d2} = {2*T2/d2:.0f}\")\n",
    "print(\"Ft2\")\n"
   ],
   "id": "61355201ae51098c",
   "outputs": [
    {
     "name": "stdout",
     "output_type": "stream",
     "text": [
      "2*152059/200.0 = 1521\n",
      "Ft2\n"
     ]
    }
   ],
   "execution_count": 1184
  },
  {
   "metadata": {
    "ExecuteTime": {
     "end_time": "2025-10-24T20:54:59.521395Z",
     "start_time": "2025-10-24T20:54:59.516906Z"
    }
   },
   "cell_type": "code",
   "source": [
    "# Радиальная сила на колесе и на червяке\n",
    "Fr2 = Ft2*tan(radians(20))\n",
    "print(Fr2)\n",
    "Fr1 = Fr2 = 720\n",
    "print(f\"{Fr2:.0f}\")"
   ],
   "id": "ae32115acae470f0",
   "outputs": [
    {
     "name": "stdout",
     "output_type": "stream",
     "text": [
      "553.4489992526871\n",
      "720\n"
     ]
    }
   ],
   "execution_count": 1185
  },
  {
   "metadata": {
    "ExecuteTime": {
     "end_time": "2025-10-24T20:54:59.613986Z",
     "start_time": "2025-10-24T20:54:59.602994Z"
    }
   },
   "cell_type": "code",
   "source": [
    "# Осевая сила на червяке\n",
    "Fa1 = Ft2\n",
    "print(f\"{Fa1:.0f}\")"
   ],
   "id": "56136f1170da6e1f",
   "outputs": [
    {
     "name": "stdout",
     "output_type": "stream",
     "text": [
      "1521\n"
     ]
    }
   ],
   "execution_count": 1186
  },
  {
   "metadata": {
    "ExecuteTime": {
     "end_time": "2025-10-24T20:54:59.706737Z",
     "start_time": "2025-10-24T20:54:59.693767Z"
    }
   },
   "cell_type": "code",
   "source": [
    "# Осевая сила на колесе\n",
    "Fa2 = Ft1\n",
    "print(f\"{Fa2:.0f}\")"
   ],
   "id": "91179217c23bcd00",
   "outputs": [
    {
     "name": "stdout",
     "output_type": "stream",
     "text": [
      "304\n"
     ]
    }
   ],
   "execution_count": 1187
  },
  {
   "metadata": {
    "ExecuteTime": {
     "end_time": "2025-10-24T20:54:59.799552Z",
     "start_time": "2025-10-24T20:54:59.790070Z"
    }
   },
   "cell_type": "code",
   "source": [
    "# Сила на муфте (быстроходный вал)\n",
    "Fm1 = 4*T1 ** 0.5\n",
    "print(f\"{Fm1:.0f}\")"
   ],
   "id": "61df92ffb782900c",
   "outputs": [
    {
     "name": "stdout",
     "output_type": "stream",
     "text": [
      "349\n"
     ]
    }
   ],
   "execution_count": 1188
  },
  {
   "metadata": {
    "ExecuteTime": {
     "end_time": "2025-10-24T20:54:59.907575Z",
     "start_time": "2025-10-24T20:54:59.889107Z"
    }
   },
   "cell_type": "code",
   "source": [
    "# Сила на муфте (тихоходный вал)\n",
    "Fm2 = 4*T2 ** 0.5\n",
    "print(f\"{Fm2:.0f}\")"
   ],
   "id": "55386b9bb7a5d401",
   "outputs": [
    {
     "name": "stdout",
     "output_type": "stream",
     "text": [
      "1560\n"
     ]
    }
   ],
   "execution_count": 1189
  },
  {
   "metadata": {},
   "cell_type": "markdown",
   "source": [
    "### Таблица 4.10\n",
    "#### Определение сил в зацеплении и консольных сил от муфт"
   ],
   "id": "fd90f3e60f48311d"
  },
  {
   "metadata": {
    "ExecuteTime": {
     "end_time": "2025-10-24T20:55:00.015865Z",
     "start_time": "2025-10-24T20:55:00.007880Z"
    }
   },
   "cell_type": "code",
   "source": [
    "#from IPython.display import Markdown\n",
    "\n",
    "Markdown(rf\"\"\"\n",
    "#### Таблица 4.10\n",
    "##### Определение сил в зацеплении и консольных сил от муфт\n",
    "##### Быстроходная ступень\n",
    "|Окружная| Радиальная | Осевая | Муфта |\n",
    "|-------|------|------|------|\n",
    "| $F_{{t_1}} = \\dfrac{{2 \\cdot T_1}}{{d_1}}$ | $F_{{r1}} = F_{{r2}}$ | $F_{{a1}} = F_{{t2}}$ | $F_{{\\text{{м}}1}} = 4\\sqrt{{T_1}}$ |\n",
    "| {Ft1:.0f} | {Fr1} | {Fa1:.0f} | {Fm1:.0f} |\n",
    "\n",
    "##### Тиходная ступень\n",
    "|Окружная| Радиальная | Осевая | Муфта |\n",
    "|-------|------|------|------|\n",
    "| $F_{{t_2}} = \\dfrac{{2 \\cdot T_2}}{{d_2}}$ | $F_{{r2}} = F_{{t2}} \\cdot tg α$ | $F_{{a2}} = F_{{t1}}$ | $F_{{\\text{{м}}2}} = 4\\sqrt{{T_2}}$ |\n",
    "| {Ft2:.0f} | {Fr2} | {Fa2:.0f} | {Fm2:.0f} |\n",
    "\"\"\")"
   ],
   "id": "10d0fae6dbc0d4f5",
   "outputs": [
    {
     "data": {
      "text/plain": [
       "<IPython.core.display.Markdown object>"
      ],
      "text/markdown": "\n#### Таблица 4.10\n##### Определение сил в зацеплении и консольных сил от муфт\n##### Быстроходная ступень\n|Окружная| Радиальная | Осевая | Муфта |\n|-------|------|------|------|\n| $F_{t_1} = \\dfrac{2 \\cdot T_1}{d_1}$ | $F_{r1} = F_{r2}$ | $F_{a1} = F_{t2}$ | $F_{\\text{м}1} = 4\\sqrt{T_1}$ |\n| 304 | 720 | 1521 | 349 |\n\n##### Тиходная ступень\n|Окружная| Радиальная | Осевая | Муфта |\n|-------|------|------|------|\n| $F_{t_2} = \\dfrac{2 \\cdot T_2}{d_2}$ | $F_{r2} = F_{t2} \\cdot tg α$ | $F_{a2} = F_{t1}$ | $F_{\\text{м}2} = 4\\sqrt{T_2}$ |\n| 1521 | 720 | 304 | 1560 |\n"
     },
     "execution_count": 1190,
     "metadata": {},
     "output_type": "execute_result"
    }
   ],
   "execution_count": 1190
  },
  {
   "metadata": {},
   "cell_type": "markdown",
   "source": [
    "***\n",
    "# Реакции и эпюры"
   ],
   "id": "b56b36086ed562d"
  },
  {
   "metadata": {},
   "cell_type": "markdown",
   "source": [
    "***\n",
    "### Расчет быстроходного вала"
   ],
   "id": "672cf5695283e6c1"
  },
  {
   "metadata": {
    "ExecuteTime": {
     "end_time": "2025-10-24T20:55:00.139635Z",
     "start_time": "2025-10-24T20:55:00.129654Z"
    }
   },
   "cell_type": "code",
   "source": [
    "# Расчет места приложения сил в радиально упорном подшипнике\n",
    "print(0.5*(29+0.5*(30+72)*tan(radians(12))))"
   ],
   "id": "8e3881615609a4cc",
   "outputs": [
    {
     "name": "stdout",
     "output_type": "stream",
     "text": [
      "19.920192322585564\n"
     ]
    }
   ],
   "execution_count": 1191
  },
  {
   "metadata": {
    "ExecuteTime": {
     "end_time": "2025-10-24T20:55:00.309636Z",
     "start_time": "2025-10-24T20:55:00.254724Z"
    }
   },
   "cell_type": "code",
   "source": [
    "# Расчет быстроходного вала\n",
    "def calc_b():\n",
    "    # Подшипник: 7606\n",
    "    d_podsh = 30\n",
    "    D_podsh = 72\n",
    "    T_podsh = 29\n",
    "    alpha_podsh = 12\n",
    "\n",
    "    # Точка приложения опорной силы в коническом подшипнике\n",
    "    a_podsh = 0.5*(T_podsh + 0.5*(d_podsh + D_podsh)*tan(radians(alpha_podsh)))\n",
    "    print(f\"a_podsh = {a_podsh}\")\n",
    "    a_podsh = 20\n",
    "    print(f\"a_podsh = {a_podsh}\")\n",
    "\n",
    "    # Списки для построения эпюр\n",
    "    lst_x1 = [0]\n",
    "    lst_M1 = [0]\n",
    "    lst_x2 = [0]\n",
    "    lst_M2 = [0]\n",
    "\n",
    "    # Червяк: длины, мм\n",
    "    l1 = l_1st\n",
    "    l2 = l_2st\n",
    "    l3 = l_3st\n",
    "    l4 = l_4st\n",
    "    d1 = d_1b\n",
    "\n",
    "    # Участки, мм\n",
    "    a = T_podsh - a_podsh + l3/2\n",
    "    b = a\n",
    "    c = l2 - (T_podsh - a_podsh) + l1/2\n",
    "    d = d1/2\n",
    "    print(f\"a = {a}, b = {b}, c = {c}, d = {d}\")\n",
    "\n",
    "    # Силы, Н\n",
    "    Ft = Ft1\n",
    "    Fr = Fr1\n",
    "    Fa = Fa1\n",
    "    Fm = Fm1\n",
    "\n",
    "    #----------------------------------------\n",
    "    # Вертикальная плоскость: XY\n",
    "\n",
    "    #-----------1. Реакции--------------------\n",
    "    # Моменты: положительно = против часовой стрелки\n",
    "\n",
    "    # ∑M(A) = 0\n",
    "    # -Fr*a - Fa*d + Rb*(a + b) = 0\n",
    "    Rb = Rb1 = (Fr*a + Fa*d)/(a + b)\n",
    "\n",
    "    # ∑M(B) = 0\n",
    "    # -Ra*(a + b) + Fr*b - Fa*d = 0\n",
    "    Ra = Ra1 = (Fr*b - Fa*d)/(a + b)\n",
    "\n",
    "    # Проверка ось Y\n",
    "    # Ra + Rb - Fr = 0\n",
    "    assert abs(Ra + Rb - Fr) < 1e-3, 'Сумма сил должна быть равна нулю'\n",
    "\n",
    "    # Вывод результата\n",
    "    print(\"\\n1.Расчет реакции опор\")\n",
    "    print(\"Вертикальная плоскость: XY\")\n",
    "    print(f\"Момент Fa*d = {Fa*d:.0f} Н·мм\")\n",
    "    print(\"Ось Y\")\n",
    "    print(f\"Ra = {Ra:.3f}\")\n",
    "    print(f\"Rb = {Rb:.3f}\\n\")\n",
    "\n",
    "\n",
    "    #-------------2. Эпюры--------------------\n",
    "    # Силы: положительно = балка крутится\n",
    "    # по часовой стрелке\n",
    "    #\n",
    "    # Моменты: положительно = балка хочет изогнуться\n",
    "    # вверх\n",
    "\n",
    "    # 1.Участок 0 ≤ x ≤ a\n",
    "    # x = a\n",
    "    Ma = Ra * a\n",
    "\n",
    "    # Записываю результат\n",
    "    lst_x1 += [a]\n",
    "    lst_M1 += [Ma]\n",
    "\n",
    "    # Вывод результата\n",
    "    print(\"\\n2.Построение эпюр\")\n",
    "    print(\"Вертикальная плоскость: XY\")\n",
    "    print(\"1.Участок 0 ≤ x ≤ a\")\n",
    "    print(\"x = 0: Миy = 0\")\n",
    "    print(f\"x = a: Миy = {Ma:.1f}\\n\")\n",
    "\n",
    "\n",
    "    # 2.Участок a ≤ x ≤ (a + b)\n",
    "    # x = a\n",
    "    Ma = Ra * a + Fa * d\n",
    "    # x = a + b\n",
    "    Mb = Ra * (a + b) + Fa * d - Fr * b\n",
    "\n",
    "    # Записываю результат\n",
    "    lst_x1 += [a, a + b, a + b + c]\n",
    "    lst_M1 += [Ma, Mb, 0]\n",
    "\n",
    "    # Вывод результата\n",
    "    print(\"2.Участок a ≤ x ≤ (a + b)\")\n",
    "    print(f\"x = a: Миy = {Ma:.1f}\")\n",
    "    print(f\"x = a+b: Миy = {Mb:.1f}\\n\")\n",
    "    print(\"--------------------------------------------------\\n\")\n",
    "\n",
    "\n",
    "    #----------------------------------------\n",
    "    # Горизонтальная плоскость: XZ\n",
    "\n",
    "    #-----------1. Реакции--------------------\n",
    "    # Моменты: положительно = против часовой стрелки\n",
    "\n",
    "    # ∑M(A) = 0\n",
    "    # Ft*a - Rb*(a + b) - Fm*(a + b + c) = 0\n",
    "    Rb = Rb2 = (Ft*a - Fm*(a + b + c))/(a + b)\n",
    "\n",
    "    # ∑M(B) = 0\n",
    "    # Ra*(a + b) - Ft*b - Fm*c = 0\n",
    "    Ra = Ra2 = (Ft*b + Fm*c)/(a + b)\n",
    "\n",
    "    # Проверка ось Z\n",
    "    # Ra - Ft + Rb + Fm = 0\n",
    "    assert abs(Ra - Ft + Rb + Fm) < 1e-3 , 'Сумма сил должна быть равна нулю'\n",
    "\n",
    "    # Вывод результата\n",
    "    print(\"1.Расчет реакции опор\")\n",
    "    print(\"Горизонтальная плоскость: XZ\")\n",
    "    print(\"Ось Z\")\n",
    "    print(f\"Ra = {Ra:.3f}\")\n",
    "    print(f\"Rb = {Rb:.3f}\\n\")\n",
    "\n",
    "\n",
    "    #-------------2. Эпюры--------------------\n",
    "    # Силы: положительно = балка крутится\n",
    "    # по часовой стрелке\n",
    "    #\n",
    "    # Моменты: положительно = балка хочет изогнуться\n",
    "    # вверх\n",
    "\n",
    "    # 1.Участок 0 ≤ x ≤ a\n",
    "    # x = a\n",
    "    Ma = -Ra * a\n",
    "\n",
    "    # Записываю результат\n",
    "    lst_x2 += [a]\n",
    "    lst_M2 += [Ma]\n",
    "\n",
    "    # Вывод результата\n",
    "    print(\"\\n2.Построение эпюр\")\n",
    "    print(\"Горизонтальная плоскость: XZ\\n\")\n",
    "    print(\"1.Участок 0 ≤ x ≤ a\")\n",
    "    print(\"x = 0: Миy = 0\")\n",
    "    print(f\"x = a: Миy = {Ma:.1f}\\n\")\n",
    "\n",
    "    # 2.Участок a ≤ x ≤ (a + b)\n",
    "    # x = a\n",
    "    Ma = -Ra * a\n",
    "    # x = a + b\n",
    "    Mb = -Ra * (a + b) + Ft * b\n",
    "\n",
    "    # Записываю результат\n",
    "    lst_x2 += [a, a + b]\n",
    "    lst_M2 += [Ma, Mb]\n",
    "\n",
    "    # Вывод результата\n",
    "    print(\"2.Участок a ≤ x ≤ (a + b)\")\n",
    "    print(f\"x = a: Миy = {Ma:.1f}\")\n",
    "    print(f\"x = a+b: Миy = {Mb:.1f}\\n\")\n",
    "\n",
    "    # 3.Участок (a + b) ≤ x ≤ (a + b + c)\n",
    "    # x = a + b\n",
    "    Mb = -Ra * (a + b) + Ft * b\n",
    "    # x = a + b + c\n",
    "    Mc = -Ra * (a + b + c) + Ft * (b + c) - Rb * c\n",
    "\n",
    "    # Записываю результат\n",
    "    lst_x2 += [a + b, a + b + c]\n",
    "    lst_M2 += [Mb, Mc]\n",
    "\n",
    "    # Вывод результата\n",
    "    print(\"3.Участок (a + b) ≤ x ≤ (a + b + c)\")\n",
    "    print(f\"x = a+b: Миy = {Mb:.1f}\")\n",
    "    print(f\"x = a+b+c: Миy = {Mc:.1f}\\n\")\n",
    "\n",
    "    return (lst_x1, lst_M1), (lst_x2, lst_M2), (Ra1 ** 2 + Ra2 ** 2) ** 0.5, (Rb1 ** 2 + Rb2 ** 2) ** 0.5\n",
    "\n",
    "resultY, resultX, Ra_sum_1, Rb_sum_1 = calc_b()"
   ],
   "id": "e673cd41fae22866",
   "outputs": [
    {
     "name": "stdout",
     "output_type": "stream",
     "text": [
      "a_podsh = 19.920192322585564\n",
      "a_podsh = 20\n",
      "a = 94.0, b = 94.0, c = 71.0, d = 25.0\n",
      "\n",
      "1.Расчет реакции опор\n",
      "Вертикальная плоскость: XY\n",
      "Момент Fa*d = 38015 Н·мм\n",
      "Ось Y\n",
      "Ra = 157.794\n",
      "Rb = 562.206\n",
      "\n",
      "\n",
      "2.Построение эпюр\n",
      "Вертикальная плоскость: XY\n",
      "1.Участок 0 ≤ x ≤ a\n",
      "x = 0: Миy = 0\n",
      "x = a: Миy = 14832.6\n",
      "\n",
      "2.Участок a ≤ x ≤ (a + b)\n",
      "x = a: Миy = 52847.4\n",
      "x = a+b: Миy = 0.0\n",
      "\n",
      "--------------------------------------------------\n",
      "\n",
      "1.Расчет реакции опор\n",
      "Горизонтальная плоскость: XZ\n",
      "Ось Z\n",
      "Ra = 283.779\n",
      "Rb = -328.440\n",
      "\n",
      "\n",
      "2.Построение эпюр\n",
      "Горизонтальная плоскость: XZ\n",
      "\n",
      "1.Участок 0 ≤ x ≤ a\n",
      "x = 0: Миy = 0\n",
      "x = a: Миy = -26675.2\n",
      "\n",
      "2.Участок a ≤ x ≤ (a + b)\n",
      "x = a: Миy = -26675.2\n",
      "x = a+b: Миy = -24763.3\n",
      "\n",
      "3.Участок (a + b) ≤ x ≤ (a + b + c)\n",
      "x = a+b: Миy = -24763.3\n",
      "x = a+b+c: Миy = -0.0\n",
      "\n"
     ]
    }
   ],
   "execution_count": 1192
  },
  {
   "metadata": {},
   "cell_type": "markdown",
   "source": [
    "***\n",
    "#### Суммарная реакция опор на подшипниках быстроходного вала"
   ],
   "id": "24210f837dc66df7"
  },
  {
   "metadata": {
    "ExecuteTime": {
     "end_time": "2025-10-24T20:55:00.417341Z",
     "start_time": "2025-10-24T20:55:00.346779Z"
    }
   },
   "cell_type": "code",
   "source": [
    "# Подшипник A\n",
    "print(f\"Ra_сум = {Ra_sum_1:.1f} Н\\n\")\n",
    "# Подшипник B\n",
    "print(f\"Rb_сум = {Rb_sum_1:.1f} Н\\n\")\n"
   ],
   "id": "84a6e71b79db6c8d",
   "outputs": [
    {
     "name": "stdout",
     "output_type": "stream",
     "text": [
      "Ra_сум = 324.7 Н\n",
      "\n",
      "Rb_сум = 651.1 Н\n",
      "\n"
     ]
    }
   ],
   "execution_count": 1193
  },
  {
   "metadata": {},
   "cell_type": "markdown",
   "source": "#### Максимальный изгибающий момент для быстроходного вала",
   "id": "6e73b2fa10c984f"
  },
  {
   "metadata": {
    "ExecuteTime": {
     "end_time": "2025-10-24T20:56:08.028800Z",
     "start_time": "2025-10-24T20:56:08.017815Z"
    }
   },
   "cell_type": "code",
   "source": [
    "M_k1 = (52847 ** 2 + 26675 ** 2) ** 0.5\n",
    "print(f\"{M_k1:.0f}\")"
   ],
   "id": "e73218a5b9cd0039",
   "outputs": [
    {
     "name": "stdout",
     "output_type": "stream",
     "text": [
      "59198\n"
     ]
    }
   ],
   "execution_count": 1242
  },
  {
   "metadata": {},
   "cell_type": "markdown",
   "source": [
    "***\n",
    "### Графики изгибающих моментов для быстроходного вала"
   ],
   "id": "acbd55ee7c72f7cc"
  },
  {
   "metadata": {
    "ExecuteTime": {
     "end_time": "2025-10-24T20:55:01.510314Z",
     "start_time": "2025-10-24T20:55:00.537303Z"
    }
   },
   "cell_type": "code",
   "source": [
    "import matplotlib.pyplot as plt\n",
    "\n",
    "x, M = resultY\n",
    "\n",
    "plt.figure(figsize=(8, 4))\n",
    "plt.plot(x, M, marker='o', linestyle='-', color='blue', label='Эпюра Mиy(x)')\n",
    "plt.axhline(0, color='black', linewidth=0.5)\n",
    "plt.xlabel('Длина вала (мм)')\n",
    "plt.ylabel('Момент (Н·мм)')\n",
    "plt.title('Вертикальная плоскость')\n",
    "plt.grid(True)\n",
    "plt.legend()\n",
    "\n",
    "# Инвертируем ось Y\n",
    "plt.gca().invert_yaxis()\n",
    "plt.show()\n",
    "\n"
   ],
   "id": "27ebaddf1b65be3d",
   "outputs": [
    {
     "data": {
      "text/plain": [
       "<Figure size 800x400 with 1 Axes>"
      ],
      "image/png": "[encoded data removed]"
     },
     "metadata": {},
     "output_type": "display_data",
     "jetTransient": {
      "display_id": null
     }
    }
   ],
   "execution_count": 1195
  },
  {
   "metadata": {
    "ExecuteTime": {
     "end_time": "2025-10-24T20:55:02.190524Z",
     "start_time": "2025-10-24T20:55:01.980088Z"
    }
   },
   "cell_type": "code",
   "source": [
    "x, M = resultX\n",
    "\n",
    "plt.figure(figsize=(8, 4))\n",
    "plt.plot(x, M, marker='o', linestyle='-', color='blue', label='Эпюра Mиx(x)')\n",
    "plt.axhline(0, color='black', linewidth=0.5)\n",
    "plt.xlabel('Длина вала (мм)')\n",
    "plt.ylabel('Момент (Н·мм)')\n",
    "plt.title('Горизонтальная плоскость')\n",
    "plt.grid(True)\n",
    "plt.legend()\n",
    "\n",
    "# Инвертируем ось Y\n",
    "plt.gca().invert_yaxis()\n",
    "plt.show()"
   ],
   "id": "26a0639b5abd9fb4",
   "outputs": [
    {
     "data": {
      "text/plain": [
       "<Figure size 800x400 with 1 Axes>"
      ],
      "image/png": "[encoded data removed]"
     },
     "metadata": {},
     "output_type": "display_data",
     "jetTransient": {
      "display_id": null
     }
    }
   ],
   "execution_count": 1196
  },
  {
   "metadata": {
    "ExecuteTime": {
     "end_time": "2025-10-08T16:43:01.454357Z",
     "start_time": "2025-10-08T16:43:01.442365Z"
    }
   },
   "cell_type": "markdown",
   "source": [
    "***\n",
    "### Расчет тихоходного вала"
   ],
   "id": "55f69f824e38eb90"
  },
  {
   "metadata": {
    "ExecuteTime": {
     "end_time": "2025-10-24T21:16:54.688772Z",
     "start_time": "2025-10-24T21:16:54.669310Z"
    }
   },
   "cell_type": "code",
   "source": [
    "def calc_t():\n",
    "\n",
    "    # Подшипник: 36207\n",
    "    d_podsh = 35\n",
    "    D_podsh = 72\n",
    "    B_podsh = 17\n",
    "    alpha_podsh = 12\n",
    "\n",
    "    # Точка приложения опорной силы в радиально-упорном подшипнике\n",
    "    a_podsh = 0.5*(B_podsh + 0.5*(d_podsh + D_podsh)*tan(radians(alpha_podsh)))\n",
    "    print(f\"a_podsh = {a_podsh}\")\n",
    "    a_podsh = 14\n",
    "    print(f\"a_podsh = {a_podsh}\")\n",
    "\n",
    "    # Списки для построения эпюр\n",
    "    lst_x1 = [0]\n",
    "    lst_M1 = [0]\n",
    "    lst_x2 = [0]\n",
    "    lst_M2 = [0]\n",
    "\n",
    "    # Тихоходный вал: длины, мм\n",
    "    l1 = l_1st_2\n",
    "    l2 = l_2st_2\n",
    "    l3 = l_3st_2\n",
    "    l4 = l_4st_2\n",
    "    d1 = d_2t\n",
    "\n",
    "    # Участки, мм\n",
    "    a = B_podsh - a_podsh + l3/2\n",
    "    b = a\n",
    "    c = l2 - (B_podsh - a_podsh) + l1/2\n",
    "    d = d1/2\n",
    "    print(f\"a = {a}, b = {b}, c = {c}, d = {d}\")\n",
    "\n",
    "    # Силы, Н\n",
    "    Ft = Ft2\n",
    "    Fr = Fr2\n",
    "    Fa = Fa2\n",
    "    Fm = Fm2\n",
    "\n",
    "    #----------------------------------------\n",
    "    # Вертикальная плоскость: XY\n",
    "\n",
    "    #-----------1. Реакции--------------------\n",
    "    # Моменты: положительно = против часовой стрелки\n",
    "\n",
    "    # ∑M(A) = 0\n",
    "    # -Fr*a + Fa*d + Rb*(a + b) = 0\n",
    "    Rb = Rb1 = (Fr*a - Fa*d)/(a + b)\n",
    "\n",
    "    # ∑M(B) = 0\n",
    "    # -Ra*(a + b) + Fr*b + Fa*d = 0\n",
    "    Ra = Ra1 = (Fr*b + Fa*d)/(a + b)\n",
    "\n",
    "    # Проверка ось Y\n",
    "    # Ra + Rb - Fr = 0\n",
    "    assert Ra + Rb - Fr == 0, 'Сумма сил должна быть равна нулю'\n",
    "\n",
    "    # Вывод результата\n",
    "    print(\"\\n1.Расчет реакции опор\")\n",
    "    print(\"Вертикальная плоскость: XY\")\n",
    "    print(f\"Момент Fa*d = {Fa*d:.0f} Н·мм\")\n",
    "    print(\"Ось Y\")\n",
    "    print(f\"Ra = {Ra:.3f}\")\n",
    "    print(f\"Rb = {Rb:.3f}\\n\")\n",
    "\n",
    "\n",
    "    #-------------2. Эпюры--------------------\n",
    "    # Силы: положительно = балка крутится\n",
    "    # по часовой стрелке\n",
    "    #\n",
    "    # Моменты: положительно = балка хочет изогнуться\n",
    "    # вверх\n",
    "\n",
    "    # 1.Участок 0 ≤ x ≤ a\n",
    "    # x = a\n",
    "    Ma = Ra * a\n",
    "\n",
    "    # Записываю результат\n",
    "    lst_x1 += [a]\n",
    "    lst_M1 += [Ma]\n",
    "\n",
    "    # Вывод результата\n",
    "    print(\"\\n2.Построение эпюр\")\n",
    "    print(\"Вертикальная плоскость: XY\")\n",
    "    print(\"1.Участок 0 ≤ x ≤ a\")\n",
    "    print(\"x = 0: Миy = 0\")\n",
    "    print(f\"x = a: Миy = {Ma:.1f}\\n\")\n",
    "\n",
    "\n",
    "    # 2.Участок a ≤ x ≤ (a + b)\n",
    "    # x = a\n",
    "    Ma = Ra * a - Fa * d\n",
    "    # x = a + b\n",
    "    Mb = Ra*(a + b) - Fa * d - Fr * b\n",
    "\n",
    "    # Записываю результат\n",
    "    lst_x1 += [a, a + b, a + b + c]\n",
    "    lst_M1 += [Ma, Mb, 0]\n",
    "\n",
    "    # Вывод результата\n",
    "    print(\"2.Участок a ≤ x ≤ (a + b)\")\n",
    "    print(f\"x = a: Миy = {Ma:.1f}\")\n",
    "    print(f\"x = a+b: Миy = {Mb:.1f}\\n\")\n",
    "    print(\"--------------------------------------------------\\n\")\n",
    "\n",
    "\n",
    "    #----------------------------------------\n",
    "    # Горизонтальная плоскость: XZ\n",
    "\n",
    "    #-----------1. Реакции--------------------\n",
    "    # Моменты: положительно = против часовой стрелки\n",
    "\n",
    "    # ∑M(A) = 0\n",
    "    # -Ft*a + Rb*(a + b) + Fm*(a+b+c) = 0\n",
    "    Rb = Rb2 = (Ft*a - Fm*(a+b+c))/(a + b)\n",
    "\n",
    "    # ∑M(B) = 0\n",
    "    # -Ra*(a + b) + Ft*b + Fm*c = 0\n",
    "    Ra = Ra2 = (Ft*b + Fm*c)/(a + b)\n",
    "\n",
    "    # Проверка\n",
    "    assert Ra - Ft + Rb + Fm == 0 , 'Сумма сил должна быть равна нулю'\n",
    "\n",
    "    # Вывод результата\n",
    "    print(\"1.Расчет реакции опор\")\n",
    "    print(\"Горизонтальная плоскость: XZ\")\n",
    "    print(f\"Ra = {Ra:.3f}\")\n",
    "    print(f\"Rb = {Rb:.3f}\\n\")\n",
    "\n",
    "\n",
    "    #-------------2. Эпюры--------------------\n",
    "    # Силы: положительно = балка крутится\n",
    "    # по часовой стрелке\n",
    "    #\n",
    "    # Моменты: положительно = балка хочет изогнуться\n",
    "    # вверх\n",
    "\n",
    "    # 1.Участок 0 ≤ x ≤ a\n",
    "    # x = a\n",
    "    Ma = Ra * a\n",
    "\n",
    "    # Записываю результат\n",
    "    lst_x2 += [a]\n",
    "    lst_M2 += [Ma]\n",
    "\n",
    "    # Вывод результата\n",
    "    print(\"\\n2.Построение эпюр\")\n",
    "    print(\"Горизонтальная плоскость: XZ\\n\")\n",
    "    print(\"1.Участок 0 ≤ x ≤ a\")\n",
    "    print(\"x = 0: Миy = 0\")\n",
    "    print(f\"x = a: Миy = {Ma:.1f}\\n\")\n",
    "\n",
    "    # 2.Участок a ≤ x ≤ (a + b)\n",
    "    # x = a\n",
    "    Ma = Ra * a\n",
    "    # x = a + b\n",
    "    Mb = Ra * (a + b) - Ft * b\n",
    "\n",
    "    # Записываю результат\n",
    "    lst_x2 += [a, a + b, a + b + c]\n",
    "    lst_M2 += [Ma, Mb, Ra*(a+b+c) - Ft*(b+c) + Rb*c]\n",
    "\n",
    "    # Вывод результата\n",
    "    print(\"2.Участок a ≤ x ≤ (a + b)\")\n",
    "    print(f\"x = a: Миy = {Ma:.1f}\")\n",
    "    print(f\"x = a+b: Миy = {Mb:.1f}\\n\")\n",
    "    return (lst_x1, lst_M1), (lst_x2, lst_M2), (Ra1 ** 2 + Ra2 ** 2) ** 0.5, (Rb1 ** 2 + Rb2 ** 2) ** 0.5\n",
    "\n",
    "resultY_2, resultX_2, Ra_sum_2, Rb_sum_2 = calc_t()"
   ],
   "id": "5ce14f275e0c2fe8",
   "outputs": [
    {
     "name": "stdout",
     "output_type": "stream",
     "text": [
      "a_podsh = 14.185888024673092\n",
      "a_podsh = 14\n",
      "a = 43.0, b = 43.0, c = 72.0, d = 100.0\n",
      "\n",
      "1.Расчет реакции опор\n",
      "Вертикальная плоскость: XY\n",
      "Момент Fa*d = 30412 Н·мм\n",
      "Ось Y\n",
      "Ra = 713.625\n",
      "Rb = 6.375\n",
      "\n",
      "\n",
      "2.Построение эпюр\n",
      "Вертикальная плоскость: XY\n",
      "1.Участок 0 ≤ x ≤ a\n",
      "x = 0: Миy = 0\n",
      "x = a: Миy = 30685.9\n",
      "\n",
      "2.Участок a ≤ x ≤ (a + b)\n",
      "x = a: Миy = 274.1\n",
      "x = a+b: Миy = 0.0\n",
      "\n",
      "--------------------------------------------------\n",
      "\n",
      "1.Расчет реакции опор\n",
      "Горизонтальная плоскость: XZ\n",
      "Ra = 2066.164\n",
      "Rb = -2105.365\n",
      "\n",
      "\n",
      "2.Построение эпюр\n",
      "Горизонтальная плоскость: XZ\n",
      "\n",
      "1.Участок 0 ≤ x ≤ a\n",
      "x = 0: Миy = 0\n",
      "x = a: Миy = 88845.1\n",
      "\n",
      "2.Участок a ≤ x ≤ (a + b)\n",
      "x = a: Миy = 88845.1\n",
      "x = a+b: Миy = 112304.8\n",
      "\n"
     ]
    }
   ],
   "execution_count": 1243
  },
  {
   "metadata": {
    "ExecuteTime": {
     "end_time": "2025-10-08T17:30:18.751730Z",
     "start_time": "2025-10-08T17:30:18.737740Z"
    }
   },
   "cell_type": "markdown",
   "source": [
    "***\n",
    "#### Суммарная реакция опор на подшипниках тихоходного вала"
   ],
   "id": "6a108318bc692be5"
  },
  {
   "metadata": {
    "ExecuteTime": {
     "end_time": "2025-10-24T20:55:02.344521Z",
     "start_time": "2025-10-24T20:55:02.295847Z"
    }
   },
   "cell_type": "code",
   "source": [
    "# Подшипник A\n",
    "print(f\"Ra_сум = {Ra_sum_2:.1f} Н\\n\")\n",
    "# Подшипник B\n",
    "print(f\"Rb_сум = {Rb_sum_2:.1f} Н\\n\")"
   ],
   "id": "a86eb3e586eb4ef0",
   "outputs": [
    {
     "name": "stdout",
     "output_type": "stream",
     "text": [
      "Ra_сум = 2185.9 Н\n",
      "\n",
      "Rb_сум = 2105.4 Н\n",
      "\n"
     ]
    }
   ],
   "execution_count": 1198
  },
  {
   "metadata": {},
   "cell_type": "markdown",
   "source": "#### Максимальный изгибающий момент для тихоходного вала",
   "id": "aa9be7abbd72bff4"
  },
  {
   "metadata": {
    "ExecuteTime": {
     "end_time": "2025-10-24T21:23:54.609390Z",
     "start_time": "2025-10-24T21:23:54.596727Z"
    }
   },
   "cell_type": "code",
   "source": [
    "M_k12 = (30685 ** 2 + 88845 ** 2) ** 0.5\n",
    "print(M_k12)\n",
    "M_k22 = 112304  # Самый большой момент!!!\n",
    "M_k2 = max(M_k12, M_k22)\n",
    "print(f\"Максимальный момент {M_k2}\")"
   ],
   "id": "943b9d42b75bfc34",
   "outputs": [
    {
     "name": "stdout",
     "output_type": "stream",
     "text": [
      "93994.69798876956\n",
      "Максимальный момент 112304\n"
     ]
    }
   ],
   "execution_count": 1246
  },
  {
   "metadata": {
    "ExecuteTime": {
     "end_time": "2025-10-08T17:46:43.005229Z",
     "start_time": "2025-10-08T17:46:42.988238Z"
    }
   },
   "cell_type": "markdown",
   "source": [
    "***\n",
    "### Графики изгибающих моментов для тихоходного вала"
   ],
   "id": "8d50df20d9a9bd25"
  },
  {
   "metadata": {
    "ExecuteTime": {
     "end_time": "2025-10-24T20:55:02.700046Z",
     "start_time": "2025-10-24T20:55:02.466075Z"
    }
   },
   "cell_type": "code",
   "source": [
    "import matplotlib.pyplot as plt\n",
    "\n",
    "x, M = resultY_2\n",
    "\n",
    "plt.figure(figsize=(8, 4))\n",
    "plt.plot(x, M, marker='o', linestyle='-', color='blue', label='Эпюра Mиy(x)')\n",
    "plt.axhline(0, color='black', linewidth=0.5)\n",
    "plt.xlabel('Длина вала (мм)')\n",
    "plt.ylabel('Момент (Н·мм)')\n",
    "plt.title('Вертикальная плоскость')\n",
    "plt.grid(True)\n",
    "plt.legend()\n",
    "\n",
    "# Инвертируем ось Y\n",
    "plt.gca().invert_yaxis()\n",
    "plt.show()\n"
   ],
   "id": "feb6d19b7bbb48d",
   "outputs": [
    {
     "data": {
      "text/plain": [
       "<Figure size 800x400 with 1 Axes>"
      ],
      "image/png": "[encoded data removed]"
     },
     "metadata": {},
     "output_type": "display_data",
     "jetTransient": {
      "display_id": null
     }
    }
   ],
   "execution_count": 1200
  },
  {
   "metadata": {
    "ExecuteTime": {
     "end_time": "2025-10-24T20:55:02.916647Z",
     "start_time": "2025-10-24T20:55:02.721989Z"
    }
   },
   "cell_type": "code",
   "source": [
    "x, M = resultX_2\n",
    "\n",
    "plt.figure(figsize=(8, 4))\n",
    "plt.plot(x, M, marker='o', linestyle='-', color='blue', label='Эпюра Mиx(x)')\n",
    "plt.axhline(0, color='black', linewidth=0.5)\n",
    "plt.xlabel('Длина вала (мм)')\n",
    "plt.ylabel('Момент (Н·мм)')\n",
    "plt.title('Горизонтальная плоскость')\n",
    "plt.grid(True)\n",
    "plt.legend()\n",
    "\n",
    "# Инвертируем ось Y\n",
    "plt.gca().invert_yaxis()\n",
    "plt.show()"
   ],
   "id": "35ae8fb8c81e984",
   "outputs": [
    {
     "data": {
      "text/plain": [
       "<Figure size 800x400 with 1 Axes>"
      ],
      "image/png": "[encoded data removed]"
     },
     "metadata": {},
     "output_type": "display_data",
     "jetTransient": {
      "display_id": null
     }
    }
   ],
   "execution_count": 1201
  },
  {
   "metadata": {},
   "cell_type": "markdown",
   "source": [
    "***\n",
    "### Проверка валов на усталостную прочность"
   ],
   "id": "750038cf626b0f0a"
  },
  {
   "metadata": {
    "ExecuteTime": {
     "end_time": "2025-10-24T20:55:02.947570Z",
     "start_time": "2025-10-24T20:55:02.943078Z"
    }
   },
   "cell_type": "code",
   "source": [
    "# Считаю коэффициент для углеродистой стали\n",
    "# po_b = 900 (3 - Чернавский стр 88)\n",
    "po_b = 900\n",
    "po__1 = 0.43*po_b\n",
    "print(po__1)"
   ],
   "id": "d1abaa96687f53b9",
   "outputs": [
    {
     "name": "stdout",
     "output_type": "stream",
     "text": [
      "387.0\n"
     ]
    }
   ],
   "execution_count": 1202
  },
  {
   "metadata": {
    "ExecuteTime": {
     "end_time": "2025-10-24T20:55:03.040413Z",
     "start_time": "2025-10-24T20:55:03.012467Z"
    }
   },
   "cell_type": "code",
   "source": [
    "t__1 = 0.58*po__1\n",
    "print(int(t__1))"
   ],
   "id": "3d1093a7c0d54ef4",
   "outputs": [
    {
     "name": "stdout",
     "output_type": "stream",
     "text": [
      "224\n"
     ]
    }
   ],
   "execution_count": 1203
  },
  {
   "metadata": {
    "ExecuteTime": {
     "end_time": "2025-10-24T21:27:28.731658Z",
     "start_time": "2025-10-24T21:27:28.722667Z"
    }
   },
   "cell_type": "code",
   "source": [
    "W_netto = 0.1 * df1 ** 3\n",
    "print(f\"W_netto = {W_netto}\")\n",
    "W_knetto = 0.2*df1 ** 3\n",
    "print(f\"W_knetto = {W_knetto}\")\n",
    "po_a = M_k1/W_netto\n",
    "print(f\"po_a = {po_a}\")"
   ],
   "id": "9ba110cb722c428f",
   "outputs": [
    {
     "name": "stdout",
     "output_type": "stream",
     "text": [
      "W_netto = 6593.9264\n",
      "W_knetto = 13187.8528\n",
      "po_a = 8.977601542740137\n"
     ]
    }
   ],
   "execution_count": 1247
  },
  {
   "metadata": {
    "ExecuteTime": {
     "end_time": "2025-10-24T20:55:03.241142Z",
     "start_time": "2025-10-24T20:55:03.177738Z"
    }
   },
   "cell_type": "code",
   "source": [
    "k_po = 2.45\n",
    "k_f = 0.9\n",
    "k_t = 2\n",
    "k_d = 0.85\n",
    "t_a = 0.5*T1/W_knetto\n",
    "ksi = 0.1\n",
    "ksi_t = 0.05\n",
    "po_m = 20\n",
    "t_m = 40\n",
    "print(t_a)"
   ],
   "id": "45ad7214d96ab1ce",
   "outputs": [
    {
     "name": "stdout",
     "output_type": "stream",
     "text": [
      "0.28825553547779137\n"
     ]
    }
   ],
   "execution_count": 1205
  },
  {
   "metadata": {
    "ExecuteTime": {
     "end_time": "2025-10-24T20:55:03.318390Z",
     "start_time": "2025-10-24T20:55:03.264078Z"
    }
   },
   "cell_type": "code",
   "source": [
    "s_po = po__1/(k_po*po_a/(k_d*k_f) + ksi*po_m)\n",
    "print(f\"{po__1}/({k_po}*{po_a}/({k_d}*{k_f}) + {ksi}*{po_m}) = {po__1/(k_po*po_a/(k_d*k_f) + ksi*po_m)}\")\n",
    "print(s_po)"
   ],
   "id": "98f2012731029ea2",
   "outputs": [
    {
     "name": "stdout",
     "output_type": "stream",
     "text": [
      "387.0/(2.45*8.977601542740137/(0.85*0.9) + 0.1*20) = 12.58463091511128\n",
      "12.58463091511128\n"
     ]
    }
   ],
   "execution_count": 1206
  },
  {
   "metadata": {
    "ExecuteTime": {
     "end_time": "2025-10-24T20:55:03.457318Z",
     "start_time": "2025-10-24T20:55:03.353888Z"
    }
   },
   "cell_type": "code",
   "source": [
    "s_t = t__1/(k_t*t_a/(k_d*k_f) + ksi_t*t_m)\n",
    "print(f\"{t__1}/({k_t}*{t_a}/({k_d}*{k_f}) + {ksi_t}*{t_m}) = {t__1/(k_t*t_a/(k_d*k_f) + ksi_t*t_m)}\")\n",
    "print(s_t)"
   ],
   "id": "de154da35c2870ba",
   "outputs": [
    {
     "name": "stdout",
     "output_type": "stream",
     "text": [
      "224.45999999999998/(2*0.28825553547779137/(0.85*0.9) + 0.05*40) = 81.51483387272482\n",
      "81.51483387272482\n"
     ]
    }
   ],
   "execution_count": 1207
  },
  {
   "metadata": {
    "ExecuteTime": {
     "end_time": "2025-10-24T20:55:03.534752Z",
     "start_time": "2025-10-24T20:55:03.492770Z"
    }
   },
   "cell_type": "code",
   "source": [
    "s_1 = s_po * s_t/(s_po ** 2 + s_t ** 2) ** 0.5\n",
    "print(s_1)"
   ],
   "id": "f195c13165e524de",
   "outputs": [
    {
     "name": "stdout",
     "output_type": "stream",
     "text": [
      "12.43728493924236\n"
     ]
    }
   ],
   "execution_count": 1208
  },
  {
   "metadata": {},
   "cell_type": "markdown",
   "source": [
    "##### Для быстроходного вала\n",
    "Вывод:\n",
    "12,437 > `[s = 2,5..3]`"
   ],
   "id": "1f4f35d2baa0197b"
  },
  {
   "metadata": {
    "ExecuteTime": {
     "end_time": "2025-10-24T21:31:31.065007Z",
     "start_time": "2025-10-24T21:31:31.050033Z"
    }
   },
   "cell_type": "code",
   "source": [
    "# Тихоходный вал\n",
    "# W_netto2 = 0.1 * d_3st_2 ** 3\n",
    "W_netto2 = 0.1 * d_2st_2 ** 3       # Изгибающий момент на подшипнике B\n",
    "print(f\"W_netto2 = {W_netto2}\")\n",
    "W_knetto2 = 0.2*d_2st_2 ** 3\n",
    "print(f\"W_knetto2 = {W_knetto2}\")\n",
    "po_a2 = M_k2/W_netto2\n",
    "print(f\"po_a2 = {po_a2}\")"
   ],
   "id": "8a14c9cbce70aae2",
   "outputs": [
    {
     "name": "stdout",
     "output_type": "stream",
     "text": [
      "W_netto2 = 4287.5\n",
      "W_knetto2 = 8575.0\n",
      "po_a2 = 26.1933527696793\n"
     ]
    }
   ],
   "execution_count": 1249
  },
  {
   "metadata": {
    "ExecuteTime": {
     "end_time": "2025-10-24T20:55:03.735179Z",
     "start_time": "2025-10-24T20:55:03.691963Z"
    }
   },
   "cell_type": "code",
   "source": [
    "t_a2 = 0.5*T2/W_knetto2\n",
    "print(t_a2)"
   ],
   "id": "815d3840ee39229d",
   "outputs": [
    {
     "name": "stdout",
     "output_type": "stream",
     "text": [
      "8.866405995723126\n"
     ]
    }
   ],
   "execution_count": 1210
  },
  {
   "metadata": {
    "ExecuteTime": {
     "end_time": "2025-10-24T20:55:03.829314Z",
     "start_time": "2025-10-24T20:55:03.772888Z"
    }
   },
   "cell_type": "code",
   "source": [
    "s_po2 = po__1/(k_po*po_a2/(k_d*k_f) + ksi*po_m)\n",
    "print(f\"{po__1}/({k_po}*{po_a2}/({k_d}*{k_f}) + {ksi}*{po_m}) = {po__1/(k_po*po_a2/(k_d*k_f) + ksi*po_m)}\")\n",
    "print(s_po2)"
   ],
   "id": "1797d2104ab44899",
   "outputs": [
    {
     "name": "stdout",
     "output_type": "stream",
     "text": [
      "387.0/(2.45*29.891545189504374/(0.85*0.9) + 0.1*20) = 3.9598452278589855\n",
      "3.9598452278589855\n"
     ]
    }
   ],
   "execution_count": 1211
  },
  {
   "metadata": {
    "ExecuteTime": {
     "end_time": "2025-10-24T20:55:03.919859Z",
     "start_time": "2025-10-24T20:55:03.867244Z"
    }
   },
   "cell_type": "code",
   "source": [
    "s_t2 = t__1/(k_t*t_a2/(k_d*k_f) + ksi_t*t_m)\n",
    "print(f\"{t__1}/({k_t}*{t_a2}/({k_d}*{k_f}) + {ksi_t}*{t_m}) = {t__1/(k_t*t_a2/(k_d*k_f) + ksi_t*t_m)}\")\n",
    "print(s_t2)"
   ],
   "id": "7019e2e80ce228d",
   "outputs": [
    {
     "name": "stdout",
     "output_type": "stream",
     "text": [
      "224.45999999999998/(2*8.866405995723126/(0.85*0.9) + 0.05*40) = 8.914165806957444\n",
      "8.914165806957444\n"
     ]
    }
   ],
   "execution_count": 1212
  },
  {
   "metadata": {
    "ExecuteTime": {
     "end_time": "2025-10-24T20:55:04.012361Z",
     "start_time": "2025-10-24T20:55:03.948806Z"
    }
   },
   "cell_type": "code",
   "source": [
    "s_2 = s_po2 * s_t2/(s_po2 ** 2 + s_t2 ** 2) ** 0.5\n",
    "print(s_2)"
   ],
   "id": "ead43f155995448f",
   "outputs": [
    {
     "name": "stdout",
     "output_type": "stream",
     "text": [
      "3.618854512615608\n"
     ]
    }
   ],
   "execution_count": 1213
  },
  {
   "metadata": {
    "ExecuteTime": {
     "end_time": "2025-10-08T19:52:46.285997Z",
     "start_time": "2025-10-08T19:52:46.273988Z"
    }
   },
   "cell_type": "markdown",
   "source": [
    "##### Для тихоходного вала\n",
    "Вывод:\n",
    "3,61 > `[s = 2,5..3]`"
   ],
   "id": "91b624152bcb546b"
  },
  {
   "metadata": {},
   "cell_type": "markdown",
   "source": [
    "***\n",
    "### Проверка подшипников по динамической грузоподъемности\n",
    "#### Расчет подшипников на быстроходном валу"
   ],
   "id": "b8ebb1314424dec5"
  },
  {
   "metadata": {
    "ExecuteTime": {
     "end_time": "2025-10-24T20:55:04.104970Z",
     "start_time": "2025-10-24T20:55:04.041297Z"
    }
   },
   "cell_type": "code",
   "source": [
    "print(f\"Fa1/VFr_A = {Fa1/Ra_sum_1:.1f}\")\n",
    "print(f\"Fa1/VFr_B = {Fa1/Rb_sum_1:.1f}\")"
   ],
   "id": "fe93f727fa507a29",
   "outputs": [
    {
     "name": "stdout",
     "output_type": "stream",
     "text": [
      "Fa1/VFr_A = 4.7\n",
      "Fa1/VFr_B = 2.3\n"
     ]
    }
   ],
   "execution_count": 1214
  },
  {
   "metadata": {
    "ExecuteTime": {
     "end_time": "2025-10-24T21:45:19.285746Z",
     "start_time": "2025-10-24T21:45:19.261291Z"
    }
   },
   "cell_type": "code",
   "source": [
    "def resurs1():\n",
    "\n",
    "    # Частота оборотов\n",
    "    n = n1\n",
    "\n",
    "   # Подшипник: данные\n",
    "   #  7506\n",
    "    Cr = 36000\n",
    "    e = 0.365\n",
    "    Y = 1.645\n",
    "    X = 0.4\n",
    "\n",
    "    # d = 30\n",
    "    # D = 62\n",
    "    # T = 21.5\n",
    "\n",
    "    V = 1\n",
    "    Kb = 1.3\n",
    "    Kt = 1\n",
    "    p = 10/3\n",
    "\n",
    "    # ----------Силы----------\n",
    "    #\n",
    "    #        (Fa)--->\n",
    "    #   (A)--->     <---(B)\n",
    "    #\n",
    "    # Силы от подшипников и осевая сила\n",
    "    # направлены как на рисунке: Vab == True\n",
    "    #\n",
    "    # Если сила Fa направлена в другую сторону\n",
    "    # Установить флаг Vab == false или указать\n",
    "    # силу со знаком минус\n",
    "\n",
    "    Vab = True\n",
    "\n",
    "    # Силы: указывать в Ньютонах\n",
    "    Fa = Fa1\n",
    "    Ra = Ra_sum_1\n",
    "    Rb = Rb_sum_1\n",
    "\n",
    "    print(\"Входные данные\")\n",
    "    print(\"\\nСилы:\")\n",
    "    print(f\"Fa = {Fa}\")\n",
    "    print(f\"Ra = {Ra}\")\n",
    "    print(f\"Rb = {Rb}\")\n",
    "\n",
    "    print(\"\\nПодшипник:\")\n",
    "    print(f\"Cr = {Cr}\")\n",
    "    print(f\"e = {e}\")\n",
    "    print(f\"X = {X}\")\n",
    "    print(f\"Y = {Y}\")\n",
    "\n",
    "    print(\"\\nПостоянные:\")\n",
    "    print(f\"p = {p:.3f}\")\n",
    "    print(f\"V = {V}\")\n",
    "    print(f\"Kb = {Kb}\")\n",
    "    print(f\"Kt = {Kt}\")\n",
    "\n",
    "\n",
    "    if Fa < 0:\n",
    "        Vab = False\n",
    "        Fa = -Fa\n",
    "\n",
    "    S1 = 0.83 * e * Ra\n",
    "    S2 = 0.83 * e * Rb\n",
    "\n",
    "    if Vab:\n",
    "        F1 = S1 if (-S1 - Fa + S2 ) < 0 else S2 - Fa\n",
    "        F2 = S2 if (S1 + Fa - S2) < 0 else S1 + Fa\n",
    "    else:\n",
    "        F1 = S1 if (-S1 + Fa + S2 ) < 0 else S2 + Fa\n",
    "        F2 = S2 if (S1 - Fa - S2) < 0 else S1 - Fa\n",
    "\n",
    "    f_ek = lambda r, a: (X*V*r + Y*a)*Kb*Kt\n",
    "    F1_ek = f_ek(Ra, F1)\n",
    "    F2_ek = f_ek(Rb, F2)\n",
    "\n",
    "    print(\"\\nВыходные данные\")\n",
    "    print(f\"Fa = {Fa}\")\n",
    "    print(f\"Ra = {Ra:.1f}\")\n",
    "    print(f\"Rb = {Rb:.1f}\")\n",
    "    print(f\"S1 = {S1:.1f}\")\n",
    "    print(f\"S2 = {S2:.1f}\")\n",
    "    print(f\"F1 = {F1:.1f}\")\n",
    "    print(f\"F2 = {F2:.1f}\")\n",
    "    print(f\"Fa1/VFr1 = {F1/Ra:.1f}\")\n",
    "    print(f\"Fa2/VFr2 = {F2/Rb:.1f}\")\n",
    "    print(f\"F1_ek = {F1_ek:.1f}\")\n",
    "    print(f\"F2_ek = {F2_ek:.1f}\")\n",
    "\n",
    "    f_l = lambda x: (Cr/x) ** p\n",
    "    L1 = f_l(F1_ek)\n",
    "    L2 = f_l(F2_ek)\n",
    "\n",
    "    print(f\"Срок службы 1-го подшипника = {L1:.0f} млн.об\")\n",
    "    print(f\"Срок службы 2-го подшипника = {L2:.0f} млн.об\")\n",
    "\n",
    "    f_lh = lambda x: 1e6 * x / (60 * n)\n",
    "    lh1 = f_lh(L1)\n",
    "    lh2 = f_lh(L2)\n",
    "\n",
    "    print(f\"Срок службы 1-го подшипника = {lh1:.0f} часов\")\n",
    "    print(f\"Срок службы 2-го подшипника = {lh2:.0f} часов\")\n",
    "\n",
    "resurs1()"
   ],
   "id": "bc015a4c3767c37c",
   "outputs": [
    {
     "name": "stdout",
     "output_type": "stream",
     "text": [
      "Входные данные\n",
      "\n",
      "Силы:\n",
      "Fa = 1520.588628266516\n",
      "Ra = 324.69885755782957\n",
      "Rb = 651.1133901750628\n",
      "\n",
      "Подшипник:\n",
      "Cr = 36000\n",
      "e = 0.365\n",
      "X = 0.4\n",
      "Y = 1.645\n",
      "\n",
      "Постоянные:\n",
      "p = 3.333\n",
      "V = 1\n",
      "Kb = 1.3\n",
      "Kt = 1\n",
      "\n",
      "Выходные данные\n",
      "Fa = 1520.588628266516\n",
      "Ra = 324.7\n",
      "Rb = 651.1\n",
      "S1 = 98.4\n",
      "S2 = 197.3\n",
      "F1 = 98.4\n",
      "F2 = 1619.0\n",
      "Fa1/VFr1 = 0.3\n",
      "Fa2/VFr2 = 2.5\n",
      "F1_ek = 379.2\n",
      "F2_ek = 3800.7\n",
      "Срок службы 1-го подшипника = 3903357 млн.об\n",
      "Срок службы 2-го подшипника = 1798 млн.об\n",
      "Срок службы 1-го подшипника = 46041014 часов\n",
      "Срок службы 2-го подшипника = 21208 часов\n"
     ]
    }
   ],
   "execution_count": 1251
  },
  {
   "metadata": {},
   "cell_type": "markdown",
   "source": "##### Подшипники быстроходного вала проработают дольше указанного в задании срока 21208 > 16000 часов",
   "id": "511778430c64560e"
  },
  {
   "metadata": {
    "ExecuteTime": {
     "end_time": "2025-10-08T20:57:32.065820Z",
     "start_time": "2025-10-08T20:57:32.054845Z"
    }
   },
   "cell_type": "markdown",
   "source": [
    "***\n",
    "#### Расчет подшипников на тихоходном валу\n",
    "Устанавливаю радиально-упорные подшипники для схемы установки вала \"враспор\". Для этого выбираю минимально-возможный подшипник \"36207\"\n",
    "###### Подшипник нахожу в 3-Чернавский стр.435 (или 219 дежавю): **36207** ($α = 12°$)\n",
    "##### Определяю e"
   ],
   "id": "8f225a53e1699fca"
  },
  {
   "metadata": {
    "ExecuteTime": {
     "end_time": "2025-10-24T20:55:04.351890Z",
     "start_time": "2025-10-24T20:55:04.270038Z"
    }
   },
   "cell_type": "code",
   "source": [
    "C_0_podsh_t = 18100\n",
    "print(f\"{Fa2}/{C_0_podsh_t} = {Fa2/C_0_podsh_t}\")"
   ],
   "id": "2490a6dc68c7d4fe",
   "outputs": [
    {
     "name": "stdout",
     "output_type": "stream",
     "text": [
      "304.1177256533032/18100 = 0.016802084290237745\n"
     ]
    }
   ],
   "execution_count": 1216
  },
  {
   "metadata": {},
   "cell_type": "markdown",
   "source": [
    "##### Определяю e по таблице 5.1\n",
    "Для соотношения $F_a/C_0 = 0,021$ и для $α = 12$  выбираю примерное $e = 0,32$ (радиально-упорный шариковый однорядный)\n",
    "\n",
    "Для $$F_a/C_a = 0.021 < e = 0.32$$\n",
    "Устанавливаю:\n",
    "\n",
    " X = 1\n",
    "\n",
    " Y = 0"
   ],
   "id": "df61f5b5147e0d09"
  },
  {
   "metadata": {},
   "cell_type": "markdown",
   "source": "##### Определяю соотношение Fa/(VFr) для обоих подшипников",
   "id": "8386d15d50e1561"
  },
  {
   "metadata": {
    "ExecuteTime": {
     "end_time": "2025-10-24T20:55:04.444501Z",
     "start_time": "2025-10-24T20:55:04.376840Z"
    }
   },
   "cell_type": "code",
   "source": [
    "V = 1\n",
    "# Подшипник A\n",
    "print(f\"{Fa2}/({V}*{Ra_sum_2}) = {Fa2/(V*Ra_sum_2)}\")\n",
    "\n",
    "# Подшипник B\n",
    "print(f\"{Fa2}/({V}*{Rb_sum_2}) = {Fa2/(V*Rb_sum_2)}\")\n"
   ],
   "id": "baf773dbc0a5901e",
   "outputs": [
    {
     "name": "stdout",
     "output_type": "stream",
     "text": [
      "304.1177256533032/(1*2185.931266305992) = 0.13912501748841907\n",
      "304.1177256533032/(1*2105.3742447283985) = 0.14444829769091033\n"
     ]
    }
   ],
   "execution_count": 1217
  },
  {
   "metadata": {},
   "cell_type": "markdown",
   "source": [
    "\n",
    "В обоих случаях соотношение $F_a/(VF_r)$ меньше $e$\n"
   ],
   "id": "1145a3173a4a507e"
  },
  {
   "metadata": {
    "ExecuteTime": {
     "end_time": "2025-10-24T20:55:04.536793Z",
     "start_time": "2025-10-24T20:55:04.473943Z"
    }
   },
   "cell_type": "code",
   "source": [
    "# Устанавливаю e\n",
    "e_podsh_t = 0.32\n",
    "X_podsh_t = 1\n",
    "Y_podsh_t = 0"
   ],
   "id": "67b80bb1dd40f412",
   "outputs": [],
   "execution_count": 1218
  },
  {
   "metadata": {
    "ExecuteTime": {
     "end_time": "2025-10-24T20:55:04.644984Z",
     "start_time": "2025-10-24T20:55:04.585207Z"
    }
   },
   "cell_type": "code",
   "source": [
    "def resurs2():\n",
    "\n",
    "    # Частота оборотов\n",
    "    n = n2\n",
    "\n",
    "    # Подшипник: данные\n",
    "    # 36207\n",
    "    Cr = 24000\n",
    "    C0 = C_0_podsh_t\n",
    "    alpha = 12\n",
    "    e = e_podsh_t\n",
    "    X = X_podsh_t\n",
    "    Y = Y_podsh_t\n",
    "\n",
    "    V = 1\n",
    "    Kb = 1.3\n",
    "    Kt = 1\n",
    "    p = 3\n",
    "\n",
    "    # ----------Силы----------\n",
    "    #\n",
    "    #        (Fa)--->\n",
    "    #   (A)--->     <---(B)\n",
    "    #\n",
    "    # Силы от подшипников и осевая сила\n",
    "    # направлены как на рисунке: Vab == True\n",
    "    #\n",
    "    # Если сила Fa направлена в другую сторону\n",
    "    # Установить флаг Vab == false или указать\n",
    "    # силу со знаком минус\n",
    "\n",
    "    Vab = False\n",
    "\n",
    "    # Силы: указывать в Ньютонах\n",
    "    Fa = Fa2\n",
    "    Ra = Ra_sum_2\n",
    "    Rb = Rb_sum_2\n",
    "\n",
    "    print(\"Входные данные\")\n",
    "    print(\"\\nСилы:\")\n",
    "    print(f\"Fa = {Fa}\")\n",
    "    print(f\"Ra = {Ra}\")\n",
    "    print(f\"Rb = {Rb}\")\n",
    "\n",
    "    print(\"\\nПодшипник:\")\n",
    "    print(f\"Cr = {Cr}\")\n",
    "    print(f\"C0 = {C0}\")\n",
    "    print(f\"e = {e}\")\n",
    "    print(f\"X = {X}\")\n",
    "    print(f\"Y = {Y}\")\n",
    "\n",
    "    print(\"\\nПостоянные:\")\n",
    "    print(f\"p = {p}\")\n",
    "    print(f\"V = {V}\")\n",
    "    print(f\"Kb = {Kb}\")\n",
    "    print(f\"Kt = {Kt}\")\n",
    "\n",
    "\n",
    "    if Fa < 0:\n",
    "        Vab = False\n",
    "        Fa = -Fa\n",
    "\n",
    "    S1 = e * Ra\n",
    "    S2 = e * Rb\n",
    "\n",
    "    if Vab:\n",
    "        F1 = S1 if (-S1 - Fa + S2 ) < 0 else S2 - Fa\n",
    "        F2 = S2 if (S1 + Fa - S2) < 0 else S1 + Fa\n",
    "    else:\n",
    "        F1 = S1 if (-S1 + Fa + S2 ) < 0 else S2 + Fa\n",
    "        F2 = S2 if (S1 - Fa - S2) < 0 else S1 - Fa\n",
    "\n",
    "    f_ek = lambda r, a: (X*V*r + Y*a)*Kb*Kt\n",
    "\n",
    "    print(f\"Fa(A)/C0 = {F1/C0:.1f}\")\n",
    "    print(f\"Fa(B)/C0 = {F2/C0:.1f}\")\n",
    "\n",
    "\n",
    "    F1_ek = f_ek(Ra, F1)\n",
    "    F2_ek = f_ek(Rb, F2)\n",
    "\n",
    "    print(\"\\nВыходные данные\")\n",
    "    print(f\"Fa = {Fa}\")\n",
    "    print(f\"Ra = {Ra:.1f}\")\n",
    "    print(f\"Rb = {Rb:.1f}\")\n",
    "    print(f\"S1 = {S1:.1f}\")\n",
    "    print(f\"S2 = {S2:.1f}\")\n",
    "    print(f\"F1 = {F1:.1f}\")\n",
    "    print(f\"F2 = {F2:.1f}\")\n",
    "    print(f\"Fa1/VFr1 = {F1/Ra:.1f} > 0.35 - нужен радиально-упорный подшипник\")\n",
    "    print(f\"Fa2/VFr2 = {F2/Rb:.1f} > 0.35 - нужен радиально-упорный подшипник\")\n",
    "    print(f\"F1_ek = {F1_ek:.1f}\")\n",
    "    print(f\"F2_ek = {F2_ek:.1f}\")\n",
    "\n",
    "    f_l = lambda x: (Cr/x) ** p\n",
    "    L1 = f_l(F1_ek)\n",
    "    L2 = f_l(F2_ek)\n",
    "\n",
    "    print(f\"Срок службы 1-го подшипника = {L1:.0f} млн.об\")\n",
    "    print(f\"Срок службы 2-го подшипника = {L2:.0f} млн.об\")\n",
    "\n",
    "    f_lh = lambda x: 1e6 * x / (60 * n)\n",
    "    lh1 = f_lh(L1)\n",
    "    lh2 = f_lh(L2)\n",
    "\n",
    "    print(f\"Срок службы 1-го подшипника = {lh1:.0f} часов\")\n",
    "    print(f\"Срок службы 2-го подшипника = {lh2:.0f} часов\")\n",
    "\n",
    "resurs2()"
   ],
   "id": "3fe1008bc44761a7",
   "outputs": [
    {
     "name": "stdout",
     "output_type": "stream",
     "text": [
      "Входные данные\n",
      "\n",
      "Силы:\n",
      "Fa = 304.1177256533032\n",
      "Ra = 2185.931266305992\n",
      "Rb = 2105.3742447283985\n",
      "\n",
      "Подшипник:\n",
      "Cr = 24000\n",
      "C0 = 18100\n",
      "e = 0.32\n",
      "X = 1\n",
      "Y = 0\n",
      "\n",
      "Постоянные:\n",
      "p = 3\n",
      "V = 1\n",
      "Kb = 1.3\n",
      "Kt = 1\n",
      "Fa(A)/C0 = 0.1\n",
      "Fa(B)/C0 = 0.0\n",
      "\n",
      "Выходные данные\n",
      "Fa = 304.1177256533032\n",
      "Ra = 2185.9\n",
      "Rb = 2105.4\n",
      "S1 = 699.5\n",
      "S2 = 673.7\n",
      "F1 = 977.8\n",
      "F2 = 673.7\n",
      "Fa1/VFr1 = 0.4 > 0.35 - нужен радиально-упорный подшипник\n",
      "Fa2/VFr2 = 0.3 > 0.35 - нужен радиально-упорный подшипник\n",
      "F1_ek = 2841.7\n",
      "F2_ek = 2737.0\n",
      "Срок службы 1-го подшипника = 602 млн.об\n",
      "Срок службы 2-го подшипника = 674 млн.об\n",
      "Срок службы 1-го подшипника = 177640 часов\n",
      "Срок службы 2-го подшипника = 198821 часов\n"
     ]
    }
   ],
   "execution_count": 1219
  },
  {
   "metadata": {
    "ExecuteTime": {
     "end_time": "2025-10-09T19:09:29.918427Z",
     "start_time": "2025-10-09T19:09:29.907434Z"
    }
   },
   "cell_type": "markdown",
   "source": [
    "***\n",
    "### Конструирование корпуса\n",
    "#### Основные элементы корпуса из чугуна (табл. 6.1 стр 32)"
   ],
   "id": "5b0f1b6859ec50b9"
  },
  {
   "metadata": {
    "ExecuteTime": {
     "end_time": "2025-10-24T20:55:04.737799Z",
     "start_time": "2025-10-24T20:55:04.679407Z"
    }
   },
   "cell_type": "code",
   "source": [
    "# Толщина стенки корпуса редуктора\n",
    "po_stenka = 0.04*a_w + 2\n",
    "print(po_stenka)"
   ],
   "id": "9f0bd30dd6f9fc04",
   "outputs": [
    {
     "name": "stdout",
     "output_type": "stream",
     "text": [
      "7.0\n"
     ]
    }
   ],
   "execution_count": 1220
  },
  {
   "metadata": {
    "ExecuteTime": {
     "end_time": "2025-10-24T20:55:04.845915Z",
     "start_time": "2025-10-24T20:55:04.767262Z"
    }
   },
   "cell_type": "code",
   "source": [
    "# Толщина крышки редуктора\n",
    "po_1_krishka = 0.032*a_w + 2\n",
    "print(po_1_krishka)"
   ],
   "id": "7d64668f89f0fe5f",
   "outputs": [
    {
     "name": "stdout",
     "output_type": "stream",
     "text": [
      "6.0\n"
     ]
    }
   ],
   "execution_count": 1221
  },
  {
   "metadata": {
    "ExecuteTime": {
     "end_time": "2025-10-24T20:55:04.923008Z",
     "start_time": "2025-10-24T20:55:04.873369Z"
    }
   },
   "cell_type": "code",
   "source": [
    "# Толщина верхнего пояса(фланца) корпуса\n",
    "b_korp = 1.5*po_stenka\n",
    "print(b_korp)\n",
    "b_korp = 10\n",
    "print(b_korp)"
   ],
   "id": "b632049af7368c16",
   "outputs": [
    {
     "name": "stdout",
     "output_type": "stream",
     "text": [
      "10.5\n",
      "10\n"
     ]
    }
   ],
   "execution_count": 1222
  },
  {
   "metadata": {
    "ExecuteTime": {
     "end_time": "2025-10-24T20:55:05.031008Z",
     "start_time": "2025-10-24T20:55:04.955935Z"
    }
   },
   "cell_type": "code",
   "source": [
    "# Толщина нижнего пояса (фланца) крышки корпуса\n",
    "b_krishka = 1.5*po_1_krishka\n",
    "print(b_krishka)"
   ],
   "id": "ecf5b0a38d1b0d98",
   "outputs": [
    {
     "name": "stdout",
     "output_type": "stream",
     "text": [
      "9.0\n"
     ]
    }
   ],
   "execution_count": 1223
  },
  {
   "metadata": {
    "ExecuteTime": {
     "end_time": "2025-10-24T20:55:05.124242Z",
     "start_time": "2025-10-24T20:55:05.057945Z"
    }
   },
   "cell_type": "code",
   "source": [
    "# Толщина нижнего пояса корпуса\n",
    "# При наличии бобышки\n",
    "p1_korp = 1.5*po_stenka\n",
    "print(p1_korp)\n",
    "p1_korp = 10\n",
    "print(p1_korp)\n",
    "\n",
    "p2_korp = 2.25 * po_stenka\n",
    "print(p2_korp)\n",
    "p2_korp = 16\n",
    "print(p2_korp)"
   ],
   "id": "6d292e8a1158eb1e",
   "outputs": [
    {
     "name": "stdout",
     "output_type": "stream",
     "text": [
      "10.5\n",
      "10\n",
      "15.75\n",
      "16\n"
     ]
    }
   ],
   "execution_count": 1224
  },
  {
   "metadata": {
    "ExecuteTime": {
     "end_time": "2025-10-24T20:55:05.217305Z",
     "start_time": "2025-10-24T20:55:05.154686Z"
    }
   },
   "cell_type": "code",
   "source": [
    "# Толщина ребер основания корпуса\n",
    "m_korp = 0.85*po_stenka\n",
    "print(m_korp)\n",
    "m_korp = 6\n",
    "print(m_korp)"
   ],
   "id": "40c15a28700a04c0",
   "outputs": [
    {
     "name": "stdout",
     "output_type": "stream",
     "text": [
      "5.95\n",
      "6\n"
     ]
    }
   ],
   "execution_count": 1225
  },
  {
   "metadata": {
    "ExecuteTime": {
     "end_time": "2025-10-24T20:55:05.324508Z",
     "start_time": "2025-10-24T20:55:05.249745Z"
    }
   },
   "cell_type": "code",
   "source": [
    "# Толщина ребер крышки\n",
    "m1_krishka = 0.85*po_1_krishka\n",
    "print(m)\n",
    "m1_krishka = 5\n",
    "print(m)"
   ],
   "id": "b6f5a8199cc666c2",
   "outputs": [
    {
     "name": "stdout",
     "output_type": "stream",
     "text": [
      "4.0\n",
      "4.0\n"
     ]
    }
   ],
   "execution_count": 1226
  },
  {
   "metadata": {
    "ExecuteTime": {
     "end_time": "2025-10-24T20:55:05.432498Z",
     "start_time": "2025-10-24T20:55:05.357936Z"
    }
   },
   "cell_type": "code",
   "source": [
    "# Диаметр фундаментных болтов (их число больше либо равно 4) (округляют до стандартных по таблице 6.2)\n",
    "d1_bolt = 0.03 * a_w + 12\n",
    "print(d1_bolt)\n",
    "d1_bolt = 16\n",
    "print(d1_bolt)\n"
   ],
   "id": "f848b8fd0aecfc39",
   "outputs": [
    {
     "name": "stdout",
     "output_type": "stream",
     "text": [
      "15.75\n",
      "16\n"
     ]
    }
   ],
   "execution_count": 1227
  },
  {
   "metadata": {
    "ExecuteTime": {
     "end_time": "2025-10-24T20:55:05.527792Z",
     "start_time": "2025-10-24T20:55:05.457452Z"
    }
   },
   "cell_type": "code",
   "source": [
    "# Диаметр болтов у подшипников\n",
    "d2_bolt = 0.7*d1_bolt\n",
    "print(d2_bolt)\n",
    "d2_bolt = 12\n",
    "print(d2_bolt)"
   ],
   "id": "c820e809d09b223b",
   "outputs": [
    {
     "name": "stdout",
     "output_type": "stream",
     "text": [
      "11.2\n",
      "12\n"
     ]
    }
   ],
   "execution_count": 1228
  },
  {
   "metadata": {
    "ExecuteTime": {
     "end_time": "2025-10-24T20:55:05.632993Z",
     "start_time": "2025-10-24T20:55:05.565722Z"
    }
   },
   "cell_type": "code",
   "source": [
    "# Диаметр болтов соединяющих основание корпуса с крышкой\n",
    "d3_bolt = 0.5*d1_bolt\n",
    "print(d3_bolt)"
   ],
   "id": "436ed379037bf998",
   "outputs": [
    {
     "name": "stdout",
     "output_type": "stream",
     "text": [
      "8.0\n"
     ]
    }
   ],
   "execution_count": 1229
  },
  {
   "metadata": {
    "ExecuteTime": {
     "end_time": "2025-10-24T20:55:05.710365Z",
     "start_time": "2025-10-24T20:55:05.657942Z"
    }
   },
   "cell_type": "code",
   "source": [
    "# Размеры определяющие положение болтов d2\n",
    "e_bolt = 1*d2_bolt\n",
    "print(e_bolt)"
   ],
   "id": "1ef4ddbcbf3af105",
   "outputs": [
    {
     "name": "stdout",
     "output_type": "stream",
     "text": [
      "12\n"
     ]
    }
   ],
   "execution_count": 1230
  },
  {
   "metadata": {
    "ExecuteTime": {
     "end_time": "2025-10-24T20:55:05.803310Z",
     "start_time": "2025-10-24T20:55:05.741294Z"
    }
   },
   "cell_type": "code",
   "source": [
    "# Размеры определяющие положение болтов d2\n",
    "\n",
    "d4_bolt = 8 # Диаметр винтов крепления крышки подшипников (табл. 6.2)\n",
    "q_bolt = 0.5 * d2_bolt + d4_bolt\n",
    "print(q_bolt)"
   ],
   "id": "886ad5f8db7cdb8c",
   "outputs": [
    {
     "name": "stdout",
     "output_type": "stream",
     "text": [
      "14.0\n"
     ]
    }
   ],
   "execution_count": 1231
  },
  {
   "metadata": {},
   "cell_type": "markdown",
   "source": [
    "#### Дополнительные элементы корпуса из чугуна (табл. 6.1 стр 32)\n",
    "##### Гнездо под подшипник"
   ],
   "id": "4416a659bf583fee"
  },
  {
   "metadata": {
    "ExecuteTime": {
     "end_time": "2025-10-24T20:55:05.896150Z",
     "start_time": "2025-10-24T20:55:05.837229Z"
    }
   },
   "cell_type": "code",
   "source": [
    "# Винты крепления крышки подшипника d4\n",
    "print(d4_bolt)"
   ],
   "id": "5dae43312fa89ac8",
   "outputs": [
    {
     "name": "stdout",
     "output_type": "stream",
     "text": [
      "8\n"
     ]
    }
   ],
   "execution_count": 1232
  },
  {
   "metadata": {
    "ExecuteTime": {
     "end_time": "2025-10-24T20:55:06.004413Z",
     "start_time": "2025-10-24T20:55:05.924089Z"
    }
   },
   "cell_type": "code",
   "source": [
    "# Число винтов\n",
    "n_vint = 4\n",
    "print(n_vint)"
   ],
   "id": "cc00b0d00d807d0f",
   "outputs": [
    {
     "name": "stdout",
     "output_type": "stream",
     "text": [
      "4\n"
     ]
    }
   ],
   "execution_count": 1233
  },
  {
   "metadata": {
    "ExecuteTime": {
     "end_time": "2025-10-24T20:55:06.097248Z",
     "start_time": "2025-10-24T20:55:06.032348Z"
    }
   },
   "cell_type": "code",
   "source": [
    "# Диаметр гнезда для торцевых крышек подшипника\n",
    "# Наружный диаметр подшипника 7606\n",
    "D_t = 72\n",
    "# Диаметр с припуском\n",
    "Dk_t_prip = D_t + 2\n",
    "print(Dk_t_prip)"
   ],
   "id": "cb4529dff4c3c71f",
   "outputs": [
    {
     "name": "stdout",
     "output_type": "stream",
     "text": [
      "74\n"
     ]
    }
   ],
   "execution_count": 1234
  },
  {
   "metadata": {
    "ExecuteTime": {
     "end_time": "2025-10-24T20:55:06.235572Z",
     "start_time": "2025-10-24T20:55:06.132182Z"
    }
   },
   "cell_type": "code",
   "source": [
    "# Диаметр гнезда для торцевых крышек подшипника\n",
    "# Наружный диаметр подшипника 36207\n",
    "D_b = 72\n",
    "# Диаметр с припуском (торцевая крышка)\n",
    "Dk_b_prip = D_b + 2\n",
    "print(Dk_b_prip)"
   ],
   "id": "9bbc942a8a84152",
   "outputs": [
    {
     "name": "stdout",
     "output_type": "stream",
     "text": [
      "74\n"
     ]
    }
   ],
   "execution_count": 1235
  },
  {
   "metadata": {
    "ExecuteTime": {
     "end_time": "2025-10-24T20:55:06.358452Z",
     "start_time": "2025-10-24T20:55:06.273392Z"
    }
   },
   "cell_type": "code",
   "source": [
    "# Длина гнезда минимальная\n",
    "# l_gnez = B(Ширина подшипника) + K2(высота буртика удерживающего подшипник) + (3...5)\n",
    "# Ширина подшипника 36207\n",
    "B_podsh = 17\n",
    "l_gnez_t = B_podsh + 4 + 4\n",
    "print(l_gnez_t)"
   ],
   "id": "2da29b6174357b48",
   "outputs": [
    {
     "name": "stdout",
     "output_type": "stream",
     "text": [
      "25\n"
     ]
    }
   ],
   "execution_count": 1236
  },
  {
   "metadata": {
    "ExecuteTime": {
     "end_time": "2025-10-24T20:55:06.451140Z",
     "start_time": "2025-10-24T20:55:06.388878Z"
    }
   },
   "cell_type": "code",
   "source": [
    "# Длина гнезда минимальная\n",
    "# l_gnez = B(Ширина подшипника) + K2(высота буртика удерживающего подшипник) + (3...5)\n",
    "# Ширина подшипника 7606\n",
    "B_podsh_b = 29\n",
    "l_gnez_b = B_podsh_b + 4 + 5\n",
    "print(l_gnez_b)"
   ],
   "id": "fc9613bf67068e28",
   "outputs": [
    {
     "name": "stdout",
     "output_type": "stream",
     "text": [
      "38\n"
     ]
    }
   ],
   "execution_count": 1237
  },
  {
   "metadata": {},
   "cell_type": "markdown",
   "source": "#### Размеры штифта",
   "id": "3505c55bca8fc1a5"
  },
  {
   "metadata": {
    "ExecuteTime": {
     "end_time": "2025-10-24T20:55:06.543981Z",
     "start_time": "2025-10-24T20:55:06.474575Z"
    }
   },
   "cell_type": "code",
   "source": [
    "# Диаметр\n",
    "d_shtift = d3_bolt\n",
    "print(d_shtift)"
   ],
   "id": "8182c041d1cab695",
   "outputs": [
    {
     "name": "stdout",
     "output_type": "stream",
     "text": [
      "8.0\n"
     ]
    }
   ],
   "execution_count": 1238
  },
  {
   "metadata": {
    "ExecuteTime": {
     "end_time": "2025-10-24T20:55:06.651751Z",
     "start_time": "2025-10-24T20:55:06.573258Z"
    }
   },
   "cell_type": "code",
   "source": [
    "# Длина\n",
    "l_shtift = b_korp + b_krishka + 5\n",
    "print(l_shtift)"
   ],
   "id": "5f731232b8bf104a",
   "outputs": [
    {
     "name": "stdout",
     "output_type": "stream",
     "text": [
      "24.0\n"
     ]
    }
   ],
   "execution_count": 1239
  },
  {
   "metadata": {},
   "cell_type": "markdown",
   "source": "#### Наименьший зазор между наружной поверхностью колеса и стенкой корпуса",
   "id": "11357d934bcbc6d5"
  },
  {
   "metadata": {
    "ExecuteTime": {
     "end_time": "2025-10-24T20:55:06.744091Z",
     "start_time": "2025-10-24T20:55:06.692170Z"
    }
   },
   "cell_type": "code",
   "source": [
    "# По диаметру и по торцам\n",
    "x_zazor = 1.1 * po_stenka\n",
    "print(x_zazor)\n",
    "x_zazor = 8\n",
    "print(x_zazor)"
   ],
   "id": "be3e1f52d2e4ad23",
   "outputs": [
    {
     "name": "stdout",
     "output_type": "stream",
     "text": [
      "7.700000000000001\n",
      "8\n"
     ]
    }
   ],
   "execution_count": 1240
  },
  {
   "metadata": {
    "ExecuteTime": {
     "end_time": "2025-10-24T20:55:06.852129Z",
     "start_time": "2025-10-24T20:55:06.781521Z"
    }
   },
   "cell_type": "code",
   "source": [
    "# До днища от колеса\n",
    "Y_zazor = 40\n",
    "print(Y_zazor)"
   ],
   "id": "e750748189464d75",
   "outputs": [
    {
     "name": "stdout",
     "output_type": "stream",
     "text": [
      "40\n"
     ]
    }
   ],
   "execution_count": 1241
  },
  {
   "metadata": {
    "ExecuteTime": {
     "end_time": "2025-10-24T20:55:06.883058Z",
     "start_time": "2025-10-24T20:55:06.874093Z"
    }
   },
   "cell_type": "code",
   "source": "",
   "id": "ca3c39eb42add374",
   "outputs": [],
   "execution_count": null
  }
 ],
 "metadata": {
  "kernelspec": {
   "display_name": "Python 3 (ipykernel)",
   "language": "python",
   "name": "python3"
  },
  "language_info": {
   "codemirror_mode": {
    "name": "ipython",
    "version": 3
   },
   "file_extension": ".py",
   "mimetype": "text/x-python",
   "name": "python",
   "nbconvert_exporter": "python",
   "pygments_lexer": "ipython3",
   "version": "3.10.4"
  }
 },
 "nbformat": 4,
 "nbformat_minor": 5
}
