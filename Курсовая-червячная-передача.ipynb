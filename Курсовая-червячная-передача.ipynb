{
 "cells": [
  {
   "cell_type": "markdown",
   "id": "e21fd3fc-7c2b-42eb-91c1-e9ce20560d9b",
   "metadata": {},
   "source": [
    "# Курсовая: Техническая механика\n",
    "### Расчет червячной передачи"
   ]
  },
  {
   "cell_type": "code",
   "id": "305b366a-3b59-4c55-b29c-ee6ed7aa6ff5",
   "metadata": {
    "ExecuteTime": {
     "end_time": "2025-10-25T09:54:44.577598Z",
     "start_time": "2025-10-25T09:54:44.560072Z"
    }
   },
   "source": [
    "from math import pi, atan, degrees, cos, tan, radians\n",
    "from IPython.display import Markdown\n",
    "\n",
    "def degrees_to_radians(degrees, minutes=0):\n",
    "    total_degrees = degrees + minutes / 60\n",
    "    \n",
    "    # Переводим градусы в радианы\n",
    "    return radians(total_degrees)\n"
   ],
   "outputs": [],
   "execution_count": 3003
  },
  {
   "cell_type": "code",
   "id": "6c6cccb2-00a2-4969-be57-92d1d4a87188",
   "metadata": {
    "ExecuteTime": {
     "end_time": "2025-10-25T09:54:44.654873Z",
     "start_time": "2025-10-25T09:54:44.605049Z"
    }
   },
   "source": [
    "# Частота вращения выходного вала редуктора\n",
    "n_out = 59\n",
    "# Нагрузка на выходном валу редуктора\n",
    "P_out = 900"
   ],
   "outputs": [],
   "execution_count": 3004
  },
  {
   "cell_type": "markdown",
   "id": "d062898f-f458-4efc-bd17-c8389ff339b8",
   "metadata": {},
   "source": [
    "### Выбор ЭД"
   ]
  },
  {
   "cell_type": "code",
   "id": "0beed80f-8953-4b0c-8840-0f074394a3ad",
   "metadata": {
    "ExecuteTime": {
     "end_time": "2025-10-25T09:54:44.721721Z",
     "start_time": "2025-10-25T09:54:44.681313Z"
    }
   },
   "source": [
    "# КПД общий\n",
    "# КПД передачи = 0.8 (таблица 1.1)\n",
    "kpd_m = 0.98\n",
    "kpd_u = 0.8\n",
    "\n",
    "kpd_sum = kpd_m * kpd_u\n",
    "print(f\"{kpd_m} * {kpd_u} = {kpd_m * kpd_u}\")\n"
   ],
   "outputs": [
    {
     "name": "stdout",
     "output_type": "stream",
     "text": [
      "0.98 * 0.8 = 0.784\n"
     ]
    }
   ],
   "execution_count": 3005
  },
  {
   "cell_type": "code",
   "id": "1b0fcf01-a020-4b2a-970a-3eef5da88680",
   "metadata": {
    "ExecuteTime": {
     "end_time": "2025-10-25T09:54:44.840500Z",
     "start_time": "2025-10-25T09:54:44.788097Z"
    }
   },
   "source": [
    "# Мощность электрическая\n",
    "P_en = P_out / kpd_sum\n",
    "print(f\"{P_out} / {kpd_sum} = {P_out / kpd_sum:.0f}\")\n"
   ],
   "outputs": [
    {
     "name": "stdout",
     "output_type": "stream",
     "text": [
      "900 / 0.784 = 1148\n"
     ]
    }
   ],
   "execution_count": 3006
  },
  {
   "cell_type": "code",
   "id": "f4a94700-3b3c-4d2d-b7e9-cb9040efedce",
   "metadata": {
    "ExecuteTime": {
     "end_time": "2025-10-25T09:54:44.948893Z",
     "start_time": "2025-10-25T09:54:44.941410Z"
    }
   },
   "source": [
    "# Диапазон частот\n",
    "print(f\"{59*15} ... {59*30}\")\n"
   ],
   "outputs": [
    {
     "name": "stdout",
     "output_type": "stream",
     "text": [
      "885 ... 1770\n"
     ]
    }
   ],
   "execution_count": 3007
  },
  {
   "cell_type": "markdown",
   "id": "574bea7c-a2ce-4b7c-b360-1485d6f560f5",
   "metadata": {},
   "source": [
    "***\n",
    "##### Выбираю ЭД\n",
    "4А80В4У3\n",
    "(3 - Чернавский стр.26)\n",
    "- Частота оборотов: 1500 Об/мин\n",
    "- Мощность: 1500 Вт\n",
    "- Скольжение: 5.8\n",
    "(3 - Чернавский стр.521, 4- Дунаев стр.457)\n",
    "- Диаметр вала: 22 мм"
   ]
  },
  {
   "cell_type": "code",
   "id": "029ded10-a34f-4ac2-8d0d-1e8a687e1bed",
   "metadata": {
    "ExecuteTime": {
     "end_time": "2025-10-25T09:54:45.072448Z",
     "start_time": "2025-10-25T09:54:45.061460Z"
    }
   },
   "source": [
    "# Диаметр вала электродвигателя\n",
    "d_ed= 22\n",
    "# Фактическая частота вращения\n",
    "n_fact = 1500 * (100 - 5.8) / 100\n",
    "print(n_fact)"
   ],
   "outputs": [
    {
     "name": "stdout",
     "output_type": "stream",
     "text": [
      "1413.0\n"
     ]
    }
   ],
   "execution_count": 3008
  },
  {
   "cell_type": "code",
   "id": "1118497e-f27c-4acf-b709-42d09e29cdc2",
   "metadata": {
    "ExecuteTime": {
     "end_time": "2025-10-25T09:54:45.211680Z",
     "start_time": "2025-10-25T09:54:45.200701Z"
    }
   },
   "source": [
    "# Передаточное число редуктора\n",
    "print(f\"{n_fact} / {n_out} = {n_fact/n_out:.2f}\")\n"
   ],
   "outputs": [
    {
     "name": "stdout",
     "output_type": "stream",
     "text": [
      "1413.0 / 59 = 23.95\n"
     ]
    }
   ],
   "execution_count": 3009
  },
  {
   "cell_type": "code",
   "id": "c638f595-c65f-46e4-a9dc-54cbe6caeb58",
   "metadata": {
    "ExecuteTime": {
     "end_time": "2025-10-25T09:54:45.324471Z",
     "start_time": "2025-10-25T09:54:45.307502Z"
    }
   },
   "source": [
    "# Принимаю стандартное значение передаточного числа редуктора по таблице 3.2\n",
    "u_p = 25"
   ],
   "outputs": [],
   "execution_count": 3010
  },
  {
   "cell_type": "markdown",
   "id": "84b8004f-a7f0-4750-99aa-4b59f194de11",
   "metadata": {},
   "source": [
    "***\n",
    "### Определение кинематических и силовых параметров для каждого вала\n",
    "***\n",
    "#### Быстроходный вал"
   ]
  },
  {
   "cell_type": "code",
   "id": "1981188b-814a-4433-b1bf-8a6b1b93900a",
   "metadata": {
    "ExecuteTime": {
     "end_time": "2025-10-25T09:54:45.397593Z",
     "start_time": "2025-10-25T09:54:45.358165Z"
    }
   },
   "source": [
    "# Частота оборотов\n",
    "n_fact"
   ],
   "outputs": [
    {
     "data": {
      "text/plain": [
       "1413.0"
      ]
     },
     "execution_count": 3011,
     "metadata": {},
     "output_type": "execute_result"
    }
   ],
   "execution_count": 3011
  },
  {
   "cell_type": "code",
   "id": "01ba01f0-6dc3-4731-84c2-8fde5a43fd9c",
   "metadata": {
    "ExecuteTime": {
     "end_time": "2025-10-25T09:54:45.474449Z",
     "start_time": "2025-10-25T09:54:45.459495Z"
    }
   },
   "source": [
    "# Угловая скорость\n",
    "w1 = pi * n_fact / 30\n",
    "print(f\"{w1:.3f}\")"
   ],
   "outputs": [
    {
     "name": "stdout",
     "output_type": "stream",
     "text": [
      "147.969\n"
     ]
    }
   ],
   "execution_count": 3012
  },
  {
   "cell_type": "code",
   "id": "431c1930-fd51-4d80-b28e-9eef5dba449f",
   "metadata": {
    "ExecuteTime": {
     "end_time": "2025-10-25T09:54:45.598073Z",
     "start_time": "2025-10-25T09:54:45.584086Z"
    }
   },
   "source": [
    "# Мощность на входном валу после муфты\n",
    "P1 = P_en * kpd_m\n",
    "print(f\"{P_en:.0f} * {kpd_m} = {P_en * kpd_m}\")"
   ],
   "outputs": [
    {
     "name": "stdout",
     "output_type": "stream",
     "text": [
      "1148 * 0.98 = 1125.0\n"
     ]
    }
   ],
   "execution_count": 3013
  },
  {
   "cell_type": "code",
   "id": "a94729e1-e7c4-4748-9e9d-75cf2528fbbd",
   "metadata": {
    "ExecuteTime": {
     "end_time": "2025-10-25T09:54:45.752790Z",
     "start_time": "2025-10-25T09:54:45.735804Z"
    }
   },
   "source": [
    "# Момент на входном валу, Н*мм\n",
    "T1 = P1 * 1000 / w1\n",
    "print(T1)"
   ],
   "outputs": [
    {
     "name": "stdout",
     "output_type": "stream",
     "text": [
      "7602.94314133258\n"
     ]
    }
   ],
   "execution_count": 3014
  },
  {
   "cell_type": "markdown",
   "id": "78c889bf-2ebb-45f9-8568-0eebbec9dd10",
   "metadata": {},
   "source": [
    "***\n",
    "#### Тихоходный вал"
   ]
  },
  {
   "cell_type": "code",
   "id": "cfb96805-c72b-42d4-b770-8cb2fe55f09d",
   "metadata": {
    "ExecuteTime": {
     "end_time": "2025-10-25T09:54:45.845600Z",
     "start_time": "2025-10-25T09:54:45.836617Z"
    }
   },
   "source": [
    "# Частота оборотов\n",
    "n1 = n_fact\n",
    "n2 = n1 / u_p\n",
    "print(n2)"
   ],
   "outputs": [
    {
     "name": "stdout",
     "output_type": "stream",
     "text": [
      "56.52\n"
     ]
    }
   ],
   "execution_count": 3015
  },
  {
   "cell_type": "code",
   "id": "7dd9b0d9-00ce-4c12-96d3-777e7a82d507",
   "metadata": {
    "ExecuteTime": {
     "end_time": "2025-10-25T09:54:45.969373Z",
     "start_time": "2025-10-25T09:54:45.953899Z"
    }
   },
   "source": [
    "# Угловая скорость\n",
    "w2 = pi * n2 / 30\n",
    "print(w2)"
   ],
   "outputs": [
    {
     "name": "stdout",
     "output_type": "stream",
     "text": [
      "5.91876055936317\n"
     ]
    }
   ],
   "execution_count": 3016
  },
  {
   "cell_type": "code",
   "id": "82d86eb6-a6cd-4464-a4c2-e70268777f58",
   "metadata": {
    "ExecuteTime": {
     "end_time": "2025-10-25T09:54:46.093145Z",
     "start_time": "2025-10-25T09:54:46.064194Z"
    }
   },
   "source": [
    "# Мощность на выходном валу\n",
    "# 0.8 - кпд для червячного редуктора (таблица 1.1)\n",
    "P2 = P1 * kpd_u\n",
    "print(P2)"
   ],
   "outputs": [
    {
     "name": "stdout",
     "output_type": "stream",
     "text": [
      "900.0\n"
     ]
    }
   ],
   "execution_count": 3017
  },
  {
   "cell_type": "code",
   "id": "dc16e206-7aab-4673-8d8e-a6582aa8a587",
   "metadata": {
    "ExecuteTime": {
     "end_time": "2025-10-25T09:54:46.216748Z",
     "start_time": "2025-10-25T09:54:46.208249Z"
    }
   },
   "source": [
    "# Вращающий момент\n",
    "T2 = P2 * 1000 / w2\n",
    "print(T2)"
   ],
   "outputs": [
    {
     "name": "stdout",
     "output_type": "stream",
     "text": [
      "152058.8628266516\n"
     ]
    }
   ],
   "execution_count": 3018
  },
  {
   "metadata": {},
   "cell_type": "markdown",
   "source": "### Заполняю таблицу 1.4",
   "id": "cc12202d0d6a357c"
  },
  {
   "metadata": {
    "ExecuteTime": {
     "end_time": "2025-10-25T09:54:46.340499Z",
     "start_time": "2025-10-25T09:54:46.326026Z"
    }
   },
   "cell_type": "code",
   "source": [
    "#from IPython.display import Markdown\n",
    "\n",
    "Markdown(f\"\"\"\n",
    "#### Таблица 1.4\n",
    "##### Кинематические и силовые параметры для каждого вала редуктора\n",
    "|Номер<br/>вала| Частота вращения,<br/>n, $min^-1$ | Угловая скорость<br/> w, $с^-1$ | Мощность<br/>P, Вт | Вращающий момент<br/>T, Н·мм |\n",
    "|-------|------|------|------|------|\n",
    "| 1 | {n1} | {w1:.3f} | {P1} | {T1:.0f}|\n",
    "| 2 | {n2} | {w2:.3f} | {P2} | {T2:.0f}|\n",
    "\"\"\")\n"
   ],
   "id": "beaa5c78488dd4d1",
   "outputs": [
    {
     "data": {
      "text/plain": [
       "<IPython.core.display.Markdown object>"
      ],
      "text/markdown": "\n#### Таблица 1.4\n##### Кинематические и силовые параметры для каждого вала редуктора\n|Номер<br/>вала| Частота вращения,<br/>n, $min^-1$ | Угловая скорость<br/> w, $с^-1$ | Мощность<br/>P, Вт | Вращающий момент<br/>T, Н·мм |\n|-------|------|------|------|------|\n| 1 | 1413.0 | 147.969 | 1125.0 | 7603|\n| 2 | 56.52 | 5.919 | 900.0 | 152059|\n"
     },
     "execution_count": 3019,
     "metadata": {},
     "output_type": "execute_result"
    }
   ],
   "execution_count": 3019
  },
  {
   "cell_type": "markdown",
   "id": "3c05039d-203c-4cdf-a054-4025ef161c32",
   "metadata": {},
   "source": [
    "***\n",
    "### Выбор материалов и допускаемых напряжений "
   ]
  },
  {
   "cell_type": "code",
   "id": "9b299ab0-1aaf-4dec-ad48-f32d3e7b4ffe",
   "metadata": {
    "ExecuteTime": {
     "end_time": "2025-10-25T09:54:46.479756Z",
     "start_time": "2025-10-25T09:54:46.474251Z"
    }
   },
   "source": [
    "# Скорость скольжения\n",
    "v_s = 4.5 * 10 ** (-4) * n1 * (T2 / 1000) ** (1/3)\n",
    "print(v_s)"
   ],
   "outputs": [
    {
     "name": "stdout",
     "output_type": "stream",
     "text": [
      "3.393844358505747\n"
     ]
    }
   ],
   "execution_count": 3020
  },
  {
   "cell_type": "markdown",
   "id": "06c7dbb1-e536-496e-890d-4d637fac46a3",
   "metadata": {},
   "source": [
    "***\n",
    "#### **Выбираю материал для червячного колеса**\n",
    "Согласно таблице 3.1 стр.15\n",
    "\n",
    "Бр А9ЖЗЛ\n",
    "\n",
    "$σ_т = 200$\n",
    "\n",
    "$σ_в = 400$\n",
    "\n",
    "$σ_H = 300 - 25v_s$\n",
    "\n",
    "$σ_F = 0,25σ_т+0,08σ_в$\n",
    "***\n",
    "$σ_H$"
   ]
  },
  {
   "cell_type": "code",
   "id": "a90249db-e595-44f5-8a49-56c732ba6f8d",
   "metadata": {
    "ExecuteTime": {
     "end_time": "2025-10-25T09:54:46.588058Z",
     "start_time": "2025-10-25T09:54:46.568594Z"
    }
   },
   "source": [
    "po_h = 300 - 25 * v_s\n",
    "print(f\"300 - 25*{v_s:.2f} = {300 - 25*v_s:.1f}\")"
   ],
   "outputs": [
    {
     "name": "stdout",
     "output_type": "stream",
     "text": [
      "300 - 25*3.39 = 215.2\n"
     ]
    }
   ],
   "execution_count": 3021
  },
  {
   "cell_type": "markdown",
   "id": "429618dc-54d4-4e3b-837d-f85718412b8b",
   "metadata": {},
   "source": [
    "$σ_F$"
   ]
  },
  {
   "cell_type": "code",
   "id": "2a1ecb57-0f3a-4761-ba26-dbb541d59a9f",
   "metadata": {
    "ExecuteTime": {
     "end_time": "2025-10-25T09:54:46.696351Z",
     "start_time": "2025-10-25T09:54:46.678372Z"
    }
   },
   "source": [
    "po_f = 0.25*200 + 0.08*400\n",
    "print(po_f)"
   ],
   "outputs": [
    {
     "name": "stdout",
     "output_type": "stream",
     "text": [
      "82.0\n"
     ]
    }
   ],
   "execution_count": 3022
  },
  {
   "cell_type": "markdown",
   "id": "e0eea6c3-04eb-4501-b1ba-32a06de1cef6",
   "metadata": {},
   "source": [
    "***\n",
    "#### Проектный расчет червячной передачи по контактным напряжениям"
   ]
  },
  {
   "cell_type": "code",
   "id": "e443dd9b-1433-4461-9437-71fa49de91f4",
   "metadata": {
    "ExecuteTime": {
     "end_time": "2025-10-25T09:54:46.835277Z",
     "start_time": "2025-10-25T09:54:46.817799Z"
    }
   },
   "source": [
    "# Согласно таблице 3.2 выбираю стандартное передаточное отношение\n",
    "# Вычисляю число зубьев колеса\n",
    "z1 = 2\n",
    "z2 = z1 * u_p\n",
    "print(z2)"
   ],
   "outputs": [
    {
     "name": "stdout",
     "output_type": "stream",
     "text": [
      "50\n"
     ]
    }
   ],
   "execution_count": 3023
  },
  {
   "cell_type": "code",
   "id": "56cf7654-52ef-4c3f-965e-842f2389cbb2",
   "metadata": {
    "ExecuteTime": {
     "end_time": "2025-10-25T09:54:46.928112Z",
     "start_time": "2025-10-25T09:54:46.919111Z"
    }
   },
   "source": [
    "# Определяю межосевое расстояние\n",
    "K_n = 1.1\n",
    "q = 12.5\n",
    "T2_m = T2 / 1000\n",
    "a_w = (z2/q + 1) * ((5400/(z2/q*po_h)) ** 2 * T2_m * K_n) ** (1/3)\n",
    "print(f\"({z2}/{q} + 1) * ((5400/({z2}/{q}*{po_h:.0f})) ** 2 * {T2_m:.0f} * {K_n}) ** (1/3) = {(z2/q + 1) * ((5400/(z2/q*po_h)) ** 2 * T2_m * K_n) ** (1/3):0f}\")\n",
    "\n",
    "# Выбираю стандартное значение a_w = 125 мм\n",
    "a_w = 125"
   ],
   "outputs": [
    {
     "name": "stdout",
     "output_type": "stream",
     "text": [
      "(50/12.5 + 1) * ((5400/(50/12.5*215)) ** 2 * 152 * 1.1) ** (1/3) = 93.719045\n"
     ]
    }
   ],
   "execution_count": 3024
  },
  {
   "cell_type": "code",
   "id": "e832d231-4e8b-4c0c-b73a-46fbc713ad88",
   "metadata": {
    "ExecuteTime": {
     "end_time": "2025-10-25T09:54:47.036411Z",
     "start_time": "2025-10-25T09:54:47.028907Z"
    }
   },
   "source": [
    "# Определяю величину осевого модуля для стандартного a_w\n",
    "m = 2*a_w/(q + z2)\n",
    "print(m)"
   ],
   "outputs": [
    {
     "name": "stdout",
     "output_type": "stream",
     "text": [
      "4.0\n"
     ]
    }
   ],
   "execution_count": 3025
  },
  {
   "cell_type": "markdown",
   "id": "3e36e419-4dcf-4a49-95ae-78206dac38fd",
   "metadata": {},
   "source": [
    "***\n",
    "#### Выбираю стандартные значения из таблицы 3.3\n",
    "\n",
    "$a_w = 125$ мм\n",
    "\n",
    "$m = 4$ мм\n",
    "\n",
    "$q = 12,5$\n",
    "\n",
    "$z_2:z_1 = 50:2$"
   ]
  },
  {
   "cell_type": "markdown",
   "id": "bcaf6d8f-3c1c-484d-8480-f1f37aeee4cf",
   "metadata": {},
   "source": [
    "***\n",
    "#### Определяю геометрические параметры червяка"
   ]
  },
  {
   "cell_type": "code",
   "id": "b2a8a73e-4797-4485-8e7f-d1f54e5457d2",
   "metadata": {
    "ExecuteTime": {
     "end_time": "2025-10-25T09:54:47.160164Z",
     "start_time": "2025-10-25T09:54:47.141698Z"
    }
   },
   "source": [
    "d1 = d_1b = q * m\n",
    "print(d1)"
   ],
   "outputs": [
    {
     "name": "stdout",
     "output_type": "stream",
     "text": [
      "50.0\n"
     ]
    }
   ],
   "execution_count": 3026
  },
  {
   "cell_type": "code",
   "id": "e23a5be9-5130-4e4f-b1db-7f0cc808f1c3",
   "metadata": {
    "ExecuteTime": {
     "end_time": "2025-10-25T09:54:47.268582Z",
     "start_time": "2025-10-25T09:54:47.257602Z"
    }
   },
   "source": [
    "da1 = d1 + 2 * m\n",
    "print(da1)"
   ],
   "outputs": [
    {
     "name": "stdout",
     "output_type": "stream",
     "text": [
      "58.0\n"
     ]
    }
   ],
   "execution_count": 3027
  },
  {
   "cell_type": "code",
   "id": "5151d8cb-cdd2-4b3f-b9d3-59f93c4d03d5",
   "metadata": {
    "ExecuteTime": {
     "end_time": "2025-10-25T09:54:47.407825Z",
     "start_time": "2025-10-25T09:54:47.394847Z"
    }
   },
   "source": [
    "df1 = d1 - 2.4*m\n",
    "print(df1)"
   ],
   "outputs": [
    {
     "name": "stdout",
     "output_type": "stream",
     "text": [
      "40.4\n"
     ]
    }
   ],
   "execution_count": 3028
  },
  {
   "cell_type": "code",
   "id": "488f8313-5a81-4368-b191-ab23980291d3",
   "metadata": {
    "ExecuteTime": {
     "end_time": "2025-10-25T09:54:47.516127Z",
     "start_time": "2025-10-25T09:54:47.501649Z"
    }
   },
   "source": [
    "# Длина нарезанной части червяка\n",
    "b1 = (11 + 0.06*z2)*m\n",
    "print(b1)"
   ],
   "outputs": [
    {
     "name": "stdout",
     "output_type": "stream",
     "text": [
      "56.0\n"
     ]
    }
   ],
   "execution_count": 3029
  },
  {
   "cell_type": "markdown",
   "id": "c6042717-71d8-4958-a277-3524985b1621",
   "metadata": {},
   "source": [
    "***\n",
    "#### Определяю геометрические параметры колеса"
   ]
  },
  {
   "cell_type": "code",
   "id": "95606d6f-ccaa-4dc8-a381-cdc10330dfcc",
   "metadata": {
    "ExecuteTime": {
     "end_time": "2025-10-25T09:54:47.624288Z",
     "start_time": "2025-10-25T09:54:47.613812Z"
    }
   },
   "source": [
    "d2 = d_2t = m * z2\n",
    "print(d2)"
   ],
   "outputs": [
    {
     "name": "stdout",
     "output_type": "stream",
     "text": [
      "200.0\n"
     ]
    }
   ],
   "execution_count": 3030
  },
  {
   "cell_type": "code",
   "id": "10a8aa50-56b9-4700-945e-4bb73cbaa543",
   "metadata": {
    "ExecuteTime": {
     "end_time": "2025-10-25T09:54:47.732589Z",
     "start_time": "2025-10-25T09:54:47.718618Z"
    }
   },
   "source": [
    "da2 = d2 + 2*m\n",
    "print(da2)"
   ],
   "outputs": [
    {
     "name": "stdout",
     "output_type": "stream",
     "text": [
      "208.0\n"
     ]
    }
   ],
   "execution_count": 3031
  },
  {
   "metadata": {
    "ExecuteTime": {
     "end_time": "2025-10-25T09:54:47.840666Z",
     "start_time": "2025-10-25T09:54:47.822924Z"
    }
   },
   "cell_type": "code",
   "source": [
    "# Наибольший диаметр червячного колеса\n",
    "d_am2 = da2 + 6*m/(z1 + 2)\n",
    "print(f\"{da2} + 6*{m}/({z1} + 2) = {da2 + 6*m/(z1 + 2)}\")"
   ],
   "id": "86a8edad71942eac",
   "outputs": [
    {
     "name": "stdout",
     "output_type": "stream",
     "text": [
      "208.0 + 6*4.0/(2 + 2) = 214.0\n"
     ]
    }
   ],
   "execution_count": 3032
  },
  {
   "cell_type": "code",
   "id": "edd9d606-8245-4f6e-850c-a60b578ac6de",
   "metadata": {
    "ExecuteTime": {
     "end_time": "2025-10-25T09:54:47.964419Z",
     "start_time": "2025-10-25T09:54:47.955934Z"
    }
   },
   "source": [
    "df2 = d2 - 2.4*m\n",
    "print(df2)"
   ],
   "outputs": [
    {
     "name": "stdout",
     "output_type": "stream",
     "text": [
      "190.4\n"
     ]
    }
   ],
   "execution_count": 3033
  },
  {
   "cell_type": "code",
   "id": "8445e778-483c-453f-abbf-aa7fba47fb7f",
   "metadata": {
    "ExecuteTime": {
     "end_time": "2025-10-25T09:54:48.057179Z",
     "start_time": "2025-10-25T09:54:48.052669Z"
    }
   },
   "source": [
    "# Ширина зубчатого венца червячного колеса\n",
    "b2 = 0.75*da1\n",
    "print(b2)\n",
    "b2 = 44\n",
    "print(b2)"
   ],
   "outputs": [
    {
     "name": "stdout",
     "output_type": "stream",
     "text": [
      "43.5\n",
      "44\n"
     ]
    }
   ],
   "execution_count": 3034
  },
  {
   "metadata": {},
   "cell_type": "markdown",
   "source": "##### Параметры ступицы смотри далее (Конструирование червячной передачи)",
   "id": "519f27f541d031f4"
  },
  {
   "cell_type": "code",
   "id": "bf58c93c-72a8-4074-84da-d7997c60c034",
   "metadata": {
    "ExecuteTime": {
     "end_time": "2025-10-25T09:54:48.165511Z",
     "start_time": "2025-10-25T09:54:48.156024Z"
    }
   },
   "source": [
    "# Проверяю выбранное значение v_s\n",
    "tg_y = z1/q\n",
    "print(tg_y)"
   ],
   "outputs": [
    {
     "name": "stdout",
     "output_type": "stream",
     "text": [
      "0.16\n"
     ]
    }
   ],
   "execution_count": 3035
  },
  {
   "cell_type": "code",
   "id": "28af610a-7bfd-4a89-b51f-91a5e41eb286",
   "metadata": {
    "ExecuteTime": {
     "end_time": "2025-10-25T09:54:48.289355Z",
     "start_time": "2025-10-25T09:54:48.271391Z"
    }
   },
   "source": [
    "y = atan(tg_y)\n",
    "print(y)"
   ],
   "outputs": [
    {
     "name": "stdout",
     "output_type": "stream",
     "text": [
      "0.1586552621864014\n"
     ]
    }
   ],
   "execution_count": 3036
  },
  {
   "cell_type": "code",
   "id": "45fd4bef-d062-40c2-acc7-8d43f0be14d1",
   "metadata": {
    "ExecuteTime": {
     "end_time": "2025-10-25T09:54:48.382158Z",
     "start_time": "2025-10-25T09:54:48.368682Z"
    }
   },
   "source": [
    "# Угол в градусах\n",
    "deg_y = degrees(y)\n",
    "print(deg_y)"
   ],
   "outputs": [
    {
     "name": "stdout",
     "output_type": "stream",
     "text": [
      "9.090276920822323\n"
     ]
    }
   ],
   "execution_count": 3037
  },
  {
   "metadata": {
    "ExecuteTime": {
     "end_time": "2025-10-25T09:54:48.505926Z",
     "start_time": "2025-10-25T09:54:48.497942Z"
    }
   },
   "cell_type": "code",
   "source": [
    "# Нормальный модуль\n",
    "m_n = m*cos(y)\n",
    "print(m_n)"
   ],
   "id": "7321e5f882b7b19c",
   "outputs": [
    {
     "name": "stdout",
     "output_type": "stream",
     "text": [
      "3.9497625276668216\n"
     ]
    }
   ],
   "execution_count": 3038
  },
  {
   "metadata": {
    "ExecuteTime": {
     "end_time": "2025-10-24T18:22:13.883787Z",
     "start_time": "2025-10-24T18:22:13.873808Z"
    }
   },
   "cell_type": "markdown",
   "source": [
    "### Таблица 3.4\n",
    "#### Геометрические параметры червячной передачи"
   ],
   "id": "b64a9a81dea1e916"
  },
  {
   "metadata": {
    "ExecuteTime": {
     "end_time": "2025-10-25T09:54:48.614233Z",
     "start_time": "2025-10-25T09:54:48.602248Z"
    }
   },
   "cell_type": "code",
   "source": [
    "#from IPython.display import Markdown\n",
    "\n",
    "Markdown(f\"\"\"\n",
    "#### Таблица 3.4\n",
    "##### Геометрические параметры червячной передачи\n",
    "|$a_w$| u | m | q | z1 | z2 | d1 | d2 | $d_a1$|$d_a2$|$d_f1$|$d_f2$|b1|b2|$m_n$|γ|\n",
    "|:---:|:---:|:---:|:---:|:---:|:---:|:---:|:---:|:---:|:---:|:---:|:---:|:---:|:---:|:---:|:---:|\n",
    "|{a_w}| {u_p} | {m} | {q} | {z1} | {z2} | {d1} | {d2} | {da1} | {da2} | {df1} | {df2} | {b1} | {b2} | {m_n:.2f} | {y:.5f} |\n",
    "\"\"\")"
   ],
   "id": "1fe5e6933007488e",
   "outputs": [
    {
     "data": {
      "text/plain": [
       "<IPython.core.display.Markdown object>"
      ],
      "text/markdown": "\n#### Таблица 3.4\n##### Геометрические параметры червячной передачи\n|$a_w$| u | m | q | z1 | z2 | d1 | d2 | $d_a1$|$d_a2$|$d_f1$|$d_f2$|b1|b2|$m_n$|γ|\n|:---:|:---:|:---:|:---:|:---:|:---:|:---:|:---:|:---:|:---:|:---:|:---:|:---:|:---:|:---:|:---:|\n|125| 25 | 4.0 | 12.5 | 2 | 50 | 50.0 | 200.0 | 58.0 | 208.0 | 40.4 | 190.4 | 56.0 | 44 | 3.95 | 0.15866 |\n"
     },
     "execution_count": 3039,
     "metadata": {},
     "output_type": "execute_result"
    }
   ],
   "execution_count": 3039
  },
  {
   "cell_type": "markdown",
   "id": "89094d67-2c23-4989-9497-bf3395cf3bf2",
   "metadata": {},
   "source": [
    "***\n",
    "#### Проверочный рассчет по контактным напряжениям"
   ]
  },
  {
   "cell_type": "code",
   "id": "a0957428-60bf-4e2f-a126-688e270420a0",
   "metadata": {
    "ExecuteTime": {
     "end_time": "2025-10-25T09:54:48.768940Z",
     "start_time": "2025-10-25T09:54:48.759455Z"
    }
   },
   "source": [
    "# Проверяю условие прочности выбранной стандартной передачи\n",
    "temp = (5400/(z2/q))*(((z2/q+1)/a_w)**3*T2_m*K_n)**(0.5)\n",
    "print(f\"(5400/({z2}/{q}))*((({z2}/{q}+1)/{a_w})**3*{T2_m:.0f}*{K_n})**(0.5) = {(5400/(z2/q))*(((z2/q+1)/a_w)**3*T2_m*K_n)**(0.5)}\")"
   ],
   "outputs": [
    {
     "name": "stdout",
     "output_type": "stream",
     "text": [
      "(5400/(50/12.5))*(((50/12.5+1)/125)**3*152*1.1)**(0.5) = 139.6773436750238\n"
     ]
    }
   ],
   "execution_count": 3040
  },
  {
   "cell_type": "markdown",
   "id": "27662c55-182c-451c-8a1f-c69963a20779",
   "metadata": {},
   "source": "##### Прочность по контрольным напряжениям обеспечена так как 139 МПа < 207 МПа"
  },
  {
   "cell_type": "markdown",
   "id": "d2919e25-1421-4aaf-9261-84c0f92c04d6",
   "metadata": {},
   "source": [
    "***\n",
    "#### Проверка прочности зубьев червячного венца на изгиб"
   ]
  },
  {
   "cell_type": "code",
   "id": "ec257587-fc40-4c29-9bc7-a41d72088ae7",
   "metadata": {
    "ExecuteTime": {
     "end_time": "2025-10-25T09:54:48.861766Z",
     "start_time": "2025-10-25T09:54:48.854280Z"
    }
   },
   "source": [
    "# Окружная сила на колесе\n",
    "Ft2 = 2 * T2/d2\n",
    "print(f\"2 * {T2}/{d2} = {2 * T2/d2}\")"
   ],
   "outputs": [
    {
     "name": "stdout",
     "output_type": "stream",
     "text": [
      "2 * 152058.8628266516/200.0 = 1520.588628266516\n"
     ]
    }
   ],
   "execution_count": 3041
  },
  {
   "cell_type": "code",
   "id": "4993cf2f-5821-41ae-b18e-c94c2a1ef135",
   "metadata": {
    "ExecuteTime": {
     "end_time": "2025-10-25T09:54:48.985667Z",
     "start_time": "2025-10-25T09:54:48.975192Z"
    }
   },
   "source": [
    "# Окружная сила на червяке\n",
    "Ft1 = 2 * T1/d1\n",
    "print(f\"2 * {T1:.0f}/{d1} = {2 * T1/d1:.0f}\")"
   ],
   "outputs": [
    {
     "name": "stdout",
     "output_type": "stream",
     "text": [
      "2 * 7603/50.0 = 304\n"
     ]
    }
   ],
   "execution_count": 3042
  },
  {
   "cell_type": "code",
   "id": "ff55090c-b570-4f49-b51b-380bbbc4e770",
   "metadata": {
    "ExecuteTime": {
     "end_time": "2025-10-25T09:54:49.109520Z",
     "start_time": "2025-10-25T09:54:49.101535Z"
    }
   },
   "source": [
    "# Определение коэффициента формы зуба из таблицы 3.7\n",
    "z_v = z2/cos(y) ** 3\n",
    "print(f\"{z2}/cos({y:.4f}) ** 3 = {z2/cos(y) ** 3:.1f}\")"
   ],
   "outputs": [
    {
     "name": "stdout",
     "output_type": "stream",
     "text": [
      "50/cos(0.1587) ** 3 = 51.9\n"
     ]
    }
   ],
   "execution_count": 3043
  },
  {
   "cell_type": "markdown",
   "id": "ec0e43f1-66a3-41e9-87fc-4d036c74b7e5",
   "metadata": {},
   "source": [
    "##### Принимаю форму зуба из таблицы 3.7\n",
    "$Y_F = 1,45$"
   ]
  },
  {
   "cell_type": "markdown",
   "id": "e5de94f3-d2c7-491a-bb01-f7ec8121437c",
   "metadata": {},
   "source": [
    "Значения коэффициентов расчетной нагрузки $K_н$ и $K_F$ принимаются одинаковыми (стр.18) = 1"
   ]
  },
  {
   "cell_type": "code",
   "id": "19ccc0c4-5662-421b-8e5c-449dc34d1037",
   "metadata": {
    "ExecuteTime": {
     "end_time": "2025-10-25T09:54:49.202365Z",
     "start_time": "2025-10-25T09:54:49.196358Z"
    }
   },
   "source": [
    "Y_F = 1.45\n",
    "K_F = K_n\n",
    "po_ff = 0.7*Y_F*Ft2*K_F/(b2*m_n)\n",
    "print(f\"0.7*{Y_F}*{Ft2:.0f}*{K_F}/({b2}*{m_n:.2f}) = {0.7*Y_F*Ft2*K_F/(b2*m_n):.2f}\")\n",
    "print(f\"{po_ff:.1f} < {po_f}\")\n",
    "print(\"Прочность по напряжениям изгиба обеспечена\")"
   ],
   "outputs": [
    {
     "name": "stdout",
     "output_type": "stream",
     "text": [
      "0.7*1.45*1521*1.1/(44*3.95) = 9.77\n",
      "9.8 < 82.0\n",
      "Прочность по напряжениям изгиба обеспечена\n"
     ]
    }
   ],
   "execution_count": 3044
  },
  {
   "cell_type": "markdown",
   "id": "f450de7b-be7b-4e62-8a5e-def9eeb845d2",
   "metadata": {},
   "source": [
    "***\n",
    "##### Уточняю КПД червячной передачи\n"
   ]
  },
  {
   "cell_type": "code",
   "id": "4e06826d-b214-4b7b-87ae-157702ae2120",
   "metadata": {
    "ExecuteTime": {
     "end_time": "2025-10-25T09:54:49.310356Z",
     "start_time": "2025-10-25T09:54:49.299377Z"
    }
   },
   "source": [
    "phi = \"1°26'\"\n",
    "f_deg = lambda x: f\"{int(x)}°{int((x - int(x))*60)}'\"\n",
    "print(f\"tan({f_deg(deg_y)})/tan({f_deg(deg_y)} + {phi})\")\n",
    "kpd_b = tan(y)/tan(y + degrees_to_radians(1, 26))\n",
    "print(kpd_b)"
   ],
   "outputs": [
    {
     "name": "stdout",
     "output_type": "stream",
     "text": [
      "tan(9°5')/tan(9°5' + 1°26')\n",
      "0.8613018256599354\n"
     ]
    }
   ],
   "execution_count": 3045
  },
  {
   "cell_type": "markdown",
   "id": "ac963eac-4853-4f70-97e3-f61a9219d83d",
   "metadata": {},
   "source": [
    "##### Общий КПД\n",
    "КПД = КПДп * КПДм"
   ]
  },
  {
   "cell_type": "code",
   "id": "72189d41-a29e-4d5e-aa4d-7d9a5c4fa76b",
   "metadata": {
    "ExecuteTime": {
     "end_time": "2025-10-25T09:54:49.418669Z",
     "start_time": "2025-10-25T09:54:49.403184Z"
    }
   },
   "source": [
    "kpd_sum = kpd_b * kpd_m\n",
    "print(f\"{kpd_b:.3f} * {kpd_m} = {kpd_b * kpd_m:.3f}\")\n",
    "# print(kpd_sum)"
   ],
   "outputs": [
    {
     "name": "stdout",
     "output_type": "stream",
     "text": [
      "0.861 * 0.98 = 0.844\n"
     ]
    }
   ],
   "execution_count": 3046
  },
  {
   "metadata": {
    "ExecuteTime": {
     "end_time": "2025-10-08T08:39:05.843551Z",
     "start_time": "2025-10-08T08:39:05.833544Z"
    }
   },
   "cell_type": "markdown",
   "source": "#### Тепловой расчет\n",
   "id": "3f972c6f20db83f6"
  },
  {
   "metadata": {
    "ExecuteTime": {
     "end_time": "2025-10-25T09:54:49.511305Z",
     "start_time": "2025-10-25T09:54:49.504319Z"
    }
   },
   "cell_type": "code",
   "source": [
    "# Тепло выделяемое редуктором\n",
    "FF = P1*(1 - kpd_b)\n",
    "print(f\"{P1}*(1 - {kpd_b:.2f}) = {P1*(1 - kpd_b):.0f}\")\n",
    "print(FF)"
   ],
   "id": "ceae9727a1c33714",
   "outputs": [
    {
     "name": "stdout",
     "output_type": "stream",
     "text": [
      "1125.0*(1 - 0.86) = 156\n",
      "156.03544613257267\n"
     ]
    }
   ],
   "execution_count": 3047
  },
  {
   "metadata": {
    "ExecuteTime": {
     "end_time": "2025-10-25T09:54:49.635073Z",
     "start_time": "2025-10-25T09:54:49.628092Z"
    }
   },
   "cell_type": "code",
   "source": [
    "# Площадь редуктора без учета днища\n",
    "A_plosh = 0.25*0.3 + (0.3*2 + 0.25*2)*0.1\n",
    "print(f\"Площадь редуктора = {0.25*0.3 + (0.3*2 + 0.25*2)*0.1} м2\")\n",
    "t_red = 100     # Температура редуктора допустимая\n",
    "t_pom = 20      # Температура в помещении\n",
    "K_tepl = 17     # Для помещений с интенсивной вентиляцией\n",
    "# Количество отведенного тепла\n",
    "FF_otv = K_tepl*(t_red - t_pom)*A_plosh\n",
    "print(f\"Отводимое тепло {FF_otv} Вт\")"
   ],
   "id": "ad19db005f524d67",
   "outputs": [
    {
     "name": "stdout",
     "output_type": "stream",
     "text": [
      "Площадь редуктора = 0.185 м2\n",
      "Отводимое тепло 251.6 Вт\n"
     ]
    }
   ],
   "execution_count": 3048
  },
  {
   "metadata": {},
   "cell_type": "markdown",
   "source": "##### Параметры ступицы смотри далее (Конструирование червячной передачи)",
   "id": "f3aafba1854e0d62"
  },
  {
   "metadata": {},
   "cell_type": "markdown",
   "source": [
    "***\n",
    "### Расчет валов"
   ],
   "id": "d08726d4f259b5de"
  },
  {
   "metadata": {},
   "cell_type": "markdown",
   "source": [
    "#### Расчет выполняю по таблице 4.1\n",
    "##### Быстроходный вал (червяк)"
   ],
   "id": "dd68e12105ff4aa3"
  },
  {
   "metadata": {
    "ExecuteTime": {
     "end_time": "2025-10-25T09:54:49.743371Z",
     "start_time": "2025-10-25T09:54:49.725409Z"
    }
   },
   "cell_type": "code",
   "source": [
    "# 1 ступень под муфту\n",
    "d_1st = 1.2 * d_ed\n",
    "print(f\"1.2 * {d_ed} = {1.2 * d_ed}\")\n",
    "d_1st = 24\n",
    "print(d_1st)"
   ],
   "id": "978861cad280a943",
   "outputs": [
    {
     "name": "stdout",
     "output_type": "stream",
     "text": [
      "1.2 * 22 = 26.4\n",
      "24\n"
     ]
    }
   ],
   "execution_count": 3049
  },
  {
   "metadata": {
    "ExecuteTime": {
     "end_time": "2025-10-25T09:54:49.851788Z",
     "start_time": "2025-10-25T09:54:49.833804Z"
    }
   },
   "cell_type": "code",
   "source": [
    "# 2 ступень под уплотнение крышки с отверстием и подшипник\n",
    "t = 2 # Таблица 4.2\n",
    "d_2st = d_1st + 2 * t\n",
    "print(d_2st)\n",
    "d_2st = 30\n",
    "print(d_2st)\n"
   ],
   "id": "c1a675667e584059",
   "outputs": [
    {
     "name": "stdout",
     "output_type": "stream",
     "text": [
      "28\n",
      "30\n"
     ]
    }
   ],
   "execution_count": 3050
  },
  {
   "metadata": {
    "ExecuteTime": {
     "end_time": "2025-10-25T09:54:49.944598Z",
     "start_time": "2025-10-25T09:54:49.937112Z"
    }
   },
   "cell_type": "code",
   "source": [
    "# 3 ступень под шестерню\n",
    "r = 1 # таблица 4.2\n",
    "d_3st = d_2st + 3.2 * r\n",
    "print(d_3st)\n",
    "d_3st = 34\n",
    "print(d_3st)"
   ],
   "id": "2a9e6e149495857",
   "outputs": [
    {
     "name": "stdout",
     "output_type": "stream",
     "text": [
      "33.2\n",
      "34\n"
     ]
    }
   ],
   "execution_count": 3051
  },
  {
   "metadata": {
    "ExecuteTime": {
     "end_time": "2025-10-25T09:54:50.052915Z",
     "start_time": "2025-10-25T09:54:50.040922Z"
    }
   },
   "cell_type": "code",
   "source": [
    "# 4 ступень\n",
    "d_4st = d_2st\n",
    "print(d_4st)"
   ],
   "id": "88ebb6d47b5aed36",
   "outputs": [
    {
     "name": "stdout",
     "output_type": "stream",
     "text": [
      "30\n"
     ]
    }
   ],
   "execution_count": 3052
  },
  {
   "metadata": {},
   "cell_type": "markdown",
   "source": "##### Тихоходной вал (червячное колесо)",
   "id": "f0e665def9c4ec5f"
  },
  {
   "metadata": {
    "ExecuteTime": {
     "end_time": "2025-10-25T10:05:35.646639Z",
     "start_time": "2025-10-25T10:05:35.635164Z"
    }
   },
   "cell_type": "code",
   "source": [
    "# Выходной вал под муфту: 1-я ступень\n",
    "d_1st_2 = (T2/(0.2 * 40)) ** (1/3)\n",
    "print(f\"({T2:.0f}/(0.2 * 40)) ** (1/3) = {(T2/(0.2 * 40)) ** (1/3):.2f}\")\n",
    "print(f\"{d_1st_2:.1f}\")\n",
    "d_1st_2 = 30\n",
    "print(d_1st_2)"
   ],
   "id": "d8ed487f2c93bfa0",
   "outputs": [
    {
     "name": "stdout",
     "output_type": "stream",
     "text": [
      "(152059/(0.2 * 40)) ** (1/3) = 26.69\n",
      "26.7\n",
      "30\n"
     ]
    }
   ],
   "execution_count": 3134
  },
  {
   "metadata": {
    "ExecuteTime": {
     "end_time": "2025-10-25T09:54:50.285051Z",
     "start_time": "2025-10-25T09:54:50.266585Z"
    }
   },
   "cell_type": "code",
   "source": [
    "# 2-я ступень\n",
    "t = 2.5\n",
    "d_2st_2 = d_1st_2 + 2 * t\n",
    "print(d_2st_2)"
   ],
   "id": "5dd77cd5b962a378",
   "outputs": [
    {
     "name": "stdout",
     "output_type": "stream",
     "text": [
      "35.0\n"
     ]
    }
   ],
   "execution_count": 3054
  },
  {
   "metadata": {
    "ExecuteTime": {
     "end_time": "2025-10-25T09:54:50.417804Z",
     "start_time": "2025-10-25T09:54:50.398342Z"
    }
   },
   "cell_type": "code",
   "source": [
    "# 3-я ступень\n",
    "d_3st_2 = d_2st_2 + 3.2 * r\n",
    "print(f\"{d_2st_2} + 3.2 * {r} = {d_2st_2 + 3.2 * r}\")\n",
    "print(d_3st_2)\n",
    "d_3st_2 = 40\n",
    "print(d_3st_2)"
   ],
   "id": "c6ae254893c0223c",
   "outputs": [
    {
     "name": "stdout",
     "output_type": "stream",
     "text": [
      "35.0 + 3.2 * 1 = 38.2\n",
      "38.2\n",
      "40\n"
     ]
    }
   ],
   "execution_count": 3055
  },
  {
   "metadata": {
    "ExecuteTime": {
     "end_time": "2025-10-25T09:54:50.501664Z",
     "start_time": "2025-10-25T09:54:50.472701Z"
    }
   },
   "cell_type": "code",
   "source": [
    "# 4-я ступень\n",
    "d_4st_2 = d_2st_2\n",
    "print(d_4st_2)"
   ],
   "id": "cfd31cbb84de6215",
   "outputs": [
    {
     "name": "stdout",
     "output_type": "stream",
     "text": [
      "35.0\n"
     ]
    }
   ],
   "execution_count": 3056
  },
  {
   "metadata": {},
   "cell_type": "markdown",
   "source": [
    "***\n",
    "#### Конструирование червячной передачи стр.20 (Ступица)"
   ],
   "id": "27dfa38bc72e992"
  },
  {
   "metadata": {
    "ExecuteTime": {
     "end_time": "2025-10-25T09:54:50.579005Z",
     "start_time": "2025-10-25T09:54:50.574013Z"
    }
   },
   "cell_type": "code",
   "source": [
    "# Наибольший диаметр червячного колеса\n",
    "d_am2 = da2 + 6*m/(z1 + 2)\n",
    "print(f\"{da2} + 6*{m}/({z1} + 2) = {da2 + 6*m/(z1 + 2)}\")"
   ],
   "id": "d65a8650b0c5f0c5",
   "outputs": [
    {
     "name": "stdout",
     "output_type": "stream",
     "text": [
      "208.0 + 6*4.0/(2 + 2) = 214.0\n"
     ]
    }
   ],
   "execution_count": 3057
  },
  {
   "metadata": {
    "ExecuteTime": {
     "end_time": "2025-10-25T09:54:50.707765Z",
     "start_time": "2025-10-25T09:54:50.695289Z"
    }
   },
   "cell_type": "code",
   "source": [
    "# Наружний диаметр ступицы\n",
    "d_st = 1.8 * d_3st_2\n",
    "print(f\"1.8 * {d_3st_2} = {1.8 * d_3st_2}\")"
   ],
   "id": "56f5bacbff7f77ca",
   "outputs": [
    {
     "name": "stdout",
     "output_type": "stream",
     "text": [
      "1.8 * 40 = 72.0\n"
     ]
    }
   ],
   "execution_count": 3058
  },
  {
   "metadata": {
    "ExecuteTime": {
     "end_time": "2025-10-25T09:54:50.811075Z",
     "start_time": "2025-10-25T09:54:50.796101Z"
    }
   },
   "cell_type": "code",
   "source": [
    "# Ширина ступицы\n",
    "l_st = 1.7 * d_3st_2\n",
    "print(l_st)"
   ],
   "id": "e7de78872e86bd7f",
   "outputs": [
    {
     "name": "stdout",
     "output_type": "stream",
     "text": [
      "68.0\n"
     ]
    }
   ],
   "execution_count": 3059
  },
  {
   "metadata": {
    "ExecuteTime": {
     "end_time": "2025-10-25T09:54:50.981258Z",
     "start_time": "2025-10-25T09:54:50.898412Z"
    }
   },
   "cell_type": "code",
   "source": [
    "po_1 = po_2 = 2 * m\n",
    "print(po_1)"
   ],
   "id": "f100511c5f6b05f6",
   "outputs": [
    {
     "name": "stdout",
     "output_type": "stream",
     "text": [
      "8.0\n"
     ]
    }
   ],
   "execution_count": 3060
  },
  {
   "metadata": {
    "ExecuteTime": {
     "end_time": "2025-10-25T09:54:51.043170Z",
     "start_time": "2025-10-25T09:54:51.034162Z"
    }
   },
   "cell_type": "code",
   "source": [
    "C = 0.25 * b2\n",
    "print(C)\n",
    "C = 12\n",
    "print(C)"
   ],
   "id": "5f36d317207ff492",
   "outputs": [
    {
     "name": "stdout",
     "output_type": "stream",
     "text": [
      "11.0\n",
      "12\n"
     ]
    }
   ],
   "execution_count": 3061
  },
  {
   "metadata": {
    "ExecuteTime": {
     "end_time": "2025-10-25T09:54:51.151527Z",
     "start_time": "2025-10-25T09:54:51.144041Z"
    }
   },
   "cell_type": "code",
   "source": [
    "# d винта\n",
    "d_vint = 1.4*m\n",
    "print(d_vint)"
   ],
   "id": "e717c50e9c408312",
   "outputs": [
    {
     "name": "stdout",
     "output_type": "stream",
     "text": [
      "5.6\n"
     ]
    }
   ],
   "execution_count": 3062
  },
  {
   "metadata": {
    "ExecuteTime": {
     "end_time": "2025-10-25T09:54:51.384096Z",
     "start_time": "2025-10-25T09:54:51.288272Z"
    }
   },
   "cell_type": "code",
   "source": [
    "# l винта\n",
    "l_vint = 0.4*b2\n",
    "print(l_vint)"
   ],
   "id": "837428e84e5a0544",
   "outputs": [
    {
     "name": "stdout",
     "output_type": "stream",
     "text": [
      "17.6\n"
     ]
    }
   ],
   "execution_count": 3063
  },
  {
   "metadata": {
    "ExecuteTime": {
     "end_time": "2025-10-25T09:54:51.477421Z",
     "start_time": "2025-10-25T09:54:51.429510Z"
    }
   },
   "cell_type": "code",
   "source": [
    "f = 0.2*d_vint\n",
    "print(f\"{f:.3f}\")"
   ],
   "id": "8258a606a4179c5e",
   "outputs": [
    {
     "name": "stdout",
     "output_type": "stream",
     "text": [
      "1.120\n"
     ]
    }
   ],
   "execution_count": 3064
  },
  {
   "metadata": {
    "ExecuteTime": {
     "end_time": "2025-10-08T11:23:05.250724Z",
     "start_time": "2025-10-08T11:23:05.242714Z"
    }
   },
   "cell_type": "markdown",
   "source": "#### Параметры ступеней валов и подшипников (табл. 4.6)",
   "id": "9eb404fca40a3e79"
  },
  {
   "metadata": {
    "ExecuteTime": {
     "end_time": "2025-10-25T09:54:51.590212Z",
     "start_time": "2025-10-25T09:54:51.527828Z"
    }
   },
   "cell_type": "code",
   "source": [
    "#from IPython.display import Markdown\n",
    "\n",
    "l_1st = 50\n",
    "l_2st = 55\n",
    "l_3st = 170\n",
    "l_4st = 30\n",
    "\n",
    "l_1st_2 = 60\n",
    "l_2st_2 = 45\n",
    "l_3st_2 = 80\n",
    "l_4st_2 = 20\n",
    "\n",
    "Markdown(f\"\"\"\n",
    "##### Быстроходный вал\n",
    "| d1 / l1 | d2 / l2 | d3 / l3 | d4 / l4 |\n",
    "|-------|------|------|------|\n",
    "| {d_1st} / {l_1st} | {d_2st} / {l_2st} | {d_3st} / {l_3st} | {d_4st} / {l_4st}|\n",
    "\n",
    "###### Подшипники для быстроходного вала\n",
    "| Обозначение | $dxDxB(T)$ | $Cr, кН$ | $C_0, кН$ | $α°$ |\n",
    "|------|-------|------|------|------|\n",
    "| 7506 | 30х62х21.5 | 36 | 27 | 14 |\n",
    "***\n",
    "##### Тихоходный вал\n",
    "| d1 / l1 | d2 / l2 | d3 / l3 | d4 / l4 |\n",
    "|-------|------|------|------|\n",
    "| {d_1st_2} / {l_1st_2} | {d_2st_2} / {l_2st_2} | {d_3st_2} / {l_3st_2} | {d_4st_2} / {l_4st_2}|\n",
    "\n",
    "##### Подшипники для тихоходного вала\n",
    "| Обозначение | $dxDxB(T)$ | $Cr, кН$ | $C_0, кН$ | $α°$ |\n",
    "|------|-------|------|------|------|\n",
    "| 36207 | 35х72х17 | 24 | 18 | 12 |\n",
    "***\n",
    "\n",
    "\"\"\")\n"
   ],
   "id": "d3c16681aef75db9",
   "outputs": [
    {
     "data": {
      "text/plain": [
       "<IPython.core.display.Markdown object>"
      ],
      "text/markdown": "\n##### Быстроходный вал\n| d1 / l1 | d2 / l2 | d3 / l3 | d4 / l4 |\n|-------|------|------|------|\n| 24 / 50 | 30 / 55 | 34 / 170 | 30 / 30|\n\n###### Подшипники для быстроходного вала\n| Обозначение | $dxDxB(T)$ | $Cr, кН$ | $C_0, кН$ | $α°$ |\n|------|-------|------|------|------|\n| 7506 | 30х62х21.5 | 36 | 27 | 14 |\n***\n##### Тихоходный вал\n| d1 / l1 | d2 / l2 | d3 / l3 | d4 / l4 |\n|-------|------|------|------|\n| 30 / 60 | 35.0 / 45 | 40 / 80 | 35.0 / 20|\n\n##### Подшипники для тихоходного вала\n| Обозначение | $dxDxB(T)$ | $Cr, кН$ | $C_0, кН$ | $α°$ |\n|------|-------|------|------|------|\n| 36207 | 35х72х17 | 24 | 18 | 12 |\n***\n\n"
     },
     "execution_count": 3065,
     "metadata": {},
     "output_type": "execute_result"
    }
   ],
   "execution_count": 3065
  },
  {
   "metadata": {
    "ExecuteTime": {
     "end_time": "2025-10-08T11:43:38.666338Z",
     "start_time": "2025-10-08T11:43:38.653345Z"
    }
   },
   "cell_type": "markdown",
   "source": [
    "### Выбор шпонок\n",
    "Шпонки выбираю по таб. 4.8 стр 23\n"
   ],
   "id": "153284936bb37216"
  },
  {
   "metadata": {},
   "cell_type": "markdown",
   "source": "#### Быстроходный вал: шпонка\n",
   "id": "7f1a0bfc2a646fba"
  },
  {
   "metadata": {
    "ExecuteTime": {
     "end_time": "2025-10-25T09:54:51.702004Z",
     "start_time": "2025-10-25T09:54:51.655591Z"
    }
   },
   "cell_type": "code",
   "source": [
    "# Быстроходный вал: хвостовик\n",
    "# Проверяю шпонку на смятие\n",
    "b_sh_b = 8\n",
    "h_sh_b = 7\n",
    "l_obsh_b = 32\n",
    "l_rb = l_obsh_b - b_sh_b\n",
    "print(l_rb)\n",
    "t1_b = 4\n",
    "p_sm1 = 2 * T1/(d_1st*l_rb*(h_sh_b - t1_b))\n",
    "print(f\"смятие = 2 * {T1:.0f}/({d_1st}*{l_rb}*({h_sh_b} - {t1_b})) = {2 * T1/(d_1st*l_rb*(h_sh_b - t1_b)):.2f}\")"
   ],
   "id": "d4d690bfb4414eeb",
   "outputs": [
    {
     "name": "stdout",
     "output_type": "stream",
     "text": [
      "24\n",
      "смятие = 2 * 7603/(24*24*(7 - 4)) = 8.80\n"
     ]
    }
   ],
   "execution_count": 3066
  },
  {
   "metadata": {
    "ExecuteTime": {
     "end_time": "2025-10-25T09:54:51.801320Z",
     "start_time": "2025-10-25T09:54:51.793833Z"
    }
   },
   "cell_type": "code",
   "source": [
    "# Тихоходный вал: под колесом\n",
    "# Проверяю шпонку на смятие\n",
    "b_sh_t = 12\n",
    "h_sh_t = 8\n",
    "l_obsh_t = 50\n",
    "l_rt = l_obsh_t - b_sh_t\n",
    "t1_t = 5\n",
    "p_sm2 = 2 * T2/(d_3st_2*l_rt*(h_sh_t - t1_t))\n",
    "print(f\"2 * {T2:.0f}/({d_3st_2}*{l_rt}*({h_sh_t} - {t1_t})) = {2 * T2/(d_3st_2*l_rt*(h_sh_t - t1_t)):.0f}\")"
   ],
   "id": "fb6a266c34021acf",
   "outputs": [
    {
     "name": "stdout",
     "output_type": "stream",
     "text": [
      "2 * 152059/(40*38*(8 - 5)) = 67\n"
     ]
    }
   ],
   "execution_count": 3067
  },
  {
   "metadata": {
    "ExecuteTime": {
     "end_time": "2025-10-25T09:54:51.909620Z",
     "start_time": "2025-10-25T09:54:51.893150Z"
    }
   },
   "cell_type": "code",
   "source": [
    "# Тихоходный вал: хвостовик\n",
    "# Проверяю шпонку на смятие\n",
    "b_sh_out = 10\n",
    "h_sh_out = 8\n",
    "l_obsh_out = 56\n",
    "l_r_out = l_obsh_out - b_sh_out\n",
    "t1_t_out = 5\n",
    "p_sm3 = 2 * T2/(d_1st_2*l_r_out*(h_sh_out - t1_t_out))\n",
    "print(f\"2 * {T2:.0f}/({d_1st_2}*{l_r_out}*({h_sh_out} - {t1_t_out})) = {2 * T2/(d_1st_2*l_r_out*(h_sh_out - t1_t_out)):.1f}\")"
   ],
   "id": "4bd8082cadfe98d0",
   "outputs": [
    {
     "name": "stdout",
     "output_type": "stream",
     "text": [
      "2 * 152059/(30*46*(8 - 5)) = 73.5\n"
     ]
    }
   ],
   "execution_count": 3068
  },
  {
   "metadata": {
    "ExecuteTime": {
     "end_time": "2025-10-25T04:20:40.858022Z",
     "start_time": "2025-10-25T04:20:40.850020Z"
    }
   },
   "cell_type": "markdown",
   "source": [
    "### Таблица 4.9\n",
    "#### Результаты проверок шпонок для всех валов"
   ],
   "id": "3ceb518b5b2c642b"
  },
  {
   "metadata": {
    "ExecuteTime": {
     "end_time": "2025-10-25T09:54:52.018916Z",
     "start_time": "2025-10-25T09:54:51.995459Z"
    }
   },
   "cell_type": "code",
   "source": [
    "#from IPython.display import Markdown\n",
    "\n",
    "Markdown(rf\"\"\"\n",
    "#### Таблица 4.9\n",
    "##### Результаты проверки шпонок для всех валов\n",
    "|Место<br/>установки<br/>шпонки| T, Н·мм | d, мм | bxh, мм | $t_1$, мм | l, мм | $l_р$, мм | $σ_{{см}}$, МПа|\n",
    "|-------|------|------|------|------|------|------|------|\n",
    "| Быстроходный вал,<br/>хвостовик | {T1:.0f} | {d_1st} | {b_sh_b}х{h_sh_b} | {t1_b} | {l_obsh_b} | {l_rb}| {p_sm1:.2f} |\n",
    "| Тиходный вал,<br/>под колесом | {T2:.0f} | {d_3st_2} | {b_sh_t}х{h_sh_t} | {t1_t} | {l_obsh_t} | {l_rt}| {p_sm2:.2f} |\n",
    "| Тиходный вал,<br/>хвостовик | {T2:.0f} | {d_1st} | {b_sh_out}х{h_sh_out} | {t1_t_out} | {l_obsh_out} | {l_r_out}| {p_sm3:.2f} |\n",
    "\"\"\")"
   ],
   "id": "2f297ef579e117d9",
   "outputs": [
    {
     "data": {
      "text/plain": [
       "<IPython.core.display.Markdown object>"
      ],
      "text/markdown": "\n#### Таблица 4.9\n##### Результаты проверки шпонок для всех валов\n|Место<br/>установки<br/>шпонки| T, Н·мм | d, мм | bxh, мм | $t_1$, мм | l, мм | $l_р$, мм | $σ_{см}$, МПа|\n|-------|------|------|------|------|------|------|------|\n| Быстроходный вал,<br/>хвостовик | 7603 | 24 | 8х7 | 4 | 32 | 24| 8.80 |\n| Тиходный вал,<br/>под колесом | 152059 | 40 | 12х8 | 5 | 50 | 38| 66.69 |\n| Тиходный вал,<br/>хвостовик | 152059 | 24 | 10х8 | 5 | 56 | 46| 73.46 |\n"
     },
     "execution_count": 3069,
     "metadata": {},
     "output_type": "execute_result"
    }
   ],
   "execution_count": 3069
  },
  {
   "metadata": {},
   "cell_type": "markdown",
   "source": [
    "***\n",
    "### Определение сил в зацеплении и консольных сил от муфт\n",
    "табл.4.10\n",
    "***"
   ],
   "id": "86582db894cf5e66"
  },
  {
   "metadata": {
    "ExecuteTime": {
     "end_time": "2025-10-25T09:54:52.188601Z",
     "start_time": "2025-10-25T09:54:52.143685Z"
    }
   },
   "cell_type": "code",
   "source": [
    "# Окружная сила на червяке\n",
    "print(f\"2*{T1:.0f}/{d1} = {2*T1/d1:.0f}\")\n",
    "print(\"Ft1\")"
   ],
   "id": "c66a89903c5bbc46",
   "outputs": [
    {
     "name": "stdout",
     "output_type": "stream",
     "text": [
      "2*7603/50.0 = 304\n",
      "Ft1\n"
     ]
    }
   ],
   "execution_count": 3070
  },
  {
   "metadata": {
    "ExecuteTime": {
     "end_time": "2025-10-25T09:54:52.311874Z",
     "start_time": "2025-10-25T09:54:52.307383Z"
    }
   },
   "cell_type": "code",
   "source": [
    "# Окружная сила на колесе\n",
    "print(f\"2*{T2:.0f}/{d2} = {2*T2/d2:.0f}\")\n",
    "print(\"Ft2\")\n"
   ],
   "id": "61355201ae51098c",
   "outputs": [
    {
     "name": "stdout",
     "output_type": "stream",
     "text": [
      "2*152059/200.0 = 1521\n",
      "Ft2\n"
     ]
    }
   ],
   "execution_count": 3071
  },
  {
   "metadata": {
    "ExecuteTime": {
     "end_time": "2025-10-25T09:55:49.948007Z",
     "start_time": "2025-10-25T09:55:49.936027Z"
    }
   },
   "cell_type": "code",
   "source": [
    "# Радиальная сила на колесе и на червяке\n",
    "Fr2 = Ft2*tan(radians(20))\n",
    "print(f\"{Fr2:.1f}\")\n",
    "Fr1 = Fr2"
   ],
   "id": "ae32115acae470f0",
   "outputs": [
    {
     "name": "stdout",
     "output_type": "stream",
     "text": [
      "553.4\n"
     ]
    }
   ],
   "execution_count": 3131
  },
  {
   "metadata": {
    "ExecuteTime": {
     "end_time": "2025-10-25T09:54:52.621300Z",
     "start_time": "2025-10-25T09:54:52.594849Z"
    }
   },
   "cell_type": "code",
   "source": [
    "# Осевая сила на червяке\n",
    "Fa1 = Ft2\n",
    "print(f\"{Fa1:.0f}\")"
   ],
   "id": "56136f1170da6e1f",
   "outputs": [
    {
     "name": "stdout",
     "output_type": "stream",
     "text": [
      "1521\n"
     ]
    }
   ],
   "execution_count": 3073
  },
  {
   "metadata": {
    "ExecuteTime": {
     "end_time": "2025-10-25T09:54:52.729612Z",
     "start_time": "2025-10-25T09:54:52.712630Z"
    }
   },
   "cell_type": "code",
   "source": [
    "# Осевая сила на колесе\n",
    "Fa2 = Ft1\n",
    "print(f\"{Fa2:.0f}\")"
   ],
   "id": "91179217c23bcd00",
   "outputs": [
    {
     "name": "stdout",
     "output_type": "stream",
     "text": [
      "304\n"
     ]
    }
   ],
   "execution_count": 3074
  },
  {
   "metadata": {
    "ExecuteTime": {
     "end_time": "2025-10-25T09:54:52.822439Z",
     "start_time": "2025-10-25T09:54:52.814940Z"
    }
   },
   "cell_type": "code",
   "source": [
    "# Сила на муфте (быстроходный вал)\n",
    "Fm1 = 4*T1 ** 0.5\n",
    "print(f\"{Fm1:.0f}\")"
   ],
   "id": "61df92ffb782900c",
   "outputs": [
    {
     "name": "stdout",
     "output_type": "stream",
     "text": [
      "349\n"
     ]
    }
   ],
   "execution_count": 3075
  },
  {
   "metadata": {
    "ExecuteTime": {
     "end_time": "2025-10-25T09:54:52.946215Z",
     "start_time": "2025-10-25T09:54:52.927748Z"
    }
   },
   "cell_type": "code",
   "source": [
    "# Сила на муфте (тихоходный вал)\n",
    "Fm2 = 4*T2 ** 0.5\n",
    "print(f\"{Fm2:.0f}\")"
   ],
   "id": "55386b9bb7a5d401",
   "outputs": [
    {
     "name": "stdout",
     "output_type": "stream",
     "text": [
      "1560\n"
     ]
    }
   ],
   "execution_count": 3076
  },
  {
   "metadata": {},
   "cell_type": "markdown",
   "source": [
    "### Таблица 4.10\n",
    "#### Определение сил в зацеплении и консольных сил от муфт"
   ],
   "id": "fd90f3e60f48311d"
  },
  {
   "metadata": {
    "ExecuteTime": {
     "end_time": "2025-10-25T10:02:30.821217Z",
     "start_time": "2025-10-25T10:02:30.808241Z"
    }
   },
   "cell_type": "code",
   "source": [
    "#from IPython.display import Markdown\n",
    "\n",
    "Markdown(rf\"\"\"\n",
    "#### Таблица 4.10\n",
    "##### Определение сил в зацеплении и консольных сил от муфт\n",
    "##### Быстроходная ступень\n",
    "|Окружная| Радиальная | Осевая | Муфта |\n",
    "|-------|------|------|------|\n",
    "| $F_{{t_1}} = \\dfrac{{2 \\cdot T_1}}{{d_1}}$ | $F_{{r1}} = F_{{r2}}$ | $F_{{a1}} = F_{{t2}}$ | $F_{{\\text{{м}}1}} = 4\\sqrt{{T_1}}$ |\n",
    "| {Ft1:.0f} | {Fr1:.0f} | {Fa1:.0f} | {Fm1:.0f} |\n",
    "\n",
    "##### Тиходная ступень\n",
    "|Окружная| Радиальная | Осевая | Муфта |\n",
    "|-------|------|------|------|\n",
    "| $F_{{t_2}} = \\dfrac{{2 \\cdot T_2}}{{d_2}}$ | $F_{{r2}} = F_{{t2}} \\cdot tg α$ | $F_{{a2}} = F_{{t1}}$ | $F_{{\\text{{м}}2}} = 4\\sqrt{{T_2}}$ |\n",
    "| {Ft2:.0f} | {Fr2:.0f} | {Fa2:.0f} | {Fm2:.0f} |\n",
    "\"\"\")"
   ],
   "id": "10d0fae6dbc0d4f5",
   "outputs": [
    {
     "data": {
      "text/plain": [
       "<IPython.core.display.Markdown object>"
      ],
      "text/markdown": "\n#### Таблица 4.10\n##### Определение сил в зацеплении и консольных сил от муфт\n##### Быстроходная ступень\n|Окружная| Радиальная | Осевая | Муфта |\n|-------|------|------|------|\n| $F_{t_1} = \\dfrac{2 \\cdot T_1}{d_1}$ | $F_{r1} = F_{r2}$ | $F_{a1} = F_{t2}$ | $F_{\\text{м}1} = 4\\sqrt{T_1}$ |\n| 304 | 553 | 1521 | 349 |\n\n##### Тиходная ступень\n|Окружная| Радиальная | Осевая | Муфта |\n|-------|------|------|------|\n| $F_{t_2} = \\dfrac{2 \\cdot T_2}{d_2}$ | $F_{r2} = F_{t2} \\cdot tg α$ | $F_{a2} = F_{t1}$ | $F_{\\text{м}2} = 4\\sqrt{T_2}$ |\n| 1521 | 553 | 304 | 1560 |\n"
     },
     "execution_count": 3132,
     "metadata": {},
     "output_type": "execute_result"
    }
   ],
   "execution_count": 3132
  },
  {
   "metadata": {},
   "cell_type": "markdown",
   "source": [
    "***\n",
    "# Реакции и эпюры"
   ],
   "id": "b56b36086ed562d"
  },
  {
   "metadata": {},
   "cell_type": "markdown",
   "source": [
    "***\n",
    "### Расчет быстроходного вала"
   ],
   "id": "672cf5695283e6c1"
  },
  {
   "metadata": {
    "ExecuteTime": {
     "end_time": "2025-10-25T09:54:53.147390Z",
     "start_time": "2025-10-25T09:54:53.135456Z"
    }
   },
   "cell_type": "code",
   "source": [
    "# Расчет места приложения сил в радиально упорном подшипнике\n",
    "print(0.5*(29+0.5*(30+72)*tan(radians(12))))"
   ],
   "id": "8e3881615609a4cc",
   "outputs": [
    {
     "name": "stdout",
     "output_type": "stream",
     "text": [
      "19.920192322585564\n"
     ]
    }
   ],
   "execution_count": 3078
  },
  {
   "metadata": {
    "ExecuteTime": {
     "end_time": "2025-10-25T09:54:53.301572Z",
     "start_time": "2025-10-25T09:54:53.257169Z"
    }
   },
   "cell_type": "code",
   "source": [
    "# Расчет быстроходного вала\n",
    "def calc_b():\n",
    "    # Подшипник: 7506\n",
    "    d_podsh = 30\n",
    "    D_podsh = 62\n",
    "    T_podsh = 21.5\n",
    "    alpha_podsh = 14\n",
    "\n",
    "    # Точка приложения опорной силы в коническом подшипнике\n",
    "    a_podsh = 0.5*(T_podsh + 0.5*(d_podsh + D_podsh)*tan(radians(alpha_podsh)))\n",
    "    print(f\"a_podsh = {a_podsh}\")\n",
    "    #a_podsh = 20\n",
    "    # print(f\"a_podsh = {a_podsh}\")\n",
    "\n",
    "    # Списки для построения эпюр\n",
    "    lst_x1 = [0]\n",
    "    lst_M1 = [0]\n",
    "    lst_x2 = [0]\n",
    "    lst_M2 = [0]\n",
    "\n",
    "    # Червяк: длины, мм\n",
    "    l1 = l_1st\n",
    "    l2 = l_2st\n",
    "    l3 = l_3st\n",
    "    l4 = l_4st\n",
    "    d1 = d_1b\n",
    "\n",
    "    # Участки, мм\n",
    "    a = T_podsh - a_podsh + l3/2\n",
    "    b = a\n",
    "    c = l2 - (T_podsh - a_podsh) + l1/2\n",
    "    d = d1/2\n",
    "    print(f\"a = {a}, b = {b}, c = {c}, d = {d}\")\n",
    "\n",
    "    # Силы, Н\n",
    "    Ft = Ft1\n",
    "    Fr = Fr1\n",
    "    Fa = Fa1\n",
    "    Fm = Fm1\n",
    "\n",
    "    #----------------------------------------\n",
    "    # Вертикальная плоскость: XY\n",
    "\n",
    "    #-----------1. Реакции--------------------\n",
    "    # Моменты: положительно = против часовой стрелки\n",
    "\n",
    "    # ∑M(A) = 0\n",
    "    # -Fr*a - Fa*d + Rb*(a + b) = 0\n",
    "    Rb = Rb1 = (Fr*a + Fa*d)/(a + b)\n",
    "\n",
    "    # ∑M(B) = 0\n",
    "    # -Ra*(a + b) + Fr*b - Fa*d = 0\n",
    "    Ra = Ra1 = (Fr*b - Fa*d)/(a + b)\n",
    "\n",
    "    # Проверка ось Y\n",
    "    # Ra + Rb - Fr = 0\n",
    "    assert abs(Ra + Rb - Fr) < 1e-3, 'Сумма сил должна быть равна нулю'\n",
    "\n",
    "    # Вывод результата\n",
    "    print(\"\\n1.Расчет реакции опор\")\n",
    "    print(\"Вертикальная плоскость: XY\")\n",
    "    print(f\"Момент Fa*d = {Fa*d:.0f} Н·мм\")\n",
    "    print(\"Ось Y\")\n",
    "    print(f\"Ra = {Ra:.3f}\")\n",
    "    print(f\"Rb = {Rb:.3f}\\n\")\n",
    "\n",
    "\n",
    "    #-------------2. Эпюры--------------------\n",
    "    # Силы: положительно = балка крутится\n",
    "    # по часовой стрелке\n",
    "    #\n",
    "    # Моменты: положительно = балка хочет изогнуться\n",
    "    # вверх\n",
    "\n",
    "    # 1.Участок 0 ≤ x ≤ a\n",
    "    # x = a\n",
    "    Ma = Ra * a\n",
    "\n",
    "    # Записываю результат\n",
    "    lst_x1 += [a]\n",
    "    lst_M1 += [Ma]\n",
    "\n",
    "    # Вывод результата\n",
    "    print(\"\\n2.Построение эпюр\")\n",
    "    print(\"Вертикальная плоскость: XY\")\n",
    "    print(\"1.Участок 0 ≤ x ≤ a\")\n",
    "    print(\"x = 0: Миy = 0\")\n",
    "    print(f\"x = a: Миy = {Ma:.1f}\\n\")\n",
    "\n",
    "\n",
    "    # 2.Участок a ≤ x ≤ (a + b)\n",
    "    # x = a\n",
    "    Ma = Ra * a + Fa * d\n",
    "    # x = a + b\n",
    "    Mb = Ra * (a + b) + Fa * d - Fr * b\n",
    "\n",
    "    # Записываю результат\n",
    "    lst_x1 += [a, a + b, a + b + c]\n",
    "    lst_M1 += [Ma, Mb, 0]\n",
    "\n",
    "    # Вывод результата\n",
    "    print(\"2.Участок a ≤ x ≤ (a + b)\")\n",
    "    print(f\"x = a: Миy = {Ma:.1f}\")\n",
    "    print(f\"x = a+b: Миy = {Mb:.1f}\\n\")\n",
    "    print(\"--------------------------------------------------\\n\")\n",
    "\n",
    "\n",
    "    #----------------------------------------\n",
    "    # Горизонтальная плоскость: XZ\n",
    "\n",
    "    #-----------1. Реакции--------------------\n",
    "    # Моменты: положительно = против часовой стрелки\n",
    "\n",
    "    # ∑M(A) = 0\n",
    "    # Ft*a - Rb*(a + b) - Fm*(a + b + c) = 0\n",
    "    Rb = Rb2 = (Ft*a - Fm*(a + b + c))/(a + b)\n",
    "\n",
    "    # ∑M(B) = 0\n",
    "    # Ra*(a + b) - Ft*b - Fm*c = 0\n",
    "    Ra = Ra2 = (Ft*b + Fm*c)/(a + b)\n",
    "\n",
    "    # Проверка ось Z\n",
    "    # Ra - Ft + Rb + Fm = 0\n",
    "    assert abs(Ra - Ft + Rb + Fm) < 1e-3 , 'Сумма сил должна быть равна нулю'\n",
    "\n",
    "    # Вывод результата\n",
    "    print(\"1.Расчет реакции опор\")\n",
    "    print(\"Горизонтальная плоскость: XZ\")\n",
    "    print(\"Ось Z\")\n",
    "    print(f\"Ra = {Ra:.3f}\")\n",
    "    print(f\"Rb = {Rb:.3f}\\n\")\n",
    "\n",
    "\n",
    "    #-------------2. Эпюры--------------------\n",
    "    # Силы: положительно = балка крутится\n",
    "    # по часовой стрелке\n",
    "    #\n",
    "    # Моменты: положительно = балка хочет изогнуться\n",
    "    # вверх\n",
    "\n",
    "    # 1.Участок 0 ≤ x ≤ a\n",
    "    # x = a\n",
    "    Ma = -Ra * a\n",
    "\n",
    "    # Записываю результат\n",
    "    lst_x2 += [a]\n",
    "    lst_M2 += [Ma]\n",
    "\n",
    "    # Вывод результата\n",
    "    print(\"\\n2.Построение эпюр\")\n",
    "    print(\"Горизонтальная плоскость: XZ\\n\")\n",
    "    print(\"1.Участок 0 ≤ x ≤ a\")\n",
    "    print(\"x = 0: Миy = 0\")\n",
    "    print(f\"x = a: Миy = {Ma:.1f}\\n\")\n",
    "\n",
    "    # 2.Участок a ≤ x ≤ (a + b)\n",
    "    # x = a\n",
    "    Ma = -Ra * a\n",
    "    # x = a + b\n",
    "    Mb = -Ra * (a + b) + Ft * b\n",
    "\n",
    "    # Записываю результат\n",
    "    lst_x2 += [a, a + b]\n",
    "    lst_M2 += [Ma, Mb]\n",
    "\n",
    "    # Вывод результата\n",
    "    print(\"2.Участок a ≤ x ≤ (a + b)\")\n",
    "    print(f\"x = a: Миy = {Ma:.1f}\")\n",
    "    print(f\"x = a+b: Миy = {Mb:.1f}\\n\")\n",
    "\n",
    "    # 3.Участок (a + b) ≤ x ≤ (a + b + c)\n",
    "    # x = a + b\n",
    "    Mb = -Ra * (a + b) + Ft * b\n",
    "    # x = a + b + c\n",
    "    Mc = -Ra * (a + b + c) + Ft * (b + c) - Rb * c\n",
    "\n",
    "    # Записываю результат\n",
    "    lst_x2 += [a + b, a + b + c]\n",
    "    lst_M2 += [Mb, Mc]\n",
    "\n",
    "    # Вывод результата\n",
    "    print(\"3.Участок (a + b) ≤ x ≤ (a + b + c)\")\n",
    "    print(f\"x = a+b: Миy = {Mb:.1f}\")\n",
    "    print(f\"x = a+b+c: Миy = {Mc:.1f}\\n\")\n",
    "\n",
    "    return (lst_x1, lst_M1), (lst_x2, lst_M2), (Ra1 ** 2 + Ra2 ** 2) ** 0.5, (Rb1 ** 2 + Rb2 ** 2) ** 0.5\n",
    "\n",
    "resultY, resultX, Ra_sum_1, Rb_sum_1 = calc_b()"
   ],
   "id": "e673cd41fae22866",
   "outputs": [
    {
     "name": "stdout",
     "output_type": "stream",
     "text": [
      "a_podsh = 16.484544065393155\n",
      "a = 90.01545593460685, b = 90.01545593460685, c = 74.98454406539315, d = 25.0\n",
      "\n",
      "1.Расчет реакции опор\n",
      "Вертикальная плоскость: XY\n",
      "Момент Fa*d = 38015 Н·мм\n",
      "Ось Y\n",
      "Ra = 65.568\n",
      "Rb = 487.881\n",
      "\n",
      "\n",
      "2.Построение эпюр\n",
      "Вертикальная плоскость: XY\n",
      "1.Участок 0 ≤ x ≤ a\n",
      "x = 0: Миy = 0\n",
      "x = a: Миy = 5902.1\n",
      "\n",
      "2.Участок a ≤ x ≤ (a + b)\n",
      "x = a: Миy = 43916.8\n",
      "x = a+b: Миy = 0.0\n",
      "\n",
      "--------------------------------------------------\n",
      "\n",
      "1.Расчет реакции опор\n",
      "Горизонтальная плоскость: XZ\n",
      "Ось Z\n",
      "Ra = 297.329\n",
      "Rb = -341.990\n",
      "\n",
      "\n",
      "2.Построение эпюр\n",
      "Горизонтальная плоскость: XZ\n",
      "\n",
      "1.Участок 0 ≤ x ≤ a\n",
      "x = 0: Миy = 0\n",
      "x = a: Миy = -26764.2\n",
      "\n",
      "2.Участок a ≤ x ≤ (a + b)\n",
      "x = a: Миy = -26764.2\n",
      "x = a+b: Миy = -26153.1\n",
      "\n",
      "3.Участок (a + b) ≤ x ≤ (a + b + c)\n",
      "x = a+b: Миy = -26153.1\n",
      "x = a+b+c: Миy = -0.0\n",
      "\n"
     ]
    }
   ],
   "execution_count": 3079
  },
  {
   "metadata": {},
   "cell_type": "markdown",
   "source": [
    "***\n",
    "#### Суммарная реакция опор на подшипниках быстроходного вала"
   ],
   "id": "24210f837dc66df7"
  },
  {
   "metadata": {
    "ExecuteTime": {
     "end_time": "2025-10-25T09:54:53.425288Z",
     "start_time": "2025-10-25T09:54:53.376880Z"
    }
   },
   "cell_type": "code",
   "source": [
    "# Подшипник A\n",
    "print(f\"Ra_сум = {Ra_sum_1:.1f} Н\\n\")\n",
    "# Подшипник B\n",
    "print(f\"Rb_сум = {Rb_sum_1:.1f} Н\\n\")\n"
   ],
   "id": "84a6e71b79db6c8d",
   "outputs": [
    {
     "name": "stdout",
     "output_type": "stream",
     "text": [
      "Ra_сум = 304.5 Н\n",
      "\n",
      "Rb_сум = 595.8 Н\n",
      "\n"
     ]
    }
   ],
   "execution_count": 3080
  },
  {
   "metadata": {},
   "cell_type": "markdown",
   "source": "#### Максимальный изгибающий момент для быстроходного вала",
   "id": "6e73b2fa10c984f"
  },
  {
   "metadata": {
    "ExecuteTime": {
     "end_time": "2025-10-25T09:54:53.487174Z",
     "start_time": "2025-10-25T09:54:53.470704Z"
    }
   },
   "cell_type": "code",
   "source": [
    "M_k1 = (51413 ** 2 + 26764 ** 2) ** 0.5\n",
    "print(f\"{M_k1:.0f}\")"
   ],
   "id": "e73218a5b9cd0039",
   "outputs": [
    {
     "name": "stdout",
     "output_type": "stream",
     "text": [
      "57962\n"
     ]
    }
   ],
   "execution_count": 3081
  },
  {
   "metadata": {},
   "cell_type": "markdown",
   "source": [
    "***\n",
    "### Графики изгибающих моментов для быстроходного вала"
   ],
   "id": "acbd55ee7c72f7cc"
  },
  {
   "metadata": {
    "ExecuteTime": {
     "end_time": "2025-10-25T09:54:54.041539Z",
     "start_time": "2025-10-25T09:54:53.537580Z"
    }
   },
   "cell_type": "code",
   "source": [
    "import matplotlib.pyplot as plt\n",
    "\n",
    "x, M = resultY\n",
    "\n",
    "plt.figure(figsize=(8, 4))\n",
    "plt.plot(x, M, marker='o', linestyle='-', color='blue', label='Эпюра Mиy(x)')\n",
    "plt.axhline(0, color='black', linewidth=0.5)\n",
    "plt.xlabel('Длина вала (мм)')\n",
    "plt.ylabel('Момент (Н·мм)')\n",
    "plt.title('Вертикальная плоскость')\n",
    "plt.grid(True)\n",
    "plt.legend()\n",
    "\n",
    "# Инвертируем ось Y\n",
    "plt.gca().invert_yaxis()\n",
    "plt.show()\n",
    "\n"
   ],
   "id": "27ebaddf1b65be3d",
   "outputs": [
    {
     "data": {
      "text/plain": [
       "<Figure size 800x400 with 1 Axes>"
      ],
      "image/png": "[encoded data removed]"
     },
     "metadata": {},
     "output_type": "display_data",
     "jetTransient": {
      "display_id": null
     }
    }
   ],
   "execution_count": 3082
  },
  {
   "metadata": {
    "ExecuteTime": {
     "end_time": "2025-10-25T09:54:54.242653Z",
     "start_time": "2025-10-25T09:54:54.084946Z"
    }
   },
   "cell_type": "code",
   "source": [
    "x, M = resultX\n",
    "\n",
    "plt.figure(figsize=(8, 4))\n",
    "plt.plot(x, M, marker='o', linestyle='-', color='blue', label='Эпюра Mиx(x)')\n",
    "plt.axhline(0, color='black', linewidth=0.5)\n",
    "plt.xlabel('Длина вала (мм)')\n",
    "plt.ylabel('Момент (Н·мм)')\n",
    "plt.title('Горизонтальная плоскость')\n",
    "plt.grid(True)\n",
    "plt.legend()\n",
    "\n",
    "# Инвертируем ось Y\n",
    "plt.gca().invert_yaxis()\n",
    "plt.show()"
   ],
   "id": "26a0639b5abd9fb4",
   "outputs": [
    {
     "data": {
      "text/plain": [
       "<Figure size 800x400 with 1 Axes>"
      ],
      "image/png": "[encoded data removed]"
     },
     "metadata": {},
     "output_type": "display_data",
     "jetTransient": {
      "display_id": null
     }
    }
   ],
   "execution_count": 3083
  },
  {
   "metadata": {
    "ExecuteTime": {
     "end_time": "2025-10-08T16:43:01.454357Z",
     "start_time": "2025-10-08T16:43:01.442365Z"
    }
   },
   "cell_type": "markdown",
   "source": [
    "***\n",
    "### Расчет тихоходного вала"
   ],
   "id": "55f69f824e38eb90"
  },
  {
   "metadata": {
    "ExecuteTime": {
     "end_time": "2025-10-25T09:54:54.320010Z",
     "start_time": "2025-10-25T09:54:54.267107Z"
    }
   },
   "cell_type": "code",
   "source": [
    "def calc_t():\n",
    "\n",
    "    # Подшипник: 36207\n",
    "    d_podsh = 35\n",
    "    D_podsh = 72\n",
    "    B_podsh = 17\n",
    "    alpha_podsh = 12\n",
    "\n",
    "    # Точка приложения опорной силы в радиально-упорном подшипнике\n",
    "    a_podsh = 0.5*(B_podsh + 0.5*(d_podsh + D_podsh)*tan(radians(alpha_podsh)))\n",
    "    print(f\"a_podsh = {a_podsh}\")\n",
    "    a_podsh = 14\n",
    "    print(f\"a_podsh = {a_podsh}\")\n",
    "\n",
    "    # Списки для построения эпюр\n",
    "    lst_x1 = [0]\n",
    "    lst_M1 = [0]\n",
    "    lst_x2 = [0]\n",
    "    lst_M2 = [0]\n",
    "\n",
    "    # Тихоходный вал: длины, мм\n",
    "    l1 = l_1st_2\n",
    "    l2 = l_2st_2\n",
    "    l3 = l_3st_2\n",
    "    l4 = l_4st_2\n",
    "    d1 = d_2t\n",
    "\n",
    "    # Участки, мм\n",
    "    a = B_podsh - a_podsh + l3/2\n",
    "    b = a\n",
    "    c = l2 - (B_podsh - a_podsh) + l1/2\n",
    "    d = d1/2\n",
    "    print(f\"a = {a}, b = {b}, c = {c}, d = {d}\")\n",
    "\n",
    "    # Силы, Н\n",
    "    Ft = Ft2\n",
    "    Fr = Fr2\n",
    "    Fa = Fa2\n",
    "    Fm = Fm2\n",
    "\n",
    "    #----------------------------------------\n",
    "    # Вертикальная плоскость: XY\n",
    "\n",
    "    #-----------1. Реакции--------------------\n",
    "    # Моменты: положительно = против часовой стрелки\n",
    "\n",
    "    # ∑M(A) = 0\n",
    "    # -Fr*a + Fa*d + Rb*(a + b) = 0\n",
    "    Rb = Rb1 = (Fr*a - Fa*d)/(a + b)\n",
    "\n",
    "    # ∑M(B) = 0\n",
    "    # -Ra*(a + b) + Fr*b + Fa*d = 0\n",
    "    Ra = Ra1 = (Fr*b + Fa*d)/(a + b)\n",
    "\n",
    "    # Проверка ось Y\n",
    "    # Ra + Rb - Fr = 0\n",
    "    assert Ra + Rb - Fr == 0, 'Сумма сил должна быть равна нулю'\n",
    "\n",
    "    # Вывод результата\n",
    "    print(\"\\n1.Расчет реакции опор\")\n",
    "    print(\"Вертикальная плоскость: XY\")\n",
    "    print(f\"Момент Fa*d = {Fa*d:.0f} Н·мм\")\n",
    "    print(\"Ось Y\")\n",
    "    print(f\"Ra = {Ra:.3f}\")\n",
    "    print(f\"Rb = {Rb:.3f}\\n\")\n",
    "\n",
    "\n",
    "    #-------------2. Эпюры--------------------\n",
    "    # Силы: положительно = балка крутится\n",
    "    # по часовой стрелке\n",
    "    #\n",
    "    # Моменты: положительно = балка хочет изогнуться\n",
    "    # вверх\n",
    "\n",
    "    # 1.Участок 0 ≤ x ≤ a\n",
    "    # x = a\n",
    "    Ma = Ra * a\n",
    "\n",
    "    # Записываю результат\n",
    "    lst_x1 += [a]\n",
    "    lst_M1 += [Ma]\n",
    "\n",
    "    # Вывод результата\n",
    "    print(\"\\n2.Построение эпюр\")\n",
    "    print(\"Вертикальная плоскость: XY\")\n",
    "    print(\"1.Участок 0 ≤ x ≤ a\")\n",
    "    print(\"x = 0: Миy = 0\")\n",
    "    print(f\"x = a: Миy = {Ma:.1f}\\n\")\n",
    "\n",
    "\n",
    "    # 2.Участок a ≤ x ≤ (a + b)\n",
    "    # x = a\n",
    "    Ma = Ra * a - Fa * d\n",
    "    # x = a + b\n",
    "    Mb = Ra*(a + b) - Fa * d - Fr * b\n",
    "\n",
    "    # Записываю результат\n",
    "    lst_x1 += [a, a + b, a + b + c]\n",
    "    lst_M1 += [Ma, Mb, 0]\n",
    "\n",
    "    # Вывод результата\n",
    "    print(\"2.Участок a ≤ x ≤ (a + b)\")\n",
    "    print(f\"x = a: Миy = {Ma:.1f}\")\n",
    "    print(f\"x = a+b: Миy = {Mb:.1f}\\n\")\n",
    "    print(\"--------------------------------------------------\\n\")\n",
    "\n",
    "\n",
    "    #----------------------------------------\n",
    "    # Горизонтальная плоскость: XZ\n",
    "\n",
    "    #-----------1. Реакции--------------------\n",
    "    # Моменты: положительно = против часовой стрелки\n",
    "\n",
    "    # ∑M(A) = 0\n",
    "    # -Ft*a + Rb*(a + b) + Fm*(a+b+c) = 0\n",
    "    Rb = Rb2 = (Ft*a - Fm*(a+b+c))/(a + b)\n",
    "\n",
    "    # ∑M(B) = 0\n",
    "    # -Ra*(a + b) + Ft*b + Fm*c = 0\n",
    "    Ra = Ra2 = (Ft*b + Fm*c)/(a + b)\n",
    "\n",
    "    # Проверка\n",
    "    assert Ra - Ft + Rb + Fm == 0 , 'Сумма сил должна быть равна нулю'\n",
    "\n",
    "    # Вывод результата\n",
    "    print(\"1.Расчет реакции опор\")\n",
    "    print(\"Горизонтальная плоскость: XZ\")\n",
    "    print(f\"Ra = {Ra:.3f}\")\n",
    "    print(f\"Rb = {Rb:.3f}\\n\")\n",
    "\n",
    "\n",
    "    #-------------2. Эпюры--------------------\n",
    "    # Силы: положительно = балка крутится\n",
    "    # по часовой стрелке\n",
    "    #\n",
    "    # Моменты: положительно = балка хочет изогнуться\n",
    "    # вверх\n",
    "\n",
    "    # 1.Участок 0 ≤ x ≤ a\n",
    "    # x = a\n",
    "    Ma = Ra * a\n",
    "\n",
    "    # Записываю результат\n",
    "    lst_x2 += [a]\n",
    "    lst_M2 += [Ma]\n",
    "\n",
    "    # Вывод результата\n",
    "    print(\"\\n2.Построение эпюр\")\n",
    "    print(\"Горизонтальная плоскость: XZ\\n\")\n",
    "    print(\"1.Участок 0 ≤ x ≤ a\")\n",
    "    print(\"x = 0: Миy = 0\")\n",
    "    print(f\"x = a: Миy = {Ma:.1f}\\n\")\n",
    "\n",
    "    # 2.Участок a ≤ x ≤ (a + b)\n",
    "    # x = a\n",
    "    Ma = Ra * a\n",
    "    # x = a + b\n",
    "    Mb = Ra * (a + b) - Ft * b\n",
    "\n",
    "    # Записываю результат\n",
    "    lst_x2 += [a, a + b, a + b + c]\n",
    "    lst_M2 += [Ma, Mb, Ra*(a+b+c) - Ft*(b+c) + Rb*c]\n",
    "\n",
    "    # Вывод результата\n",
    "    print(\"2.Участок a ≤ x ≤ (a + b)\")\n",
    "    print(f\"x = a: Миy = {Ma:.1f}\")\n",
    "    print(f\"x = a+b: Миy = {Mb:.1f}\\n\")\n",
    "    return (lst_x1, lst_M1), (lst_x2, lst_M2), (Ra1 ** 2 + Ra2 ** 2) ** 0.5, (Rb1 ** 2 + Rb2 ** 2) ** 0.5\n",
    "\n",
    "resultY_2, resultX_2, Ra_sum_2, Rb_sum_2 = calc_t()"
   ],
   "id": "5ce14f275e0c2fe8",
   "outputs": [
    {
     "name": "stdout",
     "output_type": "stream",
     "text": [
      "a_podsh = 14.185888024673092\n",
      "a_podsh = 14\n",
      "a = 43.0, b = 43.0, c = 72.0, d = 100.0\n",
      "\n",
      "1.Расчет реакции опор\n",
      "Вертикальная плоскость: XY\n",
      "Момент Fa*d = 30412 Н·мм\n",
      "Ось Y\n",
      "Ra = 630.350\n",
      "Rb = -76.901\n",
      "\n",
      "\n",
      "2.Построение эпюр\n",
      "Вертикальная плоскость: XY\n",
      "1.Участок 0 ≤ x ≤ a\n",
      "x = 0: Миy = 0\n",
      "x = a: Миy = 27105.0\n",
      "\n",
      "2.Участок a ≤ x ≤ (a + b)\n",
      "x = a: Миy = -3306.7\n",
      "x = a+b: Миy = 0.0\n",
      "\n",
      "--------------------------------------------------\n",
      "\n",
      "1.Расчет реакции опор\n",
      "Горизонтальная плоскость: XZ\n",
      "Ra = 2066.164\n",
      "Rb = -2105.365\n",
      "\n",
      "\n",
      "2.Построение эпюр\n",
      "Горизонтальная плоскость: XZ\n",
      "\n",
      "1.Участок 0 ≤ x ≤ a\n",
      "x = 0: Миy = 0\n",
      "x = a: Миy = 88845.1\n",
      "\n",
      "2.Участок a ≤ x ≤ (a + b)\n",
      "x = a: Миy = 88845.1\n",
      "x = a+b: Миy = 112304.8\n",
      "\n"
     ]
    }
   ],
   "execution_count": 3084
  },
  {
   "metadata": {
    "ExecuteTime": {
     "end_time": "2025-10-08T17:30:18.751730Z",
     "start_time": "2025-10-08T17:30:18.737740Z"
    }
   },
   "cell_type": "markdown",
   "source": [
    "***\n",
    "#### Суммарная реакция опор на подшипниках тихоходного вала"
   ],
   "id": "6a108318bc692be5"
  },
  {
   "metadata": {
    "ExecuteTime": {
     "end_time": "2025-10-25T09:54:54.460114Z",
     "start_time": "2025-10-25T09:54:54.380400Z"
    }
   },
   "cell_type": "code",
   "source": [
    "# Подшипник A\n",
    "print(f\"Ra_сум = {Ra_sum_2:.1f} Н\\n\")\n",
    "# Подшипник B\n",
    "print(f\"Rb_сум = {Rb_sum_2:.1f} Н\\n\")"
   ],
   "id": "a86eb3e586eb4ef0",
   "outputs": [
    {
     "name": "stdout",
     "output_type": "stream",
     "text": [
      "Ra_сум = 2160.2 Н\n",
      "\n",
      "Rb_сум = 2106.8 Н\n",
      "\n"
     ]
    }
   ],
   "execution_count": 3085
  },
  {
   "metadata": {},
   "cell_type": "markdown",
   "source": "#### Максимальный изгибающий момент для тихоходного вала",
   "id": "aa9be7abbd72bff4"
  },
  {
   "metadata": {
    "ExecuteTime": {
     "end_time": "2025-10-25T09:54:54.598142Z",
     "start_time": "2025-10-25T09:54:54.514015Z"
    }
   },
   "cell_type": "code",
   "source": [
    "M_k12 = (30685 ** 2 + 88845 ** 2) ** 0.5\n",
    "print(M_k12)\n",
    "M_k22 = 112304  # Самый большой момент!!!\n",
    "M_k2 = max(M_k12, M_k22)\n",
    "print(f\"Максимальный момент {M_k2}\")"
   ],
   "id": "943b9d42b75bfc34",
   "outputs": [
    {
     "name": "stdout",
     "output_type": "stream",
     "text": [
      "93994.69798876956\n",
      "Максимальный момент 112304\n"
     ]
    }
   ],
   "execution_count": 3086
  },
  {
   "metadata": {
    "ExecuteTime": {
     "end_time": "2025-10-08T17:46:43.005229Z",
     "start_time": "2025-10-08T17:46:42.988238Z"
    }
   },
   "cell_type": "markdown",
   "source": [
    "***\n",
    "### Графики изгибающих моментов для тихоходного вала"
   ],
   "id": "8d50df20d9a9bd25"
  },
  {
   "metadata": {
    "ExecuteTime": {
     "end_time": "2025-10-25T09:54:55.627524Z",
     "start_time": "2025-10-25T09:54:54.652515Z"
    }
   },
   "cell_type": "code",
   "source": [
    "import matplotlib.pyplot as plt\n",
    "\n",
    "x, M = resultY_2\n",
    "\n",
    "plt.figure(figsize=(8, 4))\n",
    "plt.plot(x, M, marker='o', linestyle='-', color='blue', label='Эпюра Mиy(x)')\n",
    "plt.axhline(0, color='black', linewidth=0.5)\n",
    "plt.xlabel('Длина вала (мм)')\n",
    "plt.ylabel('Момент (Н·мм)')\n",
    "plt.title('Вертикальная плоскость')\n",
    "plt.grid(True)\n",
    "plt.legend()\n",
    "\n",
    "# Инвертируем ось Y\n",
    "plt.gca().invert_yaxis()\n",
    "plt.show()\n"
   ],
   "id": "feb6d19b7bbb48d",
   "outputs": [
    {
     "data": {
      "text/plain": [
       "<Figure size 800x400 with 1 Axes>"
      ],
      "image/png": "[encoded data removed]"
     },
     "metadata": {},
     "output_type": "display_data",
     "jetTransient": {
      "display_id": null
     }
    }
   ],
   "execution_count": 3087
  },
  {
   "metadata": {
    "ExecuteTime": {
     "end_time": "2025-10-25T09:54:56.354693Z",
     "start_time": "2025-10-25T09:54:56.189998Z"
    }
   },
   "cell_type": "code",
   "source": [
    "x, M = resultX_2\n",
    "\n",
    "plt.figure(figsize=(8, 4))\n",
    "plt.plot(x, M, marker='o', linestyle='-', color='blue', label='Эпюра Mиx(x)')\n",
    "plt.axhline(0, color='black', linewidth=0.5)\n",
    "plt.xlabel('Длина вала (мм)')\n",
    "plt.ylabel('Момент (Н·мм)')\n",
    "plt.title('Горизонтальная плоскость')\n",
    "plt.grid(True)\n",
    "plt.legend()\n",
    "\n",
    "# Инвертируем ось Y\n",
    "plt.gca().invert_yaxis()\n",
    "plt.show()"
   ],
   "id": "35ae8fb8c81e984",
   "outputs": [
    {
     "data": {
      "text/plain": [
       "<Figure size 800x400 with 1 Axes>"
      ],
      "image/png": "[encoded data removed]"
     },
     "metadata": {},
     "output_type": "display_data",
     "jetTransient": {
      "display_id": null
     }
    }
   ],
   "execution_count": 3088
  },
  {
   "metadata": {},
   "cell_type": "markdown",
   "source": [
    "***\n",
    "### Проверка валов на усталостную прочность\n",
    "#### Быстроходный вал"
   ],
   "id": "750038cf626b0f0a"
  },
  {
   "metadata": {
    "ExecuteTime": {
     "end_time": "2025-10-25T09:54:56.415933Z",
     "start_time": "2025-10-25T09:54:56.410443Z"
    }
   },
   "cell_type": "code",
   "source": [
    "# Считаю коэффициент для углеродистой стали\n",
    "# po_b = 900 (3 - Чернавский стр 88)\n",
    "po_b = 900\n",
    "po__1 = 0.43*po_b\n",
    "print(po__1)"
   ],
   "id": "d1abaa96687f53b9",
   "outputs": [
    {
     "name": "stdout",
     "output_type": "stream",
     "text": [
      "387.0\n"
     ]
    }
   ],
   "execution_count": 3089
  },
  {
   "metadata": {
    "ExecuteTime": {
     "end_time": "2025-10-25T09:54:56.523876Z",
     "start_time": "2025-10-25T09:54:56.511886Z"
    }
   },
   "cell_type": "code",
   "source": [
    "t__1 = 0.58*po__1\n",
    "print(int(t__1))"
   ],
   "id": "3d1093a7c0d54ef4",
   "outputs": [
    {
     "name": "stdout",
     "output_type": "stream",
     "text": [
      "224\n"
     ]
    }
   ],
   "execution_count": 3090
  },
  {
   "metadata": {
    "ExecuteTime": {
     "end_time": "2025-10-25T09:54:56.626673Z",
     "start_time": "2025-10-25T09:54:56.609205Z"
    }
   },
   "cell_type": "code",
   "source": [
    "W_netto = 0.1 * df1 ** 3\n",
    "print(f\"W_netto = {W_netto}\")\n",
    "W_knetto = 0.2*df1 ** 3\n",
    "print(f\"W_knetto = {W_knetto}\")\n",
    "po_a = M_k1/W_netto\n",
    "print(f\"po_a = {po_a}\")"
   ],
   "id": "9ba110cb722c428f",
   "outputs": [
    {
     "name": "stdout",
     "output_type": "stream",
     "text": [
      "W_netto = 6593.9264\n",
      "W_knetto = 13187.8528\n",
      "po_a = 8.790229725776864\n"
     ]
    }
   ],
   "execution_count": 3091
  },
  {
   "metadata": {
    "ExecuteTime": {
     "end_time": "2025-10-25T09:54:56.709479Z",
     "start_time": "2025-10-25T09:54:56.699484Z"
    }
   },
   "cell_type": "code",
   "source": [
    "k_po = 2.45\n",
    "k_f = 0.9\n",
    "k_t = 2\n",
    "k_d = 0.85\n",
    "t_a = 0.5*T1/W_knetto\n",
    "ksi = 0.1\n",
    "ksi_t = 0.05\n",
    "po_m = 20\n",
    "t_m = 40\n",
    "print(t_a)"
   ],
   "id": "45ad7214d96ab1ce",
   "outputs": [
    {
     "name": "stdout",
     "output_type": "stream",
     "text": [
      "0.28825553547779137\n"
     ]
    }
   ],
   "execution_count": 3092
  },
  {
   "metadata": {
    "ExecuteTime": {
     "end_time": "2025-10-25T09:54:56.803093Z",
     "start_time": "2025-10-25T09:54:56.796615Z"
    }
   },
   "cell_type": "code",
   "source": [
    "s_po = po__1/(k_po*po_a/(k_d*k_f) + ksi*po_m)\n",
    "print(f\"{po__1}/({k_po}*{po_a}/({k_d}*{k_f}) + {ksi}*{po_m}) = {po__1/(k_po*po_a/(k_d*k_f) + ksi*po_m)}\")\n",
    "print(s_po)"
   ],
   "id": "98f2012731029ea2",
   "outputs": [
    {
     "name": "stdout",
     "output_type": "stream",
     "text": [
      "387.0/(2.45*8.790229725776864/(0.85*0.9) + 0.1*20) = 12.835090331872747\n",
      "12.835090331872747\n"
     ]
    }
   ],
   "execution_count": 3093
  },
  {
   "metadata": {
    "ExecuteTime": {
     "end_time": "2025-10-25T09:54:56.910408Z",
     "start_time": "2025-10-25T09:54:56.886956Z"
    }
   },
   "cell_type": "code",
   "source": [
    "s_t = t__1/(k_t*t_a/(k_d*k_f) + ksi_t*t_m)\n",
    "print(f\"{t__1}/({k_t}*{t_a}/({k_d}*{k_f}) + {ksi_t}*{t_m}) = {t__1/(k_t*t_a/(k_d*k_f) + ksi_t*t_m)}\")\n",
    "print(s_t)"
   ],
   "id": "de154da35c2870ba",
   "outputs": [
    {
     "name": "stdout",
     "output_type": "stream",
     "text": [
      "224.45999999999998/(2*0.28825553547779137/(0.85*0.9) + 0.05*40) = 81.51483387272482\n",
      "81.51483387272482\n"
     ]
    }
   ],
   "execution_count": 3094
  },
  {
   "metadata": {
    "ExecuteTime": {
     "end_time": "2025-10-25T09:54:56.987750Z",
     "start_time": "2025-10-25T09:54:56.979276Z"
    }
   },
   "cell_type": "code",
   "source": [
    "s_1 = s_po * s_t/(s_po ** 2 + s_t ** 2) ** 0.5\n",
    "print(s_1)"
   ],
   "id": "f195c13165e524de",
   "outputs": [
    {
     "name": "stdout",
     "output_type": "stream",
     "text": [
      "12.678880513780676\n"
     ]
    }
   ],
   "execution_count": 3095
  },
  {
   "metadata": {},
   "cell_type": "markdown",
   "source": [
    "##### Для быстроходного вала\n",
    "Вывод:\n",
    "12,437 > `[s = 2,5..3]`"
   ],
   "id": "1f4f35d2baa0197b"
  },
  {
   "metadata": {},
   "cell_type": "markdown",
   "source": "#### Тихоходный вал",
   "id": "eab44021aaaa461b"
  },
  {
   "metadata": {
    "ExecuteTime": {
     "end_time": "2025-10-25T09:54:57.141360Z",
     "start_time": "2025-10-25T09:54:57.134864Z"
    }
   },
   "cell_type": "code",
   "source": [
    "# Тихоходный вал\n",
    "# W_netto2 = 0.1 * d_3st_2 ** 3\n",
    "W_netto2 = 0.1 * d_2st_2 ** 3       # Изгибающий момент на подшипнике B\n",
    "print(f\"W_netto2 = {W_netto2}\")\n",
    "W_knetto2 = 0.2*d_2st_2 ** 3\n",
    "print(f\"W_knetto2 = {W_knetto2}\")\n",
    "po_a2 = M_k2/W_netto2\n",
    "print(f\"po_a2 = {po_a2}\")"
   ],
   "id": "8a14c9cbce70aae2",
   "outputs": [
    {
     "name": "stdout",
     "output_type": "stream",
     "text": [
      "W_netto2 = 4287.5\n",
      "W_knetto2 = 8575.0\n",
      "po_a2 = 26.1933527696793\n"
     ]
    }
   ],
   "execution_count": 3096
  },
  {
   "metadata": {
    "ExecuteTime": {
     "end_time": "2025-10-25T09:54:57.234338Z",
     "start_time": "2025-10-25T09:54:57.216376Z"
    }
   },
   "cell_type": "code",
   "source": [
    "t_a2 = 0.5*T2/W_knetto2\n",
    "print(t_a2)"
   ],
   "id": "815d3840ee39229d",
   "outputs": [
    {
     "name": "stdout",
     "output_type": "stream",
     "text": [
      "8.866405995723126\n"
     ]
    }
   ],
   "execution_count": 3097
  },
  {
   "metadata": {
    "ExecuteTime": {
     "end_time": "2025-10-25T09:54:57.311559Z",
     "start_time": "2025-10-25T09:54:57.307049Z"
    }
   },
   "cell_type": "code",
   "source": [
    "s_po2 = po__1/(k_po*po_a2/(k_d*k_f) + ksi*po_m)\n",
    "print(f\"{po__1}/({k_po}*{po_a2}/({k_d}*{k_f}) + {ksi}*{po_m}) = {po__1/(k_po*po_a2/(k_d*k_f) + ksi*po_m)}\")\n",
    "print(s_po2)"
   ],
   "id": "1797d2104ab44899",
   "outputs": [
    {
     "name": "stdout",
     "output_type": "stream",
     "text": [
      "387.0/(2.45*26.1933527696793/(0.85*0.9) + 0.1*20) = 4.50590964633441\n",
      "4.50590964633441\n"
     ]
    }
   ],
   "execution_count": 3098
  },
  {
   "metadata": {
    "ExecuteTime": {
     "end_time": "2025-10-25T09:54:57.389030Z",
     "start_time": "2025-10-25T09:54:57.377052Z"
    }
   },
   "cell_type": "code",
   "source": [
    "s_t2 = t__1/(k_t*t_a2/(k_d*k_f) + ksi_t*t_m)\n",
    "print(f\"{t__1}/({k_t}*{t_a2}/({k_d}*{k_f}) + {ksi_t}*{t_m}) = {t__1/(k_t*t_a2/(k_d*k_f) + ksi_t*t_m)}\")\n",
    "print(s_t2)"
   ],
   "id": "7019e2e80ce228d",
   "outputs": [
    {
     "name": "stdout",
     "output_type": "stream",
     "text": [
      "224.45999999999998/(2*8.866405995723126/(0.85*0.9) + 0.05*40) = 8.914165806957444\n",
      "8.914165806957444\n"
     ]
    }
   ],
   "execution_count": 3099
  },
  {
   "metadata": {
    "ExecuteTime": {
     "end_time": "2025-10-25T09:54:57.481555Z",
     "start_time": "2025-10-25T09:54:57.465571Z"
    }
   },
   "cell_type": "code",
   "source": [
    "s_2 = s_po2 * s_t2/(s_po2 ** 2 + s_t2 ** 2) ** 0.5\n",
    "print(s_2)"
   ],
   "id": "ead43f155995448f",
   "outputs": [
    {
     "name": "stdout",
     "output_type": "stream",
     "text": [
      "4.021358895486291\n"
     ]
    }
   ],
   "execution_count": 3100
  },
  {
   "metadata": {
    "ExecuteTime": {
     "end_time": "2025-10-08T19:52:46.285997Z",
     "start_time": "2025-10-08T19:52:46.273988Z"
    }
   },
   "cell_type": "markdown",
   "source": [
    "##### Для тихоходного вала\n",
    "Вывод:\n",
    "3,61 > `[s = 2,5..3]`"
   ],
   "id": "91b624152bcb546b"
  },
  {
   "metadata": {},
   "cell_type": "markdown",
   "source": [
    "### Таблица 4.16\n",
    "#### Результаты проверки вала на усталость"
   ],
   "id": "d3a51b6b14c782b9"
  },
  {
   "metadata": {
    "ExecuteTime": {
     "end_time": "2025-10-25T09:54:57.574317Z",
     "start_time": "2025-10-25T09:54:57.555339Z"
    }
   },
   "cell_type": "code",
   "source": [
    "#from IPython.display import Markdown\n",
    "\n",
    "Markdown(rf\"\"\"\n",
    "#### Таблица 4.16\n",
    "##### Результаты проверки вала на усталость\n",
    "##### Быстроходный вал, сталь 40Х, термообработка: ТВЧ, HB = 280, $σ_в$ = 900\n",
    "|Сечение (d, мм)| $k_σ$ | $k_τ$ | $M_и$ | T | $W_{{нетто}}$ | $W_{{к\\;нетто}}$ | $σ_{{a}}$ | $τ_{{a}}$ | $s_σ$ | $s_τ$ | s\n",
    "|-------|------|------|------|------|------|------|------|------|------|------|------|\n",
    "| {df1} | {k_po} | {k_t} | {M_k1:.0f} | {T1:.0f} | {W_netto:.0f} | {W_knetto:.0f} | {po_a:.3f} | {t_a:.3f} | {s_po:.2f} | {s_t:.2f} | {s_1:.2f}\n",
    "\n",
    "##### Тихоходный вал, сталь 40Х, термообработка: ТВЧ, HB = 280, $σ_в$ = 900\n",
    "|Сечение (d, мм)| $k_σ$ | $k_τ$ | $M_и$ | T | $W_{{нетто}}$ | $W_{{к\\;нетто}}$ | $σ_{{a}}$ | $τ_{{a}}$ | $s_σ$ | $s_τ$ | s\n",
    "|-------|------|------|------|------|------|------|------|------|------|------|------|\n",
    "| {d_2st_2} | {k_po} | {k_t} | {M_k2:.0f} | {T2:.0f} | {W_netto2:.0f} | {W_knetto2:.0f} | {po_a2:.3f} | {t_a2:.3f} | {s_po2:.2f} | {s_t2:.2f} | {s_2:.2f}\n",
    "\"\"\")"
   ],
   "id": "3b6c046a28fd3687",
   "outputs": [
    {
     "data": {
      "text/plain": [
       "<IPython.core.display.Markdown object>"
      ],
      "text/markdown": "\n#### Таблица 4.16\n##### Результаты проверки вала на усталость\n##### Быстроходный вал, сталь 40Х, термообработка: ТВЧ, HB = 280, $σ_в$ = 900\n|Сечение (d, мм)| $k_σ$ | $k_τ$ | $M_и$ | T | $W_{нетто}$ | $W_{к\\;нетто}$ | $σ_{a}$ | $τ_{a}$ | $s_σ$ | $s_τ$ | s\n|-------|------|------|------|------|------|------|------|------|------|------|------|\n| 40.4 | 2.45 | 2 | 57962 | 7603 | 6594 | 13188 | 8.790 | 0.288 | 12.84 | 81.51 | 12.68\n\n##### Тихоходный вал, сталь 40Х, термообработка: ТВЧ, HB = 280, $σ_в$ = 900\n|Сечение (d, мм)| $k_σ$ | $k_τ$ | $M_и$ | T | $W_{нетто}$ | $W_{к\\;нетто}$ | $σ_{a}$ | $τ_{a}$ | $s_σ$ | $s_τ$ | s\n|-------|------|------|------|------|------|------|------|------|------|------|------|\n| 35.0 | 2.45 | 2 | 112304 | 152059 | 4288 | 8575 | 26.193 | 8.866 | 4.51 | 8.91 | 4.02\n"
     },
     "execution_count": 3101,
     "metadata": {},
     "output_type": "execute_result"
    }
   ],
   "execution_count": 3101
  },
  {
   "metadata": {},
   "cell_type": "markdown",
   "source": [
    "***\n",
    "### Проверка подшипников по динамической грузоподъемности\n",
    "#### Расчет подшипников на быстроходном валу"
   ],
   "id": "b8ebb1314424dec5"
  },
  {
   "metadata": {
    "ExecuteTime": {
     "end_time": "2025-10-25T09:54:57.713545Z",
     "start_time": "2025-10-25T09:54:57.655154Z"
    }
   },
   "cell_type": "code",
   "source": [
    "K_b = 1.3\n",
    "S_1b = None\n",
    "S_2b = None\n",
    "Fa1_b = None\n",
    "Fa2_b = None\n",
    "F1_ekv_b = None\n",
    "F2_ekv_b = None\n",
    "L_h1_b = None\n",
    "L_h2_b = None\n",
    "Cr_b = 36\n",
    "print(f\"Fa1/VFr_A = {Fa1/Ra_sum_1:.1f}\")\n",
    "print(f\"Fa1/VFr_B = {Fa1/Rb_sum_1:.1f}\")"
   ],
   "id": "fe93f727fa507a29",
   "outputs": [
    {
     "name": "stdout",
     "output_type": "stream",
     "text": [
      "Fa1/VFr_A = 5.0\n",
      "Fa1/VFr_B = 2.6\n"
     ]
    }
   ],
   "execution_count": 3102
  },
  {
   "metadata": {
    "ExecuteTime": {
     "end_time": "2025-10-25T09:54:57.822842Z",
     "start_time": "2025-10-25T09:54:57.774931Z"
    }
   },
   "cell_type": "code",
   "source": [
    "def resurs1():\n",
    "\n",
    "    global S_1b, S_2b, Fa1_b, Fa2_b, F1_ekv_b, F2_ekv_b, L_h1_b, L_h2_b\n",
    "\n",
    "    # Частота оборотов\n",
    "    n = n1\n",
    "\n",
    "   # Подшипник: данные\n",
    "   #  7506\n",
    "    Cr = Cr_b * 1000\n",
    "    e = 0.365\n",
    "    Y = 1.645\n",
    "    X = 0.4\n",
    "\n",
    "    # d = 30\n",
    "    # D = 62\n",
    "    # T = 21.5\n",
    "\n",
    "    V = 1\n",
    "    Kb = K_b\n",
    "    Kt = 1\n",
    "    p = 10/3\n",
    "\n",
    "    # ----------Силы----------\n",
    "    #\n",
    "    #        (Fa)--->\n",
    "    #   (A)--->     <---(B)\n",
    "    #\n",
    "    # Силы от подшипников и осевая сила\n",
    "    # направлены как на рисунке: Vab == True\n",
    "    #\n",
    "    # Если сила Fa направлена в другую сторону\n",
    "    # Установить флаг Vab == false или указать\n",
    "    # силу со знаком минус\n",
    "\n",
    "    Vab = True\n",
    "\n",
    "    # Силы: указывать в Ньютонах\n",
    "    Fa = Fa1\n",
    "    Ra = Ra_sum_1\n",
    "    Rb = Rb_sum_1\n",
    "\n",
    "    print(\"Входные данные\")\n",
    "    print(\"\\nСилы:\")\n",
    "    print(f\"Fa = {Fa}\")\n",
    "    print(f\"Ra = {Ra}\")\n",
    "    print(f\"Rb = {Rb}\")\n",
    "\n",
    "    print(\"\\nПодшипник:\")\n",
    "    print(f\"Cr = {Cr}\")\n",
    "    print(f\"e = {e}\")\n",
    "    print(f\"X = {X}\")\n",
    "    print(f\"Y = {Y}\")\n",
    "\n",
    "    print(\"\\nПостоянные:\")\n",
    "    print(f\"p = {p:.3f}\")\n",
    "    print(f\"V = {V}\")\n",
    "    print(f\"Kb = {Kb}\")\n",
    "    print(f\"Kt = {Kt}\")\n",
    "\n",
    "\n",
    "    if Fa < 0:\n",
    "        Vab = False\n",
    "        Fa = -Fa\n",
    "\n",
    "    S1 = S_1b = 0.83 * e * Ra\n",
    "    S2 = S_2b = 0.83 * e * Rb\n",
    "\n",
    "    if Vab:\n",
    "        F1 = S1 if (-S1 - Fa + S2 ) < 0 else S2 - Fa\n",
    "        F2 = S2 if (S1 + Fa - S2) < 0 else S1 + Fa\n",
    "    else:\n",
    "        F1 = S1 if (-S1 + Fa + S2 ) < 0 else S2 + Fa\n",
    "        F2 = S2 if (S1 - Fa - S2) < 0 else S1 - Fa\n",
    "\n",
    "    Fa1_b, Fa2_b = F1, F2\n",
    "    f_ek = lambda r, a: (X*V*r + Y*a)*Kb*Kt\n",
    "    F1_ek = F1_ekv_b = f_ek(Ra, F1)\n",
    "    F2_ek = F2_ekv_b = f_ek(Rb, F2)\n",
    "\n",
    "    print(\"\\nВыходные данные\")\n",
    "    print(f\"Fa = {Fa}\")\n",
    "    print(f\"Ra = {Ra:.1f}\")\n",
    "    print(f\"Rb = {Rb:.1f}\")\n",
    "    print(f\"S1 = {S1:.1f}\")\n",
    "    print(f\"S2 = {S2:.1f}\")\n",
    "    print(f\"F1 = {F1:.1f}\")\n",
    "    print(f\"F2 = {F2:.1f}\")\n",
    "    print(f\"Fa1/VFr1 = {F1/Ra:.1f}\")\n",
    "    print(f\"Fa2/VFr2 = {F2/Rb:.1f}\")\n",
    "    print(f\"F1_ek = {F1_ek:.1f}\")\n",
    "    print(f\"F2_ek = {F2_ek:.1f}\")\n",
    "\n",
    "    f_l = lambda x: (Cr/x) ** p\n",
    "    L1 = f_l(F1_ek)\n",
    "    L2 = f_l(F2_ek)\n",
    "\n",
    "    print(f\"Срок службы 1-го подшипника = {L1:.0f} млн.об\")\n",
    "    print(f\"Срок службы 2-го подшипника = {L2:.0f} млн.об\")\n",
    "\n",
    "    f_lh = lambda x: 1e6 * x / (60 * n)\n",
    "    lh1 = L_h1_b = f_lh(L1)\n",
    "    lh2 = L_h2_b = f_lh(L2)\n",
    "\n",
    "    print(f\"Срок службы 1-го подшипника = {lh1:.0f} часов\")\n",
    "    print(f\"Срок службы 2-го подшипника = {lh2:.0f} часов\")\n",
    "\n",
    "resurs1()"
   ],
   "id": "bc015a4c3767c37c",
   "outputs": [
    {
     "name": "stdout",
     "output_type": "stream",
     "text": [
      "Входные данные\n",
      "\n",
      "Силы:\n",
      "Fa = 1520.588628266516\n",
      "Ra = 304.47253116840943\n",
      "Rb = 595.8065339355201\n",
      "\n",
      "Подшипник:\n",
      "Cr = 36000\n",
      "e = 0.365\n",
      "X = 0.4\n",
      "Y = 1.645\n",
      "\n",
      "Постоянные:\n",
      "p = 3.333\n",
      "V = 1\n",
      "Kb = 1.3\n",
      "Kt = 1\n",
      "\n",
      "Выходные данные\n",
      "Fa = 1520.588628266516\n",
      "Ra = 304.5\n",
      "Rb = 595.8\n",
      "S1 = 92.2\n",
      "S2 = 180.5\n",
      "F1 = 92.2\n",
      "F2 = 1612.8\n",
      "Fa1/VFr1 = 0.3\n",
      "Fa2/VFr2 = 2.7\n",
      "F1_ek = 355.6\n",
      "F2_ek = 3758.9\n",
      "Срок службы 1-го подшипника = 4836677 млн.об\n",
      "Срок службы 2-го подшипника = 1866 млн.об\n",
      "Срок службы 1-го подшипника = 57049742 часов\n",
      "Срок службы 2-го подшипника = 22005 часов\n"
     ]
    }
   ],
   "execution_count": 3103
  },
  {
   "metadata": {},
   "cell_type": "markdown",
   "source": "##### Подшипники быстроходного вала проработают дольше указанного в задании срока 20974 > 16000 часов",
   "id": "511778430c64560e"
  },
  {
   "metadata": {
    "ExecuteTime": {
     "end_time": "2025-10-08T20:57:32.065820Z",
     "start_time": "2025-10-08T20:57:32.054845Z"
    }
   },
   "cell_type": "markdown",
   "source": [
    "***\n",
    "#### Расчет подшипников на тихоходном валу\n",
    "Устанавливаю радиально-упорные подшипники для схемы установки вала \"враспор\". Для этого выбираю минимально-возможный подшипник \"36207\"\n",
    "###### Подшипник нахожу в 3-Чернавский стр.435 (или 219 дежавю): **36207** ($α = 12°$)\n",
    "##### Определяю e"
   ],
   "id": "8f225a53e1699fca"
  },
  {
   "metadata": {
    "ExecuteTime": {
     "end_time": "2025-10-25T09:54:57.929861Z",
     "start_time": "2025-10-25T09:54:57.873249Z"
    }
   },
   "cell_type": "code",
   "source": [
    "C_0_podsh_t = 18100\n",
    "print(f\"{Fa2}/{C_0_podsh_t} = {Fa2/C_0_podsh_t}\")"
   ],
   "id": "2490a6dc68c7d4fe",
   "outputs": [
    {
     "name": "stdout",
     "output_type": "stream",
     "text": [
      "304.1177256533032/18100 = 0.016802084290237745\n"
     ]
    }
   ],
   "execution_count": 3104
  },
  {
   "metadata": {},
   "cell_type": "markdown",
   "source": [
    "##### Определяю e по таблице 5.1\n",
    "Для соотношения $F_a/C_0 = 0,021$ и для $α = 12$  выбираю примерное $e = 0,32$ (радиально-упорный шариковый однорядный)\n",
    "\n",
    "Для $$F_a/C_a = 0.021 < e = 0.32$$\n",
    "Устанавливаю:\n",
    "\n",
    " X = 1\n",
    "\n",
    " Y = 0"
   ],
   "id": "df61f5b5147e0d09"
  },
  {
   "metadata": {},
   "cell_type": "markdown",
   "source": "##### Определяю соотношение Fa/(VFr) для обоих подшипников",
   "id": "8386d15d50e1561"
  },
  {
   "metadata": {
    "ExecuteTime": {
     "end_time": "2025-10-25T09:54:58.037926Z",
     "start_time": "2025-10-25T09:54:57.980694Z"
    }
   },
   "cell_type": "code",
   "source": [
    "V = 1\n",
    "# Подшипник A\n",
    "print(f\"{Fa2}/({V}*{Ra_sum_2}) = {Fa2/(V*Ra_sum_2)}\")\n",
    "\n",
    "# Подшипник B\n",
    "print(f\"{Fa2}/({V}*{Rb_sum_2}) = {Fa2/(V*Rb_sum_2)}\")\n"
   ],
   "id": "baf773dbc0a5901e",
   "outputs": [
    {
     "name": "stdout",
     "output_type": "stream",
     "text": [
      "304.1177256533032/(1*2160.179462074248) = 0.1407835464564982\n",
      "304.1177256533032/(1*2106.7685683053332) = 0.14435269740991669\n"
     ]
    }
   ],
   "execution_count": 3105
  },
  {
   "metadata": {},
   "cell_type": "markdown",
   "source": [
    "\n",
    "В обоих случаях соотношение $F_a/(VF_r)$ меньше $e$\n"
   ],
   "id": "1145a3173a4a507e"
  },
  {
   "metadata": {
    "ExecuteTime": {
     "end_time": "2025-10-25T09:54:58.176978Z",
     "start_time": "2025-10-25T09:54:58.093654Z"
    }
   },
   "cell_type": "code",
   "source": [
    "# Устанавливаю e\n",
    "e_podsh_t = 0.32\n",
    "X_podsh_t = 1\n",
    "Y_podsh_t = 0\n",
    "\n",
    "S_1t = None\n",
    "S_2t = None\n",
    "Fa1_t = None\n",
    "Fa2_t = None\n",
    "F1_ekv_t = None\n",
    "F2_ekv_t = None\n",
    "L_h1_t = None\n",
    "L_h2_t = None\n",
    "Cr_t = 24"
   ],
   "id": "67b80bb1dd40f412",
   "outputs": [],
   "execution_count": 3106
  },
  {
   "metadata": {
    "ExecuteTime": {
     "end_time": "2025-10-25T09:54:58.302648Z",
     "start_time": "2025-10-25T09:54:58.227551Z"
    }
   },
   "cell_type": "code",
   "source": [
    "def resurs2():\n",
    "\n",
    "    global S_1t, S_2t, Fa1_t, Fa2_t, F1_ekv_t, F2_ekv_t, L_h1_t, L_h2_t\n",
    "\n",
    "    # Частота оборотов\n",
    "    n = n2\n",
    "\n",
    "    # Подшипник: данные\n",
    "    # 36207\n",
    "    Cr = Cr_t * 1000\n",
    "    C0 = C_0_podsh_t\n",
    "    alpha = 12\n",
    "    e = e_podsh_t\n",
    "    X = X_podsh_t\n",
    "    Y = Y_podsh_t\n",
    "\n",
    "    V = 1\n",
    "    Kb = K_b\n",
    "    Kt = 1\n",
    "    p = 3\n",
    "\n",
    "    # ----------Силы----------\n",
    "    #\n",
    "    #        (Fa)--->\n",
    "    #   (A)--->     <---(B)\n",
    "    #\n",
    "    # Силы от подшипников и осевая сила\n",
    "    # направлены как на рисунке: Vab == True\n",
    "    #\n",
    "    # Если сила Fa направлена в другую сторону\n",
    "    # Установить флаг Vab == false или указать\n",
    "    # силу со знаком минус\n",
    "\n",
    "    Vab = False\n",
    "\n",
    "    # Силы: указывать в Ньютонах\n",
    "    Fa = Fa2\n",
    "    Ra = Ra_sum_2\n",
    "    Rb = Rb_sum_2\n",
    "\n",
    "    print(\"Входные данные\")\n",
    "    print(\"\\nСилы:\")\n",
    "    print(f\"Fa = {Fa}\")\n",
    "    print(f\"Ra = {Ra}\")\n",
    "    print(f\"Rb = {Rb}\")\n",
    "\n",
    "    print(\"\\nПодшипник:\")\n",
    "    print(f\"Cr = {Cr}\")\n",
    "    print(f\"C0 = {C0}\")\n",
    "    print(f\"e = {e}\")\n",
    "    print(f\"X = {X}\")\n",
    "    print(f\"Y = {Y}\")\n",
    "\n",
    "    print(\"\\nПостоянные:\")\n",
    "    print(f\"p = {p}\")\n",
    "    print(f\"V = {V}\")\n",
    "    print(f\"Kb = {Kb}\")\n",
    "    print(f\"Kt = {Kt}\")\n",
    "\n",
    "\n",
    "    if Fa < 0:\n",
    "        Vab = False\n",
    "        Fa = -Fa\n",
    "\n",
    "    S1 = S_1t = e * Ra\n",
    "    S2 = S_2t = e * Rb\n",
    "\n",
    "    if Vab:\n",
    "        F1 = S1 if (-S1 - Fa + S2 ) < 0 else S2 - Fa\n",
    "        F2 = S2 if (S1 + Fa - S2) < 0 else S1 + Fa\n",
    "    else:\n",
    "        F1 = S1 if (-S1 + Fa + S2 ) < 0 else S2 + Fa\n",
    "        F2 = S2 if (S1 - Fa - S2) < 0 else S1 - Fa\n",
    "\n",
    "    Fa1_t, Fa2_t = F1, F2\n",
    "    f_ek = lambda r, a: (X*V*r + Y*a)*Kb*Kt\n",
    "\n",
    "    print(f\"Fa(A)/C0 = {F1/C0:.1f}\")\n",
    "    print(f\"Fa(B)/C0 = {F2/C0:.1f}\")\n",
    "\n",
    "\n",
    "    F1_ek = F1_ekv_t = f_ek(Ra, F1)\n",
    "    F2_ek = F2_ekv_t = f_ek(Rb, F2)\n",
    "\n",
    "    print(\"\\nВыходные данные\")\n",
    "    print(f\"Fa = {Fa}\")\n",
    "    print(f\"Ra = {Ra:.1f}\")\n",
    "    print(f\"Rb = {Rb:.1f}\")\n",
    "    print(f\"S1 = {S1:.1f}\")\n",
    "    print(f\"S2 = {S2:.1f}\")\n",
    "    print(f\"F1 = {F1:.1f}\")\n",
    "    print(f\"F2 = {F2:.1f}\")\n",
    "    print(f\"Fa1/VFr1 = {F1/Ra:.1f} > 0.35 - нужен радиально-упорный подшипник\")\n",
    "    print(f\"Fa2/VFr2 = {F2/Rb:.1f} > 0.35 - нужен радиально-упорный подшипник\")\n",
    "    print(f\"F1_ek = {F1_ek:.1f}\")\n",
    "    print(f\"F2_ek = {F2_ek:.1f}\")\n",
    "\n",
    "    f_l = lambda x: (Cr/x) ** p\n",
    "    L1 = f_l(F1_ek)\n",
    "    L2 = f_l(F2_ek)\n",
    "\n",
    "    print(f\"Срок службы 1-го подшипника = {L1:.0f} млн.об\")\n",
    "    print(f\"Срок службы 2-го подшипника = {L2:.0f} млн.об\")\n",
    "\n",
    "    f_lh = lambda x: 1e6 * x / (60 * n)\n",
    "    lh1 = L_h1_t = f_lh(L1)\n",
    "    lh2 = L_h2_t = f_lh(L2)\n",
    "\n",
    "    print(f\"Срок службы 1-го подшипника = {lh1:.0f} часов\")\n",
    "    print(f\"Срок службы 2-го подшипника = {lh2:.0f} часов\")\n",
    "\n",
    "resurs2()"
   ],
   "id": "3fe1008bc44761a7",
   "outputs": [
    {
     "name": "stdout",
     "output_type": "stream",
     "text": [
      "Входные данные\n",
      "\n",
      "Силы:\n",
      "Fa = 304.1177256533032\n",
      "Ra = 2160.179462074248\n",
      "Rb = 2106.7685683053332\n",
      "\n",
      "Подшипник:\n",
      "Cr = 24000\n",
      "C0 = 18100\n",
      "e = 0.32\n",
      "X = 1\n",
      "Y = 0\n",
      "\n",
      "Постоянные:\n",
      "p = 3\n",
      "V = 1\n",
      "Kb = 1.3\n",
      "Kt = 1\n",
      "Fa(A)/C0 = 0.1\n",
      "Fa(B)/C0 = 0.0\n",
      "\n",
      "Выходные данные\n",
      "Fa = 304.1177256533032\n",
      "Ra = 2160.2\n",
      "Rb = 2106.8\n",
      "S1 = 691.3\n",
      "S2 = 674.2\n",
      "F1 = 978.3\n",
      "F2 = 674.2\n",
      "Fa1/VFr1 = 0.5 > 0.35 - нужен радиально-упорный подшипник\n",
      "Fa2/VFr2 = 0.3 > 0.35 - нужен радиально-упорный подшипник\n",
      "F1_ek = 2808.2\n",
      "F2_ek = 2738.8\n",
      "Срок службы 1-го подшипника = 624 млн.об\n",
      "Срок службы 2-го подшипника = 673 млн.об\n",
      "Срок службы 1-го подшипника = 184069 часов\n",
      "Срок службы 2-го подшипника = 198427 часов\n"
     ]
    }
   ],
   "execution_count": 3107
  },
  {
   "metadata": {},
   "cell_type": "markdown",
   "source": [
    "### Таблица 5.2\n",
    "#### Сводная таблица к выбору подшипников качения"
   ],
   "id": "5b5245b08b7aad60"
  },
  {
   "metadata": {
    "ExecuteTime": {
     "end_time": "2025-10-25T09:54:58.408452Z",
     "start_time": "2025-10-25T09:54:58.354053Z"
    }
   },
   "cell_type": "code",
   "source": [
    "#from IPython.display import Markdown\n",
    "\n",
    "Markdown(rf\"\"\"\n",
    "#### Таблица 5.2\n",
    "##### Сводная таблица к выбору подшипников качения\n",
    "#### Быстроходный вал:\n",
    "##### $K_б$ = {K_b}, $K_т$ = 1, Частота вращения = {n1:.0f} $min^{{-1}}$\n",
    "|Номер<br/>опоры|Радиальная нагрузка<br/>на подшипник<br/>$F_r$, Н | $F_a$ в<br/>зацеплении, Н | $S_1$ или<br/>$S_2$, Н | $F_{{a1}}$ или<br/>$F_{{a2}}$  | Эквивалентная<br/>нагрузка<br/>$F_{{экв}}$ | Паспортная<br/>динамическая<br/>грузоподъемность<br/>C, кН | Расчетная<br/>долговечность<br/>подшипника<br/>$L_h$, час\n",
    "|-------|------|------|------|------|------|------|------|\n",
    "| 1) левый<br/>подшипник (A) | {Ra_sum_1:.1f} | {Fa1:.0f} | {S_1b:.1f} | {Fa1_b:.1f} | {F1_ekv_b:.0f} | {Cr_b} | {L_h1_b:.0f} |\n",
    "| 2) правый<br/>подшипник (B) | {Rb_sum_1:.1f} | {Fa1:.0f} | {S_2b:.1f} | {Fa2_b:.1f} | {F2_ekv_b:.0f} | {Cr_b} | {L_h2_b:.0f} |\n",
    "\n",
    "***\n",
    "#### Тихоходный вал:\n",
    "##### $K_б$ = {K_b}, $K_т$ = 1, Частота вращения = {n2:.0f} $min^{{-1}}$\n",
    "|Номер<br/>опоры|Радиальная нагрузка<br/>на подшипник<br/>$F_r$, Н | $F_a$ в<br/>зацеплении, Н | $S_1$ или<br/>$S_2$, Н | $F_{{a1}}$ или<br/>$F_{{a2}}$  | Эквивалентная<br/>нагрузка<br/>$F_{{экв}}$ | Паспортная<br/>динамическая<br/>грузоподъемность<br/>C, кН | Расчетная<br/>долговечность<br/>подшипника<br/>$L_h$, час\n",
    "|-------|------|------|------|------|------|------|------|\n",
    "| 1) левый<br/>подшипник (A) | {Ra_sum_2:.1f} | {Fa2:.0f} | {S_1t:.1f} | {Fa1_t:.1f} | {F1_ekv_t:.0f} | {Cr_t} | {L_h1_t:.0f} |\n",
    "| 2) правый<br/>подшипник (B) | {Rb_sum_2:.1f} | {Fa2:.0f} | {S_2t:.1f} | {Fa2_t:.1f} | {F2_ekv_t:.0f} | {Cr_t} | {L_h2_t:.0f} |\n",
    "\"\"\")"
   ],
   "id": "39027e7639e5de3b",
   "outputs": [
    {
     "data": {
      "text/plain": [
       "<IPython.core.display.Markdown object>"
      ],
      "text/markdown": "\n#### Таблица 5.2\n##### Сводная таблица к выбору подшипников качения\n#### Быстроходный вал:\n##### $K_б$ = 1.3, $K_т$ = 1, Частота вращения = 1413 $min^{-1}$\n|Номер<br/>опоры|Радиальная нагрузка<br/>на подшипник<br/>$F_r$, Н | $F_a$ в<br/>зацеплении, Н | $S_1$ или<br/>$S_2$, Н | $F_{a1}$ или<br/>$F_{a2}$  | Эквивалентная<br/>нагрузка<br/>$F_{экв}$ | Паспортная<br/>динамическая<br/>грузоподъемность<br/>C, кН | Расчетная<br/>долговечность<br/>подшипника<br/>$L_h$, час\n|-------|------|------|------|------|------|------|------|\n| 1) левый<br/>подшипник (A) | 304.5 | 1521 | 92.2 | 92.2 | 356 | 36 | 57049742 |\n| 2) правый<br/>подшипник (B) | 595.8 | 1521 | 180.5 | 1612.8 | 3759 | 36 | 22005 |\n\n***\n#### Тихоходный вал:\n##### $K_б$ = 1.3, $K_т$ = 1, Частота вращения = 57 $min^{-1}$\n|Номер<br/>опоры|Радиальная нагрузка<br/>на подшипник<br/>$F_r$, Н | $F_a$ в<br/>зацеплении, Н | $S_1$ или<br/>$S_2$, Н | $F_{a1}$ или<br/>$F_{a2}$  | Эквивалентная<br/>нагрузка<br/>$F_{экв}$ | Паспортная<br/>динамическая<br/>грузоподъемность<br/>C, кН | Расчетная<br/>долговечность<br/>подшипника<br/>$L_h$, час\n|-------|------|------|------|------|------|------|------|\n| 1) левый<br/>подшипник (A) | 2160.2 | 304 | 691.3 | 978.3 | 2808 | 24 | 184069 |\n| 2) правый<br/>подшипник (B) | 2106.8 | 304 | 674.2 | 674.2 | 2739 | 24 | 198427 |\n"
     },
     "execution_count": 3108,
     "metadata": {},
     "output_type": "execute_result"
    }
   ],
   "execution_count": 3108
  },
  {
   "metadata": {
    "ExecuteTime": {
     "end_time": "2025-10-09T19:09:29.918427Z",
     "start_time": "2025-10-09T19:09:29.907434Z"
    }
   },
   "cell_type": "markdown",
   "source": [
    "***\n",
    "### Конструирование корпуса\n",
    "#### Основные элементы корпуса из чугуна (табл. 6.1 стр 32)"
   ],
   "id": "5b0f1b6859ec50b9"
  },
  {
   "metadata": {
    "ExecuteTime": {
     "end_time": "2025-10-25T09:54:58.516454Z",
     "start_time": "2025-10-25T09:54:58.434903Z"
    }
   },
   "cell_type": "code",
   "source": [
    "# Толщина стенки корпуса редуктора\n",
    "po_stenka = 0.04*a_w + 2\n",
    "print(po_stenka)"
   ],
   "id": "9f0bd30dd6f9fc04",
   "outputs": [
    {
     "name": "stdout",
     "output_type": "stream",
     "text": [
      "7.0\n"
     ]
    }
   ],
   "execution_count": 3109
  },
  {
   "metadata": {
    "ExecuteTime": {
     "end_time": "2025-10-25T09:54:58.578482Z",
     "start_time": "2025-10-25T09:54:58.559513Z"
    }
   },
   "cell_type": "code",
   "source": [
    "# Толщина крышки редуктора\n",
    "po_1_krishka = 0.032*a_w + 2\n",
    "print(po_1_krishka)"
   ],
   "id": "7d64668f89f0fe5f",
   "outputs": [
    {
     "name": "stdout",
     "output_type": "stream",
     "text": [
      "6.0\n"
     ]
    }
   ],
   "execution_count": 3110
  },
  {
   "metadata": {
    "ExecuteTime": {
     "end_time": "2025-10-25T09:54:58.671289Z",
     "start_time": "2025-10-25T09:54:58.653821Z"
    }
   },
   "cell_type": "code",
   "source": [
    "# Толщина верхнего пояса(фланца) корпуса\n",
    "b_korp = 1.5*po_stenka\n",
    "print(b_korp)\n",
    "b_korp = 10\n",
    "print(b_korp)"
   ],
   "id": "b632049af7368c16",
   "outputs": [
    {
     "name": "stdout",
     "output_type": "stream",
     "text": [
      "10.5\n",
      "10\n"
     ]
    }
   ],
   "execution_count": 3111
  },
  {
   "metadata": {
    "ExecuteTime": {
     "end_time": "2025-10-25T09:54:58.750142Z",
     "start_time": "2025-10-25T09:54:58.741159Z"
    }
   },
   "cell_type": "code",
   "source": [
    "# Толщина нижнего пояса (фланца) крышки корпуса\n",
    "b_krishka = 1.5*po_1_krishka\n",
    "print(b_krishka)"
   ],
   "id": "ecf5b0a38d1b0d98",
   "outputs": [
    {
     "name": "stdout",
     "output_type": "stream",
     "text": [
      "9.0\n"
     ]
    }
   ],
   "execution_count": 3112
  },
  {
   "metadata": {
    "ExecuteTime": {
     "end_time": "2025-10-25T09:54:58.841494Z",
     "start_time": "2025-10-25T09:54:58.831491Z"
    }
   },
   "cell_type": "code",
   "source": [
    "# Толщина нижнего пояса корпуса\n",
    "# При наличии бобышки\n",
    "p1_korp = 1.5*po_stenka\n",
    "print(p1_korp)\n",
    "p1_korp = 10\n",
    "print(p1_korp)\n",
    "\n",
    "p2_korp = 2.25 * po_stenka\n",
    "print(p2_korp)\n",
    "p2_korp = 16\n",
    "print(p2_korp)"
   ],
   "id": "6d292e8a1158eb1e",
   "outputs": [
    {
     "name": "stdout",
     "output_type": "stream",
     "text": [
      "10.5\n",
      "10\n",
      "15.75\n",
      "16\n"
     ]
    }
   ],
   "execution_count": 3113
  },
  {
   "metadata": {
    "ExecuteTime": {
     "end_time": "2025-10-25T09:54:58.918848Z",
     "start_time": "2025-10-25T09:54:58.897886Z"
    }
   },
   "cell_type": "code",
   "source": [
    "# Толщина ребер основания корпуса\n",
    "m_korp = 0.85*po_stenka\n",
    "print(m_korp)\n",
    "m_korp = 6\n",
    "print(m_korp)"
   ],
   "id": "40c15a28700a04c0",
   "outputs": [
    {
     "name": "stdout",
     "output_type": "stream",
     "text": [
      "5.95\n",
      "6\n"
     ]
    }
   ],
   "execution_count": 3114
  },
  {
   "metadata": {
    "ExecuteTime": {
     "end_time": "2025-10-25T09:54:58.996203Z",
     "start_time": "2025-10-25T09:54:58.985229Z"
    }
   },
   "cell_type": "code",
   "source": [
    "# Толщина ребер крышки\n",
    "m1_krishka = 0.85*po_1_krishka\n",
    "print(m)\n",
    "m1_krishka = 5\n",
    "print(m)"
   ],
   "id": "b6f5a8199cc666c2",
   "outputs": [
    {
     "name": "stdout",
     "output_type": "stream",
     "text": [
      "4.0\n",
      "4.0\n"
     ]
    }
   ],
   "execution_count": 3115
  },
  {
   "metadata": {
    "ExecuteTime": {
     "end_time": "2025-10-25T09:54:59.108718Z",
     "start_time": "2025-10-25T09:54:59.076279Z"
    }
   },
   "cell_type": "code",
   "source": [
    "# Диаметр фундаментных болтов (их число больше либо равно 4) (округляют до стандартных по таблице 6.2)\n",
    "d1_bolt = 0.03 * a_w + 12\n",
    "print(d1_bolt)\n",
    "d1_bolt = 16\n",
    "print(d1_bolt)\n"
   ],
   "id": "f848b8fd0aecfc39",
   "outputs": [
    {
     "name": "stdout",
     "output_type": "stream",
     "text": [
      "15.75\n",
      "16\n"
     ]
    }
   ],
   "execution_count": 3116
  },
  {
   "metadata": {
    "ExecuteTime": {
     "end_time": "2025-10-25T09:54:59.181585Z",
     "start_time": "2025-10-25T09:54:59.162618Z"
    }
   },
   "cell_type": "code",
   "source": [
    "# Диаметр болтов у подшипников\n",
    "d2_bolt = 0.7*d1_bolt\n",
    "print(d2_bolt)\n",
    "d2_bolt = 12\n",
    "print(d2_bolt)"
   ],
   "id": "c820e809d09b223b",
   "outputs": [
    {
     "name": "stdout",
     "output_type": "stream",
     "text": [
      "11.2\n",
      "12\n"
     ]
    }
   ],
   "execution_count": 3117
  },
  {
   "metadata": {
    "ExecuteTime": {
     "end_time": "2025-10-25T09:54:59.266373Z",
     "start_time": "2025-10-25T09:54:59.231438Z"
    }
   },
   "cell_type": "code",
   "source": [
    "# Диаметр болтов соединяющих основание корпуса с крышкой\n",
    "d3_bolt = 0.5*d1_bolt\n",
    "print(d3_bolt)"
   ],
   "id": "436ed379037bf998",
   "outputs": [
    {
     "name": "stdout",
     "output_type": "stream",
     "text": [
      "8.0\n"
     ]
    }
   ],
   "execution_count": 3118
  },
  {
   "metadata": {
    "ExecuteTime": {
     "end_time": "2025-10-25T09:54:59.351901Z",
     "start_time": "2025-10-25T09:54:59.333934Z"
    }
   },
   "cell_type": "code",
   "source": [
    "# Размеры определяющие положение болтов d2\n",
    "e_bolt = 1*d2_bolt\n",
    "print(e_bolt)"
   ],
   "id": "1ef4ddbcbf3af105",
   "outputs": [
    {
     "name": "stdout",
     "output_type": "stream",
     "text": [
      "12\n"
     ]
    }
   ],
   "execution_count": 3119
  },
  {
   "metadata": {
    "ExecuteTime": {
     "end_time": "2025-10-25T09:54:59.444417Z",
     "start_time": "2025-10-25T09:54:59.433436Z"
    }
   },
   "cell_type": "code",
   "source": [
    "# Размеры определяющие положение болтов d2\n",
    "\n",
    "d4_bolt = 8 # Диаметр винтов крепления крышки подшипников (табл. 6.2)\n",
    "q_bolt = 0.5 * d2_bolt + d4_bolt\n",
    "print(q_bolt)"
   ],
   "id": "886ad5f8db7cdb8c",
   "outputs": [
    {
     "name": "stdout",
     "output_type": "stream",
     "text": [
      "14.0\n"
     ]
    }
   ],
   "execution_count": 3120
  },
  {
   "metadata": {},
   "cell_type": "markdown",
   "source": [
    "#### Дополнительные элементы корпуса из чугуна (табл. 6.1 стр 32)\n",
    "##### Гнездо под подшипник"
   ],
   "id": "4416a659bf583fee"
  },
  {
   "metadata": {
    "ExecuteTime": {
     "end_time": "2025-10-25T09:54:59.537340Z",
     "start_time": "2025-10-25T09:54:59.525848Z"
    }
   },
   "cell_type": "code",
   "source": [
    "# Винты крепления крышки подшипника d4\n",
    "print(d4_bolt)"
   ],
   "id": "5dae43312fa89ac8",
   "outputs": [
    {
     "name": "stdout",
     "output_type": "stream",
     "text": [
      "8\n"
     ]
    }
   ],
   "execution_count": 3121
  },
  {
   "metadata": {
    "ExecuteTime": {
     "end_time": "2025-10-25T09:54:59.629674Z",
     "start_time": "2025-10-25T09:54:59.615182Z"
    }
   },
   "cell_type": "code",
   "source": [
    "# Число винтов\n",
    "n_vint = 4\n",
    "print(n_vint)"
   ],
   "id": "cc00b0d00d807d0f",
   "outputs": [
    {
     "name": "stdout",
     "output_type": "stream",
     "text": [
      "4\n"
     ]
    }
   ],
   "execution_count": 3122
  },
  {
   "metadata": {
    "ExecuteTime": {
     "end_time": "2025-10-25T09:54:59.740450Z",
     "start_time": "2025-10-25T09:54:59.702520Z"
    }
   },
   "cell_type": "code",
   "source": [
    "# Диаметр гнезда для торцевых крышек подшипника\n",
    "# Наружный диаметр подшипника 7606\n",
    "D_t = 62\n",
    "# Диаметр с припуском\n",
    "Dk_t_prip = D_t + 2\n",
    "print(Dk_t_prip)"
   ],
   "id": "cb4529dff4c3c71f",
   "outputs": [
    {
     "name": "stdout",
     "output_type": "stream",
     "text": [
      "64\n"
     ]
    }
   ],
   "execution_count": 3123
  },
  {
   "metadata": {
    "ExecuteTime": {
     "end_time": "2025-10-25T09:54:59.815221Z",
     "start_time": "2025-10-25T09:54:59.793780Z"
    }
   },
   "cell_type": "code",
   "source": [
    "# Диаметр гнезда для торцевых крышек подшипника\n",
    "# Наружный диаметр подшипника 36207\n",
    "D_b = 72\n",
    "# Диаметр с припуском (торцевая крышка)\n",
    "Dk_b_prip = D_b + 2\n",
    "print(Dk_b_prip)"
   ],
   "id": "9bbc942a8a84152",
   "outputs": [
    {
     "name": "stdout",
     "output_type": "stream",
     "text": [
      "74\n"
     ]
    }
   ],
   "execution_count": 3124
  },
  {
   "metadata": {
    "ExecuteTime": {
     "end_time": "2025-10-25T09:54:59.907871Z",
     "start_time": "2025-10-25T09:54:59.864811Z"
    }
   },
   "cell_type": "code",
   "source": [
    "# Длина гнезда минимальная\n",
    "# l_gnez = B(Ширина подшипника) + K2(высота буртика удерживающего подшипник) + (3...5)\n",
    "# Ширина подшипника 36207\n",
    "B_podsh = 17\n",
    "l_gnez_t = B_podsh + 4 + 4\n",
    "print(l_gnez_t)"
   ],
   "id": "2da29b6174357b48",
   "outputs": [
    {
     "name": "stdout",
     "output_type": "stream",
     "text": [
      "25\n"
     ]
    }
   ],
   "execution_count": 3125
  },
  {
   "metadata": {
    "ExecuteTime": {
     "end_time": "2025-10-25T09:54:59.985215Z",
     "start_time": "2025-10-25T09:54:59.958264Z"
    }
   },
   "cell_type": "code",
   "source": [
    "# Длина гнезда минимальная\n",
    "# l_gnez = B(Ширина подшипника) + K2(высота буртика удерживающего подшипник) + (3...5)\n",
    "# Ширина подшипника 7506\n",
    "B_podsh_b = 21.5\n",
    "l_gnez_b = B_podsh_b + 4 + 5\n",
    "print(l_gnez_b)"
   ],
   "id": "fc9613bf67068e28",
   "outputs": [
    {
     "name": "stdout",
     "output_type": "stream",
     "text": [
      "30.5\n"
     ]
    }
   ],
   "execution_count": 3126
  },
  {
   "metadata": {},
   "cell_type": "markdown",
   "source": "#### Размеры штифта",
   "id": "3505c55bca8fc1a5"
  },
  {
   "metadata": {
    "ExecuteTime": {
     "end_time": "2025-10-25T09:55:00.139557Z",
     "start_time": "2025-10-25T09:55:00.034881Z"
    }
   },
   "cell_type": "code",
   "source": [
    "# Диаметр\n",
    "d_shtift = d3_bolt\n",
    "print(d_shtift)"
   ],
   "id": "8182c041d1cab695",
   "outputs": [
    {
     "name": "stdout",
     "output_type": "stream",
     "text": [
      "8.0\n"
     ]
    }
   ],
   "execution_count": 3127
  },
  {
   "metadata": {
    "ExecuteTime": {
     "end_time": "2025-10-25T09:55:00.277064Z",
     "start_time": "2025-10-25T09:55:00.196594Z"
    }
   },
   "cell_type": "code",
   "source": [
    "# Длина\n",
    "l_shtift = b_korp + b_krishka + 5\n",
    "print(l_shtift)"
   ],
   "id": "5f731232b8bf104a",
   "outputs": [
    {
     "name": "stdout",
     "output_type": "stream",
     "text": [
      "24.0\n"
     ]
    }
   ],
   "execution_count": 3128
  },
  {
   "metadata": {},
   "cell_type": "markdown",
   "source": "#### Наименьший зазор между наружной поверхностью колеса и стенкой корпуса",
   "id": "11357d934bcbc6d5"
  },
  {
   "metadata": {
    "ExecuteTime": {
     "end_time": "2025-10-25T09:55:00.384200Z",
     "start_time": "2025-10-25T09:55:00.326829Z"
    }
   },
   "cell_type": "code",
   "source": [
    "# По диаметру и по торцам\n",
    "x_zazor = 1.1 * po_stenka\n",
    "print(x_zazor)\n",
    "x_zazor = 8\n",
    "print(x_zazor)"
   ],
   "id": "be3e1f52d2e4ad23",
   "outputs": [
    {
     "name": "stdout",
     "output_type": "stream",
     "text": [
      "7.700000000000001\n",
      "8\n"
     ]
    }
   ],
   "execution_count": 3129
  },
  {
   "metadata": {
    "ExecuteTime": {
     "end_time": "2025-10-25T09:55:00.471727Z",
     "start_time": "2025-10-25T09:55:00.435294Z"
    }
   },
   "cell_type": "code",
   "source": [
    "# До днища от колеса\n",
    "Y_zazor = 40\n",
    "print(Y_zazor)"
   ],
   "id": "e750748189464d75",
   "outputs": [
    {
     "name": "stdout",
     "output_type": "stream",
     "text": [
      "40\n"
     ]
    }
   ],
   "execution_count": 3130
  }
 ],
 "metadata": {
  "kernelspec": {
   "display_name": "Python 3 (ipykernel)",
   "language": "python",
   "name": "python3"
  },
  "language_info": {
   "codemirror_mode": {
    "name": "ipython",
    "version": 3
   },
   "file_extension": ".py",
   "mimetype": "text/x-python",
   "name": "python",
   "nbconvert_exporter": "python",
   "pygments_lexer": "ipython3",
   "version": "3.10.4"
  }
 },
 "nbformat": 4,
 "nbformat_minor": 5
}
