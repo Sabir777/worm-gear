{
 "cells": [
  {
   "cell_type": "markdown",
   "id": "e21fd3fc-7c2b-42eb-91c1-e9ce20560d9b",
   "metadata": {},
   "source": [
    "# Курсовая: Техническая механика\n",
    "### Расчет червячной передачи"
   ]
  },
  {
   "cell_type": "code",
   "execution_count": null,
   "id": "0beed80f-8953-4b0c-8840-0f074394a3ad",
   "metadata": {},
   "outputs": [],
   "source": [
    "import runpy\n",
    "\n",
    "runpy.run_path(\"файл.py\")\n"
   ]
  }
 ],
 "metadata": {
  "kernelspec": {
   "display_name": "Python 3 (ipykernel)",
   "language": "python",
   "name": "python3"
  },
  "language_info": {
   "codemirror_mode": {
    "name": "ipython",
    "version": 3
   },
   "file_extension": ".py",
   "mimetype": "text/x-python",
   "name": "python",
   "nbconvert_exporter": "python",
   "pygments_lexer": "ipython3",
   "version": "3.10.12"
  }
 },
 "nbformat": 4,
 "nbformat_minor": 5
}
