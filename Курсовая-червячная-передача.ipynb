{
 "cells": [
  {
   "cell_type": "markdown",
   "id": "e21fd3fc-7c2b-42eb-91c1-e9ce20560d9b",
   "metadata": {},
   "source": [
    "# Курсовая: Техническая механика\n",
    "### Расчет червячной передачи"
   ]
  },
  {
   "cell_type": "code",
   "id": "305b366a-3b59-4c55-b29c-ee6ed7aa6ff5",
   "metadata": {
    "ExecuteTime": {
     "end_time": "2025-10-11T22:28:31.326008Z",
     "start_time": "2025-10-11T22:28:31.303021Z"
    }
   },
   "source": [
    "from math import pi, atan, degrees, cos, tan, radians\n",
    "\n",
    "def degrees_to_radians(degrees, minutes=0):\n",
    "    total_degrees = degrees + minutes / 60\n",
    "    \n",
    "    # Переводим градусы в радианы\n",
    "    return radians(total_degrees)\n"
   ],
   "outputs": [],
   "execution_count": 252
  },
  {
   "cell_type": "code",
   "id": "6c6cccb2-00a2-4969-be57-92d1d4a87188",
   "metadata": {
    "ExecuteTime": {
     "end_time": "2025-10-11T22:28:31.470925Z",
     "start_time": "2025-10-11T22:28:31.342999Z"
    }
   },
   "source": [
    "# Частота вращения выходного вала редуктора\n",
    "n_out = 59"
   ],
   "outputs": [],
   "execution_count": 253
  },
  {
   "cell_type": "markdown",
   "id": "d062898f-f458-4efc-bd17-c8389ff339b8",
   "metadata": {},
   "source": [
    "### Выбор ЭД"
   ]
  },
  {
   "cell_type": "code",
   "id": "0beed80f-8953-4b0c-8840-0f074394a3ad",
   "metadata": {
    "ExecuteTime": {
     "end_time": "2025-10-11T22:28:31.581552Z",
     "start_time": "2025-10-11T22:28:31.485917Z"
    }
   },
   "source": [
    "# КПД общий\n",
    "# КПД передачи = 0.8 (таблица 1.1)\n",
    "kpd_m = 0.98\n",
    "kpd_m * 0.8\n"
   ],
   "outputs": [
    {
     "data": {
      "text/plain": [
       "0.784"
      ]
     },
     "execution_count": 254,
     "metadata": {},
     "output_type": "execute_result"
    }
   ],
   "execution_count": 254
  },
  {
   "cell_type": "code",
   "id": "1b0fcf01-a020-4b2a-970a-3eef5da88680",
   "metadata": {
    "ExecuteTime": {
     "end_time": "2025-10-11T22:28:31.689490Z",
     "start_time": "2025-10-11T22:28:31.617532Z"
    }
   },
   "source": [
    "# Мощность ЭД\n",
    "0.9 / 0.784\n"
   ],
   "outputs": [
    {
     "data": {
      "text/plain": [
       "1.1479591836734693"
      ]
     },
     "execution_count": 255,
     "metadata": {},
     "output_type": "execute_result"
    }
   ],
   "execution_count": 255
  },
  {
   "cell_type": "code",
   "id": "f4a94700-3b3c-4d2d-b7e9-cb9040efedce",
   "metadata": {
    "ExecuteTime": {
     "end_time": "2025-10-11T22:28:31.799060Z",
     "start_time": "2025-10-11T22:28:31.714476Z"
    }
   },
   "source": [
    "# Диапазон частот\n",
    "print(f\"{59*15} ... {59*30}\")\n"
   ],
   "outputs": [
    {
     "name": "stdout",
     "output_type": "stream",
     "text": [
      "885 ... 1770\n"
     ]
    }
   ],
   "execution_count": 256
  },
  {
   "cell_type": "markdown",
   "id": "574bea7c-a2ce-4b7c-b360-1485d6f560f5",
   "metadata": {},
   "source": [
    "***\n",
    "##### Выбираю ЭД\n",
    "4А80В4У3\n",
    "(3 - Чернавский стр.26)\n",
    "- Частота оборотов: 1500 Об/мин\n",
    "- Мощность: 1500 Вт\n",
    "- Скольжение: 5.8\n",
    "(3 - Чернавский стр.521, 4- Дунаев стр.457)\n",
    "- Диаметр вала: 22 мм"
   ]
  },
  {
   "cell_type": "code",
   "id": "029ded10-a34f-4ac2-8d0d-1e8a687e1bed",
   "metadata": {
    "ExecuteTime": {
     "end_time": "2025-10-11T22:28:31.989962Z",
     "start_time": "2025-10-11T22:28:31.836040Z"
    }
   },
   "source": [
    "# Диаметр вала электродвигателя\n",
    "d_ed= 22\n",
    "# Фактическая частота вращения\n",
    "n_fact = 1500 * (100 - 5.8) / 100\n",
    "print(n_fact)"
   ],
   "outputs": [
    {
     "name": "stdout",
     "output_type": "stream",
     "text": [
      "1413.0\n"
     ]
    }
   ],
   "execution_count": 257
  },
  {
   "cell_type": "code",
   "id": "1118497e-f27c-4acf-b709-42d09e29cdc2",
   "metadata": {
    "ExecuteTime": {
     "end_time": "2025-10-11T22:28:32.080874Z",
     "start_time": "2025-10-11T22:28:32.028940Z"
    }
   },
   "source": [
    "# Передаточное число редуктора\n",
    "print(f\"{n_fact} / {n_out} = {n_fact/n_out:.2f}\")\n"
   ],
   "outputs": [
    {
     "name": "stdout",
     "output_type": "stream",
     "text": [
      "1413.0 / 59 = 23.95\n"
     ]
    }
   ],
   "execution_count": 258
  },
  {
   "cell_type": "code",
   "id": "c638f595-c65f-46e4-a9dc-54cbe6caeb58",
   "metadata": {
    "ExecuteTime": {
     "end_time": "2025-10-11T22:28:32.142838Z",
     "start_time": "2025-10-11T22:28:32.105860Z"
    }
   },
   "source": [
    "# Принимаю стандартное значение передаточного числа редуктора по таблице 3.2\n",
    "u_p = 25"
   ],
   "outputs": [],
   "execution_count": 259
  },
  {
   "cell_type": "markdown",
   "id": "84b8004f-a7f0-4750-99aa-4b59f194de11",
   "metadata": {},
   "source": [
    "***\n",
    "### Определение кинематических и силовых параметров для каждого вала\n",
    "***\n",
    "#### Быстроходный вал"
   ]
  },
  {
   "cell_type": "code",
   "id": "1981188b-814a-4433-b1bf-8a6b1b93900a",
   "metadata": {
    "ExecuteTime": {
     "end_time": "2025-10-11T22:28:32.221794Z",
     "start_time": "2025-10-11T22:28:32.154832Z"
    }
   },
   "source": [
    "# Частота оборотов\n",
    "n_fact"
   ],
   "outputs": [
    {
     "data": {
      "text/plain": [
       "1413.0"
      ]
     },
     "execution_count": 260,
     "metadata": {},
     "output_type": "execute_result"
    }
   ],
   "execution_count": 260
  },
  {
   "cell_type": "code",
   "id": "01ba01f0-6dc3-4731-84c2-8fde5a43fd9c",
   "metadata": {
    "ExecuteTime": {
     "end_time": "2025-10-11T22:28:32.344724Z",
     "start_time": "2025-10-11T22:28:32.258773Z"
    }
   },
   "source": [
    "# Угловая скорость\n",
    "w1 = pi * n_fact / 30\n",
    "print(f\"{w1:.3f}\")"
   ],
   "outputs": [
    {
     "name": "stdout",
     "output_type": "stream",
     "text": [
      "147.969\n"
     ]
    }
   ],
   "execution_count": 261
  },
  {
   "cell_type": "code",
   "id": "431c1930-fd51-4d80-b28e-9eef5dba449f",
   "metadata": {
    "ExecuteTime": {
     "end_time": "2025-10-11T22:28:32.502538Z",
     "start_time": "2025-10-11T22:28:32.371708Z"
    }
   },
   "source": [
    "# Мощность на входном валу после муфты\n",
    "P1 = 1500 * 0.98\n",
    "print(P1)"
   ],
   "outputs": [
    {
     "name": "stdout",
     "output_type": "stream",
     "text": [
      "1470.0\n"
     ]
    }
   ],
   "execution_count": 262
  },
  {
   "cell_type": "code",
   "id": "a94729e1-e7c4-4748-9e9d-75cf2528fbbd",
   "metadata": {
    "ExecuteTime": {
     "end_time": "2025-10-11T22:28:32.579496Z",
     "start_time": "2025-10-11T22:28:32.528524Z"
    }
   },
   "source": [
    "# Момент на входном валу, Н*мм\n",
    "T1 = P1 * 1000 / w1\n",
    "print(T1)"
   ],
   "outputs": [
    {
     "name": "stdout",
     "output_type": "stream",
     "text": [
      "9934.512371341238\n"
     ]
    }
   ],
   "execution_count": 263
  },
  {
   "cell_type": "markdown",
   "id": "78c889bf-2ebb-45f9-8568-0eebbec9dd10",
   "metadata": {},
   "source": [
    "***\n",
    "#### Тихоходный вал"
   ]
  },
  {
   "cell_type": "code",
   "id": "cfb96805-c72b-42d4-b770-8cb2fe55f09d",
   "metadata": {
    "ExecuteTime": {
     "end_time": "2025-10-11T22:28:32.736742Z",
     "start_time": "2025-10-11T22:28:32.638462Z"
    }
   },
   "source": [
    "# Частота оборотов\n",
    "n1 = n_fact\n",
    "n2 = n1 / u_p\n",
    "print(n2)"
   ],
   "outputs": [
    {
     "name": "stdout",
     "output_type": "stream",
     "text": [
      "56.52\n"
     ]
    }
   ],
   "execution_count": 264
  },
  {
   "cell_type": "code",
   "id": "7dd9b0d9-00ce-4c12-96d3-777e7a82d507",
   "metadata": {
    "ExecuteTime": {
     "end_time": "2025-10-11T22:28:32.876627Z",
     "start_time": "2025-10-11T22:28:32.764727Z"
    }
   },
   "source": [
    "# Угловая скорость\n",
    "w2 = pi * n2 / 30\n",
    "print(w2)"
   ],
   "outputs": [
    {
     "name": "stdout",
     "output_type": "stream",
     "text": [
      "5.91876055936317\n"
     ]
    }
   ],
   "execution_count": 265
  },
  {
   "cell_type": "code",
   "id": "82d86eb6-a6cd-4464-a4c2-e70268777f58",
   "metadata": {
    "ExecuteTime": {
     "end_time": "2025-10-11T22:28:33.006161Z",
     "start_time": "2025-10-11T22:28:32.904568Z"
    }
   },
   "source": [
    "# Мощность на выходном валу\n",
    "# 0.8 - кпд для червячного редуктора (таблица 1.1)\n",
    "P2 = P1 * 0.8\n",
    "print(P2)"
   ],
   "outputs": [
    {
     "name": "stdout",
     "output_type": "stream",
     "text": [
      "1176.0\n"
     ]
    }
   ],
   "execution_count": 266
  },
  {
   "cell_type": "code",
   "id": "dc16e206-7aab-4673-8d8e-a6582aa8a587",
   "metadata": {
    "ExecuteTime": {
     "end_time": "2025-10-11T22:28:33.115098Z",
     "start_time": "2025-10-11T22:28:33.040142Z"
    }
   },
   "source": [
    "# Вращающий момент\n",
    "T2 = P2 * 1000 / w2\n",
    "print(T2)"
   ],
   "outputs": [
    {
     "name": "stdout",
     "output_type": "stream",
     "text": [
      "198690.24742682476\n"
     ]
    }
   ],
   "execution_count": 267
  },
  {
   "cell_type": "markdown",
   "id": "56889a54-5eda-4580-9999-9cb8874fb7b1",
   "metadata": {},
   "source": [
    "##### Моменты для дальнейших расчетов"
   ]
  },
  {
   "cell_type": "code",
   "id": "04833958-02b4-4ac8-946d-9f8debda6170",
   "metadata": {
    "ExecuteTime": {
     "end_time": "2025-10-11T22:28:33.257017Z",
     "start_time": "2025-10-11T22:28:33.140084Z"
    }
   },
   "source": [
    "# Принимаю моменты для расчетов, Н*мм\n",
    "T1 = 9900\n",
    "T2 = 198000"
   ],
   "outputs": [],
   "execution_count": 268
  },
  {
   "cell_type": "markdown",
   "id": "3c05039d-203c-4cdf-a054-4025ef161c32",
   "metadata": {},
   "source": [
    "***\n",
    "### Выбор материалов и допускаемых напряжений "
   ]
  },
  {
   "cell_type": "code",
   "id": "9b299ab0-1aaf-4dec-ad48-f32d3e7b4ffe",
   "metadata": {
    "ExecuteTime": {
     "end_time": "2025-10-11T22:28:33.425020Z",
     "start_time": "2025-10-11T22:28:33.281004Z"
    }
   },
   "source": [
    "# Скорость скольжения\n",
    "v_s = 4.5 * 10 ** (-4) * n1 * (T2 / 1000) ** (1/3)\n",
    "print(v_s)"
   ],
   "outputs": [
    {
     "name": "stdout",
     "output_type": "stream",
     "text": [
      "3.706036899045438\n"
     ]
    }
   ],
   "execution_count": 269
  },
  {
   "cell_type": "markdown",
   "id": "06c7dbb1-e536-496e-890d-4d637fac46a3",
   "metadata": {},
   "source": [
    "***\n",
    "#### **Выбираю материал для червячного колеса**\n",
    "Согласно таблице 3.1 стр.15\n",
    "\n",
    "Бр А9ЖЗЛ\n",
    "\n",
    "$σ_т = 200$\n",
    "\n",
    "$σ_в = 400$\n",
    "\n",
    "$σ_H = 300 - 25v_s$\n",
    "\n",
    "$σ_F = 0,25σ_т+0,08σ_в$\n",
    "***\n",
    "$σ_H$"
   ]
  },
  {
   "cell_type": "code",
   "id": "a90249db-e595-44f5-8a49-56c732ba6f8d",
   "metadata": {
    "ExecuteTime": {
     "end_time": "2025-10-11T22:28:33.689696Z",
     "start_time": "2025-10-11T22:28:33.476993Z"
    }
   },
   "source": [
    "po_h = 300 - 25 * v_s\n",
    "print(f\"300 - 25*{v_s:.2f} = {300 - 25*v_s:.1f}\")"
   ],
   "outputs": [
    {
     "name": "stdout",
     "output_type": "stream",
     "text": [
      "300 - 25*3.71 = 207.3\n"
     ]
    }
   ],
   "execution_count": 270
  },
  {
   "cell_type": "markdown",
   "id": "429618dc-54d4-4e3b-837d-f85718412b8b",
   "metadata": {},
   "source": [
    "$σ_F$"
   ]
  },
  {
   "cell_type": "code",
   "id": "2a1ecb57-0f3a-4761-ba26-dbb541d59a9f",
   "metadata": {
    "ExecuteTime": {
     "end_time": "2025-10-11T22:28:33.877105Z",
     "start_time": "2025-10-11T22:28:33.712684Z"
    }
   },
   "source": [
    "po_f = 0.25*200 + 0.08*400\n",
    "print(po_f)"
   ],
   "outputs": [
    {
     "name": "stdout",
     "output_type": "stream",
     "text": [
      "82.0\n"
     ]
    }
   ],
   "execution_count": 271
  },
  {
   "cell_type": "markdown",
   "id": "e0eea6c3-04eb-4501-b1ba-32a06de1cef6",
   "metadata": {},
   "source": [
    "***\n",
    "#### Проектный расчет червячной передачи по контактным напряжениям"
   ]
  },
  {
   "cell_type": "code",
   "id": "e443dd9b-1433-4461-9437-71fa49de91f4",
   "metadata": {
    "ExecuteTime": {
     "end_time": "2025-10-11T22:28:34.002901Z",
     "start_time": "2025-10-11T22:28:33.908711Z"
    }
   },
   "source": [
    "# Согласно таблице 3.2 выбираю стандартное передаточное отношение\n",
    "# Вычисляю число зубьев колеса\n",
    "z1 = 2\n",
    "z2 = z1 * u_p\n",
    "print(z2)"
   ],
   "outputs": [
    {
     "name": "stdout",
     "output_type": "stream",
     "text": [
      "50\n"
     ]
    }
   ],
   "execution_count": 272
  },
  {
   "cell_type": "code",
   "id": "56cf7654-52ef-4c3f-965e-842f2389cbb2",
   "metadata": {
    "ExecuteTime": {
     "end_time": "2025-10-11T22:28:34.127586Z",
     "start_time": "2025-10-11T22:28:34.014651Z"
    }
   },
   "source": [
    "# Определяю межосевое расстояние\n",
    "K_n = 1.1\n",
    "q = 12.5\n",
    "T2_m = T2 / 1000\n",
    "a_w = (z2/q + 1) * ((5400/(z2/q*po_h)) ** 2 * T2_m * K_n) ** (1/3)\n",
    "print(f\"({z2}/{q} + 1) * ((5400/({z2}/{q}*{po_h:.0f})) ** 2 * {T2_m} * {K_n}) ** (1/3) = {(z2/q + 1) * ((5400/(z2/q*po_h)) ** 2 * T2_m * K_n) ** (1/3):0f}\")\n",
    "\n",
    "# Выбираю стандартное значение a_w = 125 мм\n",
    "a_w = 125"
   ],
   "outputs": [
    {
     "name": "stdout",
     "output_type": "stream",
     "text": [
      "(50/12.5 + 1) * ((5400/(50/12.5*207)) ** 2 * 198.0 * 1.1) ** (1/3) = 104.892331\n"
     ]
    }
   ],
   "execution_count": 273
  },
  {
   "cell_type": "code",
   "id": "e832d231-4e8b-4c0c-b73a-46fbc713ad88",
   "metadata": {
    "ExecuteTime": {
     "end_time": "2025-10-11T22:28:34.235043Z",
     "start_time": "2025-10-11T22:28:34.157569Z"
    }
   },
   "source": [
    "# Определяю величину осевого модуля для стандартного a_w\n",
    "m = 2*a_w/(q + z2)\n",
    "print(m)"
   ],
   "outputs": [
    {
     "name": "stdout",
     "output_type": "stream",
     "text": [
      "4.0\n"
     ]
    }
   ],
   "execution_count": 274
  },
  {
   "cell_type": "markdown",
   "id": "3e36e419-4dcf-4a49-95ae-78206dac38fd",
   "metadata": {},
   "source": [
    "***\n",
    "#### Выбираю стандартные значения из таблицы 3.3\n",
    "\n",
    "$a_w = 125$ мм\n",
    "\n",
    "$m = 4$ мм\n",
    "\n",
    "$q = 12,5$\n",
    "\n",
    "$z_2:z_1 = 50:2$"
   ]
  },
  {
   "cell_type": "markdown",
   "id": "bcaf6d8f-3c1c-484d-8480-f1f37aeee4cf",
   "metadata": {},
   "source": [
    "***\n",
    "#### Определяю геометрические параметры червяка"
   ]
  },
  {
   "cell_type": "code",
   "id": "b2a8a73e-4797-4485-8e7f-d1f54e5457d2",
   "metadata": {
    "ExecuteTime": {
     "end_time": "2025-10-11T22:28:34.343981Z",
     "start_time": "2025-10-11T22:28:34.260030Z"
    }
   },
   "source": [
    "d1 = d_1b = q * m\n",
    "print(d1)"
   ],
   "outputs": [
    {
     "name": "stdout",
     "output_type": "stream",
     "text": [
      "50.0\n"
     ]
    }
   ],
   "execution_count": 275
  },
  {
   "cell_type": "code",
   "id": "e23a5be9-5130-4e4f-b1db-7f0cc808f1c3",
   "metadata": {
    "ExecuteTime": {
     "end_time": "2025-10-11T22:28:34.469909Z",
     "start_time": "2025-10-11T22:28:34.367969Z"
    }
   },
   "source": [
    "da1 = d1 + 2 * m\n",
    "print(da1)"
   ],
   "outputs": [
    {
     "name": "stdout",
     "output_type": "stream",
     "text": [
      "58.0\n"
     ]
    }
   ],
   "execution_count": 276
  },
  {
   "cell_type": "code",
   "id": "5151d8cb-cdd2-4b3f-b9d3-59f93c4d03d5",
   "metadata": {
    "ExecuteTime": {
     "end_time": "2025-10-11T22:28:34.597557Z",
     "start_time": "2025-10-11T22:28:34.491619Z"
    }
   },
   "source": [
    "df1 = d1 - 2.4*m\n",
    "print(df1)"
   ],
   "outputs": [
    {
     "name": "stdout",
     "output_type": "stream",
     "text": [
      "40.4\n"
     ]
    }
   ],
   "execution_count": 277
  },
  {
   "cell_type": "code",
   "id": "488f8313-5a81-4368-b191-ab23980291d3",
   "metadata": {
    "ExecuteTime": {
     "end_time": "2025-10-11T22:28:34.692503Z",
     "start_time": "2025-10-11T22:28:34.619545Z"
    }
   },
   "source": [
    "# Длина нарезанной части червяка\n",
    "b1 = (11 + 0.06*z2)*m\n",
    "print(b1)"
   ],
   "outputs": [
    {
     "name": "stdout",
     "output_type": "stream",
     "text": [
      "56.0\n"
     ]
    }
   ],
   "execution_count": 278
  },
  {
   "cell_type": "markdown",
   "id": "c6042717-71d8-4958-a277-3524985b1621",
   "metadata": {},
   "source": [
    "***\n",
    "#### Определяю геометрические параметры колеса "
   ]
  },
  {
   "cell_type": "code",
   "id": "95606d6f-ccaa-4dc8-a381-cdc10330dfcc",
   "metadata": {
    "ExecuteTime": {
     "end_time": "2025-10-11T22:28:34.849931Z",
     "start_time": "2025-10-11T22:28:34.715492Z"
    }
   },
   "source": [
    "d2 = d_2t = m * z2\n",
    "print(d2)"
   ],
   "outputs": [
    {
     "name": "stdout",
     "output_type": "stream",
     "text": [
      "200.0\n"
     ]
    }
   ],
   "execution_count": 279
  },
  {
   "cell_type": "code",
   "id": "10a8aa50-56b9-4700-945e-4bb73cbaa543",
   "metadata": {
    "ExecuteTime": {
     "end_time": "2025-10-11T22:28:34.993737Z",
     "start_time": "2025-10-11T22:28:34.876917Z"
    }
   },
   "source": [
    "da2 = d2 + 2*m\n",
    "print(da2)"
   ],
   "outputs": [
    {
     "name": "stdout",
     "output_type": "stream",
     "text": [
      "208.0\n"
     ]
    }
   ],
   "execution_count": 280
  },
  {
   "cell_type": "code",
   "id": "edd9d606-8245-4f6e-850c-a60b578ac6de",
   "metadata": {
    "ExecuteTime": {
     "end_time": "2025-10-11T22:28:35.167148Z",
     "start_time": "2025-10-11T22:28:35.019723Z"
    }
   },
   "source": [
    "df2 = d2 - 2.4*m\n",
    "print(df2)"
   ],
   "outputs": [
    {
     "name": "stdout",
     "output_type": "stream",
     "text": [
      "190.4\n"
     ]
    }
   ],
   "execution_count": 281
  },
  {
   "cell_type": "code",
   "id": "8445e778-483c-453f-abbf-aa7fba47fb7f",
   "metadata": {
    "ExecuteTime": {
     "end_time": "2025-10-11T22:28:35.293077Z",
     "start_time": "2025-10-11T22:28:35.192135Z"
    }
   },
   "source": [
    "# Ширина зубчатого венца червячного колеса\n",
    "b2 = 0.75*da1\n",
    "print(b2)"
   ],
   "outputs": [
    {
     "name": "stdout",
     "output_type": "stream",
     "text": [
      "43.5\n"
     ]
    }
   ],
   "execution_count": 282
  },
  {
   "cell_type": "code",
   "id": "bf58c93c-72a8-4074-84da-d7997c60c034",
   "metadata": {
    "ExecuteTime": {
     "end_time": "2025-10-11T22:28:35.435514Z",
     "start_time": "2025-10-11T22:28:35.319063Z"
    }
   },
   "source": [
    "# Проверяю выбранное значение v_s\n",
    "tg_y = z1/q\n",
    "print(tg_y)"
   ],
   "outputs": [
    {
     "name": "stdout",
     "output_type": "stream",
     "text": [
      "0.16\n"
     ]
    }
   ],
   "execution_count": 283
  },
  {
   "cell_type": "code",
   "id": "28af610a-7bfd-4a89-b51f-91a5e41eb286",
   "metadata": {
    "ExecuteTime": {
     "end_time": "2025-10-11T22:28:35.513469Z",
     "start_time": "2025-10-11T22:28:35.445508Z"
    }
   },
   "source": [
    "y = atan(tg_y)\n",
    "print(y)"
   ],
   "outputs": [
    {
     "name": "stdout",
     "output_type": "stream",
     "text": [
      "0.1586552621864014\n"
     ]
    }
   ],
   "execution_count": 284
  },
  {
   "cell_type": "code",
   "id": "45fd4bef-d062-40c2-acc7-8d43f0be14d1",
   "metadata": {
    "ExecuteTime": {
     "end_time": "2025-10-11T22:28:35.640503Z",
     "start_time": "2025-10-11T22:28:35.536457Z"
    }
   },
   "source": [
    "# Угол в градусах\n",
    "deg_y = degrees(y)\n",
    "print(deg_y)"
   ],
   "outputs": [
    {
     "name": "stdout",
     "output_type": "stream",
     "text": [
      "9.090276920822323\n"
     ]
    }
   ],
   "execution_count": 285
  },
  {
   "cell_type": "markdown",
   "id": "89094d67-2c23-4989-9497-bf3395cf3bf2",
   "metadata": {},
   "source": [
    "***\n",
    "#### Проверочный рассчет по контактным напряжениям"
   ]
  },
  {
   "cell_type": "code",
   "id": "a0957428-60bf-4e2f-a126-688e270420a0",
   "metadata": {
    "ExecuteTime": {
     "end_time": "2025-10-11T22:28:35.719971Z",
     "start_time": "2025-10-11T22:28:35.661490Z"
    }
   },
   "source": [
    "# Проверяю условие прочности выбранной стандартной передачи\n",
    "temp = (5400/(z2/q))*(((z2/q+1)/a_w)**3*T2_m*K_n)**(0.5)\n",
    "print(f\"(5400/({z2}/{q}))*((({z2}/{q}+1)/{a_w})**3*{T2_m}*{K_n})**(0.5) = {(5400/(z2/q))*(((z2/q+1)/a_w)**3*T2_m*K_n)**(0.5)}\")"
   ],
   "outputs": [
    {
     "name": "stdout",
     "output_type": "stream",
     "text": [
      "(5400/(50/12.5))*(((50/12.5+1)/125)**3*198.0*1.1)**(0.5) = 159.38692543618504\n"
     ]
    }
   ],
   "execution_count": 286
  },
  {
   "cell_type": "markdown",
   "id": "27662c55-182c-451c-8a1f-c69963a20779",
   "metadata": {},
   "source": [
    "##### Прочность по контрольным напряжениям обеспечена так как 159 МПа < 206 МПа "
   ]
  },
  {
   "cell_type": "markdown",
   "id": "d2919e25-1421-4aaf-9261-84c0f92c04d6",
   "metadata": {},
   "source": [
    "***\n",
    "#### Проверка прочности зубьев червячного венца на изгиб"
   ]
  },
  {
   "cell_type": "code",
   "id": "ec257587-fc40-4c29-9bc7-a41d72088ae7",
   "metadata": {
    "ExecuteTime": {
     "end_time": "2025-10-11T22:28:35.799416Z",
     "start_time": "2025-10-11T22:28:35.744957Z"
    }
   },
   "source": [
    "# Окружная сила на колесе\n",
    "Ft2 = 2 * T2/d2\n",
    "print(f\"2 * {T2}/{d2} = {2 * T2/d2}\")"
   ],
   "outputs": [
    {
     "name": "stdout",
     "output_type": "stream",
     "text": [
      "2 * 198000/200.0 = 1980.0\n"
     ]
    }
   ],
   "execution_count": 287
  },
  {
   "cell_type": "code",
   "id": "4993cf2f-5821-41ae-b18e-c94c2a1ef135",
   "metadata": {
    "ExecuteTime": {
     "end_time": "2025-10-11T22:28:35.925864Z",
     "start_time": "2025-10-11T22:28:35.825401Z"
    }
   },
   "source": [
    "# Окружная сила на червяке\n",
    "Ft1 = 2 * T1/d1\n",
    "print(f\"2 * {T1}/{d1} = {2 * T1/d1}\")"
   ],
   "outputs": [
    {
     "name": "stdout",
     "output_type": "stream",
     "text": [
      "2 * 9900/50.0 = 396.0\n"
     ]
    }
   ],
   "execution_count": 288
  },
  {
   "cell_type": "code",
   "id": "ff55090c-b570-4f49-b51b-380bbbc4e770",
   "metadata": {
    "ExecuteTime": {
     "end_time": "2025-10-11T22:28:36.067342Z",
     "start_time": "2025-10-11T22:28:35.951849Z"
    }
   },
   "source": [
    "# Определение коэффициента формы зуба из таблицы 3.7\n",
    "z_v = z2/cos(y) ** 3\n",
    "print(f\"{z2}/cos({y:.4f}) ** 3 = {z2/cos(y) ** 3:.1f}\")"
   ],
   "outputs": [
    {
     "name": "stdout",
     "output_type": "stream",
     "text": [
      "50/cos(0.1587) ** 3 = 51.9\n"
     ]
    }
   ],
   "execution_count": 289
  },
  {
   "cell_type": "markdown",
   "id": "ec0e43f1-66a3-41e9-87fc-4d036c74b7e5",
   "metadata": {},
   "source": [
    "##### Принимаю форму зуба из таблицы 3.7\n",
    "$Y_F = 1,45$"
   ]
  },
  {
   "cell_type": "markdown",
   "id": "e5de94f3-d2c7-491a-bb01-f7ec8121437c",
   "metadata": {},
   "source": [
    "Значения коэффициентов расчетной нагрузки $K_н$ и $K_F$ принимаются одинаковыми (стр.18) = 1"
   ]
  },
  {
   "cell_type": "code",
   "id": "19ccc0c4-5662-421b-8e5c-449dc34d1037",
   "metadata": {
    "ExecuteTime": {
     "end_time": "2025-10-11T22:28:36.130305Z",
     "start_time": "2025-10-11T22:28:36.084333Z"
    }
   },
   "source": [
    "Y_F = 1.45\n",
    "K_F = 1\n",
    "po_ff = 0.7*Y_F*Ft2*K_F/(b2*m)\n",
    "print(f\"0.7*{Y_F}*{Ft2}*{K_F}/({b2}*{m}) = {0.7*Y_F*Ft2*K_F/(b2*m):.2f}\")\n",
    "print(f\"{po_ff:.1f} < {po_f}\")\n",
    "print(\"Прочность по напряжениям изгиба обеспечена\")"
   ],
   "outputs": [
    {
     "name": "stdout",
     "output_type": "stream",
     "text": [
      "0.7*1.45*1980.0*1/(43.5*4.0) = 11.55\n",
      "11.5 < 82.0\n",
      "Прочность по напряжениям изгиба обеспечена\n"
     ]
    }
   ],
   "execution_count": 290
  },
  {
   "cell_type": "markdown",
   "id": "f450de7b-be7b-4e62-8a5e-def9eeb845d2",
   "metadata": {},
   "source": [
    "***\n",
    "##### Уточняю КПД червячной передачи\n"
   ]
  },
  {
   "cell_type": "code",
   "id": "4e06826d-b214-4b7b-87ae-157702ae2120",
   "metadata": {
    "ExecuteTime": {
     "end_time": "2025-10-11T22:28:36.209260Z",
     "start_time": "2025-10-11T22:28:36.153294Z"
    }
   },
   "source": [
    "kpd_b = tan(y)/tan(y + degrees_to_radians(1, 26))\n",
    "print(kpd_b)"
   ],
   "outputs": [
    {
     "name": "stdout",
     "output_type": "stream",
     "text": [
      "0.8613018256599354\n"
     ]
    }
   ],
   "execution_count": 291
  },
  {
   "cell_type": "markdown",
   "id": "ac963eac-4853-4f70-97e3-f61a9219d83d",
   "metadata": {},
   "source": [
    "##### Общий КПД\n",
    "КПД = КПДп * КПДм"
   ]
  },
  {
   "cell_type": "code",
   "id": "72189d41-a29e-4d5e-aa4d-7d9a5c4fa76b",
   "metadata": {
    "ExecuteTime": {
     "end_time": "2025-10-11T22:28:36.287631Z",
     "start_time": "2025-10-11T22:28:36.228250Z"
    }
   },
   "source": [
    "kpd_sum = kpd_b * kpd_m\n",
    "print(f\"{kpd_b:.3f} * {kpd_m} = {kpd_b * kpd_m:.3f}\")\n",
    "# print(kpd_sum)"
   ],
   "outputs": [
    {
     "name": "stdout",
     "output_type": "stream",
     "text": [
      "0.861 * 0.98 = 0.844\n"
     ]
    }
   ],
   "execution_count": 292
  },
  {
   "metadata": {
    "ExecuteTime": {
     "end_time": "2025-10-08T08:39:05.843551Z",
     "start_time": "2025-10-08T08:39:05.833544Z"
    }
   },
   "cell_type": "markdown",
   "source": "##### Тепловой расчет\n",
   "id": "3f972c6f20db83f6"
  },
  {
   "metadata": {
    "ExecuteTime": {
     "end_time": "2025-10-11T22:28:36.366586Z",
     "start_time": "2025-10-11T22:28:36.309619Z"
    }
   },
   "cell_type": "code",
   "source": "# FF = P1*(1 - kpd_sum)*A",
   "id": "ceae9727a1c33714",
   "outputs": [],
   "execution_count": 293
  },
  {
   "metadata": {},
   "cell_type": "markdown",
   "source": [
    "***\n",
    "### Расчет валов"
   ],
   "id": "d08726d4f259b5de"
  },
  {
   "metadata": {},
   "cell_type": "markdown",
   "source": [
    "#### Расчет выполняю по таблице 4.1\n",
    "##### Быстроходный вал (червяк)"
   ],
   "id": "dd68e12105ff4aa3"
  },
  {
   "metadata": {
    "ExecuteTime": {
     "end_time": "2025-10-11T22:28:36.446540Z",
     "start_time": "2025-10-11T22:28:36.379579Z"
    }
   },
   "cell_type": "code",
   "source": [
    "# 1 ступень под муфту\n",
    "d_1st = 1.2 * d_ed\n",
    "print(f\"1.2 * {d_ed} = {1.2 * d_ed}\")\n",
    "d_1st = 24\n",
    "print(d_1st)"
   ],
   "id": "978861cad280a943",
   "outputs": [
    {
     "name": "stdout",
     "output_type": "stream",
     "text": [
      "1.2 * 22 = 26.4\n",
      "24\n"
     ]
    }
   ],
   "execution_count": 294
  },
  {
   "metadata": {
    "ExecuteTime": {
     "end_time": "2025-10-11T22:28:36.511504Z",
     "start_time": "2025-10-11T22:28:36.467529Z"
    }
   },
   "cell_type": "code",
   "source": [
    "# 2 ступень под уплотнение крышки с отверстием и подшипник\n",
    "t = 2 # Таблица 4.2\n",
    "d_2st = d_1st + 2 * t\n",
    "print(d_2st)\n",
    "d_2st = 30\n",
    "print(d_2st)\n"
   ],
   "id": "c1a675667e584059",
   "outputs": [
    {
     "name": "stdout",
     "output_type": "stream",
     "text": [
      "28\n",
      "30\n"
     ]
    }
   ],
   "execution_count": 295
  },
  {
   "metadata": {
    "ExecuteTime": {
     "end_time": "2025-10-11T22:28:36.622062Z",
     "start_time": "2025-10-11T22:28:36.543486Z"
    }
   },
   "cell_type": "code",
   "source": [
    "# 3 ступень под шестерню\n",
    "r = 1 # таблица 4.2\n",
    "d_3st = d_2st + 3.2 * r\n",
    "print(d_3st)\n",
    "d_3st = 34\n",
    "print(d_3st)"
   ],
   "id": "2a9e6e149495857",
   "outputs": [
    {
     "name": "stdout",
     "output_type": "stream",
     "text": [
      "33.2\n",
      "34\n"
     ]
    }
   ],
   "execution_count": 296
  },
  {
   "metadata": {
    "ExecuteTime": {
     "end_time": "2025-10-11T22:28:36.733998Z",
     "start_time": "2025-10-11T22:28:36.651045Z"
    }
   },
   "cell_type": "code",
   "source": [
    "# 4 ступень\n",
    "d_4st = d_2st\n",
    "print(d_4st)"
   ],
   "id": "88ebb6d47b5aed36",
   "outputs": [
    {
     "name": "stdout",
     "output_type": "stream",
     "text": [
      "30\n"
     ]
    }
   ],
   "execution_count": 297
  },
  {
   "metadata": {},
   "cell_type": "markdown",
   "source": "##### Выходной вал (червячное колесо)",
   "id": "f0e665def9c4ec5f"
  },
  {
   "metadata": {
    "ExecuteTime": {
     "end_time": "2025-10-11T22:28:36.860032Z",
     "start_time": "2025-10-11T22:28:36.758985Z"
    }
   },
   "cell_type": "code",
   "source": [
    "# Выходной вал под муфту: 1-я ступень\n",
    "d_1st_2 = (T2/(0.2 * 40)) ** (1/3)\n",
    "print(d_1st_2)\n",
    "d_1st_2 = 30\n",
    "print(d_1st_2)"
   ],
   "id": "d8ed487f2c93bfa0",
   "outputs": [
    {
     "name": "stdout",
     "output_type": "stream",
     "text": [
      "29.142383416257275\n",
      "30\n"
     ]
    }
   ],
   "execution_count": 298
  },
  {
   "metadata": {
    "ExecuteTime": {
     "end_time": "2025-10-11T22:28:37.001490Z",
     "start_time": "2025-10-11T22:28:36.885018Z"
    }
   },
   "cell_type": "code",
   "source": [
    "# 2-я ступень\n",
    "t = 2.5\n",
    "d_2st_2 = d_1st_2 + 2 * t\n",
    "print(d_2st_2)"
   ],
   "id": "5dd77cd5b962a378",
   "outputs": [
    {
     "name": "stdout",
     "output_type": "stream",
     "text": [
      "35.0\n"
     ]
    }
   ],
   "execution_count": 299
  },
  {
   "metadata": {
    "ExecuteTime": {
     "end_time": "2025-10-11T22:28:37.097436Z",
     "start_time": "2025-10-11T22:28:37.028475Z"
    }
   },
   "cell_type": "code",
   "source": [
    "# 3-я ступень\n",
    "d_3st_2 = d_2st_2 + 3.2 * r\n",
    "print(d_3st_2)\n",
    "d_3st_2 = 40\n",
    "print(d_3st_2)"
   ],
   "id": "c6ae254893c0223c",
   "outputs": [
    {
     "name": "stdout",
     "output_type": "stream",
     "text": [
      "38.2\n",
      "40\n"
     ]
    }
   ],
   "execution_count": 300
  },
  {
   "metadata": {
    "ExecuteTime": {
     "end_time": "2025-10-11T22:28:37.223881Z",
     "start_time": "2025-10-11T22:28:37.117425Z"
    }
   },
   "cell_type": "code",
   "source": [
    "# 4-я ступень\n",
    "d_4st_2 = d_2st_2\n",
    "print(d_4st_2)"
   ],
   "id": "cfd31cbb84de6215",
   "outputs": [
    {
     "name": "stdout",
     "output_type": "stream",
     "text": [
      "35.0\n"
     ]
    }
   ],
   "execution_count": 301
  },
  {
   "metadata": {},
   "cell_type": "markdown",
   "source": [
    "***\n",
    "##### Конструирование червячной передачи стр.20"
   ],
   "id": "27dfa38bc72e992"
  },
  {
   "metadata": {
    "ExecuteTime": {
     "end_time": "2025-10-11T22:28:37.285846Z",
     "start_time": "2025-10-11T22:28:37.240871Z"
    }
   },
   "cell_type": "code",
   "source": [
    "# Наибольший диаметр червячного колеса\n",
    "d_am2 = da2 + 6*m/(z1 + 2*z2)\n",
    "print(f\"{da2} + 6*{m}/({z1} + 2*{z2}) = {da2 + 6*m/(z1 + 2*z2)}\")\n",
    "# print(d_am2)"
   ],
   "id": "d65a8650b0c5f0c5",
   "outputs": [
    {
     "name": "stdout",
     "output_type": "stream",
     "text": [
      "208.0 + 6*4.0/(2 + 2*50) = 208.23529411764707\n"
     ]
    }
   ],
   "execution_count": 302
  },
  {
   "metadata": {
    "ExecuteTime": {
     "end_time": "2025-10-11T22:28:37.364800Z",
     "start_time": "2025-10-11T22:28:37.297839Z"
    }
   },
   "cell_type": "code",
   "source": [
    "d_st = 1.8 * d_3st_2\n",
    "print(f\"1.8 * {d_3st_2} = {1.8 * d_3st_2}\")"
   ],
   "id": "56f5bacbff7f77ca",
   "outputs": [
    {
     "name": "stdout",
     "output_type": "stream",
     "text": [
      "1.8 * 40 = 72.0\n"
     ]
    }
   ],
   "execution_count": 303
  },
  {
   "metadata": {
    "ExecuteTime": {
     "end_time": "2025-10-11T22:28:37.427765Z",
     "start_time": "2025-10-11T22:28:37.383790Z"
    }
   },
   "cell_type": "code",
   "source": [
    "l_st = 1.7 * d_3st_2\n",
    "print(l_st)"
   ],
   "id": "e7de78872e86bd7f",
   "outputs": [
    {
     "name": "stdout",
     "output_type": "stream",
     "text": [
      "68.0\n"
     ]
    }
   ],
   "execution_count": 304
  },
  {
   "metadata": {
    "ExecuteTime": {
     "end_time": "2025-10-11T22:28:37.507261Z",
     "start_time": "2025-10-11T22:28:37.458747Z"
    }
   },
   "cell_type": "code",
   "source": [
    "po_1 = po_2 = 2 * m\n",
    "print(po_1)"
   ],
   "id": "f100511c5f6b05f6",
   "outputs": [
    {
     "name": "stdout",
     "output_type": "stream",
     "text": [
      "8.0\n"
     ]
    }
   ],
   "execution_count": 305
  },
  {
   "metadata": {
    "ExecuteTime": {
     "end_time": "2025-10-11T22:28:37.569226Z",
     "start_time": "2025-10-11T22:28:37.529249Z"
    }
   },
   "cell_type": "code",
   "source": [
    "C = 0.25 * b2\n",
    "print(C)"
   ],
   "id": "5f36d317207ff492",
   "outputs": [
    {
     "name": "stdout",
     "output_type": "stream",
     "text": [
      "10.875\n"
     ]
    }
   ],
   "execution_count": 306
  },
  {
   "metadata": {
    "ExecuteTime": {
     "end_time": "2025-10-11T22:28:37.696153Z",
     "start_time": "2025-10-11T22:28:37.606206Z"
    }
   },
   "cell_type": "code",
   "source": [
    "# d винта\n",
    "d_vint = 1.4*m\n",
    "print(d_vint)"
   ],
   "id": "e717c50e9c408312",
   "outputs": [
    {
     "name": "stdout",
     "output_type": "stream",
     "text": [
      "5.6\n"
     ]
    }
   ],
   "execution_count": 307
  },
  {
   "metadata": {
    "ExecuteTime": {
     "end_time": "2025-10-11T22:28:37.789305Z",
     "start_time": "2025-10-11T22:28:37.726136Z"
    }
   },
   "cell_type": "code",
   "source": [
    "# l винта\n",
    "l_vint = 0.4*b2\n",
    "print(l_vint)"
   ],
   "id": "837428e84e5a0544",
   "outputs": [
    {
     "name": "stdout",
     "output_type": "stream",
     "text": [
      "17.400000000000002\n"
     ]
    }
   ],
   "execution_count": 308
  },
  {
   "metadata": {
    "ExecuteTime": {
     "end_time": "2025-10-11T22:28:37.869260Z",
     "start_time": "2025-10-11T22:28:37.809294Z"
    }
   },
   "cell_type": "code",
   "source": [
    "f = 0.2*d_vint\n",
    "print(f)"
   ],
   "id": "8258a606a4179c5e",
   "outputs": [
    {
     "name": "stdout",
     "output_type": "stream",
     "text": [
      "1.1199999999999999\n"
     ]
    }
   ],
   "execution_count": 309
  },
  {
   "metadata": {
    "ExecuteTime": {
     "end_time": "2025-10-08T11:23:05.250724Z",
     "start_time": "2025-10-08T11:23:05.242714Z"
    }
   },
   "cell_type": "markdown",
   "source": "##### Параметры ступеней валов и подшипников",
   "id": "9eb404fca40a3e79"
  },
  {
   "metadata": {
    "ExecuteTime": {
     "end_time": "2025-10-11T22:28:37.964959Z",
     "start_time": "2025-10-11T22:28:37.893Z"
    }
   },
   "cell_type": "code",
   "source": [
    "from IPython.display import Markdown\n",
    "\n",
    "l_1st = 50\n",
    "l_2st = 55\n",
    "l_3st = 170\n",
    "l_4st = 30\n",
    "\n",
    "l_1st_2 = 50\n",
    "l_2st_2 = 50\n",
    "l_3st_2 = 90\n",
    "l_4st_2 = 50\n",
    "\n",
    "Markdown(f\"\"\"\n",
    "##### Быстроходный вал\n",
    "| d1 / l1 | d2 / l2 | d3 / l3 | d4 / l4 |\n",
    "|-------|------|------|------|\n",
    "| {d_1st} / {l_1st} | {d_2st} / {l_2st} | {d_3st} / {l_3st} | {d_4st} / {l_4st}|\n",
    "\n",
    "###### Подшипники для быстроходного вала\n",
    "| Обозначение | $dxDxB(T)$ | $Cr, кН$ | $C_0, кН$ | $α°$ |\n",
    "|------|-------|------|------|------|\n",
    "| 7606 | 30х72х29х29 | 63 | 51 | - |\n",
    "***\n",
    "##### Тихоходный вал\n",
    "| d1 / l1 | d2 / l2 | d3 / l3 | d4 / l4 |\n",
    "|-------|------|------|------|\n",
    "| {d_1st_2} / {l_1st_2} | {d_2st_2} / {l_2st_2} | {d_3st_2} / {l_3st_2} | {d_4st_2} / {l_4st_2}|\n",
    "\n",
    "##### Подшипники для тихоходного вала\n",
    "| Обозначение | $dxDxB(T)$ | $Cr, кН$ | $C_0, кН$ | $α°$ |\n",
    "|------|-------|------|------|------|\n",
    "| 36207 | 35х72х17 | 24 | 18 | 12 |\n",
    "***\n",
    "\n",
    "\"\"\")\n"
   ],
   "id": "d3c16681aef75db9",
   "outputs": [
    {
     "data": {
      "text/plain": [
       "<IPython.core.display.Markdown object>"
      ],
      "text/markdown": "\n##### Быстроходный вал\n| d1 / l1 | d2 / l2 | d3 / l3 | d4 / l4 |\n|-------|------|------|------|\n| 24 / 50 | 30 / 55 | 34 / 170 | 30 / 30|\n\n###### Подшипники для быстроходного вала\n| Обозначение | $dxDxB(T)$ | $Cr, кН$ | $C_0, кН$ | $α°$ |\n|------|-------|------|------|------|\n| 7606 | 30х72х29х29 | 63 | 51 | - |\n***\n##### Тихоходный вал\n| d1 / l1 | d2 / l2 | d3 / l3 | d4 / l4 |\n|-------|------|------|------|\n| 30 / 50 | 35.0 / 50 | 40 / 90 | 35.0 / 50|\n\n##### Подшипники для тихоходного вала\n| Обозначение | $dxDxB(T)$ | $Cr, кН$ | $C_0, кН$ | $α°$ |\n|------|-------|------|------|------|\n| 36207 | 35х72х17 | 24 | 18 | 12 |\n***\n\n"
     },
     "execution_count": 310,
     "metadata": {},
     "output_type": "execute_result"
    }
   ],
   "execution_count": 310
  },
  {
   "metadata": {
    "ExecuteTime": {
     "end_time": "2025-10-08T11:43:38.666338Z",
     "start_time": "2025-10-08T11:43:38.653345Z"
    }
   },
   "cell_type": "markdown",
   "source": [
    "### Выбор шпонок\n",
    "Шпонки выбираю по таб. 4.8 стр 23\n"
   ],
   "id": "153284936bb37216"
  },
  {
   "metadata": {
    "ExecuteTime": {
     "end_time": "2025-10-11T22:28:38.122387Z",
     "start_time": "2025-10-11T22:28:37.998940Z"
    }
   },
   "cell_type": "code",
   "source": [
    "# Быстроходный вал\n",
    "# Проверяю шпонку на смятие\n",
    "b_sh_b = 8\n",
    "h_sh_b = 7\n",
    "l_rb = 37\n",
    "t1_b = 4\n",
    "p_sm = 2 * T1/(d_1st*l_rb*(h_sh_b - t1_b))\n",
    "print(f\"2 * {T1}/({d_1st}*{l_rb}*({h_sh_b} - {t1_b})) = {2 * T1/(d_1st*l_rb*(h_sh_b - t1_b))}\")"
   ],
   "id": "d4d690bfb4414eeb",
   "outputs": [
    {
     "name": "stdout",
     "output_type": "stream",
     "text": [
      "2 * 9900/(24*37*(7 - 4)) = 7.4324324324324325\n"
     ]
    }
   ],
   "execution_count": 311
  },
  {
   "metadata": {
    "ExecuteTime": {
     "end_time": "2025-10-11T22:28:38.265305Z",
     "start_time": "2025-10-11T22:28:38.151372Z"
    }
   },
   "cell_type": "code",
   "source": [
    "# Тихоходный вал\n",
    "# Проверяю шпонку на смятие\n",
    "b_sh_t = 14\n",
    "h_sh_t = 9\n",
    "l_rt = 66\n",
    "t1_t = 5.5\n",
    "p_sm = 2 * T2/(d_1st*l_rt*(h_sh_t - t1_t))\n",
    "print(f\"2 * {T2}/({d_1st}*{l_rt}*({h_sh_t} - {t1_t})) = {2 * T2/(d_1st*l_rt*(h_sh_t - t1_t))}\")"
   ],
   "id": "fb6a266c34021acf",
   "outputs": [
    {
     "name": "stdout",
     "output_type": "stream",
     "text": [
      "2 * 198000/(24*66*(9 - 5.5)) = 71.42857142857143\n"
     ]
    }
   ],
   "execution_count": 312
  },
  {
   "metadata": {},
   "cell_type": "markdown",
   "source": [
    "***\n",
    "### Определение сил в зацеплении и консольных сил от муфт\n",
    "табл.4.10\n",
    "***"
   ],
   "id": "86582db894cf5e66"
  },
  {
   "metadata": {
    "ExecuteTime": {
     "end_time": "2025-10-11T22:28:38.377242Z",
     "start_time": "2025-10-11T22:28:38.286294Z"
    }
   },
   "cell_type": "code",
   "source": [
    "# Окружная сила на червяке\n",
    "print(f\"2*{T1}/{d1} = {2*T1/d1}\")\n",
    "print(\"Ft1\")"
   ],
   "id": "c66a89903c5bbc46",
   "outputs": [
    {
     "name": "stdout",
     "output_type": "stream",
     "text": [
      "2*9900/50.0 = 396.0\n",
      "Ft1\n"
     ]
    }
   ],
   "execution_count": 313
  },
  {
   "metadata": {
    "ExecuteTime": {
     "end_time": "2025-10-11T22:28:38.534108Z",
     "start_time": "2025-10-11T22:28:38.391190Z"
    }
   },
   "cell_type": "code",
   "source": [
    "# Окружная сила на колесе\n",
    "print(f\"2*{T2}/{d2} = {2*T2/d2}\")\n",
    "print(\"Ft2\")\n"
   ],
   "id": "61355201ae51098c",
   "outputs": [
    {
     "name": "stdout",
     "output_type": "stream",
     "text": [
      "2*198000/200.0 = 1980.0\n",
      "Ft2\n"
     ]
    }
   ],
   "execution_count": 314
  },
  {
   "metadata": {
    "ExecuteTime": {
     "end_time": "2025-10-11T22:28:38.596072Z",
     "start_time": "2025-10-11T22:28:38.560094Z"
    }
   },
   "cell_type": "code",
   "source": [
    "# Радиальная сила на колесе и на червяке\n",
    "Fr2 = Ft2*tan(radians(20))\n",
    "print(Fr2)\n",
    "Fr1 = Fr2 = 720\n",
    "print(Fr2)"
   ],
   "id": "ae32115acae470f0",
   "outputs": [
    {
     "name": "stdout",
     "output_type": "stream",
     "text": [
      "720.6610638470806\n",
      "720\n"
     ]
    }
   ],
   "execution_count": 315
  },
  {
   "metadata": {
    "ExecuteTime": {
     "end_time": "2025-10-11T22:28:38.706855Z",
     "start_time": "2025-10-11T22:28:38.633052Z"
    }
   },
   "cell_type": "code",
   "source": [
    "# Осевая сила на червяке\n",
    "Fa1 = Ft2\n",
    "print(Fa1)"
   ],
   "id": "56136f1170da6e1f",
   "outputs": [
    {
     "name": "stdout",
     "output_type": "stream",
     "text": [
      "1980.0\n"
     ]
    }
   ],
   "execution_count": 316
  },
  {
   "metadata": {
    "ExecuteTime": {
     "end_time": "2025-10-11T22:28:38.785349Z",
     "start_time": "2025-10-11T22:28:38.734839Z"
    }
   },
   "cell_type": "code",
   "source": [
    "# Осевая сила на колесе\n",
    "Fa2 = Ft1\n",
    "print(Fa2)"
   ],
   "id": "91179217c23bcd00",
   "outputs": [
    {
     "name": "stdout",
     "output_type": "stream",
     "text": [
      "396.0\n"
     ]
    }
   ],
   "execution_count": 317
  },
  {
   "metadata": {
    "ExecuteTime": {
     "end_time": "2025-10-11T22:28:38.863304Z",
     "start_time": "2025-10-11T22:28:38.809336Z"
    }
   },
   "cell_type": "code",
   "source": [
    "# Сила на муфте (быстроходный вал)\n",
    "Fm1 = 4*(T1) ** 0.5\n",
    "print(Fm1)\n",
    "Fm1 = 398\n",
    "print(Fm1)"
   ],
   "id": "61df92ffb782900c",
   "outputs": [
    {
     "name": "stdout",
     "output_type": "stream",
     "text": [
      "397.994974842648\n",
      "398\n"
     ]
    }
   ],
   "execution_count": 318
  },
  {
   "metadata": {},
   "cell_type": "markdown",
   "source": [
    "***\n",
    "# Реакции и эпюры"
   ],
   "id": "b56b36086ed562d"
  },
  {
   "metadata": {},
   "cell_type": "markdown",
   "source": [
    "***\n",
    "### Расчет быстроходного вала"
   ],
   "id": "672cf5695283e6c1"
  },
  {
   "metadata": {
    "ExecuteTime": {
     "end_time": "2025-10-11T22:28:38.941807Z",
     "start_time": "2025-10-11T22:28:38.893836Z"
    }
   },
   "cell_type": "code",
   "source": [
    "# Расчет быстроходного вала\n",
    "def calc_b():\n",
    "\n",
    "    # Списки для построения эпюр\n",
    "    lst_x1 = [0]\n",
    "    lst_M1 = [0]\n",
    "    lst_x2 = [0]\n",
    "    lst_M2 = [0]\n",
    "\n",
    "    # Червяк: длины, мм\n",
    "    l1 = l_1st\n",
    "    l2 = l_2st\n",
    "    l3 = l_3st\n",
    "    l4 = l_4st\n",
    "    d1 = d_1b\n",
    "\n",
    "    # Участки, мм\n",
    "    a = l4/2 + l3/2\n",
    "    b = a\n",
    "    c = l2/2\n",
    "    d = d1/2\n",
    "\n",
    "    # Силы, Н\n",
    "    Ft = Ft1\n",
    "    Fr = Fr1\n",
    "    Fa = Fa1\n",
    "    Fm = Fm1\n",
    "\n",
    "    #----------------------------------------\n",
    "    # Вертикальная плоскость: XY\n",
    "\n",
    "    #-----------1. Реакции--------------------\n",
    "    # Моменты: положительно = против часовой стрелки\n",
    "\n",
    "    # ∑M(A) = 0\n",
    "    # -Fr*a - Fa*d + Rb*(a + b) = 0\n",
    "    Rb = Rb1 = (Fr*a + Fa*d)/(a + b)\n",
    "\n",
    "    # ∑M(B) = 0\n",
    "    # -Ra*(a + b) + Fr*b - Fa*d = 0\n",
    "    Ra = Ra1 = (Fr*b - Fa*d)/(a + b)\n",
    "\n",
    "    # Проверка ось Y\n",
    "    # Ra + Rb - Fr = 0\n",
    "    assert Ra + Rb - Fr == 0, 'Сумма сил должна быть равна нулю'\n",
    "\n",
    "    # Вывод результата\n",
    "    print(\"\\n1.Расчет реакции опор\")\n",
    "    print(\"Вертикальная плоскость: XY\")\n",
    "    print(f\"Момент Fa*d = {Fa*d} Н·мм\")\n",
    "    print(\"Ось Y\")\n",
    "    print(f\"Ra = {Ra:.3f}\")\n",
    "    print(f\"Rb = {Rb:.3f}\\n\")\n",
    "\n",
    "\n",
    "    #-------------2. Эпюры--------------------\n",
    "    # Силы: положительно = балка крутится\n",
    "    # по часовой стрелке\n",
    "    #\n",
    "    # Моменты: положительно = балка хочет изогнуться\n",
    "    # вверх\n",
    "\n",
    "    # 1.Участок 0 ≤ x ≤ a\n",
    "    # x = a\n",
    "    Ma = Ra * a\n",
    "\n",
    "    # Записываю результат\n",
    "    lst_x1 += [a]\n",
    "    lst_M1 += [Ma]\n",
    "\n",
    "    # Вывод результата\n",
    "    print(\"\\n2.Построение эпюр\")\n",
    "    print(\"Вертикальная плоскость: XY\")\n",
    "    print(\"1.Участок 0 ≤ x ≤ a\")\n",
    "    print(\"x = 0: Миy = 0\")\n",
    "    print(f\"x = a: Миy = {Ma:.1f}\\n\")\n",
    "\n",
    "\n",
    "    # 2.Участок a ≤ x ≤ (a + b)\n",
    "    # x = a\n",
    "    Ma = Ra * a + Fa * d\n",
    "    # x = a + b\n",
    "    Mb = Ra * (a + b) + Fa * d - Fr * b\n",
    "\n",
    "    # Записываю результат\n",
    "    lst_x1 += [a, a + b, a + b + c]\n",
    "    lst_M1 += [Ma, Mb, 0]\n",
    "\n",
    "    # Вывод результата\n",
    "    print(\"2.Участок a ≤ x ≤ (a + b)\")\n",
    "    print(f\"x = a: Миy = {Ma:.1f}\")\n",
    "    print(f\"x = a+b: Миy = {Mb:.1f}\\n\")\n",
    "    print(\"--------------------------------------------------\\n\")\n",
    "\n",
    "\n",
    "    #----------------------------------------\n",
    "    # Горизонтальная плоскость: XZ\n",
    "\n",
    "    #-----------1. Реакции--------------------\n",
    "    # Моменты: положительно = против часовой стрелки\n",
    "\n",
    "    # ∑M(A) = 0\n",
    "    # Ft*a - Rb*(a + b) - Fm*(a + b + c) = 0\n",
    "    Rb = Rb2 = (Ft*a - Fm*(a + b + c))/(a + b)\n",
    "\n",
    "    # ∑M(B) = 0\n",
    "    # Ra*(a + b) - Ft*b - Fm*c = 0\n",
    "    Ra = Ra2 = (Ft*b + Fm*c)/(a + b)\n",
    "\n",
    "    # Проверка ось Z\n",
    "    # Ra - Ft + Rb + Fm = 0\n",
    "    assert Ra - Ft + Rb + Fm == 0 , 'Сумма сил должна быть равна нулю'\n",
    "\n",
    "    # Вывод результата\n",
    "    print(\"1.Расчет реакции опор\")\n",
    "    print(\"Горизонтальная плоскость: XZ\")\n",
    "    print(\"Ось Z\")\n",
    "    print(f\"Ra = {Ra:.3f}\")\n",
    "    print(f\"Rb = {Rb:.3f}\\n\")\n",
    "\n",
    "\n",
    "    #-------------2. Эпюры--------------------\n",
    "    # Силы: положительно = балка крутится\n",
    "    # по часовой стрелке\n",
    "    #\n",
    "    # Моменты: положительно = балка хочет изогнуться\n",
    "    # вверх\n",
    "\n",
    "    # 1.Участок 0 ≤ x ≤ a\n",
    "    # x = a\n",
    "    Ma = -Ra * a\n",
    "\n",
    "    # Записываю результат\n",
    "    lst_x2 += [a]\n",
    "    lst_M2 += [Ma]\n",
    "\n",
    "    # Вывод результата\n",
    "    print(\"\\n2.Построение эпюр\")\n",
    "    print(\"Горизонтальная плоскость: XZ\\n\")\n",
    "    print(\"1.Участок 0 ≤ x ≤ a\")\n",
    "    print(\"x = 0: Миy = 0\")\n",
    "    print(f\"x = a: Миy = {Ma:.1f}\\n\")\n",
    "\n",
    "    # 2.Участок a ≤ x ≤ (a + b)\n",
    "    # x = a\n",
    "    Ma = -Ra * a\n",
    "    # x = a + b\n",
    "    Mb = -Ra * (a + b) + Ft * b\n",
    "\n",
    "    # Записываю результат\n",
    "    lst_x2 += [a, a + b]\n",
    "    lst_M2 += [Ma, Mb]\n",
    "\n",
    "    # Вывод результата\n",
    "    print(\"2.Участок a ≤ x ≤ (a + b)\")\n",
    "    print(f\"x = a: Миy = {Ma:.1f}\")\n",
    "    print(f\"x = a+b: Миy = {Mb:.1f}\\n\")\n",
    "\n",
    "    # 3.Участок (a + b) ≤ x ≤ (a + b + c)\n",
    "    # x = a + b\n",
    "    Mb = -Ra * (a + b) + Ft * b\n",
    "    # x = a + b + c\n",
    "    Mc = -Ra * (a + b + c) + Ft * (b + c) - Rb * c\n",
    "\n",
    "    # Записываю результат\n",
    "    lst_x2 += [a + b, a + b + c]\n",
    "    lst_M2 += [Mb, Mc]\n",
    "\n",
    "    # Вывод результата\n",
    "    print(\"3.Участок (a + b) ≤ x ≤ (a + b + c)\")\n",
    "    print(f\"x = b: Миy = {Mb:.1f}\")\n",
    "    print(f\"x = a+b+c: Миy = {Mc:.1f}\\n\")\n",
    "\n",
    "    return (lst_x1, lst_M1), (lst_x2, lst_M2), (Ra1 ** 2 + Ra2 ** 2) ** 0.5, (Rb1 ** 2 + Rb2 ** 2) ** 0.5\n",
    "\n",
    "resultY, resultX, Ra_sum_1, Rb_sum_1 = calc_b()"
   ],
   "id": "e673cd41fae22866",
   "outputs": [
    {
     "name": "stdout",
     "output_type": "stream",
     "text": [
      "\n",
      "1.Расчет реакции опор\n",
      "Вертикальная плоскость: XY\n",
      "Момент Fa*d = 49500.0 Н·мм\n",
      "Ось Y\n",
      "Ra = 112.500\n",
      "Rb = 607.500\n",
      "\n",
      "\n",
      "2.Построение эпюр\n",
      "Вертикальная плоскость: XY\n",
      "1.Участок 0 ≤ x ≤ a\n",
      "x = 0: Миy = 0\n",
      "x = a: Миy = 11250.0\n",
      "\n",
      "2.Участок a ≤ x ≤ (a + b)\n",
      "x = a: Миy = 60750.0\n",
      "x = a+b: Миy = 0.0\n",
      "\n",
      "--------------------------------------------------\n",
      "\n",
      "1.Расчет реакции опор\n",
      "Горизонтальная плоскость: XZ\n",
      "Ось Z\n",
      "Ra = 252.725\n",
      "Rb = -254.725\n",
      "\n",
      "\n",
      "2.Построение эпюр\n",
      "Горизонтальная плоскость: XZ\n",
      "\n",
      "1.Участок 0 ≤ x ≤ a\n",
      "x = 0: Миy = 0\n",
      "x = a: Миy = -25272.5\n",
      "\n",
      "2.Участок a ≤ x ≤ (a + b)\n",
      "x = a: Миy = -25272.5\n",
      "x = a+b: Миy = -10945.0\n",
      "\n",
      "3.Участок (a + b) ≤ x ≤ (a + b + c)\n",
      "x = b: Миy = -10945.0\n",
      "x = a+b+c: Миy = 0.0\n",
      "\n"
     ]
    }
   ],
   "execution_count": 319
  },
  {
   "metadata": {},
   "cell_type": "markdown",
   "source": [
    "***\n",
    "#### Суммарная реакция опор на подшипниках быстроходного вала"
   ],
   "id": "24210f837dc66df7"
  },
  {
   "metadata": {
    "ExecuteTime": {
     "end_time": "2025-10-11T22:28:39.083942Z",
     "start_time": "2025-10-11T22:28:38.976004Z"
    }
   },
   "cell_type": "code",
   "source": [
    "# Подшипник A\n",
    "print(f\"Ra_сум = {Ra_sum_1:.1f} Н\\n\")\n",
    "# Подшипник B\n",
    "print(f\"Rb_сум = {Rb_sum_1:.1f} Н\\n\")\n"
   ],
   "id": "84a6e71b79db6c8d",
   "outputs": [
    {
     "name": "stdout",
     "output_type": "stream",
     "text": [
      "Ra_сум = 276.6 Н\n",
      "\n",
      "Rb_сум = 658.7 Н\n",
      "\n"
     ]
    }
   ],
   "execution_count": 320
  },
  {
   "metadata": {},
   "cell_type": "markdown",
   "source": "#### Максимальный изгибающий момент для быстроходного вала",
   "id": "6e73b2fa10c984f"
  },
  {
   "metadata": {
    "ExecuteTime": {
     "end_time": "2025-10-11T22:28:39.178887Z",
     "start_time": "2025-10-11T22:28:39.108928Z"
    }
   },
   "cell_type": "code",
   "source": [
    "M_k1 = (60750 ** 2 + 25272 ** 2) ** 0.5\n",
    "print(int(M_k1))\n",
    "M_k1 = 65800\n",
    "print(M_k1)"
   ],
   "id": "e73218a5b9cd0039",
   "outputs": [
    {
     "name": "stdout",
     "output_type": "stream",
     "text": [
      "65796\n",
      "65800\n"
     ]
    }
   ],
   "execution_count": 321
  },
  {
   "metadata": {},
   "cell_type": "markdown",
   "source": [
    "***\n",
    "### Графики изгибающих моментов для быстроходного вала"
   ],
   "id": "acbd55ee7c72f7cc"
  },
  {
   "metadata": {
    "ExecuteTime": {
     "end_time": "2025-10-11T22:28:39.401065Z",
     "start_time": "2025-10-11T22:28:39.207872Z"
    }
   },
   "cell_type": "code",
   "source": [
    "import matplotlib.pyplot as plt\n",
    "\n",
    "x, M = resultY\n",
    "\n",
    "plt.figure(figsize=(8, 4))\n",
    "plt.plot(x, M, marker='o', linestyle='-', color='blue', label='Эпюра Mиy(x)')\n",
    "plt.axhline(0, color='black', linewidth=0.5)\n",
    "plt.xlabel('Длина вала (мм)')\n",
    "plt.ylabel('Момент (Н·мм)')\n",
    "plt.title('Вертикальная плоскость')\n",
    "plt.grid(True)\n",
    "plt.legend()\n",
    "\n",
    "# Инвертируем ось Y\n",
    "plt.gca().invert_yaxis()\n",
    "plt.show()\n",
    "\n"
   ],
   "id": "27ebaddf1b65be3d",
   "outputs": [
    {
     "data": {
      "text/plain": [
       "<Figure size 800x400 with 1 Axes>"
      ],
      "image/png": "[encoded data removed]"
     },
     "metadata": {},
     "output_type": "display_data",
     "jetTransient": {
      "display_id": null
     }
    }
   ],
   "execution_count": 322
  },
  {
   "metadata": {
    "ExecuteTime": {
     "end_time": "2025-10-11T22:28:39.558974Z",
     "start_time": "2025-10-11T22:28:39.419055Z"
    }
   },
   "cell_type": "code",
   "source": [
    "x, M = resultX\n",
    "\n",
    "plt.figure(figsize=(8, 4))\n",
    "plt.plot(x, M, marker='o', linestyle='-', color='blue', label='Эпюра Mиx(x)')\n",
    "plt.axhline(0, color='black', linewidth=0.5)\n",
    "plt.xlabel('Длина вала (мм)')\n",
    "plt.ylabel('Момент (Н·мм)')\n",
    "plt.title('Горизонтальная плоскость')\n",
    "plt.grid(True)\n",
    "plt.legend()\n",
    "\n",
    "# Инвертируем ось Y\n",
    "plt.gca().invert_yaxis()\n",
    "plt.show()"
   ],
   "id": "26a0639b5abd9fb4",
   "outputs": [
    {
     "data": {
      "text/plain": [
       "<Figure size 800x400 with 1 Axes>"
      ],
      "image/png": "[encoded data removed]"
     },
     "metadata": {},
     "output_type": "display_data",
     "jetTransient": {
      "display_id": null
     }
    }
   ],
   "execution_count": 323
  },
  {
   "metadata": {
    "ExecuteTime": {
     "end_time": "2025-10-08T16:43:01.454357Z",
     "start_time": "2025-10-08T16:43:01.442365Z"
    }
   },
   "cell_type": "markdown",
   "source": [
    "***\n",
    "### Расчет тихоходного вала"
   ],
   "id": "55f69f824e38eb90"
  },
  {
   "metadata": {
    "ExecuteTime": {
     "end_time": "2025-10-11T22:28:39.605489Z",
     "start_time": "2025-10-11T22:28:39.585501Z"
    }
   },
   "cell_type": "code",
   "source": [
    "def calc_t():\n",
    "\n",
    "    # Списки для построения эпюр\n",
    "    lst_x1 = [0]\n",
    "    lst_M1 = [0]\n",
    "    lst_x2 = [0]\n",
    "    lst_M2 = [0]\n",
    "\n",
    "    # Червяк: длины, мм\n",
    "    l1 = l_1st_2\n",
    "    l2 = l_2st_2\n",
    "    l3 = l_3st_2\n",
    "    l4 = l_4st_2\n",
    "    d1 = d_2t\n",
    "\n",
    "    # Участки, мм\n",
    "    a = l4/2 + l3/2\n",
    "    b = a\n",
    "    c = l2/2\n",
    "    d = d1/2\n",
    "\n",
    "    # Силы, Н\n",
    "    Ft = Ft2\n",
    "    Fr = Fr2\n",
    "    Fa = Fa2\n",
    "\n",
    "    #----------------------------------------\n",
    "    # Вертикальная плоскость: XY\n",
    "\n",
    "    #-----------1. Реакции--------------------\n",
    "    # Моменты: положительно = против часовой стрелки\n",
    "\n",
    "    # ∑M(A) = 0\n",
    "    # -Fr*a + Fa*d + Rb*(a + b) = 0\n",
    "    Rb = Rb1 = (Fr*a - Fa*d)/(a + b)\n",
    "\n",
    "    # ∑M(B) = 0\n",
    "    # -Ra*(a + b) + Fr*b + Fa*d = 0\n",
    "    Ra = Ra1 = (Fr*b + Fa*d)/(a + b)\n",
    "\n",
    "    # Проверка ось Y\n",
    "    # Ra + Rb - Fr = 0\n",
    "    assert Ra + Rb - Fr == 0, 'Сумма сил должна быть равна нулю'\n",
    "\n",
    "    # Вывод результата\n",
    "    print(\"\\n1.Расчет реакции опор\")\n",
    "    print(\"Вертикальная плоскость: XY\")\n",
    "    print(f\"Момент Fa*d = {Fa*d} Н·мм\")\n",
    "    print(\"Ось Y\")\n",
    "    print(f\"Ra = {Ra:.3f}\")\n",
    "    print(f\"Rb = {Rb:.3f}\\n\")\n",
    "\n",
    "\n",
    "    #-------------2. Эпюры--------------------\n",
    "    # Силы: положительно = балка крутится\n",
    "    # по часовой стрелке\n",
    "    #\n",
    "    # Моменты: положительно = балка хочет изогнуться\n",
    "    # вверх\n",
    "\n",
    "    # 1.Участок 0 ≤ x ≤ a\n",
    "    # x = a\n",
    "    Ma = Ra * a\n",
    "\n",
    "    # Записываю результат\n",
    "    lst_x1 += [a]\n",
    "    lst_M1 += [Ma]\n",
    "\n",
    "    # Вывод результата\n",
    "    print(\"\\n2.Построение эпюр\")\n",
    "    print(\"Вертикальная плоскость: XY\")\n",
    "    print(\"1.Участок 0 ≤ x ≤ a\")\n",
    "    print(\"x = 0: Миy = 0\")\n",
    "    print(f\"x = a: Миy = {Ma:.1f}\\n\")\n",
    "\n",
    "\n",
    "    # 2.Участок a ≤ x ≤ (a + b)\n",
    "    # x = a\n",
    "    Ma = Ra * a - Fa * d\n",
    "    # x = a + b\n",
    "    Mb = Ra*(a + b) - Fa * d - Fr * b\n",
    "\n",
    "    # Записываю результат\n",
    "    lst_x1 += [a, a + b, a + b + c]\n",
    "    lst_M1 += [Ma, Mb, 0]\n",
    "\n",
    "    # Вывод результата\n",
    "    print(\"2.Участок a ≤ x ≤ (a + b)\")\n",
    "    print(f\"x = a: Миy = {Ma:.1f}\")\n",
    "    print(f\"x = a+b: Миy = {Mb:.1f}\\n\")\n",
    "    print(\"--------------------------------------------------\\n\")\n",
    "\n",
    "\n",
    "    #----------------------------------------\n",
    "    # Горизонтальная плоскость: XZ\n",
    "\n",
    "    #-----------1. Реакции--------------------\n",
    "    # Моменты: положительно = против часовой стрелки\n",
    "\n",
    "    # ∑M(A) = 0\n",
    "    # -Ft*a + Rb*(a + b) = 0\n",
    "    Rb = Rb2 = Ft*a/(a + b)\n",
    "\n",
    "    # ∑M(B) = 0\n",
    "    # -Ra*(a + b) + Ft*b = 0\n",
    "    Ra = Ra2 = Ft*b/(a + b)\n",
    "\n",
    "    # Проверка ось Z\n",
    "    # Ra - Ft + Rb + Fm = 0\n",
    "    assert Ra - Ft + Rb == 0 , 'Сумма сил должна быть равна нулю'\n",
    "\n",
    "    # Вывод результата\n",
    "    print(\"1.Расчет реакции опор\")\n",
    "    print(\"Горизонтальная плоскость: XZ\")\n",
    "    print(\"Ось Z\")\n",
    "    print(f\"Ra = {Ra:.3f}\")\n",
    "    print(f\"Rb = {Rb:.3f}\\n\")\n",
    "\n",
    "\n",
    "    #-------------2. Эпюры--------------------\n",
    "    # Силы: положительно = балка крутится\n",
    "    # по часовой стрелке\n",
    "    #\n",
    "    # Моменты: положительно = балка хочет изогнуться\n",
    "    # вверх\n",
    "\n",
    "    # 1.Участок 0 ≤ x ≤ a\n",
    "    # x = a\n",
    "    Ma = Ra * a\n",
    "\n",
    "    # Записываю результат\n",
    "    lst_x2 += [a]\n",
    "    lst_M2 += [Ma]\n",
    "\n",
    "    # Вывод результата\n",
    "    print(\"\\n2.Построение эпюр\")\n",
    "    print(\"Горизонтальная плоскость: XZ\\n\")\n",
    "    print(\"1.Участок 0 ≤ x ≤ a\")\n",
    "    print(\"x = 0: Миy = 0\")\n",
    "    print(f\"x = a: Миy = {Ma:.1f}\\n\")\n",
    "\n",
    "    # 2.Участок a ≤ x ≤ (a + b)\n",
    "    # x = a\n",
    "    Ma = Ra * a\n",
    "    # x = a + b\n",
    "    Mb = Ra * (a + b) - Ft * b\n",
    "\n",
    "    # Записываю результат\n",
    "    lst_x2 += [a, a + b, a + b + c]\n",
    "    lst_M2 += [Ma, Mb, 0]\n",
    "\n",
    "    # Вывод результата\n",
    "    print(\"2.Участок a ≤ x ≤ (a + b)\")\n",
    "    print(f\"x = a: Миy = {Ma:.1f}\")\n",
    "    print(f\"x = a+b: Миy = {Mb:.1f}\\n\")\n",
    "    return (lst_x1, lst_M1), (lst_x2, lst_M2), (Ra1 ** 2 + Ra2 ** 2) ** 0.5, (Rb1 ** 2 + Rb2 ** 2) ** 0.5\n",
    "\n",
    "resultY_2, resultX_2, Ra_sum_2, Rb_sum_2 = calc_t()"
   ],
   "id": "5ce14f275e0c2fe8",
   "outputs": [
    {
     "name": "stdout",
     "output_type": "stream",
     "text": [
      "\n",
      "1.Расчет реакции опор\n",
      "Вертикальная плоскость: XY\n",
      "Момент Fa*d = 39600.0 Н·мм\n",
      "Ось Y\n",
      "Ra = 642.857\n",
      "Rb = 77.143\n",
      "\n",
      "\n",
      "2.Построение эпюр\n",
      "Вертикальная плоскость: XY\n",
      "1.Участок 0 ≤ x ≤ a\n",
      "x = 0: Миy = 0\n",
      "x = a: Миy = 45000.0\n",
      "\n",
      "2.Участок a ≤ x ≤ (a + b)\n",
      "x = a: Миy = 5400.0\n",
      "x = a+b: Миy = 0.0\n",
      "\n",
      "--------------------------------------------------\n",
      "\n",
      "1.Расчет реакции опор\n",
      "Горизонтальная плоскость: XZ\n",
      "Ось Z\n",
      "Ra = 990.000\n",
      "Rb = 990.000\n",
      "\n",
      "\n",
      "2.Построение эпюр\n",
      "Горизонтальная плоскость: XZ\n",
      "\n",
      "1.Участок 0 ≤ x ≤ a\n",
      "x = 0: Миy = 0\n",
      "x = a: Миy = 69300.0\n",
      "\n",
      "2.Участок a ≤ x ≤ (a + b)\n",
      "x = a: Миy = 69300.0\n",
      "x = a+b: Миy = 0.0\n",
      "\n"
     ]
    }
   ],
   "execution_count": 324
  },
  {
   "metadata": {
    "ExecuteTime": {
     "end_time": "2025-10-08T17:30:18.751730Z",
     "start_time": "2025-10-08T17:30:18.737740Z"
    }
   },
   "cell_type": "markdown",
   "source": [
    "***\n",
    "#### Суммарная реакция опор на подшипниках тихоходного вала"
   ],
   "id": "6a108318bc692be5"
  },
  {
   "metadata": {
    "ExecuteTime": {
     "end_time": "2025-10-11T22:28:39.699436Z",
     "start_time": "2025-10-11T22:28:39.644467Z"
    }
   },
   "cell_type": "code",
   "source": [
    "# Подшипник A\n",
    "print(f\"Ra_сум = {Ra_sum_2:.1f} Н\\n\")\n",
    "# Подшипник B\n",
    "print(f\"Rb_сум = {Rb_sum_2:.1f} Н\\n\")"
   ],
   "id": "a86eb3e586eb4ef0",
   "outputs": [
    {
     "name": "stdout",
     "output_type": "stream",
     "text": [
      "Ra_сум = 1180.4 Н\n",
      "\n",
      "Rb_сум = 993.0 Н\n",
      "\n"
     ]
    }
   ],
   "execution_count": 325
  },
  {
   "metadata": {},
   "cell_type": "markdown",
   "source": "#### Максимальный изгибающий момент для тихоходного вала",
   "id": "aa9be7abbd72bff4"
  },
  {
   "metadata": {
    "ExecuteTime": {
     "end_time": "2025-10-11T22:28:39.780035Z",
     "start_time": "2025-10-11T22:28:39.710429Z"
    }
   },
   "cell_type": "code",
   "source": [
    "M_k2 = (45000 ** 2 + 69300 ** 2) ** 0.5\n",
    "print(M_k2)\n",
    "M_k2 = 82600\n",
    "print(M_k2)"
   ],
   "id": "943b9d42b75bfc34",
   "outputs": [
    {
     "name": "stdout",
     "output_type": "stream",
     "text": [
      "82628.62700057408\n",
      "82600\n"
     ]
    }
   ],
   "execution_count": 326
  },
  {
   "metadata": {
    "ExecuteTime": {
     "end_time": "2025-10-08T17:46:43.005229Z",
     "start_time": "2025-10-08T17:46:42.988238Z"
    }
   },
   "cell_type": "markdown",
   "source": [
    "***\n",
    "### Графики изгибающих моментов для тихоходного вала"
   ],
   "id": "8d50df20d9a9bd25"
  },
  {
   "metadata": {
    "ExecuteTime": {
     "end_time": "2025-10-11T22:28:40.012971Z",
     "start_time": "2025-10-11T22:28:39.838002Z"
    }
   },
   "cell_type": "code",
   "source": [
    "import matplotlib.pyplot as plt\n",
    "\n",
    "x, M = resultY_2\n",
    "\n",
    "plt.figure(figsize=(8, 4))\n",
    "plt.plot(x, M, marker='o', linestyle='-', color='blue', label='Эпюра Mиy(x)')\n",
    "plt.axhline(0, color='black', linewidth=0.5)\n",
    "plt.xlabel('Длина вала (мм)')\n",
    "plt.ylabel('Момент (Н·мм)')\n",
    "plt.title('Вертикальная плоскость')\n",
    "plt.grid(True)\n",
    "plt.legend()\n",
    "\n",
    "# Инвертируем ось Y\n",
    "plt.gca().invert_yaxis()\n",
    "plt.show()\n"
   ],
   "id": "feb6d19b7bbb48d",
   "outputs": [
    {
     "data": {
      "text/plain": [
       "<Figure size 800x400 with 1 Axes>"
      ],
      "image/png": "[encoded data removed]"
     },
     "metadata": {},
     "output_type": "display_data",
     "jetTransient": {
      "display_id": null
     }
    }
   ],
   "execution_count": 327
  },
  {
   "metadata": {
    "ExecuteTime": {
     "end_time": "2025-10-11T22:28:40.188627Z",
     "start_time": "2025-10-11T22:28:40.032960Z"
    }
   },
   "cell_type": "code",
   "source": [
    "x, M = resultX_2\n",
    "\n",
    "plt.figure(figsize=(8, 4))\n",
    "plt.plot(x, M, marker='o', linestyle='-', color='blue', label='Эпюра Mиx(x)')\n",
    "plt.axhline(0, color='black', linewidth=0.5)\n",
    "plt.xlabel('Длина вала (мм)')\n",
    "plt.ylabel('Момент (Н·мм)')\n",
    "plt.title('Горизонтальная плоскость')\n",
    "plt.grid(True)\n",
    "plt.legend()\n",
    "\n",
    "# Инвертируем ось Y\n",
    "plt.gca().invert_yaxis()\n",
    "plt.show()"
   ],
   "id": "35ae8fb8c81e984",
   "outputs": [
    {
     "data": {
      "text/plain": [
       "<Figure size 800x400 with 1 Axes>"
      ],
      "image/png": "[encoded data removed]"
     },
     "metadata": {},
     "output_type": "display_data",
     "jetTransient": {
      "display_id": null
     }
    }
   ],
   "execution_count": 328
  },
  {
   "metadata": {},
   "cell_type": "markdown",
   "source": [
    "***\n",
    "### Проверка валов на усталостную прочность"
   ],
   "id": "750038cf626b0f0a"
  },
  {
   "metadata": {
    "ExecuteTime": {
     "end_time": "2025-10-11T22:28:40.220609Z",
     "start_time": "2025-10-11T22:28:40.212614Z"
    }
   },
   "cell_type": "code",
   "source": [
    "# Считаю коэффициент для углеродистой стали\n",
    "# po_b = 900 (3 - Чернавский стр 88)\n",
    "po_b = 900\n",
    "po__1 = 0.43*po_b\n",
    "print(po__1)"
   ],
   "id": "d1abaa96687f53b9",
   "outputs": [
    {
     "name": "stdout",
     "output_type": "stream",
     "text": [
      "387.0\n"
     ]
    }
   ],
   "execution_count": 329
  },
  {
   "metadata": {
    "ExecuteTime": {
     "end_time": "2025-10-11T22:28:40.315557Z",
     "start_time": "2025-10-11T22:28:40.270581Z"
    }
   },
   "cell_type": "code",
   "source": [
    "t__1 = 0.58*po__1\n",
    "print(int(t__1))"
   ],
   "id": "3d1093a7c0d54ef4",
   "outputs": [
    {
     "name": "stdout",
     "output_type": "stream",
     "text": [
      "224\n"
     ]
    }
   ],
   "execution_count": 330
  },
  {
   "metadata": {
    "ExecuteTime": {
     "end_time": "2025-10-11T22:28:40.392511Z",
     "start_time": "2025-10-11T22:28:40.334545Z"
    }
   },
   "cell_type": "code",
   "source": [
    "W_netto = 0.1 * df1 ** 3\n",
    "print(W_netto)\n",
    "W_knetto = 0.2*df1 ** 3\n",
    "print(W_knetto)\n",
    "po_a = M_k1/W_netto\n",
    "print(po_a)"
   ],
   "id": "9ba110cb722c428f",
   "outputs": [
    {
     "name": "stdout",
     "output_type": "stream",
     "text": [
      "6593.9264\n",
      "13187.8528\n",
      "9.978879958381095\n"
     ]
    }
   ],
   "execution_count": 331
  },
  {
   "metadata": {
    "ExecuteTime": {
     "end_time": "2025-10-11T22:28:40.472465Z",
     "start_time": "2025-10-11T22:28:40.410502Z"
    }
   },
   "cell_type": "code",
   "source": [
    "k_po = 2.45\n",
    "k_f = 0.9\n",
    "k_t = 2\n",
    "k_d = 0.81\n",
    "t_a = 0.5*T1/W_knetto\n",
    "ksi = 0.1\n",
    "ksi_t = 0.05\n",
    "po_m = 20\n",
    "t_m = 40\n",
    "print(t_a)"
   ],
   "id": "45ad7214d96ab1ce",
   "outputs": [
    {
     "name": "stdout",
     "output_type": "stream",
     "text": [
      "0.3753454087688937\n"
     ]
    }
   ],
   "execution_count": 332
  },
  {
   "metadata": {
    "ExecuteTime": {
     "end_time": "2025-10-11T22:28:40.614871Z",
     "start_time": "2025-10-11T22:28:40.494936Z"
    }
   },
   "cell_type": "code",
   "source": [
    "s_po = po__1/(k_po*po_a/(k_d*k_f) + ksi*po_m)\n",
    "print(f\"{po__1}/({k_po}*{po_a}/({k_d}*{k_f}) + {ksi}*{po_m}) = {po__1/(k_po*po_a/(k_d*k_f) + ksi*po_m)}\")\n",
    "print(s_po)"
   ],
   "id": "98f2012731029ea2",
   "outputs": [
    {
     "name": "stdout",
     "output_type": "stream",
     "text": [
      "387.0/(2.45*9.978879958381095/(0.81*0.9) + 0.1*20) = 10.890149511007243\n",
      "10.890149511007243\n"
     ]
    }
   ],
   "execution_count": 333
  },
  {
   "metadata": {
    "ExecuteTime": {
     "end_time": "2025-10-11T22:28:40.679830Z",
     "start_time": "2025-10-11T22:28:40.628860Z"
    }
   },
   "cell_type": "code",
   "source": [
    "s_t = t__1/(k_t*t_a/(k_d*k_f) + ksi_t*t_m)\n",
    "print(f\"{t__1}/({k_t}*{t_a}/({k_d}*{k_f}) + {ksi_t}*{t_m}) = {t__1/(k_t*t_a/(k_d*k_f) + ksi_t*t_m)}\")\n",
    "print(s_t)"
   ],
   "id": "de154da35c2870ba",
   "outputs": [
    {
     "name": "stdout",
     "output_type": "stream",
     "text": [
      "224.45999999999998/(2*0.3753454087688937/(0.81*0.9) + 0.05*40) = 74.08521767768906\n",
      "74.08521767768906\n"
     ]
    }
   ],
   "execution_count": 334
  },
  {
   "metadata": {
    "ExecuteTime": {
     "end_time": "2025-10-11T22:28:40.757785Z",
     "start_time": "2025-10-11T22:28:40.709813Z"
    }
   },
   "cell_type": "code",
   "source": [
    "s_1 = s_po * s_t/(s_po ** 2 + s_t ** 2) ** 0.5\n",
    "print(s_1)"
   ],
   "id": "f195c13165e524de",
   "outputs": [
    {
     "name": "stdout",
     "output_type": "stream",
     "text": [
      "10.774368016459059\n"
     ]
    }
   ],
   "execution_count": 335
  },
  {
   "metadata": {},
   "cell_type": "markdown",
   "source": [
    "##### Для быстроходного вала\n",
    "Вывод:\n",
    "6,7 > `[s = 2,5..3]`"
   ],
   "id": "1f4f35d2baa0197b"
  },
  {
   "metadata": {
    "ExecuteTime": {
     "end_time": "2025-10-11T22:28:40.867875Z",
     "start_time": "2025-10-11T22:28:40.783924Z"
    }
   },
   "cell_type": "code",
   "source": [
    "W_netto2 = 0.1 * d_3st_2 ** 3\n",
    "print(W_netto2)\n",
    "W_knetto2 = 0.2*d_3st_2 ** 3\n",
    "print(W_knetto2)\n",
    "po_a2 = M_k2/W_netto2\n",
    "print(po_a2)"
   ],
   "id": "8a14c9cbce70aae2",
   "outputs": [
    {
     "name": "stdout",
     "output_type": "stream",
     "text": [
      "6400.0\n",
      "12800.0\n",
      "12.90625\n"
     ]
    }
   ],
   "execution_count": 336
  },
  {
   "metadata": {
    "ExecuteTime": {
     "end_time": "2025-10-11T22:28:40.978642Z",
     "start_time": "2025-10-11T22:28:40.879385Z"
    }
   },
   "cell_type": "code",
   "source": [
    "t_a2 = 0.5*T2/W_knetto2\n",
    "print(t_a2)"
   ],
   "id": "815d3840ee39229d",
   "outputs": [
    {
     "name": "stdout",
     "output_type": "stream",
     "text": [
      "7.734375\n"
     ]
    }
   ],
   "execution_count": 337
  },
  {
   "metadata": {
    "ExecuteTime": {
     "end_time": "2025-10-11T22:28:41.106123Z",
     "start_time": "2025-10-11T22:28:40.995633Z"
    }
   },
   "cell_type": "code",
   "source": [
    "s_po2 = po__1/(k_po*po_a2/(k_d*k_f) + ksi*po_m)\n",
    "print(f\"{po__1}/({k_po}*{po_a2}/({k_d}*{k_f}) + {ksi}*{po_m}) = {po__1/(k_po*po_a2/(k_d*k_f) + ksi*po_m)}\")\n",
    "print(s_po2)"
   ],
   "id": "1797d2104ab44899",
   "outputs": [
    {
     "name": "stdout",
     "output_type": "stream",
     "text": [
      "387.0/(2.45*12.90625/(0.81*0.9) + 0.1*20) = 8.528941734860267\n",
      "8.528941734860267\n"
     ]
    }
   ],
   "execution_count": 338
  },
  {
   "metadata": {
    "ExecuteTime": {
     "end_time": "2025-10-11T22:28:41.218059Z",
     "start_time": "2025-10-11T22:28:41.128111Z"
    }
   },
   "cell_type": "code",
   "source": [
    "s_t2 = t__1/(k_t*t_a2/(k_d*k_f) + ksi_t*t_m)\n",
    "print(f\"{t__1}/({k_t}*{t_a2}/({k_d}*{k_f}) + {ksi_t}*{t_m}) = {t__1/(k_t*t_a2/(k_d*k_f) + ksi_t*t_m)}\")\n",
    "print(s_t2)"
   ],
   "id": "7019e2e80ce228d",
   "outputs": [
    {
     "name": "stdout",
     "output_type": "stream",
     "text": [
      "224.45999999999998/(2*7.734375/(0.81*0.9) + 0.05*40) = 9.667026452213213\n",
      "9.667026452213213\n"
     ]
    }
   ],
   "execution_count": 339
  },
  {
   "metadata": {
    "ExecuteTime": {
     "end_time": "2025-10-11T22:28:41.328996Z",
     "start_time": "2025-10-11T22:28:41.238049Z"
    }
   },
   "cell_type": "code",
   "source": [
    "s_2 = s_po2 * s_t2/(s_po2 ** 2 + s_t2 ** 2) ** 0.5\n",
    "print(s_2)"
   ],
   "id": "ead43f155995448f",
   "outputs": [
    {
     "name": "stdout",
     "output_type": "stream",
     "text": [
      "6.395581841007796\n"
     ]
    }
   ],
   "execution_count": 340
  },
  {
   "metadata": {
    "ExecuteTime": {
     "end_time": "2025-10-08T19:52:46.285997Z",
     "start_time": "2025-10-08T19:52:46.273988Z"
    }
   },
   "cell_type": "markdown",
   "source": [
    "##### Для тихоходного вала\n",
    "Вывод:\n",
    "6,39 > `[s = 2,5..3]`"
   ],
   "id": "91b624152bcb546b"
  },
  {
   "metadata": {},
   "cell_type": "markdown",
   "source": [
    "***\n",
    "### Проверка подшипников по динамической грузоподъемности\n",
    "#### Расчет подшипников на быстроходном валу"
   ],
   "id": "b8ebb1314424dec5"
  },
  {
   "metadata": {
    "ExecuteTime": {
     "end_time": "2025-10-11T22:28:41.408381Z",
     "start_time": "2025-10-11T22:28:41.347986Z"
    }
   },
   "cell_type": "code",
   "source": [
    "def resurs1():\n",
    "\n",
    "    # Частота оборотов\n",
    "    n = n1\n",
    "\n",
    "    # Подшипник: данные\n",
    "    # 7606\n",
    "    Cr = 63000\n",
    "    e = 0.319\n",
    "    Y = 1.882\n",
    "    X = 0.4\n",
    "\n",
    "    V = 1\n",
    "    Kb = 1.3\n",
    "    Kt = 1\n",
    "    p = 10/3\n",
    "\n",
    "    # ----------Силы----------\n",
    "    #\n",
    "    #        (Fa)--->\n",
    "    #   (A)--->     <---(B)\n",
    "    #\n",
    "    # Силы от подшипников и осевая сила\n",
    "    # направлены как на рисунке: Vab == True\n",
    "    #\n",
    "    # Если сила Fa направлена в другую сторону\n",
    "    # Установить флаг Vab == false или указать\n",
    "    # силу со знаком минус\n",
    "\n",
    "    Vab = True\n",
    "\n",
    "    # Силы: указывать в Ньютонах\n",
    "    Fa = Fa1\n",
    "    Ra = Ra_sum_1\n",
    "    Rb = Rb_sum_1\n",
    "\n",
    "    print(\"Входные данные\")\n",
    "    print(\"\\nСилы:\")\n",
    "    print(f\"Fa = {Fa}\")\n",
    "    print(f\"Ra = {Ra}\")\n",
    "    print(f\"Rb = {Rb}\")\n",
    "\n",
    "    print(\"\\nПодшипник:\")\n",
    "    print(f\"Cr = {Cr}\")\n",
    "    print(f\"e = {e}\")\n",
    "    print(f\"X = {X}\")\n",
    "    print(f\"Y = {Y}\")\n",
    "\n",
    "    print(\"\\nПостоянные:\")\n",
    "    print(f\"p = {p:.3f}\")\n",
    "    print(f\"V = {V}\")\n",
    "    print(f\"Kb = {Kb}\")\n",
    "    print(f\"Kt = {Kt}\")\n",
    "\n",
    "\n",
    "    if Fa < 0:\n",
    "        Vab = False\n",
    "        Fa = -Fa\n",
    "\n",
    "    S1 = 0.83 * e * Ra\n",
    "    S2 = 0.83 * e * Rb\n",
    "    F1, F2 = (S2, Fa + S1) if Vab else (Fa + S2, S1)\n",
    "    f_ek = lambda r, a: (X*V*r + Y*a)*Kb*Kt\n",
    "    F1_ek = f_ek(Ra, F1)\n",
    "    F2_ek = f_ek(Rb, F2)\n",
    "\n",
    "    print(\"\\nВыходные данные\")\n",
    "    print(f\"Fa = {Fa}\")\n",
    "    print(f\"Ra = {Ra:.1f}\")\n",
    "    print(f\"Rb = {Rb:.1f}\")\n",
    "    print(f\"S1 = {S1:.1f}\")\n",
    "    print(f\"S2 = {S2:.1f}\")\n",
    "    print(f\"F1 = {F1:.1f}\")\n",
    "    print(f\"F2 = {F2:.1f}\")\n",
    "    print(f\"Fa1/VFr1 = {F1/Ra:.1f}\")\n",
    "    print(f\"Fa2/VFr2 = {F2/Rb:.1f}\")\n",
    "    print(f\"F1_ek = {F1_ek:.1f}\")\n",
    "    print(f\"F2_ek = {F2_ek:.1f}\")\n",
    "\n",
    "    f_l = lambda x: (Cr/x) ** p\n",
    "    L1 = f_l(F1_ek)\n",
    "    L2 = f_l(F2_ek)\n",
    "\n",
    "    print(f\"Срок службы 1-го подшипника = {L1:.0f} млн.об\")\n",
    "    print(f\"Срок службы 2-го подшипника = {L2:.0f} млн.об\")\n",
    "\n",
    "    f_lh = lambda x: 1e6 * x / (60 * n)\n",
    "    lh1 = f_lh(L1)\n",
    "    lh2 = f_lh(L2)\n",
    "\n",
    "    print(f\"Срок службы 1-го подшипника = {lh1:.0f} часов\")\n",
    "    print(f\"Срок службы 2-го подшипника = {lh2:.0f} часов\")\n",
    "\n",
    "resurs1()"
   ],
   "id": "bc015a4c3767c37c",
   "outputs": [
    {
     "name": "stdout",
     "output_type": "stream",
     "text": [
      "Входные данные\n",
      "\n",
      "Силы:\n",
      "Fa = 1980.0\n",
      "Ra = 276.63364875770264\n",
      "Rb = 658.7420402744916\n",
      "\n",
      "Подшипник:\n",
      "Cr = 63000\n",
      "e = 0.319\n",
      "X = 0.4\n",
      "Y = 1.882\n",
      "\n",
      "Постоянные:\n",
      "p = 3.333\n",
      "V = 1\n",
      "Kb = 1.3\n",
      "Kt = 1\n",
      "\n",
      "Выходные данные\n",
      "Fa = 1980.0\n",
      "Ra = 276.6\n",
      "Rb = 658.7\n",
      "S1 = 73.2\n",
      "S2 = 174.4\n",
      "F1 = 174.4\n",
      "F2 = 2053.2\n",
      "Fa1/VFr1 = 0.6\n",
      "Fa2/VFr2 = 3.1\n",
      "F1_ek = 570.6\n",
      "F2_ek = 5366.0\n",
      "Срок службы 1-го подшипника = 6457975 млн.об\n",
      "Срок службы 2-го подшипника = 3678 млн.об\n",
      "Срок службы 1-го подшипника = 76173333 часов\n",
      "Срок службы 2-го подшипника = 43385 часов\n"
     ]
    }
   ],
   "execution_count": 341
  },
  {
   "metadata": {},
   "cell_type": "markdown",
   "source": "##### Подшипники быстроходного вала проработают дольше указанного в задании срока 44092 > 16000 часов",
   "id": "511778430c64560e"
  },
  {
   "metadata": {
    "ExecuteTime": {
     "end_time": "2025-10-08T20:57:32.065820Z",
     "start_time": "2025-10-08T20:57:32.054845Z"
    }
   },
   "cell_type": "markdown",
   "source": "#### Расчет подшипников на тихоходном валу",
   "id": "8f225a53e1699fca"
  },
  {
   "metadata": {},
   "cell_type": "markdown",
   "source": "##### Определяю соотношение Fa/(VFr)",
   "id": "32b9489b7f1f1970"
  },
  {
   "metadata": {
    "ExecuteTime": {
     "end_time": "2025-10-11T22:28:41.551299Z",
     "start_time": "2025-10-11T22:28:41.437365Z"
    }
   },
   "cell_type": "code",
   "source": [
    "V = 1\n",
    "# Подшипник A\n",
    "print(f\"{Fa2}/({V}*{Ra_sum_2}) = {Fa2/(V*Ra_sum_2)}\")\n",
    "# Подшипник B\n",
    "print(f\"{Fa2}/({V}*{Rb_sum_2}) = {Fa2/(V*Rb_sum_2)}\")\n"
   ],
   "id": "46b0ec680b7add56",
   "outputs": [
    {
     "name": "stdout",
     "output_type": "stream",
     "text": [
      "396.0/(1*1180.4089571510583) = 0.3354769527975747\n",
      "396.0/(1*993.001017324838) = 0.3987911322254542\n"
     ]
    }
   ],
   "execution_count": 342
  },
  {
   "metadata": {},
   "cell_type": "markdown",
   "source": [
    "\n",
    "Выбираю радиально-упорный подшипник так как $F_a/(VF_r) > 0,35$\n",
    "###### Подшипник нахожу в 3-Чернавский стр.435 (или 219 дежавю): **36207** ($α = 12°$)"
   ],
   "id": "74caef548551ce15"
  },
  {
   "metadata": {
    "ExecuteTime": {
     "end_time": "2025-10-11T22:28:41.631254Z",
     "start_time": "2025-10-11T22:28:41.572288Z"
    }
   },
   "cell_type": "code",
   "source": [
    "C_0_podsh_t = 18100\n",
    "print(f\"{Fa2}/{C_0_podsh_t} = {Fa2/C_0_podsh_t}\")"
   ],
   "id": "2490a6dc68c7d4fe",
   "outputs": [
    {
     "name": "stdout",
     "output_type": "stream",
     "text": [
      "396.0/18100 = 0.021878453038674032\n"
     ]
    }
   ],
   "execution_count": 343
  },
  {
   "metadata": {},
   "cell_type": "markdown",
   "source": [
    "##### Определяю e по таблице 5.1\n",
    "Для соотношения $F_a/C_0 = 0,021$ и для $α = 12$  выбираю ближайшее $e = 0,34$ (радиально-упорный шариковый однорядный)\n",
    "\n",
    "$$F_a/C_a = 0.021 < e = 0.34$$\n",
    "Устанавливаю:\n",
    "\n",
    " X = 1\n",
    "\n",
    " Y = 0"
   ],
   "id": "df61f5b5147e0d09"
  },
  {
   "metadata": {
    "ExecuteTime": {
     "end_time": "2025-10-11T22:28:41.740706Z",
     "start_time": "2025-10-11T22:28:41.652242Z"
    }
   },
   "cell_type": "code",
   "source": [
    "# Устанавливаю e\n",
    "e_podsh_t = 0.34\n",
    "X_podsh_t = 1\n",
    "Y_podsh_t = 0"
   ],
   "id": "67b80bb1dd40f412",
   "outputs": [],
   "execution_count": 344
  },
  {
   "metadata": {
    "ExecuteTime": {
     "end_time": "2025-10-11T22:28:41.868185Z",
     "start_time": "2025-10-11T22:28:41.750701Z"
    }
   },
   "cell_type": "code",
   "source": [
    "def resurs2():\n",
    "\n",
    "    # Частота оборотов\n",
    "    n = n2\n",
    "\n",
    "    # Подшипник: данные\n",
    "    # 36207\n",
    "    Cr = 24000\n",
    "    C0 = C_0_podsh_t\n",
    "    alpha = 12\n",
    "    e = e_podsh_t\n",
    "    Y = X_podsh_t\n",
    "    X = Y_podsh_t\n",
    "\n",
    "    V = 1\n",
    "    Kb = 1.3\n",
    "    Kt = 1\n",
    "    p = 3\n",
    "\n",
    "    # ----------Силы----------\n",
    "    #\n",
    "    #        (Fa)--->\n",
    "    #   (A)--->     <---(B)\n",
    "    #\n",
    "    # Силы от подшипников и осевая сила\n",
    "    # направлены как на рисунке: Vab == True\n",
    "    #\n",
    "    # Если сила Fa направлена в другую сторону\n",
    "    # Установить флаг Vab == false или указать\n",
    "    # силу со знаком минус\n",
    "\n",
    "    Vab = False\n",
    "\n",
    "    # Силы: указывать в Ньютонах\n",
    "    Fa = Fa2\n",
    "    Ra = Ra_sum_2\n",
    "    Rb = Rb_sum_2\n",
    "\n",
    "    print(\"Входные данные\")\n",
    "    print(\"\\nСилы:\")\n",
    "    print(f\"Fa = {Fa}\")\n",
    "    print(f\"Ra = {Ra}\")\n",
    "    print(f\"Rb = {Rb}\")\n",
    "\n",
    "    print(\"\\nПодшипник:\")\n",
    "    print(f\"Cr = {Cr}\")\n",
    "    print(f\"C0 = {C0}\")\n",
    "    print(f\"e = {e}\")\n",
    "    print(f\"X = {X}\")\n",
    "    print(f\"Y = {Y}\")\n",
    "\n",
    "    print(\"\\nПостоянные:\")\n",
    "    print(f\"p = {p}\")\n",
    "    print(f\"V = {V}\")\n",
    "    print(f\"Kb = {Kb}\")\n",
    "    print(f\"Kt = {Kt}\")\n",
    "\n",
    "\n",
    "    if Fa < 0:\n",
    "        Vab = False\n",
    "        Fa = -Fa\n",
    "\n",
    "    S1 = e * Ra\n",
    "    S2 = e * Rb\n",
    "    F1, F2 = (S2, Fa + S1) if Vab else (Fa + S2, S1)\n",
    "    f_ek = lambda r, a: (X*V*r + Y*a)*Kb*Kt\n",
    "    F1_ek = f_ek(Ra, F1)\n",
    "    F2_ek = f_ek(Rb, F2)\n",
    "\n",
    "    print(\"\\nВыходные данные\")\n",
    "    print(f\"Fa = {Fa}\")\n",
    "    print(f\"Ra = {Ra:.1f}\")\n",
    "    print(f\"Rb = {Rb:.1f}\")\n",
    "    print(f\"S1 = {S1:.1f}\")\n",
    "    print(f\"S2 = {S2:.1f}\")\n",
    "    print(f\"F1 = {F1:.1f}\")\n",
    "    print(f\"F2 = {F2:.1f}\")\n",
    "    print(f\"Fa1/VFr1 = {F1/Ra:.1f} > 0.35 - нужен радиально-упорный подшипник\")\n",
    "    print(f\"Fa2/VFr2 = {F2/Rb:.1f} > 0.35 - нужен радиально-упорный подшипник\")\n",
    "    print(f\"F1_ek = {F1_ek:.1f}\")\n",
    "    print(f\"F2_ek = {F2_ek:.1f}\")\n",
    "\n",
    "    f_l = lambda x: (Cr/x) ** p\n",
    "    L1 = f_l(F1_ek)\n",
    "    L2 = f_l(F2_ek)\n",
    "\n",
    "    print(f\"Срок службы 1-го подшипника = {L1:.0f} млн.об\")\n",
    "    print(f\"Срок службы 2-го подшипника = {L2:.0f} млн.об\")\n",
    "\n",
    "    f_lh = lambda x: 1e6 * x / (60 * n)\n",
    "    lh1 = f_lh(L1)\n",
    "    lh2 = f_lh(L2)\n",
    "\n",
    "    print(f\"Срок службы 1-го подшипника = {lh1:.0f} часов\")\n",
    "    print(f\"Срок службы 2-го подшипника = {lh2:.0f} часов\")\n",
    "\n",
    "resurs2()"
   ],
   "id": "3fe1008bc44761a7",
   "outputs": [
    {
     "name": "stdout",
     "output_type": "stream",
     "text": [
      "Входные данные\n",
      "\n",
      "Силы:\n",
      "Fa = 396.0\n",
      "Ra = 1180.4089571510583\n",
      "Rb = 993.001017324838\n",
      "\n",
      "Подшипник:\n",
      "Cr = 24000\n",
      "C0 = 18100\n",
      "e = 0.34\n",
      "X = 0\n",
      "Y = 1\n",
      "\n",
      "Постоянные:\n",
      "p = 3\n",
      "V = 1\n",
      "Kb = 1.3\n",
      "Kt = 1\n",
      "\n",
      "Выходные данные\n",
      "Fa = 396.0\n",
      "Ra = 1180.4\n",
      "Rb = 993.0\n",
      "S1 = 401.3\n",
      "S2 = 337.6\n",
      "F1 = 733.6\n",
      "F2 = 401.3\n",
      "Fa1/VFr1 = 0.6 > 0.35 - нужен радиально-упорный подшипник\n",
      "Fa2/VFr2 = 0.4 > 0.35 - нужен радиально-упорный подшипник\n",
      "F1_ek = 953.7\n",
      "F2_ek = 521.7\n",
      "Срок службы 1-го подшипника = 15936 млн.об\n",
      "Срок службы 2-го подшипника = 97335 млн.об\n",
      "Срок службы 1-го подшипника = 4699332 часов\n",
      "Срок службы 2-го подшипника = 28702255 часов\n"
     ]
    }
   ],
   "execution_count": 345
  },
  {
   "metadata": {
    "ExecuteTime": {
     "end_time": "2025-10-09T19:09:29.918427Z",
     "start_time": "2025-10-09T19:09:29.907434Z"
    }
   },
   "cell_type": "markdown",
   "source": [
    "***\n",
    "### Конструирование корпуса\n",
    "#### Основные элементы корпуса из чугуна (табл. 6.1 стр 32)"
   ],
   "id": "5b0f1b6859ec50b9"
  },
  {
   "metadata": {
    "ExecuteTime": {
     "end_time": "2025-10-11T22:28:41.979738Z",
     "start_time": "2025-10-11T22:28:41.885715Z"
    }
   },
   "cell_type": "code",
   "source": [
    "# Толщина стенки корпуса редуктора\n",
    "po_stenka = 0.04*a_w + 2\n",
    "print(po_stenka)"
   ],
   "id": "9f0bd30dd6f9fc04",
   "outputs": [
    {
     "name": "stdout",
     "output_type": "stream",
     "text": [
      "7.0\n"
     ]
    }
   ],
   "execution_count": 346
  },
  {
   "metadata": {
    "ExecuteTime": {
     "end_time": "2025-10-11T22:28:42.087679Z",
     "start_time": "2025-10-11T22:28:42.002727Z"
    }
   },
   "cell_type": "code",
   "source": [
    "# Толщина крышки редуктора\n",
    "po_1_krishka = 0.032*a_w + 2\n",
    "print(po_1_krishka)"
   ],
   "id": "7d64668f89f0fe5f",
   "outputs": [
    {
     "name": "stdout",
     "output_type": "stream",
     "text": [
      "6.0\n"
     ]
    }
   ],
   "execution_count": 347
  },
  {
   "metadata": {
    "ExecuteTime": {
     "end_time": "2025-10-11T22:28:42.196616Z",
     "start_time": "2025-10-11T22:28:42.103669Z"
    }
   },
   "cell_type": "code",
   "source": [
    "# Толщина верхнего пояса(фланца) корпуса\n",
    "b_korp = 1.4*po_stenka\n",
    "print(b_korp)\n",
    "b_korp = 10\n",
    "print(b_korp)"
   ],
   "id": "b632049af7368c16",
   "outputs": [
    {
     "name": "stdout",
     "output_type": "stream",
     "text": [
      "9.799999999999999\n",
      "10\n"
     ]
    }
   ],
   "execution_count": 348
  },
  {
   "metadata": {
    "ExecuteTime": {
     "end_time": "2025-10-11T22:28:42.321751Z",
     "start_time": "2025-10-11T22:28:42.222601Z"
    }
   },
   "cell_type": "code",
   "source": [
    "# Толщина нижнего пояса (фланца) крышки корпуса\n",
    "b_krishka = 1.5*po_1_krishka\n",
    "print(b_krishka)"
   ],
   "id": "ecf5b0a38d1b0d98",
   "outputs": [
    {
     "name": "stdout",
     "output_type": "stream",
     "text": [
      "9.0\n"
     ]
    }
   ],
   "execution_count": 349
  },
  {
   "metadata": {
    "ExecuteTime": {
     "end_time": "2025-10-11T22:28:42.369724Z",
     "start_time": "2025-10-11T22:28:42.345737Z"
    }
   },
   "cell_type": "code",
   "source": [
    "# Толщина нижнего пояса корпуса\n",
    "# При наличии бобышки\n",
    "p1_korp = 1.5*po_stenka\n",
    "print(p1_korp)\n",
    "p1_korp = 12\n",
    "print(p1_korp)\n",
    "\n",
    "p2_korp = 2.25 * po_stenka\n",
    "print(p2_korp)\n",
    "p2_korp = 16\n",
    "print(p2_korp)"
   ],
   "id": "6d292e8a1158eb1e",
   "outputs": [
    {
     "name": "stdout",
     "output_type": "stream",
     "text": [
      "10.5\n",
      "12\n",
      "15.75\n",
      "16\n"
     ]
    }
   ],
   "execution_count": 350
  },
  {
   "metadata": {
    "ExecuteTime": {
     "end_time": "2025-10-11T22:28:42.465670Z",
     "start_time": "2025-10-11T22:28:42.394709Z"
    }
   },
   "cell_type": "code",
   "source": [
    "# Толщина ребер основания корпуса\n",
    "m_korp = 0.85*po_stenka\n",
    "print(m_korp)\n",
    "m_korp = 6\n",
    "print(m_korp)"
   ],
   "id": "40c15a28700a04c0",
   "outputs": [
    {
     "name": "stdout",
     "output_type": "stream",
     "text": [
      "5.95\n",
      "6\n"
     ]
    }
   ],
   "execution_count": 351
  },
  {
   "metadata": {
    "ExecuteTime": {
     "end_time": "2025-10-11T22:28:42.576589Z",
     "start_time": "2025-10-11T22:28:42.479660Z"
    }
   },
   "cell_type": "code",
   "source": [
    "# Толщина ребер крышки\n",
    "m1_krishka = 0.85*po_1_krishka\n",
    "print(m)\n",
    "m1_krishka = 5\n",
    "print(m)"
   ],
   "id": "b6f5a8199cc666c2",
   "outputs": [
    {
     "name": "stdout",
     "output_type": "stream",
     "text": [
      "4.0\n",
      "4.0\n"
     ]
    }
   ],
   "execution_count": 352
  },
  {
   "metadata": {
    "ExecuteTime": {
     "end_time": "2025-10-11T22:28:42.655543Z",
     "start_time": "2025-10-11T22:28:42.605572Z"
    }
   },
   "cell_type": "code",
   "source": [
    "# Диаметр фундаментных болтов (их число больше либо равно 4) (округляют до стандартных по таблице 6.2)\n",
    "d1_bolt = 0.03 * a_w + 12\n",
    "print(d1_bolt)\n",
    "d1_bolt = 16\n",
    "print(d1_bolt)\n"
   ],
   "id": "f848b8fd0aecfc39",
   "outputs": [
    {
     "name": "stdout",
     "output_type": "stream",
     "text": [
      "15.75\n",
      "16\n"
     ]
    }
   ],
   "execution_count": 353
  },
  {
   "metadata": {
    "ExecuteTime": {
     "end_time": "2025-10-11T22:28:42.779996Z",
     "start_time": "2025-10-11T22:28:42.687525Z"
    }
   },
   "cell_type": "code",
   "source": [
    "# Диаметр болтов у подшипников\n",
    "d2_bolt = 0.7*d1\n",
    "print(d2_bolt)\n",
    "d2_bolt = 12\n",
    "print(d2_bolt)"
   ],
   "id": "c820e809d09b223b",
   "outputs": [
    {
     "name": "stdout",
     "output_type": "stream",
     "text": [
      "35.0\n",
      "12\n"
     ]
    }
   ],
   "execution_count": 354
  },
  {
   "metadata": {
    "ExecuteTime": {
     "end_time": "2025-10-11T22:28:42.907190Z",
     "start_time": "2025-10-11T22:28:42.801980Z"
    }
   },
   "cell_type": "code",
   "source": [
    "# Диаметр болтов соединяющих основание корпуса с крышкой\n",
    "d3_bolt = 0.5*d1_bolt\n",
    "print(d3_bolt)"
   ],
   "id": "436ed379037bf998",
   "outputs": [
    {
     "name": "stdout",
     "output_type": "stream",
     "text": [
      "8.0\n"
     ]
    }
   ],
   "execution_count": 355
  },
  {
   "metadata": {
    "ExecuteTime": {
     "end_time": "2025-10-11T22:28:43.003134Z",
     "start_time": "2025-10-11T22:28:42.919182Z"
    }
   },
   "cell_type": "code",
   "source": [
    "# Размеры определяющие положение болтов d2\n",
    "e_bolt = 1*d2_bolt\n",
    "print(e_bolt)"
   ],
   "id": "1ef4ddbcbf3af105",
   "outputs": [
    {
     "name": "stdout",
     "output_type": "stream",
     "text": [
      "12\n"
     ]
    }
   ],
   "execution_count": 356
  },
  {
   "metadata": {
    "ExecuteTime": {
     "end_time": "2025-10-11T22:28:43.113072Z",
     "start_time": "2025-10-11T22:28:43.025122Z"
    }
   },
   "cell_type": "code",
   "source": [
    "# Размеры определяющие положение болтов d2\n",
    "\n",
    "d4_bolt = 8 # Диаметр винтов крепления крышки подшипников (табл. 6.2)\n",
    "q_bolt = 0.5 * d2_bolt + d4_bolt\n",
    "print(q_bolt)"
   ],
   "id": "886ad5f8db7cdb8c",
   "outputs": [
    {
     "name": "stdout",
     "output_type": "stream",
     "text": [
      "14.0\n"
     ]
    }
   ],
   "execution_count": 357
  },
  {
   "metadata": {},
   "cell_type": "markdown",
   "source": [
    "#### Дополнительные элементы корпуса из чугуна (табл. 6.1 стр 32)\n",
    "##### Гнездо под подшипник"
   ],
   "id": "4416a659bf583fee"
  },
  {
   "metadata": {
    "ExecuteTime": {
     "end_time": "2025-10-11T22:28:43.224529Z",
     "start_time": "2025-10-11T22:28:43.126064Z"
    }
   },
   "cell_type": "code",
   "source": [
    "# Винты крепления крышки подшипника d4\n",
    "print(d4_bolt)"
   ],
   "id": "5dae43312fa89ac8",
   "outputs": [
    {
     "name": "stdout",
     "output_type": "stream",
     "text": [
      "8\n"
     ]
    }
   ],
   "execution_count": 358
  },
  {
   "metadata": {
    "ExecuteTime": {
     "end_time": "2025-10-11T22:28:43.362450Z",
     "start_time": "2025-10-11T22:28:43.255511Z"
    }
   },
   "cell_type": "code",
   "source": [
    "# Число винтов\n",
    "n_vint = 4\n",
    "print(n_vint)"
   ],
   "id": "cc00b0d00d807d0f",
   "outputs": [
    {
     "name": "stdout",
     "output_type": "stream",
     "text": [
      "4\n"
     ]
    }
   ],
   "execution_count": 359
  },
  {
   "metadata": {
    "ExecuteTime": {
     "end_time": "2025-10-11T22:28:43.503885Z",
     "start_time": "2025-10-11T22:28:43.378441Z"
    }
   },
   "cell_type": "code",
   "source": [
    "# Диаметр гнезда для торцевых крышек подшипника\n",
    "# Наружный диаметр подшипника 7606\n",
    "D_t = 72\n",
    "# Диаметр с припуском\n",
    "Dk_t_prip = D_t + 2\n",
    "print(Dk_t_prip)"
   ],
   "id": "cb4529dff4c3c71f",
   "outputs": [
    {
     "name": "stdout",
     "output_type": "stream",
     "text": [
      "74\n"
     ]
    }
   ],
   "execution_count": 360
  },
  {
   "metadata": {
    "ExecuteTime": {
     "end_time": "2025-10-11T22:28:43.631332Z",
     "start_time": "2025-10-11T22:28:43.526872Z"
    }
   },
   "cell_type": "code",
   "source": [
    "# Диаметр гнезда для торцевых крышек подшипника\n",
    "# Наружный диаметр подшипника 36207\n",
    "D_b = 72\n",
    "# Диаметр с припуском (торцевая крышка)\n",
    "Dk_b_prip = D_b + 2\n",
    "print(Dk_b_prip)"
   ],
   "id": "9bbc942a8a84152",
   "outputs": [
    {
     "name": "stdout",
     "output_type": "stream",
     "text": [
      "74\n"
     ]
    }
   ],
   "execution_count": 361
  },
  {
   "metadata": {
    "ExecuteTime": {
     "end_time": "2025-10-11T22:28:43.742269Z",
     "start_time": "2025-10-11T22:28:43.655319Z"
    }
   },
   "cell_type": "code",
   "source": [
    "# Длина гнезда минимальная\n",
    "# l_gnez = B(Ширина подшипника) + K2(высота буртика удерживающего подшипник) + (3...5)\n",
    "# Ширина подшипника 36207\n",
    "B_podsh = 17\n",
    "l_gnez_t = B_podsh + 4 + 4\n",
    "print(l_gnez_t)"
   ],
   "id": "2da29b6174357b48",
   "outputs": [
    {
     "name": "stdout",
     "output_type": "stream",
     "text": [
      "25\n"
     ]
    }
   ],
   "execution_count": 362
  },
  {
   "metadata": {
    "ExecuteTime": {
     "end_time": "2025-10-11T22:28:43.868816Z",
     "start_time": "2025-10-11T22:28:43.766805Z"
    }
   },
   "cell_type": "code",
   "source": [
    "# Длина гнезда минимальная\n",
    "# l_gnez = B(Ширина подшипника) + K2(высота буртика удерживающего подшипник) + (3...5)\n",
    "# Ширина подшипника 7606\n",
    "B_podsh_b = 29\n",
    "l_gnez_b = B_podsh_b + 4 + 5\n",
    "print(l_gnez_b)"
   ],
   "id": "fc9613bf67068e28",
   "outputs": [
    {
     "name": "stdout",
     "output_type": "stream",
     "text": [
      "38\n"
     ]
    }
   ],
   "execution_count": 363
  },
  {
   "metadata": {},
   "cell_type": "markdown",
   "source": "#### Размеры штифта",
   "id": "3505c55bca8fc1a5"
  },
  {
   "metadata": {
    "ExecuteTime": {
     "end_time": "2025-10-11T22:28:43.996055Z",
     "start_time": "2025-10-11T22:28:43.889112Z"
    }
   },
   "cell_type": "code",
   "source": [
    "# Диаметр\n",
    "d_shtift = d3_bolt\n",
    "print(d_shtift)"
   ],
   "id": "8182c041d1cab695",
   "outputs": [
    {
     "name": "stdout",
     "output_type": "stream",
     "text": [
      "8.0\n"
     ]
    }
   ],
   "execution_count": 364
  },
  {
   "metadata": {
    "ExecuteTime": {
     "end_time": "2025-10-11T22:28:44.123497Z",
     "start_time": "2025-10-11T22:28:44.011042Z"
    }
   },
   "cell_type": "code",
   "source": [
    "# Длина\n",
    "l_shtift = b_korp + b_krishka + 5\n",
    "print(l_shtift)"
   ],
   "id": "5f731232b8bf104a",
   "outputs": [
    {
     "name": "stdout",
     "output_type": "stream",
     "text": [
      "24.0\n"
     ]
    }
   ],
   "execution_count": 365
  },
  {
   "metadata": {},
   "cell_type": "markdown",
   "source": "#### Наименьший зазор между наружной поверхностью колеса и стенкой корпуса",
   "id": "11357d934bcbc6d5"
  },
  {
   "metadata": {
    "ExecuteTime": {
     "end_time": "2025-10-11T22:28:44.264414Z",
     "start_time": "2025-10-11T22:28:44.137488Z"
    }
   },
   "cell_type": "code",
   "source": [
    "# По диаметру и по торцам\n",
    "x_zazor = 1.1 * po_stenka\n",
    "print(x_zazor)\n",
    "x_zazor = 8\n",
    "print(x_zazor)"
   ],
   "id": "be3e1f52d2e4ad23",
   "outputs": [
    {
     "name": "stdout",
     "output_type": "stream",
     "text": [
      "7.700000000000001\n",
      "8\n"
     ]
    }
   ],
   "execution_count": 366
  },
  {
   "metadata": {
    "ExecuteTime": {
     "end_time": "2025-10-11T22:28:44.373352Z",
     "start_time": "2025-10-11T22:28:44.280405Z"
    }
   },
   "cell_type": "code",
   "source": [
    "# До днища от колеса\n",
    "Y_zazor = 50\n",
    "print(Y_zazor)"
   ],
   "id": "e750748189464d75",
   "outputs": [
    {
     "name": "stdout",
     "output_type": "stream",
     "text": [
      "50\n"
     ]
    }
   ],
   "execution_count": 367
  },
  {
   "metadata": {
    "ExecuteTime": {
     "end_time": "2025-10-11T22:28:44.404440Z",
     "start_time": "2025-10-11T22:28:44.391449Z"
    }
   },
   "cell_type": "code",
   "source": "",
   "id": "ca3c39eb42add374",
   "outputs": [],
   "execution_count": null
  }
 ],
 "metadata": {
  "kernelspec": {
   "display_name": "Python 3 (ipykernel)",
   "language": "python",
   "name": "python3"
  },
  "language_info": {
   "codemirror_mode": {
    "name": "ipython",
    "version": 3
   },
   "file_extension": ".py",
   "mimetype": "text/x-python",
   "name": "python",
   "nbconvert_exporter": "python",
   "pygments_lexer": "ipython3",
   "version": "3.10.4"
  }
 },
 "nbformat": 4,
 "nbformat_minor": 5
}
