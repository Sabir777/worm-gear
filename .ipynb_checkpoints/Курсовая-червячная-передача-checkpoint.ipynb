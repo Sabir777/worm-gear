{
 "cells": [
  {
   "cell_type": "markdown",
   "id": "e21fd3fc-7c2b-42eb-91c1-e9ce20560d9b",
   "metadata": {},
   "source": [
    "# Курсовая: Техническая механика\n",
    "### Расчет червячной передачи"
   ]
  },
  {
   "cell_type": "markdown",
   "id": "d61fd1f5-a824-4969-97c7-2f1de5b305a6",
   "metadata": {},
   "source": []
  }
 ],
 "metadata": {
  "kernelspec": {
   "display_name": "Python 3 (ipykernel)",
   "language": "python",
   "name": "python3"
  },
  "language_info": {
   "codemirror_mode": {
    "name": "ipython",
    "version": 3
   },
   "file_extension": ".py",
   "mimetype": "text/x-python",
   "name": "python",
   "nbconvert_exporter": "python",
   "pygments_lexer": "ipython3",
   "version": "3.10.12"
  }
 },
 "nbformat": 4,
 "nbformat_minor": 5
}
